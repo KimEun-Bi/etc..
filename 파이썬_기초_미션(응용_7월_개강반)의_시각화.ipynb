{
  "nbformat": 4,
  "nbformat_minor": 0,
  "metadata": {
    "colab": {
      "name": "파이썬 기초_미션(응용 7월 개강반)의 시각화",
      "provenance": [],
      "collapsed_sections": [],
      "authorship_tag": "ABX9TyOdfOd0skPgqnCJuJSdcEtb",
      "include_colab_link": true
    },
    "kernelspec": {
      "name": "python3",
      "display_name": "Python 3"
    },
    "language_info": {
      "name": "python"
    }
  },
  "cells": [
    {
      "cell_type": "markdown",
      "metadata": {
        "id": "view-in-github",
        "colab_type": "text"
      },
      "source": [
        "<a href=\"https://colab.research.google.com/github/KimEun-Bi/etc../blob/master/%ED%8C%8C%EC%9D%B4%EC%8D%AC_%EA%B8%B0%EC%B4%88_%EB%AF%B8%EC%85%98(%EC%9D%91%EC%9A%A9_7%EC%9B%94_%EA%B0%9C%EA%B0%95%EB%B0%98)%EC%9D%98_%EC%8B%9C%EA%B0%81%ED%99%94.ipynb\" target=\"_parent\"><img src=\"https://colab.research.google.com/assets/colab-badge.svg\" alt=\"Open In Colab\"/></a>"
      ]
    },
    {
      "cell_type": "code",
      "execution_count": null,
      "metadata": {
        "id": "hsVU3Oax1sTF"
      },
      "outputs": [],
      "source": [
        "#미션1. 이름으로 삼행시 짓기\n",
        "#김은비\n",
        "print(\"김이 먹고싶어요\")\n",
        "print(\"은비랑\")\n",
        "print(\"비내리는점심시간\")"
      ]
    },
    {
      "cell_type": "code",
      "source": [
        ""
      ],
      "metadata": {
        "id": "_9xq5f2hsHw2"
      },
      "execution_count": null,
      "outputs": []
    },
    {
      "cell_type": "markdown",
      "source": [
        "기초 수업"
      ],
      "metadata": {
        "id": "uQUwMpwSsJ25"
      }
    },
    {
      "cell_type": "code",
      "source": [
        "#미션2. 여러분의 변수를 만들어봅시다. my_var라는 이름의 변수를 만들고, print로 출력해서 확인해봅시다 #123\n",
        "my_var = 123\n",
        "print(my_var)"
      ],
      "metadata": {
        "id": "2gLwF9QH1uz1"
      },
      "execution_count": null,
      "outputs": []
    },
    {
      "cell_type": "code",
      "source": [
        "#숫자형\n",
        "type(10)\n",
        "type(10.4)"
      ],
      "metadata": {
        "id": "az3TI7ivWJke"
      },
      "execution_count": null,
      "outputs": []
    },
    {
      "cell_type": "code",
      "source": [
        "#연산\n",
        "#더하기\n",
        "a=10\n",
        "b=2\n",
        "\n",
        "a+b"
      ],
      "metadata": {
        "id": "2u0nNkYpWJtg"
      },
      "execution_count": null,
      "outputs": []
    },
    {
      "cell_type": "code",
      "source": [
        "a-b #빼기"
      ],
      "metadata": {
        "id": "RhBxOYxoWJ4b"
      },
      "execution_count": null,
      "outputs": []
    },
    {
      "cell_type": "code",
      "source": [
        "a*b #곱셈"
      ],
      "metadata": {
        "id": "dEkArHklWnuU"
      },
      "execution_count": null,
      "outputs": []
    },
    {
      "cell_type": "code",
      "source": [
        "a**b #제곱"
      ],
      "metadata": {
        "id": "vL1vwqOEWnws"
      },
      "execution_count": null,
      "outputs": []
    },
    {
      "cell_type": "code",
      "source": [
        "a/b #나누기"
      ],
      "metadata": {
        "id": "ER261ulrWn0i"
      },
      "execution_count": null,
      "outputs": []
    },
    {
      "cell_type": "code",
      "source": [
        "a%b #나머지"
      ],
      "metadata": {
        "id": "QTApI2_GXHP2"
      },
      "execution_count": null,
      "outputs": []
    },
    {
      "cell_type": "code",
      "source": [
        "a//b #몫"
      ],
      "metadata": {
        "id": "dgaJPx_LXPCA"
      },
      "execution_count": null,
      "outputs": []
    },
    {
      "cell_type": "code",
      "source": [
        "#미션3.0\n",
        "## 숫자 50과 숫자 50 더해서 출력하기\n",
        "a=50\n",
        "b=50\n",
        "\n",
        "print(a+b)"
      ],
      "metadata": {
        "id": "bPhPyWSI1wv1"
      },
      "execution_count": null,
      "outputs": []
    },
    {
      "cell_type": "code",
      "source": [
        "print(50+50)"
      ],
      "metadata": {
        "id": "LNuXLQVzZ2wU"
      },
      "execution_count": null,
      "outputs": []
    },
    {
      "cell_type": "code",
      "source": [
        "#숫자, 문자, 불린\n",
        "##문자열\n",
        "type(\"hello world\")"
      ],
      "metadata": {
        "id": "txJRjYt4Z8Hd"
      },
      "execution_count": null,
      "outputs": []
    },
    {
      "cell_type": "code",
      "source": [
        "print(\"안녕\"+\"하세요\")"
      ],
      "metadata": {
        "id": "nPv2UNqAaIwT"
      },
      "execution_count": null,
      "outputs": []
    },
    {
      "cell_type": "code",
      "source": [
        "print(\"안녕 \"*3)"
      ],
      "metadata": {
        "id": "6SNfmh6BaUdl"
      },
      "execution_count": null,
      "outputs": []
    },
    {
      "cell_type": "code",
      "source": [
        "#미션3.1\n",
        "## 문자열 50과 문자열 50 더해서 출력하기\n",
        "a=('50')\n",
        "b=('50')\n",
        "print(a+b)"
      ],
      "metadata": {
        "id": "Bo8UAYyj1y21"
      },
      "execution_count": null,
      "outputs": []
    },
    {
      "cell_type": "code",
      "source": [
        "#미션3.1\n",
        "## 문자열 50과 문자열 50 더해서 출력하기\n",
        "print('50'+'50')"
      ],
      "metadata": {
        "id": "E_Z-xYM6bv8N"
      },
      "execution_count": null,
      "outputs": []
    },
    {
      "cell_type": "code",
      "source": [
        "#미션3.3 거꾸로 계산기\n",
        "# //을 이용해서 변수 intdiv에 4를 넢은 수식을 작성해봅니다. \n",
        "intdiv = 16//4\n",
        "#%을 이용하여 변수 modular에 1을 넣는 수식을 작성해봅니다\n",
        "modular=7%6\n",
        "#**을 이용해서 변수 expo에 16을 넣는 수식을 작성해봅시다.\n",
        "expo = 4**2\n",
        "#위의 세변수를 출력해서 확인해봅시다\n",
        "print(intdiv, modular, expo)\n"
      ],
      "metadata": {
        "id": "AdXqgo-j1184"
      },
      "execution_count": null,
      "outputs": []
    },
    {
      "cell_type": "code",
      "source": [
        "#불린\n",
        "##자료 묶음으로 리스트 튜플 "
      ],
      "metadata": {
        "id": "_ad7h5EQdkyk"
      },
      "execution_count": null,
      "outputs": []
    },
    {
      "cell_type": "code",
      "source": [
        "#불린\n",
        "a=1\n",
        "b=2\n",
        "print(a<b)"
      ],
      "metadata": {
        "id": "-EuVac9dgxnv"
      },
      "execution_count": null,
      "outputs": []
    },
    {
      "cell_type": "code",
      "source": [
        "a=1\n",
        "b=2\n",
        "print(a>b)"
      ],
      "metadata": {
        "id": "9xb4tSLhg_Vo"
      },
      "execution_count": null,
      "outputs": []
    },
    {
      "cell_type": "code",
      "source": [
        "t,f = True, False\n",
        "type(t)"
      ],
      "metadata": {
        "id": "bhxvMQ6ChEdB"
      },
      "execution_count": null,
      "outputs": []
    },
    {
      "cell_type": "code",
      "source": [
        "#and or not\n",
        "ab = 3==3 and 2<5\n",
        "bc = 4>=6\n",
        "cd = not 4>5\n",
        "\n",
        "print(ab, bc, cd)"
      ],
      "metadata": {
        "id": "3WkzYNXwheGd"
      },
      "execution_count": null,
      "outputs": []
    },
    {
      "cell_type": "code",
      "source": [
        "#미션4. 비교연산자로 명제 만들기\n",
        "\n",
        "## == 혹은 != 연산자를 이용해서 True인 명제를 ans1에 넣어봅시다.\n",
        "ans1 = 3==3\n",
        "\n",
        "## > 혹은 < 연산자를 이용해서 False인 명제를 ans2에 넣어봅시다\n",
        "ans2 = 4<3\n",
        "\n",
        "##위의 변수를 출력해서 정답을 확인해봅시다. \n",
        "print(ans1, ans2)"
      ],
      "metadata": {
        "id": "8FaGiYer132V"
      },
      "execution_count": null,
      "outputs": []
    },
    {
      "cell_type": "code",
      "source": [
        "##데이터 묶음으로 표현이 가능한 자료형 : 리스트\n",
        "a = [1,2,3,4]"
      ],
      "metadata": {
        "id": "oxs1FjCgkC0C"
      },
      "execution_count": null,
      "outputs": []
    },
    {
      "cell_type": "code",
      "source": [
        "type(a)"
      ],
      "metadata": {
        "id": "zzls1-WHkC_M"
      },
      "execution_count": null,
      "outputs": []
    },
    {
      "cell_type": "code",
      "source": [
        "print(\"문자열'작은따오옴표'\")"
      ],
      "metadata": {
        "id": "xaNCSWOmlQl7"
      },
      "execution_count": null,
      "outputs": []
    },
    {
      "cell_type": "code",
      "source": [
        "#뽑아오기 찾기 : 인덱싱 \"문자열'작은따오옴표'\"\n",
        "v=[\"화이자\",\"모더나\", \"AZ\",\"얀센\"]\n",
        "type(v)"
      ],
      "metadata": {
        "id": "QBB9-iTGk8jW"
      },
      "execution_count": null,
      "outputs": []
    },
    {
      "cell_type": "code",
      "source": [
        "#인덱싱\n",
        "v[0]"
      ],
      "metadata": {
        "id": "BUjhaWEUlkYL"
      },
      "execution_count": null,
      "outputs": []
    },
    {
      "cell_type": "code",
      "source": [
        "#인덱싱\n",
        "v[1]"
      ],
      "metadata": {
        "id": "cv9SPatMlbYa"
      },
      "execution_count": null,
      "outputs": []
    },
    {
      "cell_type": "code",
      "source": [
        "#인덱싱\n",
        "v[-1]"
      ],
      "metadata": {
        "id": "JOj-9Bs3lojq"
      },
      "execution_count": null,
      "outputs": []
    },
    {
      "cell_type": "code",
      "source": [
        "#슬라이싱: 쪼개기\n",
        "v[1:]"
      ],
      "metadata": {
        "id": "PaXUYREPlwbP"
      },
      "execution_count": null,
      "outputs": []
    },
    {
      "cell_type": "code",
      "source": [
        "v[:]"
      ],
      "metadata": {
        "id": "JUvBTnlyl8v_"
      },
      "execution_count": null,
      "outputs": []
    },
    {
      "cell_type": "code",
      "source": [
        "v[:-1] #n-1"
      ],
      "metadata": {
        "id": "AG9f4l7NmB1p"
      },
      "execution_count": null,
      "outputs": []
    },
    {
      "cell_type": "code",
      "source": [
        "v[:2] #n-1"
      ],
      "metadata": {
        "id": "68GGkJhNmR_M"
      },
      "execution_count": null,
      "outputs": []
    },
    {
      "cell_type": "code",
      "source": [
        "#인덱싱을 사용해서 수정도 가능해요\n",
        "v[2] = 'AA'\n",
        "v"
      ],
      "metadata": {
        "id": "p2aRnKFSmeAi"
      },
      "execution_count": null,
      "outputs": []
    },
    {
      "cell_type": "code",
      "source": [
        "#추가도 가능해요\n",
        "v.append('BB')\n",
        "v"
      ],
      "metadata": {
        "id": "N5KSGdP-msUh"
      },
      "execution_count": null,
      "outputs": []
    },
    {
      "cell_type": "code",
      "source": [
        "#추가하는 방법은 append, insert\n",
        "v.insert(2,3)\n",
        "v"
      ],
      "metadata": {
        "id": "sG_GEdwZm7BC"
      },
      "execution_count": null,
      "outputs": []
    },
    {
      "cell_type": "code",
      "source": [
        "#미션3.1\n",
        "## 리스트 50과 리스트 50 더해서 출력하기\n",
        "print([50]+[50])"
      ],
      "metadata": {
        "id": "49Xyy91U10eV"
      },
      "execution_count": null,
      "outputs": []
    },
    {
      "cell_type": "code",
      "source": [
        "ㅋa=[50]\n",
        "b=[50]\n",
        "print(a+b)"
      ],
      "metadata": {
        "id": "JnhrW4UymA9e"
      },
      "execution_count": null,
      "outputs": []
    },
    {
      "cell_type": "code",
      "source": [
        "card=300\n",
        "print(\"원하는 서비스를 선택하시오\")\n",
        "print(\" \")\n",
        "print(\"(교통카드 충전 터치)\")\n",
        "print(\"교통카드 충천을 선택하셨습니다\")\n",
        "print(\" \")\n",
        "print(\"(충전할 교통카드 올리기)\")\n",
        "print(\" \")\n",
        "print(\"=================================================================\")\n",
        "print(\"충전 전 금액\", card, \" 원\")\n",
        "money = input(\"충전할 금액을 입력하여 주십시오 (원): \")\n",
        "money = int(money)\n",
        "print(\" \")\n",
        "cash = int(input(\"충전할 금액을 넣어 주십시오(넣을 현금금액 입력): \"))\n",
        "print(\"=================================================================\")\n",
        "print(\" \")\n",
        "print(\"===================================================================\")\n",
        "if money <= cash:\n",
        "  card = card+cash\n",
        "  print(money, \"원이 충전되었습니다.\")\n",
        "  print(\"현재 잔액: \", card, \" 원\")\n",
        "  print(\"거스르돈\", cash-money, \"원을 가져가십시오\")\n",
        "  print(\"==================================================================\")\n",
        "  print(\" \")\n",
        "\n",
        "else:\n",
        "  print(\"금액이 부족합니다\")\n",
        "  print(money-cash, \"원을 추가로 넣어 주십시오\")\n",
        "  print(\"(\", money-cash, \"원 넣기)\")\n",
        "  print(money, \"원이 충전되었습니다\")\n",
        "  card = card+money\n",
        "  print(\"현재 잔액: \" , card, \"원\")\n",
        "  print(\"=================================================================\")\n",
        "  print(\" \")\n",
        "\n",
        "print(\"=================================================================\")\n",
        "print(\"카드를 회수하여주십시오\")\n",
        "print(\"이용해주셔서 감사합니다\")"
      ],
      "metadata": {
        "id": "p7evtjeMI35Z"
      },
      "execution_count": null,
      "outputs": []
    },
    {
      "cell_type": "code",
      "source": [
        "###if 문 조건을 배울거다\n",
        "a = 40\n",
        "b = 100\n",
        "\n",
        "if b < a:\n",
        "  print(\"b 가 a보다 큼\")\n"
      ],
      "metadata": {
        "id": "BqhCOIcUI37v"
      },
      "execution_count": null,
      "outputs": []
    },
    {
      "cell_type": "code",
      "source": [
        "#elif:  그렇지않으면\n",
        "a = 42\n",
        "b = 41\n",
        "\n",
        "if b > a:\n",
        "  print(\"b가 a보다 큼\")\n",
        "elif a == b:\n",
        "  print(\"a랑 b는 같음\")\n",
        "\n"
      ],
      "metadata": {
        "id": "KR19zBS3I4D8"
      },
      "execution_count": null,
      "outputs": []
    },
    {
      "cell_type": "code",
      "source": [
        "##응용 . 점심메뉴 정하기\n",
        "\n",
        "메뉴 ='짜장면'\n",
        "중국집 = ['짜장면', '탕수육', '짬뽕']\n",
        "일식집 = ['초밥', '우동', '돈가스']\n",
        "\n",
        "if 메뉴 in 중국집:\n",
        "  print(\"중국집으로 가자\")\n",
        "elif 메뉴 in 일식집:\n",
        "  print(\"일식집으로 가자\")\n"
      ],
      "metadata": {
        "id": "DrJCeIRcI4Hy"
      },
      "execution_count": null,
      "outputs": []
    },
    {
      "cell_type": "code",
      "source": [
        "#or and\n",
        "\n",
        "a = 9\n",
        "b = 42\n",
        "\n",
        "if b>a and b<200:\n",
        "  print(\"b가 a보다 크고 200보다 작음\")"
      ],
      "metadata": {
        "id": "k3eaZUpvVMzf"
      },
      "execution_count": null,
      "outputs": []
    },
    {
      "cell_type": "code",
      "source": [
        "a = 42\n",
        "b = 9\n",
        "if b < a or b < 10:\n",
        "  print(\"b가 a보다 작거나 10보다 작음\")"
      ],
      "metadata": {
        "id": "A0j6nwUoVofQ"
      },
      "execution_count": null,
      "outputs": []
    },
    {
      "cell_type": "code",
      "source": [
        "#if는 중첩이가능하다= if 속에 if를 사용할수 잇다\n",
        "a = 10\n",
        "b=9\n",
        "\n",
        "if b>10:\n",
        "  print(\"b가 10보다 큼\")\n",
        "  if b>a:\n",
        "    print(\"b가 a보다 큼\")\n",
        "  else:\n",
        "    pass\n"
      ],
      "metadata": {
        "id": "YA5Y3A9aWN5K"
      },
      "execution_count": null,
      "outputs": []
    },
    {
      "cell_type": "code",
      "source": [
        "#미션5. 2배로 적금만들기\n",
        "\n",
        "##변수 money에 input을 이용해서 입력을 받아봅시다.\n",
        "money = input()\n",
        "\n",
        "##money를 int형으로 변환해서, 다시 money에 넣어줍니다.\n",
        "money = int(money)\n",
        "\n",
        "##money를 2배로 불려서 print로 출력을 해봅시다\n",
        "print(money*2)"
      ],
      "metadata": {
        "id": "DjwZZgNz17S7"
      },
      "execution_count": null,
      "outputs": []
    },
    {
      "cell_type": "code",
      "source": [
        "#미션6. 기차놀이\n",
        "#현재 기차에는 3명의 승객이 탑승하고 있습니다. ('금비','은비','동비')\n",
        "train = ['금비','은비','동비']\n",
        "\n",
        "#서울역에 정차했습니다.\n",
        "##승객 '까비'를 맨 뒷칸에 태우세요\n",
        "train.append('까비')\n",
        "print('서울역 도착,//', train)\n",
        "\n",
        "#대전역에 정차했습니다.\n",
        "##1등석 승객 '선녀'가 탑습했습니다. 맨앞에 태우세요\n",
        "train.insert(0,'선녀')\n",
        "print('대전역 도착.//', train)\n",
        "\n",
        "\n",
        "#동대구역에 정차했습니다.\n",
        "##승객 '은비'를 하차시켜주세요\n",
        "train.remove('은비')\n",
        "print('동대구역 도착.//', train)\n",
        "\n",
        "#마지막 역인 부산에 정차했습니다.\n",
        "##원할한 하차를 위해 손님들의 자리를 사전순으로 다시 지정해주세요\n",
        "train.sort()\n",
        "print('부산역 도착.//', train)\n"
      ],
      "metadata": {
        "id": "jPFwY2PD1_6S"
      },
      "execution_count": null,
      "outputs": []
    },
    {
      "cell_type": "code",
      "source": [
        ""
      ],
      "metadata": {
        "id": "zeqRczBwPcrY"
      },
      "execution_count": null,
      "outputs": []
    },
    {
      "cell_type": "code",
      "source": [
        "#미션6. 홀짝판별기\n",
        "\n",
        "##input()을 이용해서 숫자(정수) 입력을 받고, 변수 num에 이를 넣어봅시다.\n",
        "num = int(input())\n",
        "\n",
        "##if-else 문을 이용해서 만약 입력받은 수가 홀수면 \"(입력받은수) 홀수입니다.\"\n",
        "##짝수면 \"(입력받은수) 짝수입니다\"를 출력해봅시다\n",
        "if num %2 == 0:\n",
        "  print(num, \"짝수입니다\")\n",
        "else:\n",
        "  print(num, \"홀수입니다\")"
      ],
      "metadata": {
        "id": "OUtwebFO2E9v"
      },
      "execution_count": null,
      "outputs": []
    },
    {
      "cell_type": "code",
      "source": [
        "#미션7. 업-다운\n",
        "\n",
        "##변수 answer에 수 1~50 중 하나를 넣어봅시다.\n",
        "answer = 2\n",
        "\n",
        "##input을 통해 숫자형으로 입력을 받아서 변수 submit에 저장해봅시다.\n",
        "submit = int(input())\n",
        "\n",
        "##if-elif-else 문으로 \n",
        "###만약 answer 보다 submit이 더 크면 \"정답보다 더 큰 수를 입력했습니다\"\n",
        "###만약 answer 보다 submit이 더 작으면 \"정답보다 더 작은 수를 입력했습니다\"\n",
        "###만약 answer 보다 submit이 같으면 \"정답!\"을 출력합니다. \n",
        "if answer < submit:\n",
        "  print(\"정답보다 더 큰수를 입력했습니다\")\n",
        "elif answer > submit:\n",
        "  print(\"정답보다 더 작은 수를 입력했습니다\")\n",
        "else:\n",
        "  print(\"정답!\")\n"
      ],
      "metadata": {
        "id": "NRu8aOpu2Jp4"
      },
      "execution_count": null,
      "outputs": []
    },
    {
      "cell_type": "code",
      "source": [
        "if answer < submit:\n",
        "  print(\"정답보다 더 큰수를 입력했습니다\")\n",
        "elif answer == submit:\n",
        "  print(\"정답!\")\n",
        "else:\n",
        "  print(\"정답보다 더 작은수를 입력했습니다\")"
      ],
      "metadata": {
        "id": "DtrrF_eFXJ9C"
      },
      "execution_count": null,
      "outputs": []
    },
    {
      "cell_type": "code",
      "source": [
        "#반복문 while\n",
        "i = 1\n",
        "while i<11:\n",
        "  print(i)\n",
        "  i=i+1"
      ],
      "metadata": {
        "id": "XhqyH8ezftjH"
      },
      "execution_count": null,
      "outputs": []
    },
    {
      "cell_type": "code",
      "source": [
        "#미션8\n",
        "#미션\n",
        "#while을 이용해서 \"i 년째 수감중입니다.\"를 출력해봅시다.\n",
        "#while문이 종료된 후에는, \"감옥에서 석방되었습니다!\"를 출력해봅시다.\n",
        "i=1\n",
        "while i<=10:\n",
        "  print(i,\"년째 수감중입니다\")\n",
        "  i=i+1 #i가 임의 주어진 수를 넘을 수 없도로\n",
        "print(\"감옥에서 석방되었습니다. \")"
      ],
      "metadata": {
        "id": "UxgjCBvr2Lrg"
      },
      "execution_count": null,
      "outputs": []
    },
    {
      "cell_type": "code",
      "source": [
        "#반복문 for를 실습해보자\n",
        "# for 원소 in 변수:\n",
        "\n",
        "fruits = [\"apple\",\"banana\",\"peach\"]\n",
        "for x in fruits:\n",
        "  print(x)"
      ],
      "metadata": {
        "id": "pWtEToduXKBu"
      },
      "execution_count": null,
      "outputs": []
    },
    {
      "cell_type": "code",
      "source": [
        "for i in [1,2,3,4,5,6,7,8,9] :\n",
        "  print(i)"
      ],
      "metadata": {
        "id": "gEKIXhl1XKE-"
      },
      "execution_count": null,
      "outputs": []
    },
    {
      "cell_type": "code",
      "source": [
        "#range() 연속된 숫자를 만드는 함수\n",
        "\n",
        "for i in range(1,11):\n",
        "  print(i)"
      ],
      "metadata": {
        "id": "Ygy83cJBXKH0"
      },
      "execution_count": null,
      "outputs": []
    },
    {
      "cell_type": "code",
      "source": [
        "a = list(range(1,10))\n",
        "a"
      ],
      "metadata": {
        "id": "m4zSVdHBXKLQ"
      },
      "execution_count": null,
      "outputs": []
    },
    {
      "cell_type": "code",
      "source": [
        "for x in range(100,10,-10):\n",
        "  print(x)"
      ],
      "metadata": {
        "id": "sX5n5rwEXKON"
      },
      "execution_count": null,
      "outputs": []
    },
    {
      "cell_type": "code",
      "source": [
        "##for break-> 루프 무한 반복 구문 빠져나올수잇겠금 <-> pass: 결과 가 없이 지나감\n",
        "##if: pass break\n",
        "fruits = [\"apple\",\"banana\",\"peach\",\"fig\"]\n",
        "\n",
        "for x in fruits:\n",
        "  print(x)\n",
        "  if x == \"peach\":\n",
        "    break"
      ],
      "metadata": {
        "id": "l-kfrv84AKJi"
      },
      "execution_count": null,
      "outputs": []
    },
    {
      "cell_type": "code",
      "source": [
        "fruits = [\"apple\",\"banana\",\"peach\",\"fig\"]\n",
        "\n",
        "for x in fruits:\n",
        "  print(x)\n",
        "  if x == \"peach\":\n",
        "    pass"
      ],
      "metadata": {
        "id": "er8O_FdLpAa_"
      },
      "execution_count": null,
      "outputs": []
    },
    {
      "cell_type": "code",
      "source": [
        "#미션 19단 외우기 #변수i사용해보기\n",
        "\n",
        "for i in range(1,20):\n",
        " print(\"19 *\", i, \"=\", 19*i)"
      ],
      "metadata": {
        "id": "DupcUBWp6aC4"
      },
      "execution_count": null,
      "outputs": []
    },
    {
      "cell_type": "code",
      "source": [
        ""
      ],
      "metadata": {
        "id": "PTPO-VOhsrzi"
      },
      "execution_count": null,
      "outputs": []
    }
  ]
}