{
  "nbformat": 4,
  "nbformat_minor": 0,
  "metadata": {
    "colab": {
      "name": "파이썬 응용 1주차",
      "provenance": [],
      "collapsed_sections": [],
      "authorship_tag": "ABX9TyMmFm08On4oB988j4KrfxJd",
      "include_colab_link": true
    },
    "kernelspec": {
      "name": "python3",
      "display_name": "Python 3"
    },
    "language_info": {
      "name": "python"
    }
  },
  "cells": [
    {
      "cell_type": "markdown",
      "metadata": {
        "id": "view-in-github",
        "colab_type": "text"
      },
      "source": [
        "<a href=\"https://colab.research.google.com/github/KimEun-Bi/etc../blob/master/%ED%8C%8C%EC%9D%B4%EC%8D%AC_%EC%9D%91%EC%9A%A9_1%EC%A3%BC%EC%B0%A8.ipynb\" target=\"_parent\"><img src=\"https://colab.research.google.com/assets/colab-badge.svg\" alt=\"Open In Colab\"/></a>"
      ]
    },
    {
      "cell_type": "markdown",
      "source": [
        "# **print()**\n",
        "\n",
        "1.   항목 추가\n",
        "2.   항목 추가\n",
        "\n"
      ],
      "metadata": {
        "id": "DVbSiyvxQGI_"
      }
    },
    {
      "cell_type": "code",
      "source": [
        ""
      ],
      "metadata": {
        "id": "fOsMLflo9HkF"
      },
      "execution_count": null,
      "outputs": []
    },
    {
      "cell_type": "markdown",
      "source": [
        "ㅇㅇㅇㅇㅇㅇㅇㅇ"
      ],
      "metadata": {
        "id": "lCpHv9usJZT7"
      }
    },
    {
      "cell_type": "code",
      "source": [
        ""
      ],
      "metadata": {
        "id": "gFpqGfe3I8-k"
      },
      "execution_count": null,
      "outputs": []
    },
    {
      "cell_type": "code",
      "source": [
        ""
      ],
      "metadata": {
        "id": "2f4EbHSp9I5v"
      },
      "execution_count": null,
      "outputs": []
    },
    {
      "cell_type": "code",
      "source": [
        "######주석"
      ],
      "metadata": {
        "id": "ceIZ3laCck8W"
      },
      "execution_count": null,
      "outputs": []
    },
    {
      "cell_type": "code",
      "execution_count": null,
      "metadata": {
        "id": "C8pOhwLRKAyw",
        "colab": {
          "base_uri": "https://localhost:8080/"
        },
        "outputId": "b7bbc552-7ea2-4c28-aad2-4f9042d2a241"
      },
      "outputs": [
        {
          "output_type": "stream",
          "name": "stdout",
          "text": [
            "Hello, World!\n"
          ]
        }
      ],
      "source": [
        "#print() \n",
        "###은 주석이예요\n",
        "print(\"Hello, World!\")"
      ]
    },
    {
      "cell_type": "code",
      "source": [
        "#미션1. 이름으로 삼행시 짓기\n"
      ],
      "metadata": {
        "id": "eFooMc70Krto"
      },
      "execution_count": null,
      "outputs": []
    },
    {
      "cell_type": "markdown",
      "source": [
        "변수: **자료형**의 값을 저장하는 공간"
      ],
      "metadata": {
        "id": "98A_2FXlUJZv"
      }
    },
    {
      "cell_type": "code",
      "source": [
        "#미션2. 여러분의 변수를 만들어봅시다. my_var라는 이름의 변수를 만들고, print로 출력해서 확인해봅시다\n"
      ],
      "metadata": {
        "id": "kQlcRCNXRPdt"
      },
      "execution_count": null,
      "outputs": []
    },
    {
      "cell_type": "markdown",
      "source": [
        "이론수업 PPT로!"
      ],
      "metadata": {
        "id": "4lafLhWf02vn"
      }
    },
    {
      "cell_type": "markdown",
      "source": [
        "# **자료형(연산)**"
      ],
      "metadata": {
        "id": "NRZpLnhrQObH"
      }
    },
    {
      "cell_type": "markdown",
      "source": [
        "자료형(숫자형)"
      ],
      "metadata": {
        "id": "W8Aumz1pRyn6"
      }
    },
    {
      "cell_type": "code",
      "source": [
        "#자료형을 알아보자!\n",
        "\n",
        "type(10)"
      ],
      "metadata": {
        "id": "Flj8aqJCK-3W",
        "colab": {
          "base_uri": "https://localhost:8080/"
        },
        "outputId": "f252d091-8052-4e92-ea0f-54c2d4d7a160"
      },
      "execution_count": null,
      "outputs": [
        {
          "output_type": "execute_result",
          "data": {
            "text/plain": [
              "int"
            ]
          },
          "metadata": {},
          "execution_count": 3
        }
      ]
    },
    {
      "cell_type": "code",
      "source": [
        "#자료형을 알아보자!\n",
        "type(3.14)"
      ],
      "metadata": {
        "id": "tXcGEsRgL4Bc",
        "colab": {
          "base_uri": "https://localhost:8080/"
        },
        "outputId": "9b9adb59-3b44-4bf2-ea92-1e7a0540c096"
      },
      "execution_count": null,
      "outputs": [
        {
          "output_type": "execute_result",
          "data": {
            "text/plain": [
              "float"
            ]
          },
          "metadata": {},
          "execution_count": 4
        }
      ]
    },
    {
      "cell_type": "markdown",
      "source": [
        "연산"
      ],
      "metadata": {
        "id": "6-HmtClYRtCw"
      }
    },
    {
      "cell_type": "code",
      "source": [
        "#연산\n",
        "a = 10\n",
        "b = 2"
      ],
      "metadata": {
        "id": "SP0Gp9BDRjTq"
      },
      "execution_count": null,
      "outputs": []
    },
    {
      "cell_type": "code",
      "source": [
        "# 더하기\n",
        "a + b"
      ],
      "metadata": {
        "id": "roVq3R8kRjeR",
        "colab": {
          "base_uri": "https://localhost:8080/"
        },
        "outputId": "c1bd48fa-9090-4b78-836e-626accec6ef5"
      },
      "execution_count": null,
      "outputs": [
        {
          "output_type": "execute_result",
          "data": {
            "text/plain": [
              "12"
            ]
          },
          "metadata": {},
          "execution_count": 7
        }
      ]
    },
    {
      "cell_type": "code",
      "source": [
        "# 빼기\n",
        "a - b"
      ],
      "metadata": {
        "id": "X4LdHTsARnh1",
        "colab": {
          "base_uri": "https://localhost:8080/"
        },
        "outputId": "da22014a-fe5e-41ac-d603-5e50da74c8e9"
      },
      "execution_count": null,
      "outputs": [
        {
          "output_type": "execute_result",
          "data": {
            "text/plain": [
              "-8"
            ]
          },
          "metadata": {},
          "execution_count": 8
        }
      ]
    },
    {
      "cell_type": "code",
      "source": [
        "# 곱하기\n",
        "a * b"
      ],
      "metadata": {
        "id": "H6TTST5WRpH2",
        "colab": {
          "base_uri": "https://localhost:8080/"
        },
        "outputId": "30f634d6-723f-4994-a933-b0cf2eb6564a"
      },
      "execution_count": null,
      "outputs": [
        {
          "output_type": "execute_result",
          "data": {
            "text/plain": [
              "20"
            ]
          },
          "metadata": {},
          "execution_count": 9
        }
      ]
    },
    {
      "cell_type": "code",
      "source": [
        "# 제곱\n",
        "a ** b"
      ],
      "metadata": {
        "id": "zpEn1cBtSWj9",
        "colab": {
          "base_uri": "https://localhost:8080/"
        },
        "outputId": "5b44eb2f-46e9-4323-f4ac-1919e0dc2cbd"
      },
      "execution_count": null,
      "outputs": [
        {
          "output_type": "execute_result",
          "data": {
            "text/plain": [
              "1024"
            ]
          },
          "metadata": {},
          "execution_count": 10
        }
      ]
    },
    {
      "cell_type": "code",
      "source": [
        "# 나누기\n",
        "a / b"
      ],
      "metadata": {
        "id": "WMC20pq2SXMS",
        "colab": {
          "base_uri": "https://localhost:8080/"
        },
        "outputId": "a01f8817-118c-4a42-e8aa-18b7dee9ab1c"
      },
      "execution_count": null,
      "outputs": [
        {
          "output_type": "execute_result",
          "data": {
            "text/plain": [
              "5.0"
            ]
          },
          "metadata": {},
          "execution_count": 40
        }
      ]
    },
    {
      "cell_type": "code",
      "source": [
        ""
      ],
      "metadata": {
        "id": "kX9I0JFaScLN",
        "colab": {
          "base_uri": "https://localhost:8080/"
        },
        "outputId": "478b93a4-d977-4757-f342-5f52150182e3"
      },
      "execution_count": null,
      "outputs": [
        {
          "output_type": "execute_result",
          "data": {
            "text/plain": [
              "2"
            ]
          },
          "metadata": {},
          "execution_count": 12
        }
      ]
    },
    {
      "cell_type": "code",
      "source": [
        "# 나누기 나머지\n",
        "a%b"
      ],
      "metadata": {
        "id": "krbKcRlEurg8",
        "colab": {
          "base_uri": "https://localhost:8080/"
        },
        "outputId": "3e870e5b-4cdb-466c-dcd7-2bd78a31c81e"
      },
      "execution_count": null,
      "outputs": [
        {
          "output_type": "execute_result",
          "data": {
            "text/plain": [
              "0"
            ]
          },
          "metadata": {},
          "execution_count": 41
        }
      ]
    },
    {
      "cell_type": "code",
      "source": [
        "# 나누기 : 몫\n",
        "a // b"
      ],
      "metadata": {
        "id": "m3rtE_RySecL",
        "colab": {
          "base_uri": "https://localhost:8080/"
        },
        "outputId": "d2983851-4764-4688-9ee4-21cc8536b370"
      },
      "execution_count": null,
      "outputs": [
        {
          "output_type": "execute_result",
          "data": {
            "text/plain": [
              "5"
            ]
          },
          "metadata": {},
          "execution_count": 42
        }
      ]
    },
    {
      "cell_type": "markdown",
      "source": [
        "자료형(문자형)"
      ],
      "metadata": {
        "id": "jgAHFv0iSHH2"
      }
    },
    {
      "cell_type": "code",
      "source": [
        "#자료형을 알아보자!\n",
        "type('Hello word')"
      ],
      "metadata": {
        "id": "9r75jZL0MBA3"
      },
      "execution_count": null,
      "outputs": []
    },
    {
      "cell_type": "code",
      "source": [
        "print(\"안녕\"+\"하세요\")"
      ],
      "metadata": {
        "id": "kSrbjeDgxYFa",
        "colab": {
          "base_uri": "https://localhost:8080/"
        },
        "outputId": "6a0fab85-5bfc-490d-d7cd-c4328a7f0184"
      },
      "execution_count": null,
      "outputs": [
        {
          "output_type": "stream",
          "name": "stdout",
          "text": [
            "안녕하세요\n"
          ]
        }
      ]
    },
    {
      "cell_type": "code",
      "source": [
        "print(\"안녕\"*3)"
      ],
      "metadata": {
        "id": "JiGRFfvYxhY0",
        "colab": {
          "base_uri": "https://localhost:8080/"
        },
        "outputId": "e0127120-ad3b-4400-97f0-46b8700c8b56"
      },
      "execution_count": null,
      "outputs": [
        {
          "output_type": "stream",
          "name": "stdout",
          "text": [
            "안녕안녕안녕\n"
          ]
        }
      ]
    },
    {
      "cell_type": "code",
      "source": [
        "#미션3.0\n",
        "## 숫자 50과 숫자 50 더해서 출력하기\n"
      ],
      "metadata": {
        "id": "FYGtBCVfPbm5"
      },
      "execution_count": null,
      "outputs": []
    },
    {
      "cell_type": "code",
      "source": [
        "#미션3.1\n",
        "## 문자열 50과 문자열 50 더해서 출력하기\n"
      ],
      "metadata": {
        "id": "-upTAyHUPmFj"
      },
      "execution_count": null,
      "outputs": []
    },
    {
      "cell_type": "code",
      "source": [
        "#미션3.1\n",
        "## 리스트 50과 리스트 50 더해서 출력하기\n"
      ],
      "metadata": {
        "id": "z7LpH6tlUzPC"
      },
      "execution_count": null,
      "outputs": []
    },
    {
      "cell_type": "code",
      "source": [
        "#미션3.3 거꾸로 계산기\n",
        "# //을 이용해서 변수 intdiv에 4를 넢은 수식을 작성해봅니다. \n",
        "\n",
        "#%을 이용하여 변수 modular에 1을 넣는 수식을 작성해봅니다\n",
        "\n",
        "#**을 이용해서 변수 expo에 16을 넣는 수식을 작성해봅시다.\n",
        "\n",
        "#위의 세변수를 출력해서 확인해봅시다\n",
        "print(intdiv, modular, expo)\n",
        "\n"
      ],
      "metadata": {
        "id": "Ljy_os9WvpDF"
      },
      "execution_count": null,
      "outputs": []
    },
    {
      "cell_type": "markdown",
      "source": [
        "자료형(불린, 논리 자료형)"
      ],
      "metadata": {
        "id": "cuWdkirqSOWZ"
      }
    },
    {
      "cell_type": "code",
      "source": [
        "# 불린(boolean)\n",
        "a = 1\n",
        "b = 2"
      ],
      "metadata": {
        "id": "47m5LuJMQDsS"
      },
      "execution_count": null,
      "outputs": []
    },
    {
      "cell_type": "code",
      "source": [
        "print(a<b)"
      ],
      "metadata": {
        "id": "1Dy5DIYBQenc",
        "colab": {
          "base_uri": "https://localhost:8080/"
        },
        "outputId": "3d1aaba9-0941-4667-ee35-924c32550990"
      },
      "execution_count": null,
      "outputs": [
        {
          "output_type": "stream",
          "name": "stdout",
          "text": [
            "True\n"
          ]
        }
      ]
    },
    {
      "cell_type": "code",
      "source": [
        "print(b<a)"
      ],
      "metadata": {
        "id": "4vpxlJjsRFNp",
        "colab": {
          "base_uri": "https://localhost:8080/"
        },
        "outputId": "128a4d51-5d37-4afc-f77f-1913c47f4388"
      },
      "execution_count": null,
      "outputs": [
        {
          "output_type": "stream",
          "name": "stdout",
          "text": [
            "False\n"
          ]
        }
      ]
    },
    {
      "cell_type": "code",
      "source": [
        "#자료형을 알아보자!\n",
        "t, f = True, False\n",
        "type(t)"
      ],
      "metadata": {
        "id": "OP-3YWj7RF-q",
        "colab": {
          "base_uri": "https://localhost:8080/"
        },
        "outputId": "a4ff7f0a-65b3-4fd7-89e9-879e494fae98"
      },
      "execution_count": null,
      "outputs": [
        {
          "output_type": "execute_result",
          "data": {
            "text/plain": [
              "bool"
            ]
          },
          "metadata": {},
          "execution_count": 22
        }
      ]
    },
    {
      "cell_type": "code",
      "source": [
        "#미션4. 비교연산자로 명제 만들기\n",
        "\n",
        "## == 혹은 != 연산자를 이용해서 True인 명제를 ans1에 넣어봅시다.\n",
        "\n",
        "\n",
        "## > 혹은 < 연산자를 이용해서 False인 명제를 ans2에 넣어봅시다\n",
        "\n",
        "\n",
        "##위의 변수를 출력해서 정답을 확인해봅시다. \n",
        "print(ans1, ans2)\n"
      ],
      "metadata": {
        "id": "-_zKy2MVWSrU"
      },
      "execution_count": null,
      "outputs": []
    },
    {
      "cell_type": "code",
      "source": [
        "#불린의 연산(and, or, not)\n",
        "\n",
        "ab = 3==3 and 2<5\n",
        "bc = 4>=6\n",
        "cd = tno 4>5\n",
        "\n",
        "print(ab, bc, cd)"
      ],
      "metadata": {
        "id": "c6anbShCYIrs"
      },
      "execution_count": null,
      "outputs": []
    },
    {
      "cell_type": "markdown",
      "source": [
        "자료형(리스트)"
      ],
      "metadata": {
        "id": "WeTY2eCdxEIT"
      }
    },
    {
      "cell_type": "code",
      "source": [
        "a = [1, 2, 3, 4]\n",
        "type(a)"
      ],
      "metadata": {
        "id": "rW2oB1-zxDm5",
        "colab": {
          "base_uri": "https://localhost:8080/"
        },
        "outputId": "8c2d4dca-7030-46da-f5fe-4ef4530a0a66"
      },
      "execution_count": null,
      "outputs": [
        {
          "output_type": "execute_result",
          "data": {
            "text/plain": [
              "list"
            ]
          },
          "metadata": {},
          "execution_count": 23
        }
      ]
    },
    {
      "cell_type": "code",
      "source": [
        "#리스트는 자르고 찾는 것이 가능해요\n",
        "\n",
        "v =['화이자' , '모더나' , 'AZ' , '얀센' ]\n",
        "type(v)"
      ],
      "metadata": {
        "id": "3ObGMJilxYYx",
        "colab": {
          "base_uri": "https://localhost:8080/"
        },
        "outputId": "2e868de4-6b5b-4161-f008-23fd19d8faa1"
      },
      "execution_count": null,
      "outputs": [
        {
          "output_type": "execute_result",
          "data": {
            "text/plain": [
              "list"
            ]
          },
          "metadata": {},
          "execution_count": 25
        }
      ]
    },
    {
      "cell_type": "code",
      "source": [
        "##인덱싱(indexing)\n",
        "v[1]"
      ],
      "metadata": {
        "id": "jLKazFE42SqV",
        "colab": {
          "base_uri": "https://localhost:8080/",
          "height": 35
        },
        "outputId": "36deee6d-d7fe-4115-92e1-403a42d64e6b"
      },
      "execution_count": null,
      "outputs": [
        {
          "output_type": "execute_result",
          "data": {
            "text/plain": [
              "'모더나'"
            ],
            "application/vnd.google.colaboratory.intrinsic+json": {
              "type": "string"
            }
          },
          "metadata": {},
          "execution_count": 26
        }
      ]
    },
    {
      "cell_type": "code",
      "source": [
        "v[0]"
      ],
      "metadata": {
        "id": "PkT5fgEL2eOE",
        "colab": {
          "base_uri": "https://localhost:8080/",
          "height": 35
        },
        "outputId": "e253538d-dcfb-446a-ca99-bdf8a58c006d"
      },
      "execution_count": null,
      "outputs": [
        {
          "output_type": "execute_result",
          "data": {
            "text/plain": [
              "'화이자'"
            ],
            "application/vnd.google.colaboratory.intrinsic+json": {
              "type": "string"
            }
          },
          "metadata": {},
          "execution_count": 27
        }
      ]
    },
    {
      "cell_type": "code",
      "source": [
        "v[-1]"
      ],
      "metadata": {
        "id": "-UFzKfUE2hMg",
        "colab": {
          "base_uri": "https://localhost:8080/",
          "height": 35
        },
        "outputId": "dcf53f17-0de4-4ea7-c915-e1bfa7c5bbb2"
      },
      "execution_count": null,
      "outputs": [
        {
          "output_type": "execute_result",
          "data": {
            "text/plain": [
              "'얀센'"
            ],
            "application/vnd.google.colaboratory.intrinsic+json": {
              "type": "string"
            }
          },
          "metadata": {},
          "execution_count": 28
        }
      ]
    },
    {
      "cell_type": "code",
      "source": [
        "\n",
        "v =['화이자' , '모더나' , 'AZ' , '얀센' ]"
      ],
      "metadata": {
        "id": "hjbzc7lFNv_h"
      },
      "execution_count": null,
      "outputs": []
    },
    {
      "cell_type": "code",
      "source": [
        "## slicing (슬라이싱)\n",
        "v[1:]"
      ],
      "metadata": {
        "id": "ihFg8VG02kWL",
        "colab": {
          "base_uri": "https://localhost:8080/"
        },
        "outputId": "a4f0063c-9c12-41e9-f2f0-b57fb8e1a7d2"
      },
      "execution_count": null,
      "outputs": [
        {
          "output_type": "execute_result",
          "data": {
            "text/plain": [
              "['모더나', 'AZ', '얀센']"
            ]
          },
          "metadata": {},
          "execution_count": 29
        }
      ]
    },
    {
      "cell_type": "code",
      "source": [
        "v[:]"
      ],
      "metadata": {
        "id": "95BTUd362sMx",
        "colab": {
          "base_uri": "https://localhost:8080/"
        },
        "outputId": "8e150938-4ab0-4c1d-c40b-553dc46cca3d"
      },
      "execution_count": null,
      "outputs": [
        {
          "output_type": "execute_result",
          "data": {
            "text/plain": [
              "['화이자', '모더나', 'AZ', '얀센']"
            ]
          },
          "metadata": {},
          "execution_count": 30
        }
      ]
    },
    {
      "cell_type": "code",
      "source": [
        "v[:-1]"
      ],
      "metadata": {
        "id": "0z5tCF9029c8",
        "colab": {
          "base_uri": "https://localhost:8080/"
        },
        "outputId": "b8b93e2b-4c7b-4b11-b3f7-37676107bf06"
      },
      "execution_count": null,
      "outputs": [
        {
          "output_type": "execute_result",
          "data": {
            "text/plain": [
              "['화이자', '모더나', 'AZ']"
            ]
          },
          "metadata": {},
          "execution_count": 31
        }
      ]
    },
    {
      "cell_type": "code",
      "source": [
        "v =['화이자' , '모더나' , 'AZ' , '얀센' ]"
      ],
      "metadata": {
        "id": "RDOyQ5jfTd46"
      },
      "execution_count": null,
      "outputs": []
    },
    {
      "cell_type": "code",
      "source": [
        "v[2] = 'AA' # 수정\n",
        "v"
      ],
      "metadata": {
        "id": "61SSgOQM4WB4",
        "colab": {
          "base_uri": "https://localhost:8080/"
        },
        "outputId": "da7bcd32-255f-49f3-f396-0ed559c2b03b"
      },
      "execution_count": null,
      "outputs": [
        {
          "output_type": "execute_result",
          "data": {
            "text/plain": [
              "['화이자', '모더나', 'AA', 'AA', '얀센', 'BB']"
            ]
          },
          "metadata": {},
          "execution_count": 47
        }
      ]
    },
    {
      "cell_type": "code",
      "source": [
        "v.append('BB') #추가 : 자료를 리스트 마지막 원소 뒤에 추가(오직 한개의 자료만 넣을 수 있다.)\n",
        "v"
      ],
      "metadata": {
        "id": "rAsu3d_U4XFV",
        "colab": {
          "base_uri": "https://localhost:8080/"
        },
        "outputId": "1e2d2258-c2ce-4ffd-ad95-11060c9d3eb6"
      },
      "execution_count": null,
      "outputs": [
        {
          "output_type": "execute_result",
          "data": {
            "text/plain": [
              "['화이자', '모더나', 'AA', '얀센', 'BB']"
            ]
          },
          "metadata": {},
          "execution_count": 44
        }
      ]
    },
    {
      "cell_type": "code",
      "source": [
        "v.insert(2,3) #list.insert(i,d): 인덱스 i(위치)에 자료d(값)를 추가(오직 한개의 자료만 넣을 수있다())\n",
        "v"
      ],
      "metadata": {
        "id": "GSOvGS9nmsL_",
        "colab": {
          "base_uri": "https://localhost:8080/"
        },
        "outputId": "40e4c651-f6a8-4c69-9353-ecf25f71cc76"
      },
      "execution_count": null,
      "outputs": [
        {
          "output_type": "execute_result",
          "data": {
            "text/plain": [
              "['화이자', '모더나', 3, 'AA', '얀센', 'BB']"
            ]
          },
          "metadata": {},
          "execution_count": 45
        }
      ]
    },
    {
      "cell_type": "code",
      "source": [
        "v.sort() #정렬: 숫자형은 오름차순, 문자열은 사전순\n",
        "v"
      ],
      "metadata": {
        "id": "LUxoNnv14byE",
        "colab": {
          "base_uri": "https://localhost:8080/"
        },
        "outputId": "00d94360-b0e7-4414-a8e1-a9245753278f"
      },
      "execution_count": null,
      "outputs": [
        {
          "output_type": "execute_result",
          "data": {
            "text/plain": [
              "['AZ', '모더나', '얀센', '화이자']"
            ]
          },
          "metadata": {},
          "execution_count": 49
        }
      ]
    },
    {
      "cell_type": "code",
      "source": [
        "v.reverse() #거꾸로\n",
        "v"
      ],
      "metadata": {
        "id": "LOTOANzS4xiz",
        "colab": {
          "base_uri": "https://localhost:8080/"
        },
        "outputId": "ea738546-4454-42b1-ee0b-c7072a6bef9d"
      },
      "execution_count": null,
      "outputs": [
        {
          "output_type": "execute_result",
          "data": {
            "text/plain": [
              "['화이자', '얀센', '모더나', 'AZ']"
            ]
          },
          "metadata": {},
          "execution_count": 50
        }
      ]
    },
    {
      "cell_type": "code",
      "source": [
        "v.index('화이자') #bb는 어디있나요"
      ],
      "metadata": {
        "id": "lANomKjq5Dta",
        "colab": {
          "base_uri": "https://localhost:8080/"
        },
        "outputId": "0e8d2e9d-32dc-4c63-ff8a-ea4faf97258c"
      },
      "execution_count": null,
      "outputs": [
        {
          "output_type": "execute_result",
          "data": {
            "text/plain": [
              "0"
            ]
          },
          "metadata": {},
          "execution_count": 51
        }
      ]
    },
    {
      "cell_type": "code",
      "source": [
        "v.remove('화이자') #제거\n",
        "v"
      ],
      "metadata": {
        "id": "nPR7q8635Gqf",
        "colab": {
          "base_uri": "https://localhost:8080/"
        },
        "outputId": "b0fd067f-1896-4531-9cac-9cef9025f7a8"
      },
      "execution_count": null,
      "outputs": [
        {
          "output_type": "execute_result",
          "data": {
            "text/plain": [
              "['얀센', '모더나', 'AZ']"
            ]
          },
          "metadata": {},
          "execution_count": 52
        }
      ]
    },
    {
      "cell_type": "markdown",
      "source": [
        "자료형(튜플)"
      ],
      "metadata": {
        "id": "LZg0hZTf5nJ_"
      }
    },
    {
      "cell_type": "code",
      "source": [
        "#  튜플\n",
        "\n",
        "type(('화이자' , '모더나' , '아스트라제네카' , '얀센'))"
      ],
      "metadata": {
        "id": "poiZ_QPw5mJH",
        "colab": {
          "base_uri": "https://localhost:8080/"
        },
        "outputId": "dfe0c984-bae2-4646-9aa1-dcb8f2c3c958"
      },
      "execution_count": null,
      "outputs": [
        {
          "output_type": "execute_result",
          "data": {
            "text/plain": [
              "tuple"
            ]
          },
          "metadata": {},
          "execution_count": 53
        }
      ]
    },
    {
      "cell_type": "markdown",
      "source": [
        "Set (집합)"
      ],
      "metadata": {
        "id": "pTm50Rp3mZ-X"
      }
    },
    {
      "cell_type": "code",
      "source": [
        "# Set - 중복이 되면 안되는 경우\n",
        "\n",
        "user_set_a = {\"user_1\", \"user_2\", \"user_3\", \"user_1\"}\n",
        "user_set_b = {\"user_2\", \"user_3\"}\n",
        "\n",
        "print(user_set_a)"
      ],
      "metadata": {
        "id": "0nQDRIDEVosn",
        "colab": {
          "base_uri": "https://localhost:8080/"
        },
        "outputId": "4307ab4d-1d20-4639-a094-bf6456533129"
      },
      "execution_count": null,
      "outputs": [
        {
          "output_type": "stream",
          "name": "stdout",
          "text": [
            "{'user_1', 'user_2', 'user_3'}\n"
          ]
        }
      ]
    },
    {
      "cell_type": "code",
      "source": [
        "type(user_set_a)"
      ],
      "metadata": {
        "id": "PU8PFH7ro_E9",
        "colab": {
          "base_uri": "https://localhost:8080/"
        },
        "outputId": "abc40e1b-de1e-40f9-a9a4-fa8bb3bfa4f3"
      },
      "execution_count": null,
      "outputs": [
        {
          "output_type": "execute_result",
          "data": {
            "text/plain": [
              "set"
            ]
          },
          "metadata": {},
          "execution_count": 55
        }
      ]
    },
    {
      "cell_type": "code",
      "source": [
        "# 교집합\n",
        "user_set_a & user_set_b"
      ],
      "metadata": {
        "id": "21mb2ECIo4de",
        "colab": {
          "base_uri": "https://localhost:8080/"
        },
        "outputId": "0031988f-2dd5-4fa1-93f1-6101c0602a26"
      },
      "execution_count": null,
      "outputs": [
        {
          "output_type": "execute_result",
          "data": {
            "text/plain": [
              "{'user_2', 'user_3'}"
            ]
          },
          "metadata": {},
          "execution_count": 56
        }
      ]
    },
    {
      "cell_type": "code",
      "source": [
        "# 합집합\n",
        "user_set_a | user_set_b "
      ],
      "metadata": {
        "id": "5HDqmhU7o6RY",
        "colab": {
          "base_uri": "https://localhost:8080/"
        },
        "outputId": "8a775af5-8870-45d1-f450-94160a42161e"
      },
      "execution_count": null,
      "outputs": [
        {
          "output_type": "execute_result",
          "data": {
            "text/plain": [
              "{'user_1', 'user_2', 'user_3'}"
            ]
          },
          "metadata": {},
          "execution_count": 57
        }
      ]
    },
    {
      "cell_type": "code",
      "source": [
        "# 차집합\n",
        "user_set_a - user_set_b\n"
      ],
      "metadata": {
        "id": "EkxglfJto8Nc",
        "colab": {
          "base_uri": "https://localhost:8080/"
        },
        "outputId": "a1bdc645-58e3-48ab-d996-3bf916042efb"
      },
      "execution_count": null,
      "outputs": [
        {
          "output_type": "execute_result",
          "data": {
            "text/plain": [
              "{'user_1'}"
            ]
          },
          "metadata": {},
          "execution_count": 58
        }
      ]
    },
    {
      "cell_type": "markdown",
      "source": [
        "Dict (딕셔너리)"
      ],
      "metadata": {
        "id": "87wHRYXXqpne"
      }
    },
    {
      "cell_type": "code",
      "source": [
        "# dictionary key와 value값으로 이뤄짐\n",
        "\n",
        "dic_1 = { '제조사' : '화이자/바이오엔텍' , \n",
        "         '플랫폼' : 'mRNA 백신 (핵산 백신)' , \n",
        "         '연령' : '만 16세 이상' }"
      ],
      "metadata": {
        "id": "imX8RyG2qqXA"
      },
      "execution_count": null,
      "outputs": []
    },
    {
      "cell_type": "code",
      "source": [
        "type(dic_1)"
      ],
      "metadata": {
        "id": "FacVHPBuqsVd",
        "colab": {
          "base_uri": "https://localhost:8080/"
        },
        "outputId": "d298088b-d827-42e3-e0c8-7af850f5939a"
      },
      "execution_count": null,
      "outputs": [
        {
          "output_type": "execute_result",
          "data": {
            "text/plain": [
              "dict"
            ]
          },
          "metadata": {},
          "execution_count": 60
        }
      ]
    },
    {
      "cell_type": "code",
      "source": [
        "print(dic_1)"
      ],
      "metadata": {
        "id": "psHWPEdSqwKr",
        "colab": {
          "base_uri": "https://localhost:8080/"
        },
        "outputId": "0ae2e459-d848-4ee0-a3e0-b0f6c7ad9c5d"
      },
      "execution_count": null,
      "outputs": [
        {
          "output_type": "stream",
          "name": "stdout",
          "text": [
            "{'제조사': '화이자/바이오엔텍', '플랫폼': 'mRNA 백신 (핵산 백신)', '연령': '만 16세 이상'}\n"
          ]
        }
      ]
    },
    {
      "cell_type": "code",
      "source": [
        "dic_1"
      ],
      "metadata": {
        "id": "ECj1sfImqyPQ",
        "colab": {
          "base_uri": "https://localhost:8080/"
        },
        "outputId": "39f559e5-5723-43a6-a01d-93c0a021148c"
      },
      "execution_count": null,
      "outputs": [
        {
          "output_type": "execute_result",
          "data": {
            "text/plain": [
              "{'연령': '만 16세 이상', '제조사': '화이자/바이오엔텍', '플랫폼': 'mRNA 백신 (핵산 백신)'}"
            ]
          },
          "metadata": {},
          "execution_count": 62
        }
      ]
    },
    {
      "cell_type": "markdown",
      "source": [
        "input() 형변환"
      ],
      "metadata": {
        "id": "TuVk7VuEQqqq"
      }
    },
    {
      "cell_type": "code",
      "source": [
        "#'123' 문자열을 숫자로 바꾸기\n",
        "int('123')"
      ],
      "metadata": {
        "id": "WBOB9N9jQpOY"
      },
      "execution_count": null,
      "outputs": []
    },
    {
      "cell_type": "code",
      "source": [
        "#미션5. 2배로 적금만들기\n",
        "\n",
        "##변수 money에 input을 이용해서 입력을 받아봅시다.\n",
        "\n",
        "\n",
        "##money를 int형으로 변환해서, 다시 money에 넣어줍니다.\n",
        "\n",
        "\n",
        "##money를 2배로 불려서 print로 출력을 해봅시다\n"
      ],
      "metadata": {
        "id": "BKHEjXhWRKPv"
      },
      "execution_count": null,
      "outputs": []
    },
    {
      "cell_type": "markdown",
      "source": [
        "시퀀스 정리하기"
      ],
      "metadata": {
        "id": "oEjK17JoTvft"
      }
    },
    {
      "cell_type": "code",
      "source": [
        "#미션6. 기차놀이\n",
        "#현재 기차에는 3명의 승객이 탑승하고 있습니다. \n",
        "train = ['금비','은비','동비']\n",
        "\n",
        "#서울역에 정차했습니다.\n",
        "##승객 '까비'를 맨 뒷칸에 태우세요\n",
        "\n",
        "print('서울역 도착.//',train)\n",
        "\n",
        "#대전역에 정차했습니다.\n",
        "##1등석 승객 '선녀'가 탑습했습니다. 맨앞에 태우세요\n",
        "\n",
        "print('대전역 도착.//', train)\n",
        "\n",
        "#동대구역에 정차했습니다.\n",
        "##승객 '은비'를 하차시켜주세요\n",
        "\n",
        "print('대구역 도착.//', train)\n",
        "\n",
        "#마지막 역인 부산에 정차했습니다.\n",
        "##원할한 하차를 위해 손님들의 자리를 사전순으로 다시 지정해주세요\n",
        "\n",
        "print('부산역 도착.//', train)"
      ],
      "metadata": {
        "id": "mlTL9W3QQKUE"
      },
      "execution_count": null,
      "outputs": []
    },
    {
      "cell_type": "markdown",
      "source": [
        "이론수업 ppt로!"
      ],
      "metadata": {
        "id": "SiDPkbKm070u"
      }
    },
    {
      "cell_type": "markdown",
      "source": [
        "if ... else\n",
        "* a == b\n",
        "* a != b #같지않다\n",
        "* a < b\n",
        "* a <= b\n",
        "* a > b\n",
        "* a >= b"
      ],
      "metadata": {
        "id": "3rYanE70I0xU"
      }
    },
    {
      "cell_type": "code",
      "source": [
        "a = 42\n",
        "b = 100\n",
        "if b < a:\n",
        "  print(\"b 가 a보다 큼\")"
      ],
      "metadata": {
        "id": "xlC1KZBfqz60"
      },
      "execution_count": null,
      "outputs": []
    },
    {
      "cell_type": "code",
      "source": [
        "# Elif - 그렇지않다면\n",
        "a = 41\n",
        "b = 40\n",
        "if b > a:\n",
        "  print(\"b 가 a보다 큼\")\n",
        "elif a == b:\n",
        "  print(\"a 와 b는 같음\")"
      ],
      "metadata": {
        "id": "gEv1naqCJCnO"
      },
      "execution_count": null,
      "outputs": []
    },
    {
      "cell_type": "code",
      "source": [
        "# if .. elif .. else\n",
        "a = 101\n",
        "b = 100\n",
        "if b > a:\n",
        "  print(\"b 가 a보다 큼\")\n",
        "elif a == b:\n",
        "  print(\"a 랑 b 는 같음\")\n",
        "else:\n",
        "  print(\"a 가 b보다 큼\")"
      ],
      "metadata": {
        "id": "2N97FtSIJNb8",
        "colab": {
          "base_uri": "https://localhost:8080/"
        },
        "outputId": "45b7838e-b86e-452f-a721-702381191442"
      },
      "execution_count": null,
      "outputs": [
        {
          "output_type": "stream",
          "name": "stdout",
          "text": [
            "a 가 b보다 큼\n"
          ]
        }
      ]
    },
    {
      "cell_type": "code",
      "source": [
        "#응용.점심메뉴 정하기\n",
        "메뉴 = '또띠아' # 먹고싶은 메뉴\n",
        "중국집 = ['짜장면', '탕수육', '삼선짬뽕']\n",
        "일식집 = ['초밥', '우동', '돈까스']\n",
        "\n",
        "if 메뉴 in 중국집:\n",
        "  print(\"중국집으로 시키자!\")\n",
        "elif 메뉴 in 일식집:\n",
        "  print(\"일식집으로 시키자!\")"
      ],
      "metadata": {
        "id": "2tjkMm6RJXDk"
      },
      "execution_count": null,
      "outputs": []
    },
    {
      "cell_type": "code",
      "source": [
        "# and\n",
        "a = 42\n",
        "b = 100\n",
        "if b > a and b < 200:\n",
        "  print(\"b 가 a보다 크고 200보다는 작음\")"
      ],
      "metadata": {
        "id": "na3LfPp8JdVv",
        "colab": {
          "base_uri": "https://localhost:8080/"
        },
        "outputId": "462f6be6-2251-4d74-ea7f-d7863f4208db"
      },
      "execution_count": null,
      "outputs": [
        {
          "output_type": "stream",
          "name": "stdout",
          "text": [
            "b 가 a보다 크고 200보다는 작음\n"
          ]
        }
      ]
    },
    {
      "cell_type": "code",
      "source": [
        "# or\n",
        "a = 42\n",
        "b = 11\n",
        "if b > a or b > 10:\n",
        "  print(\"b 가 a나 10보다 큼\")"
      ],
      "metadata": {
        "id": "ty5zMomjKQx7",
        "colab": {
          "base_uri": "https://localhost:8080/"
        },
        "outputId": "edd80cdd-587e-4d5a-adb4-417d984c1b6a"
      },
      "execution_count": null,
      "outputs": [
        {
          "output_type": "stream",
          "name": "stdout",
          "text": [
            "b 가 a나 10보다 큼\n"
          ]
        }
      ]
    },
    {
      "cell_type": "code",
      "source": [
        "#if 속의 if\n",
        "a = 10\n",
        "b = 100\n",
        "if b > 10:\n",
        "  print(\"b 가 10보다 큼\")\n",
        "  if b > a:\n",
        "    print(\"b 가 a보다 큼\")\n",
        "  else:\n",
        "    pass"
      ],
      "metadata": {
        "id": "xoaowTzKKUvX",
        "colab": {
          "base_uri": "https://localhost:8080/"
        },
        "outputId": "e9327b9d-d21c-4c35-bda7-2f205e5f8895"
      },
      "execution_count": null,
      "outputs": [
        {
          "output_type": "stream",
          "name": "stdout",
          "text": [
            "b 가 10보다 큼\n",
            "b 가 a보다 큼\n"
          ]
        }
      ]
    },
    {
      "cell_type": "code",
      "source": [
        "#미션6. 홀짝판별기\n",
        "\n",
        "##input()을 이용해서 숫자(정수) 입력을 받고, 변수 num에 이를 넣어봅시다.\n",
        "num = int(input())\n",
        "##if-else 문을 이용해서 만약 입력받은 수가 홀수면 \"(입력받은수) 홀수입니다.\"\n",
        "##짝수면 \"(입력받은수) 짝수입니다\"를 출력해봅시다\n",
        "if num%2 == 0:\n",
        "  print(num,\"짝수입니다\")\n",
        "else:\n",
        "  print(num, \"홀수입니다\")\n",
        "\n",
        "\n"
      ],
      "metadata": {
        "id": "PBj6i_3jc2SO"
      },
      "execution_count": null,
      "outputs": []
    },
    {
      "cell_type": "code",
      "source": [
        "#미션6. 홀짝판별기\n",
        "\n",
        "##input()을 이용해서 숫자(정수) 입력을 받고, 변수 num에 이를 넣어봅시다.\n",
        "num = int(input())\n",
        "##if-else 문을 이용해서 만약 입력받은 수가 홀수면 \"(입력받은수) 홀수입니다.\"\n",
        "##짝수면 \"(입력받은수) 짝수입니다\"를 출력해봅시다\n",
        "if num%2 == 1:\n",
        "  print(num,\"홀수입니다\")\n",
        "else:\n",
        "  print(num, \"짝수입니다\")\n"
      ],
      "metadata": {
        "id": "zbhl31JLBmOq"
      },
      "execution_count": null,
      "outputs": []
    },
    {
      "cell_type": "code",
      "source": [
        "#미션7. 업-다운\n",
        "\n",
        "##변수 answer에 수 1~50 중 하나를 넣어봅시다.\n",
        "answer = 2\n",
        "\n",
        "##input을 통해 숫자형으로 입력을 받아서 변수 submit에 저장해봅시다.\n",
        "submit = int(input())\n",
        "\n",
        "##if-elif-else 문으로 \n",
        "###만약 answer 보다 submit이 더 크면 \"정답보다 더 큰 수를 입력했습니다\"\n",
        "###만약 answer 보다 submit이 더 작으면 \"정답보다 더 작은 수를 입력했습니다\"\n",
        "###만약 answer 보다 submit이 같으면 \"정답!\"을 출력합니다. \n",
        "if answer < submit:\n",
        "  print('정답보다 더 큰 수를 입력했습니다')\n",
        "elif answer == submit:\n",
        "  print('정답!')\n",
        "else:\n",
        "  print(\"정답보다 더 작은 수를 입력했습니다\")"
      ],
      "metadata": {
        "id": "ZM0bNv5xh7mt",
        "colab": {
          "base_uri": "https://localhost:8080/"
        },
        "outputId": "79ad9896-cc0c-4927-acf5-08dead458d5e"
      },
      "execution_count": null,
      "outputs": [
        {
          "output_type": "stream",
          "name": "stdout",
          "text": [
            "5\n",
            "정답보다 더 큰 수를 입력했습니다\n"
          ]
        }
      ]
    },
    {
      "cell_type": "code",
      "source": [
        "##변수 answer에 수 1~50 중 하나를 넣어봅시다.\n",
        "answer = 2\n",
        "\n",
        "##input을 통해 숫자형으로 입력을 받아서 변수 submit에 저장해봅시다.\n",
        "submit = int(input())\n",
        "\n",
        "##if-elif-else 문으로 \n",
        "###만약 answer 보다 submit이 더 크면 \"정답보다 더 큰 수를 입력했습니다\"\n",
        "###만약 answer 보다 submit이 더 작으면 \"정답보다 더 작은 수를 입력했습니다\"\n",
        "###만약 answer 보다 submit이 같으면 \"정답!\"을 출력합니다. \n",
        "if answer < submit:\n",
        "  print('정답보다 더 큰 수를 입력했습니다')\n",
        "elif answer > submit:\n",
        "  print('정답보다 더 작은 수를 입력했습니다')\n",
        "else:\n",
        "  print(\"정답\")\n"
      ],
      "metadata": {
        "id": "HfDcHs2Xh66A",
        "colab": {
          "base_uri": "https://localhost:8080/"
        },
        "outputId": "21fa47be-8707-4afc-fc73-b1a59b4b1ebf"
      },
      "execution_count": null,
      "outputs": [
        {
          "output_type": "stream",
          "name": "stdout",
          "text": [
            "4\n",
            "정답보다 더 큰 수를 입력했습니다\n"
          ]
        }
      ]
    },
    {
      "cell_type": "markdown",
      "source": [
        "이론 수업 ppt로"
      ],
      "metadata": {
        "id": "7LmioAUPQydz"
      }
    },
    {
      "cell_type": "code",
      "source": [
        "#while\n",
        "i = 1\n",
        "while i<11:\n",
        "    print(i)\n",
        "    i=i+1"
      ],
      "metadata": {
        "id": "tx7-QOeF5cSO"
      },
      "execution_count": null,
      "outputs": []
    },
    {
      "cell_type": "code",
      "source": [
        "#while\n",
        "#미션\n",
        "#while을 이용해서 \"i 년째 수감중입니다.\"를 출력해봅시다.\n",
        "#while문이 종료된 후에는, \"감옥에서 석방되었습니다!\"를 출력해봅시다.\n",
        "\n",
        "j=1\n",
        "while j<=10:\n",
        "    print(j, \"년째 수강중입니다\")\n",
        "    j=j+1 #j가 10년을 넘을수있도록\n",
        "print(\"감옥에서 석방되었습니다!\")"
      ],
      "metadata": {
        "id": "4JF_pjom44vx"
      },
      "execution_count": null,
      "outputs": []
    },
    {
      "cell_type": "markdown",
      "source": [
        "for\n",
        "- 순서형 자료를 반복 실행 (iterate)"
      ],
      "metadata": {
        "id": "5IuhsG5SKvVw"
      }
    },
    {
      "cell_type": "code",
      "source": [
        "fruits = [\"apple\", \"banana\", \"peach\", \"fig\"]\n",
        "for x in fruits:\n",
        "  print(x)"
      ],
      "metadata": {
        "id": "1LZv8fPsKcTl"
      },
      "execution_count": null,
      "outputs": []
    },
    {
      "cell_type": "code",
      "source": [
        "for i in [1,2,3,4,5,6,7,8,9,10] :\n",
        "  print(i)"
      ],
      "metadata": {
        "id": "2sn1jVlSXaAA"
      },
      "execution_count": null,
      "outputs": []
    },
    {
      "cell_type": "code",
      "source": [
        "# range()\n",
        "for x in range(1, 11):\n",
        "  print(x)"
      ],
      "metadata": {
        "id": "t53Cc-_BK6sC"
      },
      "execution_count": null,
      "outputs": []
    },
    {
      "cell_type": "code",
      "source": [
        "a = range(1,10)\n",
        "a"
      ],
      "metadata": {
        "id": "_Yf9DZBsRtkf"
      },
      "execution_count": null,
      "outputs": []
    },
    {
      "cell_type": "code",
      "source": [
        "for x in range(1, 10, 3):\n",
        "  print(x)"
      ],
      "metadata": {
        "id": "5Ldfx2prK_4Z"
      },
      "execution_count": null,
      "outputs": []
    },
    {
      "cell_type": "code",
      "source": [
        "for x in range(100, 10, -10):\n",
        "  print(x)"
      ],
      "metadata": {
        "id": "afVLBTENK_7R"
      },
      "execution_count": null,
      "outputs": []
    },
    {
      "cell_type": "markdown",
      "source": [
        "break"
      ],
      "metadata": {
        "id": "MxnhABuZLIGu"
      }
    },
    {
      "cell_type": "code",
      "source": [
        "fruits = [\"apple\", \"banana\", \"peach\", \"fig\"]\n",
        "for x in fruits:\n",
        "  print(x)\n",
        "  if x == \"peach\":\n",
        "    break # 구문 빠져나옴"
      ],
      "metadata": {
        "id": "THobwSq4LGB-"
      },
      "execution_count": null,
      "outputs": []
    },
    {
      "cell_type": "code",
      "source": [
        "fruits = [\"apple\", \"banana\", \"peach\", \"fig\"]\n",
        "for x in fruits:\n",
        "  print(x)\n",
        "  if x == \"peach\":\n",
        "    pass "
      ],
      "metadata": {
        "id": "E2izNtLHLCi-"
      },
      "execution_count": null,
      "outputs": []
    },
    {
      "cell_type": "code",
      "source": [
        "#미션 19단 외우기 #변수i사용해보기\n",
        "\n"
      ],
      "metadata": {
        "id": "psU0VB2DFAzv"
      },
      "execution_count": null,
      "outputs": []
    },
    {
      "cell_type": "code",
      "source": [
        "#미션 19단 외우기 #변수i사용해보기"
      ],
      "metadata": {
        "id": "Q266ZeLdq5t1"
      },
      "execution_count": null,
      "outputs": []
    },
    {
      "cell_type": "markdown",
      "source": [
        "이론 수업 ppt로"
      ],
      "metadata": {
        "id": "RazkPuUuQtZM"
      }
    },
    {
      "cell_type": "code",
      "source": [
        "# 불러오기\n",
        "import numpy as np"
      ],
      "metadata": {
        "id": "mXTFGG9yS-9H"
      },
      "execution_count": null,
      "outputs": []
    },
    {
      "cell_type": "code",
      "source": [
        "# 버전 확인\n",
        "print(np.__version__)"
      ],
      "metadata": {
        "id": "Vpf0iWvrFtZT"
      },
      "execution_count": null,
      "outputs": []
    },
    {
      "cell_type": "code",
      "source": [
        "# numpy array 만들기 - 1차원\n",
        "arr = np.array([1, 2, 3, 4, 5])\n",
        "\n",
        "print(arr)\n",
        "print(type(arr))"
      ],
      "metadata": {
        "id": "kGvJLcGnFyoE"
      },
      "execution_count": null,
      "outputs": []
    },
    {
      "cell_type": "code",
      "source": [
        "# numpy array 만들기 - 1차원\n",
        "arr = np.array([1, 2, 3, 4, 5])\n",
        "\n",
        "print(arr)\n",
        "print(type(arr))"
      ],
      "metadata": {
        "id": "Z6OqXgsZFzSi"
      },
      "execution_count": null,
      "outputs": []
    },
    {
      "cell_type": "code",
      "source": [
        "# 2차원 numpy array \n",
        "\n",
        "arr2 = np.array([[1, 2, 3], [4, 5, 6]])\n",
        "\n",
        "print(arr2)"
      ],
      "metadata": {
        "id": "n4niJ5z6HLxG"
      },
      "execution_count": null,
      "outputs": []
    },
    {
      "cell_type": "code",
      "source": [
        "# 3차원 numpy array \n",
        "arr3 = np.array([[[1, 2, 3], [4, 5, 6]], [[1, 2, 3], [4, 5, 6]]])\n",
        "\n",
        "print(arr3)"
      ],
      "metadata": {
        "id": "kHp4TLVPHN14"
      },
      "execution_count": null,
      "outputs": []
    },
    {
      "cell_type": "code",
      "source": [
        "# array 차원 확인\n",
        "print(arr.ndim)\n",
        "print(arr2.ndim)\n",
        "print(arr3.ndim)"
      ],
      "metadata": {
        "id": "LNv8bwhPHQQ3"
      },
      "execution_count": null,
      "outputs": []
    },
    {
      "cell_type": "code",
      "source": [
        "# 더 높은 차원의 array\n",
        "arr = np.array([1, 2, 3, 4], ndmin=5)\n",
        "\n",
        "print(arr)\n",
        "print(arr.ndim, '차원')"
      ],
      "metadata": {
        "id": "Ywq6qSrZHSl-"
      },
      "execution_count": null,
      "outputs": []
    },
    {
      "cell_type": "code",
      "source": [
        "# 1차원 array에 접근\n",
        "arr = np.array([1, 2, 3, 4])\n",
        "\n",
        "print(arr[0])\n",
        "print(arr[1])\n",
        "print(arr[2]+arr[3])"
      ],
      "metadata": {
        "id": "YlsPa3eoHXB-"
      },
      "execution_count": null,
      "outputs": []
    },
    {
      "cell_type": "code",
      "source": [
        "# 2차원 array에 접근\n",
        "arr = np.array([[1,2,3,4,5], [6,7,8,9,10]])\n",
        "\n",
        "print('첫번째 차원의 두번째 개체 : ', arr[0, 1])"
      ],
      "metadata": {
        "id": "lmaqzRbOHXlC"
      },
      "execution_count": null,
      "outputs": []
    },
    {
      "cell_type": "code",
      "source": [
        "# 3차원 array에 접근\n",
        "arr = np.array([[[1, 2, 3], [4, 5, 6]], [[7, 8, 9], [10, 11, 12]]])\n",
        "\n",
        "print('첫번째 array의 두번째 array의 세번째 개체 : ', arr[0, 1, 2])"
      ],
      "metadata": {
        "id": "wVehduUpHZlC"
      },
      "execution_count": null,
      "outputs": []
    },
    {
      "cell_type": "code",
      "source": [
        "# negative indexing\n",
        "arr = np.array([[1,2,3,4,5], [6,7,8,9,10]])\n",
        "\n",
        "print('2번째 차원의 마지막 개체 : ', arr[1, -1])"
      ],
      "metadata": {
        "id": "YaAplIBMHbuC"
      },
      "execution_count": null,
      "outputs": []
    },
    {
      "cell_type": "code",
      "source": [
        "#쪼개기\n",
        "\n",
        "arr = np.array([1, 2, 3, 4, 5, 6, 7, 8, 9, 10])\n",
        "\n",
        "print(arr[1:5])\n",
        "print(arr[1:5:2])\n",
        "print(arr[:3])\n",
        "print(arr[5:])"
      ],
      "metadata": {
        "id": "WmrzF3C1Hdsn"
      },
      "execution_count": null,
      "outputs": []
    },
    {
      "cell_type": "markdown",
      "source": [
        "이론 수업으로"
      ],
      "metadata": {
        "id": "hr26SBZzUhiv"
      }
    },
    {
      "cell_type": "markdown",
      "source": [
        "pandas"
      ],
      "metadata": {
        "id": "hcXgP5VyURvt"
      }
    },
    {
      "cell_type": "code",
      "source": [
        "import pandas as pd"
      ],
      "metadata": {
        "id": "xULWeVkBUQ2b"
      },
      "execution_count": null,
      "outputs": []
    },
    {
      "cell_type": "code",
      "source": [
        "# pandas 버전 확인\n",
        "print(pd.__version__)"
      ],
      "metadata": {
        "id": "BtGDcDP2Ui4W"
      },
      "execution_count": null,
      "outputs": []
    },
    {
      "cell_type": "code",
      "source": [
        "pd.Series(['코기', '허스키', '푸들'])"
      ],
      "metadata": {
        "id": "iInz8ojZUqfU"
      },
      "execution_count": null,
      "outputs": []
    },
    {
      "cell_type": "code",
      "source": [
        "city_names = pd.Series(['서울', '부산', '대전'])\n",
        "population = pd.Series([9776000, 3429000, 1531000])\n",
        "\n",
        "pd.DataFrame({'도시': city_names, '인구':population})"
      ],
      "metadata": {
        "id": "oNRpWMkzUtrT"
      },
      "execution_count": null,
      "outputs": []
    },
    {
      "cell_type": "code",
      "source": [
        "# dict생성시 Series의 길이가 일치하지 않는 경우, 누락된 값은 특수 NA/NaN 값으로 채워진다.\n",
        "city_names = pd.Series(['서울', '부산', '대전', '세종'])\n",
        "population = pd.Series([9776000, 3429000, 1531000])\n",
        "\n",
        "pd.DataFrame({'도시': city_names, '인구':population})"
      ],
      "metadata": {
        "id": "_0IyrYTGUw7K"
      },
      "execution_count": null,
      "outputs": []
    },
    {
      "cell_type": "code",
      "source": [
        "# 대부분의 경우 전체 파일을 DataFrame으로 로드\n",
        "# 캘리포니아 부동산 데이터를 로드해보자.\n",
        "california_housing_dataframe = pd.read_csv(\"https://dl.google.com/mlcc/mledu-datasets/california_housing_train.csv\")\n"
      ],
      "metadata": {
        "id": "GbMnkd3jU5v1"
      },
      "execution_count": null,
      "outputs": []
    },
    {
      "cell_type": "code",
      "source": [
        "# dataframe에 head()를 사용하여 5개 데이터 샘플 미리보기가 가능\n",
        "california_housing_dataframe.head(15)"
      ],
      "metadata": {
        "id": "2TudUbnSU8yt"
      },
      "execution_count": null,
      "outputs": []
    },
    {
      "cell_type": "code",
      "source": [
        "california_housing_dataframe.describe()"
      ],
      "metadata": {
        "id": "NuZBEc4nV--U"
      },
      "execution_count": null,
      "outputs": []
    },
    {
      "cell_type": "code",
      "source": [
        ""
      ],
      "metadata": {
        "id": "ZHT6Rn7BWD6x"
      },
      "execution_count": null,
      "outputs": []
    },
    {
      "cell_type": "code",
      "source": [
        "cities = pd.DataFrame({'도시': city_names, '인구':population})\n",
        "print(type(cities['도시']))\n",
        "cities['도시']"
      ],
      "metadata": {
        "id": "O-0rKKZpVANN"
      },
      "execution_count": null,
      "outputs": []
    },
    {
      "cell_type": "code",
      "source": [
        "print(type(cities['도시'][1]))\n",
        "cities['도시'][1]"
      ],
      "metadata": {
        "id": "JKpcQlgHVC_Z"
      },
      "execution_count": null,
      "outputs": []
    },
    {
      "cell_type": "code",
      "source": [
        "print(type(cities[0:2]))\n",
        "cities[0:2]"
      ],
      "metadata": {
        "id": "9uUoZgJ1VLuJ"
      },
      "execution_count": null,
      "outputs": []
    },
    {
      "cell_type": "markdown",
      "source": [
        "#pandsa를 활용한 전처리"
      ],
      "metadata": {
        "id": "G8FYK6FXLSf7"
      }
    },
    {
      "cell_type": "code",
      "source": [
        "df = pd.read_csv('https://bit.ly/ds-korean-idol') #국내아이돌평판지수 csv파일을 다운받을 수 잇는 링크"
      ],
      "metadata": {
        "id": "lUCcrJ_BxDLJ"
      },
      "execution_count": null,
      "outputs": []
    },
    {
      "cell_type": "code",
      "source": [
        "df.head()"
      ],
      "metadata": {
        "id": "x5mAu_4rNhp-"
      },
      "execution_count": null,
      "outputs": []
    },
    {
      "cell_type": "code",
      "source": [
        "df.info()"
      ],
      "metadata": {
        "id": "zfb-9LwcN8Zq"
      },
      "execution_count": null,
      "outputs": []
    },
    {
      "cell_type": "code",
      "source": [
        "#loc(열, 행)\n",
        "df.loc[:, '이름'] "
      ],
      "metadata": {
        "id": "sfVru0DjRdEG"
      },
      "execution_count": null,
      "outputs": []
    },
    {
      "cell_type": "code",
      "source": [
        "df.loc[:, ['이름', '생년월일']]"
      ],
      "metadata": {
        "id": "yknsValsSVG_"
      },
      "execution_count": null,
      "outputs": []
    },
    {
      "cell_type": "code",
      "source": [
        "df.loc[:, ['이름':'생년월일']]"
      ],
      "metadata": {
        "id": "vvvCledWP-sQ"
      },
      "execution_count": null,
      "outputs": []
    },
    {
      "cell_type": "code",
      "source": [
        "df.iloc[:, [0, 2]]"
      ],
      "metadata": {
        "id": "6_yHS54PSYnW"
      },
      "execution_count": null,
      "outputs": []
    },
    {
      "cell_type": "code",
      "source": [
        "df.iloc[:, [0:2]]"
      ],
      "metadata": {
        "id": "kl9cPZuhx8Zn"
      },
      "execution_count": null,
      "outputs": []
    },
    {
      "cell_type": "code",
      "source": [
        "df.iloc[1:5, [0, 2]]"
      ],
      "metadata": {
        "id": "Gqfn9X9xSisY"
      },
      "execution_count": null,
      "outputs": []
    },
    {
      "cell_type": "markdown",
      "source": [
        "이론 ppt로!"
      ],
      "metadata": {
        "id": "tSybsVkQRjt_"
      }
    },
    {
      "cell_type": "code",
      "source": [
        "df.groupby('소속사') #groupby: 그룹으로 묶어 보기"
      ],
      "metadata": {
        "id": "9omhb503BDRk"
      },
      "execution_count": null,
      "outputs": []
    },
    {
      "cell_type": "code",
      "source": [
        "df.groupby('소속사').count()"
      ],
      "metadata": {
        "id": "xLBUaYC7CB9y"
      },
      "execution_count": null,
      "outputs": []
    },
    {
      "cell_type": "code",
      "source": [
        "#자동으로 통계가 가능한 열만 출력됩니다.\n",
        "df.groupby('그룹').mean()"
      ],
      "metadata": {
        "id": "RLaUVKCEBpK5"
      },
      "execution_count": null,
      "outputs": []
    },
    {
      "cell_type": "code",
      "source": [
        "df.groupby('성별').sum()"
      ],
      "metadata": {
        "id": "uPzgbwQeCuLb"
      },
      "execution_count": null,
      "outputs": []
    },
    {
      "cell_type": "code",
      "source": [
        "df.groupby('혈액형')['키'].mean()"
      ],
      "metadata": {
        "id": "J3xBxv8wCu9I"
      },
      "execution_count": null,
      "outputs": []
    },
    {
      "cell_type": "code",
      "source": [
        "df_right = df.drop(labels='혈액형', axis=1)\n",
        "df_right.head()"
      ],
      "metadata": {
        "id": "j1DCpeoxLhAN"
      },
      "execution_count": null,
      "outputs": []
    },
    {
      "cell_type": "code",
      "source": [
        "df.head()"
      ],
      "metadata": {
        "id": "i1edn5pHMY6w"
      },
      "execution_count": null,
      "outputs": []
    },
    {
      "cell_type": "code",
      "source": [
        "#concat\n",
        "df2 = pd.read_csv('https://bit.ly/ds-korean-idol-2') #국내 아이돌 연봉, 가족수\n",
        "df2.head()"
      ],
      "metadata": {
        "id": "AVMWnFsUDuJl"
      },
      "execution_count": null,
      "outputs": []
    },
    {
      "cell_type": "code",
      "source": [
        "df2.info()"
      ],
      "metadata": {
        "id": "rNHrz_i8zX_e"
      },
      "execution_count": null,
      "outputs": []
    },
    {
      "cell_type": "code",
      "source": [
        "pd.concat([df, df2], sort=False)\n",
        "#열(row) 기준으로 합치기 concat은 list로 합쳐줍니다. \n",
        "##열기준으로 합칠때는 sort = False로 옵션을 줘서 순서가 섞이지 않도록 해요 -> 세로로 붙여준거"
      ],
      "metadata": {
        "id": "o_H1ROlDGwYZ"
      },
      "execution_count": null,
      "outputs": []
    },
    {
      "cell_type": "code",
      "source": [
        "pd.concat([df, df2], axis=1) #행(column)을 기준으로 합칠때는 axis=1로 옵션을 부여합니다 -> 가로로 붙여준거"
      ],
      "metadata": {
        "id": "eNu_dfsPHjnn"
      },
      "execution_count": null,
      "outputs": []
    },
    {
      "cell_type": "markdown",
      "source": [
        "이론 ppt로!"
      ],
      "metadata": {
        "id": "uYrxKoopRnLb"
      }
    },
    {
      "cell_type": "code",
      "source": [
        "#merge()\n",
        "## 교집합(inner)로 병합하기->모두 키값이 존재하는 경우만 병합합니다.\n",
        "###여기서 키값은 이름으로 정해줬어요-> on \n",
        "import pandas as pd\n",
        "pd.merge(df, df2, on='이름', how='inner')"
      ],
      "metadata": {
        "id": "CtIsUqgSH9co"
      },
      "execution_count": null,
      "outputs": []
    },
    {
      "cell_type": "code",
      "source": [
        "#합집합(outer)로 병합하기\n",
        "###outer 방식은 키값이 존재하면 모두 병합해요\n",
        "pd.merge(df, df2, on='이름', how='outer')"
      ],
      "metadata": {
        "id": "vXyscykEJI1b"
      },
      "execution_count": null,
      "outputs": []
    },
    {
      "cell_type": "code",
      "source": [
        "pd.merge(df, df2, on='이름', how='left')"
      ],
      "metadata": {
        "id": "8Rmw8q8RLE6c"
      },
      "execution_count": null,
      "outputs": []
    },
    {
      "cell_type": "code",
      "source": [
        "pd.merge(df, df2, on='이름', how='right')"
      ],
      "metadata": {
        "id": "I7sCd9PULTLV"
      },
      "execution_count": null,
      "outputs": []
    },
    {
      "cell_type": "code",
      "source": [
        ""
      ],
      "metadata": {
        "id": "98Nuv8TR9KaN"
      },
      "execution_count": null,
      "outputs": []
    },
    {
      "cell_type": "markdown",
      "metadata": {
        "id": "75d5b73f"
      },
      "source": [
        "해결이 어려운 경우 구글링 또는 앞에서 공부한 내용을 참고하셔도 좋습니다."
      ]
    },
    {
      "cell_type": "code",
      "execution_count": null,
      "metadata": {
        "scrolled": true,
        "id": "74b51b5d"
      },
      "outputs": [],
      "source": [
        "import pandas as pd\n",
        "data = {\n",
        "    '영화' : ['명량', '극한직업', '신과함께-죄와 벌', '국제시장', '괴물', '도둑들', '7번방의 선물', '암살'],\n",
        "    '개봉 연도' : [2014, 2019, 2017, 2014, 2006, 2012, 2013, 2015],\n",
        "    '관객 수' : [1761, 1626, 1441, 1426, 1301, 1298, 1281, 1270], # (단위 : 만 명)\n",
        "    '평점' : [8.88, 9.20, 8.73, 9.16, 8.62, 7.64, 8.83, 9.10]\n",
        "}\n",
        "df = pd.DataFrame(data)\n",
        "df"
      ]
    },
    {
      "cell_type": "code",
      "execution_count": null,
      "metadata": {
        "id": "a3b0f5a6"
      },
      "outputs": [],
      "source": [
        "#미션9 전체 데이터 중에서 '영화' 정보만 출력하시오."
      ]
    },
    {
      "cell_type": "markdown",
      "metadata": {
        "id": "2324f807"
      },
      "source": [
        "."
      ]
    },
    {
      "cell_type": "code",
      "execution_count": null,
      "metadata": {
        "id": "18844314"
      },
      "outputs": [],
      "source": [
        "#미션10 전체 데이터 중에서 '영화', '평점' 정보를 출력하시오"
      ]
    },
    {
      "cell_type": "code",
      "execution_count": null,
      "metadata": {
        "id": "9bfe2f1b"
      },
      "outputs": [],
      "source": [
        "#미션11 2015년 이후에 개봉한 영화 데이터 중에서 '영화', '개봉 연도' 정보를 출력하시오.\n"
      ]
    },
    {
      "cell_type": "markdown",
      "metadata": {
        "id": "2cd9a3b9"
      },
      "source": [
        ""
      ]
    },
    {
      "cell_type": "code",
      "execution_count": null,
      "metadata": {
        "id": "04aae189"
      },
      "outputs": [],
      "source": [
        "#미션12 주어진 계산식을 참고하여 '추천 점수' Column 을 추가하시오.\n",
        "##> 추천 점수 = (관객수 * 평점) // 100\n",
        "###예) 첫 번째 영화인 '명량'의 경우,\n",
        "\n"
      ]
    },
    {
      "cell_type": "code",
      "execution_count": null,
      "metadata": {
        "id": "b81f28ba"
      },
      "outputs": [],
      "source": [
        "#미션13 전체 데이터를 '개봉 연도' 기준 내림차순으로 출력하시오.\n"
      ]
    }
  ]
}