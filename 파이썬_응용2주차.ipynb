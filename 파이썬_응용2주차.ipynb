{
  "nbformat": 4,
  "nbformat_minor": 0,
  "metadata": {
    "colab": {
      "name": "파이썬 응용2주차",
      "provenance": [],
      "collapsed_sections": [],
      "authorship_tag": "ABX9TyOE2dPIXUyfYLSkr/YFgDKI",
      "include_colab_link": true
    },
    "kernelspec": {
      "name": "python3",
      "display_name": "Python 3"
    },
    "language_info": {
      "name": "python"
    }
  },
  "cells": [
    {
      "cell_type": "markdown",
      "metadata": {
        "id": "view-in-github",
        "colab_type": "text"
      },
      "source": [
        "<a href=\"https://colab.research.google.com/github/KimEun-Bi/etc../blob/master/%ED%8C%8C%EC%9D%B4%EC%8D%AC_%EC%9D%91%EC%9A%A92%EC%A3%BC%EC%B0%A8.ipynb\" target=\"_parent\"><img src=\"https://colab.research.google.com/assets/colab-badge.svg\" alt=\"Open In Colab\"/></a>"
      ]
    },
    {
      "cell_type": "markdown",
      "source": [
        "#파이썬 응용 2주차"
      ],
      "metadata": {
        "id": "_c-O2cBkS_jW"
      }
    },
    {
      "cell_type": "markdown",
      "source": [
        "통계 맛보기"
      ],
      "metadata": {
        "id": "O2d1-WJbTAvu"
      }
    },
    {
      "cell_type": "code",
      "execution_count": null,
      "metadata": {
        "id": "KFgXeW8A0VEj"
      },
      "outputs": [],
      "source": [
        "#평균\n",
        "# x는 float list\n",
        "def mean(x):\n",
        "  return sum(x) / len(x)"
      ]
    },
    {
      "cell_type": "code",
      "source": [
        "x = [1, 2, 3, 4, 5, 6, 7, 8, 9, 10]\n",
        "mean(x)"
      ],
      "metadata": {
        "id": "JU1t6CB40Vkd",
        "colab": {
          "base_uri": "https://localhost:8080/"
        },
        "outputId": "29212a3a-5f39-4424-c8ec-5cbc5047691a"
      },
      "execution_count": null,
      "outputs": [
        {
          "output_type": "execute_result",
          "data": {
            "text/plain": [
              "5.5"
            ]
          },
          "metadata": {},
          "execution_count": 2
        }
      ]
    },
    {
      "cell_type": "code",
      "source": [
        "import statistics #통계와 관련된 라이브러리\n",
        "#average"
      ],
      "metadata": {
        "id": "_iKeJvv0WD9N"
      },
      "execution_count": null,
      "outputs": []
    },
    {
      "cell_type": "code",
      "source": [
        "# 평균\n",
        "statistics.mean([1, 2, 3, 4, 6])"
      ],
      "metadata": {
        "id": "FnhQ8iX2JL6e",
        "colab": {
          "base_uri": "https://localhost:8080/"
        },
        "outputId": "6bcad6fb-faa5-4877-efbf-89d0a36526c7"
      },
      "execution_count": null,
      "outputs": [
        {
          "output_type": "execute_result",
          "data": {
            "text/plain": [
              "3.2"
            ]
          },
          "metadata": {},
          "execution_count": 5
        }
      ]
    },
    {
      "cell_type": "code",
      "source": [
        "# 중앙값\n",
        "statistics.median([1, 3, 5, 7])"
      ],
      "metadata": {
        "id": "EADKhH3tJQFA",
        "colab": {
          "base_uri": "https://localhost:8080/"
        },
        "outputId": "b8cabb1d-7a30-4255-99a7-ca221acd62c4"
      },
      "execution_count": null,
      "outputs": [
        {
          "output_type": "execute_result",
          "data": {
            "text/plain": [
              "4.0"
            ]
          },
          "metadata": {},
          "execution_count": 6
        }
      ]
    },
    {
      "cell_type": "code",
      "source": [
        "# 분산\n",
        "statistics.variance([1.5, 2.5, 2.5, 2.75, 3.25, 4.75])"
      ],
      "metadata": {
        "id": "tkm48mwlWMXu",
        "colab": {
          "base_uri": "https://localhost:8080/"
        },
        "outputId": "f203cdcb-3df0-4a2d-c429-281878b9c5f0"
      },
      "execution_count": null,
      "outputs": [
        {
          "output_type": "execute_result",
          "data": {
            "text/plain": [
              "1.16875"
            ]
          },
          "metadata": {},
          "execution_count": 7
        }
      ]
    },
    {
      "cell_type": "code",
      "source": [
        "# 표준 편차\n",
        "statistics.stdev([1.5, 2.5, 2.5, 2.75, 3.25, 4.75])"
      ],
      "metadata": {
        "id": "2WjAONLKWUn5",
        "colab": {
          "base_uri": "https://localhost:8080/"
        },
        "outputId": "940eb635-ef23-464d-a1f5-616ff6efdef0"
      },
      "execution_count": null,
      "outputs": [
        {
          "output_type": "execute_result",
          "data": {
            "text/plain": [
              "1.0810874155219827"
            ]
          },
          "metadata": {},
          "execution_count": 8
        }
      ]
    },
    {
      "cell_type": "code",
      "source": [
        "# 최빈값\n",
        "statistics.mode([\"red\", \"blue\", \"blue\", \"red\", \"green\", \"red\", \"red\"])"
      ],
      "metadata": {
        "id": "3USK5d3iHfne",
        "colab": {
          "base_uri": "https://localhost:8080/",
          "height": 35
        },
        "outputId": "5a7e58df-6005-47cb-9a0e-f32428791a56"
      },
      "execution_count": null,
      "outputs": [
        {
          "output_type": "execute_result",
          "data": {
            "text/plain": [
              "'red'"
            ],
            "application/vnd.google.colaboratory.intrinsic+json": {
              "type": "string"
            }
          },
          "metadata": {},
          "execution_count": 9
        }
      ]
    },
    {
      "cell_type": "markdown",
      "source": [
        "실제 데이터로 통계를 이용해보자"
      ],
      "metadata": {
        "id": "wTBgnfQbNQ3h"
      }
    },
    {
      "cell_type": "code",
      "source": [
        ""
      ],
      "metadata": {
        "id": "-YP8aM_q7OBh"
      },
      "execution_count": null,
      "outputs": []
    },
    {
      "cell_type": "code",
      "source": [
        "import pandas as pd"
      ],
      "metadata": {
        "id": "nZ4BYuLrQEyo"
      },
      "execution_count": null,
      "outputs": []
    },
    {
      "cell_type": "code",
      "source": [
        "##판다스! csv 파일을 읽어줘 pd.read_csv --> 필요하실 때 구글링으로 복붙하시면 됩니다\n",
        "df = pd.read_csv('https://bit.ly/ds-korean-idol') #국내아이돌평판지수 csv파일을 다운받을 수 잇는 링크\n"
      ],
      "metadata": {
        "id": "R0kNsx2rP5ok"
      },
      "execution_count": null,
      "outputs": []
    },
    {
      "cell_type": "code",
      "source": [
        "df.head(15)"
      ],
      "metadata": {
        "id": "1fLx9chbQHCa",
        "colab": {
          "base_uri": "https://localhost:8080/",
          "height": 520
        },
        "outputId": "5839ebb7-639b-49d2-9231-0ac4527da991"
      },
      "execution_count": null,
      "outputs": [
        {
          "output_type": "execute_result",
          "data": {
            "text/plain": [
              "      이름     그룹      소속사  성별        생년월일      키 혈액형   브랜드평판지수\n",
              "0     지민  방탄소년단      빅히트  남자  1995-10-13  173.6   A  10523260\n",
              "1   지드래곤     빅뱅       YG  남자  1988-08-18  177.0   A   9916947\n",
              "2   강다니엘    NaN      커넥트  남자  1996-12-10  180.0   A   8273745\n",
              "3      뷔  방탄소년단      빅히트  남자  1995-12-30  178.0  AB   8073501\n",
              "4     화사    마마무      RBW  여자  1995-07-23  162.1   A   7650928\n",
              "5     정국  방탄소년단      빅히트  남자  1997-09-01  178.0   A   5208335\n",
              "6     민현   뉴이스트     플레디스  남자  1995-08-09  182.3   O   4989792\n",
              "7     소연    아이들       큐브  여자  1998-08-26    NaN   B   4668615\n",
              "8      진  방탄소년단      빅히트  남자  1992-12-04  179.2   O   4570308\n",
              "9    하성운     핫샷  스타크루이엔티  남자  1994-03-22  167.1   A   4036489\n",
              "10    태연   소녀시대       SM  여자  1989-03-09    NaN   A   3918661\n",
              "11   차은우   아스트로     판타지오  남자  1997-03-30  183.0   B   3506027\n",
              "12    백호   뉴이스트     플레디스  남자  1995-07-21  175.0  AB   3301654\n",
              "13    JR   뉴이스트     플레디스  남자  1995-06-08  176.0   O   3274137\n",
              "14    슈가  방탄소년단      빅히트  남자  1993-03-09  174.0   O   2925442"
            ],
            "text/html": [
              "\n",
              "  <div id=\"df-b1f9bd7b-e8c1-4559-9d4e-6c22a01e1f9e\">\n",
              "    <div class=\"colab-df-container\">\n",
              "      <div>\n",
              "<style scoped>\n",
              "    .dataframe tbody tr th:only-of-type {\n",
              "        vertical-align: middle;\n",
              "    }\n",
              "\n",
              "    .dataframe tbody tr th {\n",
              "        vertical-align: top;\n",
              "    }\n",
              "\n",
              "    .dataframe thead th {\n",
              "        text-align: right;\n",
              "    }\n",
              "</style>\n",
              "<table border=\"1\" class=\"dataframe\">\n",
              "  <thead>\n",
              "    <tr style=\"text-align: right;\">\n",
              "      <th></th>\n",
              "      <th>이름</th>\n",
              "      <th>그룹</th>\n",
              "      <th>소속사</th>\n",
              "      <th>성별</th>\n",
              "      <th>생년월일</th>\n",
              "      <th>키</th>\n",
              "      <th>혈액형</th>\n",
              "      <th>브랜드평판지수</th>\n",
              "    </tr>\n",
              "  </thead>\n",
              "  <tbody>\n",
              "    <tr>\n",
              "      <th>0</th>\n",
              "      <td>지민</td>\n",
              "      <td>방탄소년단</td>\n",
              "      <td>빅히트</td>\n",
              "      <td>남자</td>\n",
              "      <td>1995-10-13</td>\n",
              "      <td>173.6</td>\n",
              "      <td>A</td>\n",
              "      <td>10523260</td>\n",
              "    </tr>\n",
              "    <tr>\n",
              "      <th>1</th>\n",
              "      <td>지드래곤</td>\n",
              "      <td>빅뱅</td>\n",
              "      <td>YG</td>\n",
              "      <td>남자</td>\n",
              "      <td>1988-08-18</td>\n",
              "      <td>177.0</td>\n",
              "      <td>A</td>\n",
              "      <td>9916947</td>\n",
              "    </tr>\n",
              "    <tr>\n",
              "      <th>2</th>\n",
              "      <td>강다니엘</td>\n",
              "      <td>NaN</td>\n",
              "      <td>커넥트</td>\n",
              "      <td>남자</td>\n",
              "      <td>1996-12-10</td>\n",
              "      <td>180.0</td>\n",
              "      <td>A</td>\n",
              "      <td>8273745</td>\n",
              "    </tr>\n",
              "    <tr>\n",
              "      <th>3</th>\n",
              "      <td>뷔</td>\n",
              "      <td>방탄소년단</td>\n",
              "      <td>빅히트</td>\n",
              "      <td>남자</td>\n",
              "      <td>1995-12-30</td>\n",
              "      <td>178.0</td>\n",
              "      <td>AB</td>\n",
              "      <td>8073501</td>\n",
              "    </tr>\n",
              "    <tr>\n",
              "      <th>4</th>\n",
              "      <td>화사</td>\n",
              "      <td>마마무</td>\n",
              "      <td>RBW</td>\n",
              "      <td>여자</td>\n",
              "      <td>1995-07-23</td>\n",
              "      <td>162.1</td>\n",
              "      <td>A</td>\n",
              "      <td>7650928</td>\n",
              "    </tr>\n",
              "    <tr>\n",
              "      <th>5</th>\n",
              "      <td>정국</td>\n",
              "      <td>방탄소년단</td>\n",
              "      <td>빅히트</td>\n",
              "      <td>남자</td>\n",
              "      <td>1997-09-01</td>\n",
              "      <td>178.0</td>\n",
              "      <td>A</td>\n",
              "      <td>5208335</td>\n",
              "    </tr>\n",
              "    <tr>\n",
              "      <th>6</th>\n",
              "      <td>민현</td>\n",
              "      <td>뉴이스트</td>\n",
              "      <td>플레디스</td>\n",
              "      <td>남자</td>\n",
              "      <td>1995-08-09</td>\n",
              "      <td>182.3</td>\n",
              "      <td>O</td>\n",
              "      <td>4989792</td>\n",
              "    </tr>\n",
              "    <tr>\n",
              "      <th>7</th>\n",
              "      <td>소연</td>\n",
              "      <td>아이들</td>\n",
              "      <td>큐브</td>\n",
              "      <td>여자</td>\n",
              "      <td>1998-08-26</td>\n",
              "      <td>NaN</td>\n",
              "      <td>B</td>\n",
              "      <td>4668615</td>\n",
              "    </tr>\n",
              "    <tr>\n",
              "      <th>8</th>\n",
              "      <td>진</td>\n",
              "      <td>방탄소년단</td>\n",
              "      <td>빅히트</td>\n",
              "      <td>남자</td>\n",
              "      <td>1992-12-04</td>\n",
              "      <td>179.2</td>\n",
              "      <td>O</td>\n",
              "      <td>4570308</td>\n",
              "    </tr>\n",
              "    <tr>\n",
              "      <th>9</th>\n",
              "      <td>하성운</td>\n",
              "      <td>핫샷</td>\n",
              "      <td>스타크루이엔티</td>\n",
              "      <td>남자</td>\n",
              "      <td>1994-03-22</td>\n",
              "      <td>167.1</td>\n",
              "      <td>A</td>\n",
              "      <td>4036489</td>\n",
              "    </tr>\n",
              "    <tr>\n",
              "      <th>10</th>\n",
              "      <td>태연</td>\n",
              "      <td>소녀시대</td>\n",
              "      <td>SM</td>\n",
              "      <td>여자</td>\n",
              "      <td>1989-03-09</td>\n",
              "      <td>NaN</td>\n",
              "      <td>A</td>\n",
              "      <td>3918661</td>\n",
              "    </tr>\n",
              "    <tr>\n",
              "      <th>11</th>\n",
              "      <td>차은우</td>\n",
              "      <td>아스트로</td>\n",
              "      <td>판타지오</td>\n",
              "      <td>남자</td>\n",
              "      <td>1997-03-30</td>\n",
              "      <td>183.0</td>\n",
              "      <td>B</td>\n",
              "      <td>3506027</td>\n",
              "    </tr>\n",
              "    <tr>\n",
              "      <th>12</th>\n",
              "      <td>백호</td>\n",
              "      <td>뉴이스트</td>\n",
              "      <td>플레디스</td>\n",
              "      <td>남자</td>\n",
              "      <td>1995-07-21</td>\n",
              "      <td>175.0</td>\n",
              "      <td>AB</td>\n",
              "      <td>3301654</td>\n",
              "    </tr>\n",
              "    <tr>\n",
              "      <th>13</th>\n",
              "      <td>JR</td>\n",
              "      <td>뉴이스트</td>\n",
              "      <td>플레디스</td>\n",
              "      <td>남자</td>\n",
              "      <td>1995-06-08</td>\n",
              "      <td>176.0</td>\n",
              "      <td>O</td>\n",
              "      <td>3274137</td>\n",
              "    </tr>\n",
              "    <tr>\n",
              "      <th>14</th>\n",
              "      <td>슈가</td>\n",
              "      <td>방탄소년단</td>\n",
              "      <td>빅히트</td>\n",
              "      <td>남자</td>\n",
              "      <td>1993-03-09</td>\n",
              "      <td>174.0</td>\n",
              "      <td>O</td>\n",
              "      <td>2925442</td>\n",
              "    </tr>\n",
              "  </tbody>\n",
              "</table>\n",
              "</div>\n",
              "      <button class=\"colab-df-convert\" onclick=\"convertToInteractive('df-b1f9bd7b-e8c1-4559-9d4e-6c22a01e1f9e')\"\n",
              "              title=\"Convert this dataframe to an interactive table.\"\n",
              "              style=\"display:none;\">\n",
              "        \n",
              "  <svg xmlns=\"http://www.w3.org/2000/svg\" height=\"24px\"viewBox=\"0 0 24 24\"\n",
              "       width=\"24px\">\n",
              "    <path d=\"M0 0h24v24H0V0z\" fill=\"none\"/>\n",
              "    <path d=\"M18.56 5.44l.94 2.06.94-2.06 2.06-.94-2.06-.94-.94-2.06-.94 2.06-2.06.94zm-11 1L8.5 8.5l.94-2.06 2.06-.94-2.06-.94L8.5 2.5l-.94 2.06-2.06.94zm10 10l.94 2.06.94-2.06 2.06-.94-2.06-.94-.94-2.06-.94 2.06-2.06.94z\"/><path d=\"M17.41 7.96l-1.37-1.37c-.4-.4-.92-.59-1.43-.59-.52 0-1.04.2-1.43.59L10.3 9.45l-7.72 7.72c-.78.78-.78 2.05 0 2.83L4 21.41c.39.39.9.59 1.41.59.51 0 1.02-.2 1.41-.59l7.78-7.78 2.81-2.81c.8-.78.8-2.07 0-2.86zM5.41 20L4 18.59l7.72-7.72 1.47 1.35L5.41 20z\"/>\n",
              "  </svg>\n",
              "      </button>\n",
              "      \n",
              "  <style>\n",
              "    .colab-df-container {\n",
              "      display:flex;\n",
              "      flex-wrap:wrap;\n",
              "      gap: 12px;\n",
              "    }\n",
              "\n",
              "    .colab-df-convert {\n",
              "      background-color: #E8F0FE;\n",
              "      border: none;\n",
              "      border-radius: 50%;\n",
              "      cursor: pointer;\n",
              "      display: none;\n",
              "      fill: #1967D2;\n",
              "      height: 32px;\n",
              "      padding: 0 0 0 0;\n",
              "      width: 32px;\n",
              "    }\n",
              "\n",
              "    .colab-df-convert:hover {\n",
              "      background-color: #E2EBFA;\n",
              "      box-shadow: 0px 1px 2px rgba(60, 64, 67, 0.3), 0px 1px 3px 1px rgba(60, 64, 67, 0.15);\n",
              "      fill: #174EA6;\n",
              "    }\n",
              "\n",
              "    [theme=dark] .colab-df-convert {\n",
              "      background-color: #3B4455;\n",
              "      fill: #D2E3FC;\n",
              "    }\n",
              "\n",
              "    [theme=dark] .colab-df-convert:hover {\n",
              "      background-color: #434B5C;\n",
              "      box-shadow: 0px 1px 3px 1px rgba(0, 0, 0, 0.15);\n",
              "      filter: drop-shadow(0px 1px 2px rgba(0, 0, 0, 0.3));\n",
              "      fill: #FFFFFF;\n",
              "    }\n",
              "  </style>\n",
              "\n",
              "      <script>\n",
              "        const buttonEl =\n",
              "          document.querySelector('#df-b1f9bd7b-e8c1-4559-9d4e-6c22a01e1f9e button.colab-df-convert');\n",
              "        buttonEl.style.display =\n",
              "          google.colab.kernel.accessAllowed ? 'block' : 'none';\n",
              "\n",
              "        async function convertToInteractive(key) {\n",
              "          const element = document.querySelector('#df-b1f9bd7b-e8c1-4559-9d4e-6c22a01e1f9e');\n",
              "          const dataTable =\n",
              "            await google.colab.kernel.invokeFunction('convertToInteractive',\n",
              "                                                     [key], {});\n",
              "          if (!dataTable) return;\n",
              "\n",
              "          const docLinkHtml = 'Like what you see? Visit the ' +\n",
              "            '<a target=\"_blank\" href=https://colab.research.google.com/notebooks/data_table.ipynb>data table notebook</a>'\n",
              "            + ' to learn more about interactive tables.';\n",
              "          element.innerHTML = '';\n",
              "          dataTable['output_type'] = 'display_data';\n",
              "          await google.colab.output.renderOutput(dataTable, element);\n",
              "          const docLink = document.createElement('div');\n",
              "          docLink.innerHTML = docLinkHtml;\n",
              "          element.appendChild(docLink);\n",
              "        }\n",
              "      </script>\n",
              "    </div>\n",
              "  </div>\n",
              "  "
            ]
          },
          "metadata": {},
          "execution_count": 12
        }
      ]
    },
    {
      "cell_type": "code",
      "source": [
        "df.describe()"
      ],
      "metadata": {
        "id": "f7sPqHi2QHLP",
        "colab": {
          "base_uri": "https://localhost:8080/",
          "height": 300
        },
        "outputId": "af2f2745-8803-41fb-c12e-05a0e62e963f"
      },
      "execution_count": null,
      "outputs": [
        {
          "output_type": "execute_result",
          "data": {
            "text/plain": [
              "                키       브랜드평판지수\n",
              "count   13.000000  1.500000e+01\n",
              "mean   175.792308  5.655856e+06\n",
              "std      5.820576  2.539068e+06\n",
              "min    162.100000  2.925442e+06\n",
              "25%    174.000000  3.712344e+06\n",
              "50%    177.000000  4.668615e+06\n",
              "75%    179.200000  7.862214e+06\n",
              "max    183.000000  1.052326e+07"
            ],
            "text/html": [
              "\n",
              "  <div id=\"df-8f30794d-6cc4-40c7-a210-5d00f35d8983\">\n",
              "    <div class=\"colab-df-container\">\n",
              "      <div>\n",
              "<style scoped>\n",
              "    .dataframe tbody tr th:only-of-type {\n",
              "        vertical-align: middle;\n",
              "    }\n",
              "\n",
              "    .dataframe tbody tr th {\n",
              "        vertical-align: top;\n",
              "    }\n",
              "\n",
              "    .dataframe thead th {\n",
              "        text-align: right;\n",
              "    }\n",
              "</style>\n",
              "<table border=\"1\" class=\"dataframe\">\n",
              "  <thead>\n",
              "    <tr style=\"text-align: right;\">\n",
              "      <th></th>\n",
              "      <th>키</th>\n",
              "      <th>브랜드평판지수</th>\n",
              "    </tr>\n",
              "  </thead>\n",
              "  <tbody>\n",
              "    <tr>\n",
              "      <th>count</th>\n",
              "      <td>13.000000</td>\n",
              "      <td>1.500000e+01</td>\n",
              "    </tr>\n",
              "    <tr>\n",
              "      <th>mean</th>\n",
              "      <td>175.792308</td>\n",
              "      <td>5.655856e+06</td>\n",
              "    </tr>\n",
              "    <tr>\n",
              "      <th>std</th>\n",
              "      <td>5.820576</td>\n",
              "      <td>2.539068e+06</td>\n",
              "    </tr>\n",
              "    <tr>\n",
              "      <th>min</th>\n",
              "      <td>162.100000</td>\n",
              "      <td>2.925442e+06</td>\n",
              "    </tr>\n",
              "    <tr>\n",
              "      <th>25%</th>\n",
              "      <td>174.000000</td>\n",
              "      <td>3.712344e+06</td>\n",
              "    </tr>\n",
              "    <tr>\n",
              "      <th>50%</th>\n",
              "      <td>177.000000</td>\n",
              "      <td>4.668615e+06</td>\n",
              "    </tr>\n",
              "    <tr>\n",
              "      <th>75%</th>\n",
              "      <td>179.200000</td>\n",
              "      <td>7.862214e+06</td>\n",
              "    </tr>\n",
              "    <tr>\n",
              "      <th>max</th>\n",
              "      <td>183.000000</td>\n",
              "      <td>1.052326e+07</td>\n",
              "    </tr>\n",
              "  </tbody>\n",
              "</table>\n",
              "</div>\n",
              "      <button class=\"colab-df-convert\" onclick=\"convertToInteractive('df-8f30794d-6cc4-40c7-a210-5d00f35d8983')\"\n",
              "              title=\"Convert this dataframe to an interactive table.\"\n",
              "              style=\"display:none;\">\n",
              "        \n",
              "  <svg xmlns=\"http://www.w3.org/2000/svg\" height=\"24px\"viewBox=\"0 0 24 24\"\n",
              "       width=\"24px\">\n",
              "    <path d=\"M0 0h24v24H0V0z\" fill=\"none\"/>\n",
              "    <path d=\"M18.56 5.44l.94 2.06.94-2.06 2.06-.94-2.06-.94-.94-2.06-.94 2.06-2.06.94zm-11 1L8.5 8.5l.94-2.06 2.06-.94-2.06-.94L8.5 2.5l-.94 2.06-2.06.94zm10 10l.94 2.06.94-2.06 2.06-.94-2.06-.94-.94-2.06-.94 2.06-2.06.94z\"/><path d=\"M17.41 7.96l-1.37-1.37c-.4-.4-.92-.59-1.43-.59-.52 0-1.04.2-1.43.59L10.3 9.45l-7.72 7.72c-.78.78-.78 2.05 0 2.83L4 21.41c.39.39.9.59 1.41.59.51 0 1.02-.2 1.41-.59l7.78-7.78 2.81-2.81c.8-.78.8-2.07 0-2.86zM5.41 20L4 18.59l7.72-7.72 1.47 1.35L5.41 20z\"/>\n",
              "  </svg>\n",
              "      </button>\n",
              "      \n",
              "  <style>\n",
              "    .colab-df-container {\n",
              "      display:flex;\n",
              "      flex-wrap:wrap;\n",
              "      gap: 12px;\n",
              "    }\n",
              "\n",
              "    .colab-df-convert {\n",
              "      background-color: #E8F0FE;\n",
              "      border: none;\n",
              "      border-radius: 50%;\n",
              "      cursor: pointer;\n",
              "      display: none;\n",
              "      fill: #1967D2;\n",
              "      height: 32px;\n",
              "      padding: 0 0 0 0;\n",
              "      width: 32px;\n",
              "    }\n",
              "\n",
              "    .colab-df-convert:hover {\n",
              "      background-color: #E2EBFA;\n",
              "      box-shadow: 0px 1px 2px rgba(60, 64, 67, 0.3), 0px 1px 3px 1px rgba(60, 64, 67, 0.15);\n",
              "      fill: #174EA6;\n",
              "    }\n",
              "\n",
              "    [theme=dark] .colab-df-convert {\n",
              "      background-color: #3B4455;\n",
              "      fill: #D2E3FC;\n",
              "    }\n",
              "\n",
              "    [theme=dark] .colab-df-convert:hover {\n",
              "      background-color: #434B5C;\n",
              "      box-shadow: 0px 1px 3px 1px rgba(0, 0, 0, 0.15);\n",
              "      filter: drop-shadow(0px 1px 2px rgba(0, 0, 0, 0.3));\n",
              "      fill: #FFFFFF;\n",
              "    }\n",
              "  </style>\n",
              "\n",
              "      <script>\n",
              "        const buttonEl =\n",
              "          document.querySelector('#df-8f30794d-6cc4-40c7-a210-5d00f35d8983 button.colab-df-convert');\n",
              "        buttonEl.style.display =\n",
              "          google.colab.kernel.accessAllowed ? 'block' : 'none';\n",
              "\n",
              "        async function convertToInteractive(key) {\n",
              "          const element = document.querySelector('#df-8f30794d-6cc4-40c7-a210-5d00f35d8983');\n",
              "          const dataTable =\n",
              "            await google.colab.kernel.invokeFunction('convertToInteractive',\n",
              "                                                     [key], {});\n",
              "          if (!dataTable) return;\n",
              "\n",
              "          const docLinkHtml = 'Like what you see? Visit the ' +\n",
              "            '<a target=\"_blank\" href=https://colab.research.google.com/notebooks/data_table.ipynb>data table notebook</a>'\n",
              "            + ' to learn more about interactive tables.';\n",
              "          element.innerHTML = '';\n",
              "          dataTable['output_type'] = 'display_data';\n",
              "          await google.colab.output.renderOutput(dataTable, element);\n",
              "          const docLink = document.createElement('div');\n",
              "          docLink.innerHTML = docLinkHtml;\n",
              "          element.appendChild(docLink);\n",
              "        }\n",
              "      </script>\n",
              "    </div>\n",
              "  </div>\n",
              "  "
            ]
          },
          "metadata": {},
          "execution_count": 13
        }
      ]
    },
    {
      "cell_type": "code",
      "source": [
        "df.info()"
      ],
      "metadata": {
        "id": "FJKQsMPQ8JsS",
        "colab": {
          "base_uri": "https://localhost:8080/"
        },
        "outputId": "ec341199-b23a-41a5-e066-47a38993f139"
      },
      "execution_count": null,
      "outputs": [
        {
          "output_type": "stream",
          "name": "stdout",
          "text": [
            "<class 'pandas.core.frame.DataFrame'>\n",
            "RangeIndex: 15 entries, 0 to 14\n",
            "Data columns (total 8 columns):\n",
            " #   Column   Non-Null Count  Dtype  \n",
            "---  ------   --------------  -----  \n",
            " 0   이름       15 non-null     object \n",
            " 1   그룹       14 non-null     object \n",
            " 2   소속사      15 non-null     object \n",
            " 3   성별       15 non-null     object \n",
            " 4   생년월일     15 non-null     object \n",
            " 5   키        13 non-null     float64\n",
            " 6   혈액형      15 non-null     object \n",
            " 7   브랜드평판지수  15 non-null     int64  \n",
            "dtypes: float64(1), int64(1), object(6)\n",
            "memory usage: 1.1+ KB\n"
          ]
        }
      ]
    },
    {
      "cell_type": "code",
      "source": [
        "df['키'].min() #최소값"
      ],
      "metadata": {
        "id": "Ygqh42JaQ-2h",
        "colab": {
          "base_uri": "https://localhost:8080/"
        },
        "outputId": "b2c67b6d-cc61-4a1a-98a7-9ecf0e46b771"
      },
      "execution_count": null,
      "outputs": [
        {
          "output_type": "execute_result",
          "data": {
            "text/plain": [
              "162.1"
            ]
          },
          "metadata": {},
          "execution_count": 15
        }
      ]
    },
    {
      "cell_type": "code",
      "source": [
        "df['키'].max() #최댓값"
      ],
      "metadata": {
        "id": "Y__rSbMPRwrc",
        "colab": {
          "base_uri": "https://localhost:8080/"
        },
        "outputId": "15c7c83b-257d-4cf4-e522-f33e8a5ad6e3"
      },
      "execution_count": null,
      "outputs": [
        {
          "output_type": "execute_result",
          "data": {
            "text/plain": [
              "183.0"
            ]
          },
          "metadata": {},
          "execution_count": 16
        }
      ]
    },
    {
      "cell_type": "code",
      "source": [
        "df['키'].sum() #합계"
      ],
      "metadata": {
        "id": "jy4x4Uo-Rzb1",
        "colab": {
          "base_uri": "https://localhost:8080/"
        },
        "outputId": "b34aa2ab-0d1d-46d6-e640-a94b7b650886"
      },
      "execution_count": null,
      "outputs": [
        {
          "output_type": "execute_result",
          "data": {
            "text/plain": [
              "2285.3"
            ]
          },
          "metadata": {},
          "execution_count": 17
        }
      ]
    },
    {
      "cell_type": "code",
      "source": [
        "df['키'].mean() #평균"
      ],
      "metadata": {
        "id": "tTFC68-lR5Tt"
      },
      "execution_count": null,
      "outputs": []
    },
    {
      "cell_type": "code",
      "source": [
        "df['키'].var() #분산"
      ],
      "metadata": {
        "id": "Va5RxQiyR7GH",
        "colab": {
          "base_uri": "https://localhost:8080/"
        },
        "outputId": "1a9de35b-bcb6-424d-85a9-3a426c3ac715"
      },
      "execution_count": null,
      "outputs": [
        {
          "output_type": "execute_result",
          "data": {
            "text/plain": [
              "33.879102564102595"
            ]
          },
          "metadata": {},
          "execution_count": 19
        }
      ]
    },
    {
      "cell_type": "code",
      "source": [
        "df['키'].std()"
      ],
      "metadata": {
        "id": "sP-FlNh5SPBf",
        "colab": {
          "base_uri": "https://localhost:8080/"
        },
        "outputId": "c9c63a83-eacd-40ef-8811-b3d180fd0157"
      },
      "execution_count": null,
      "outputs": [
        {
          "output_type": "execute_result",
          "data": {
            "text/plain": [
              "5.820575793175672"
            ]
          },
          "metadata": {},
          "execution_count": 20
        }
      ]
    },
    {
      "cell_type": "code",
      "source": [
        "df['키'].count() #갯수를 세는 count"
      ],
      "metadata": {
        "id": "x5_zYBnVSVQH",
        "colab": {
          "base_uri": "https://localhost:8080/"
        },
        "outputId": "017ab2f0-9967-4d30-a26c-4cbe35b5813f"
      },
      "execution_count": null,
      "outputs": [
        {
          "output_type": "execute_result",
          "data": {
            "text/plain": [
              "13"
            ]
          },
          "metadata": {},
          "execution_count": 21
        }
      ]
    },
    {
      "cell_type": "code",
      "source": [
        "df['키'].median() #중앙값"
      ],
      "metadata": {
        "id": "hke8Wf2ISqIc",
        "colab": {
          "base_uri": "https://localhost:8080/"
        },
        "outputId": "f179f419-7a3a-4c0c-96c7-ef1410f0ae26"
      },
      "execution_count": null,
      "outputs": [
        {
          "output_type": "execute_result",
          "data": {
            "text/plain": [
              "177.0"
            ]
          },
          "metadata": {},
          "execution_count": 22
        }
      ]
    },
    {
      "cell_type": "code",
      "source": [
        "df['키'].mode() #최빈값"
      ],
      "metadata": {
        "id": "HnldfA7ISufN",
        "colab": {
          "base_uri": "https://localhost:8080/"
        },
        "outputId": "77151056-db3f-4657-c2ac-cde802e76b34"
      },
      "execution_count": null,
      "outputs": [
        {
          "output_type": "execute_result",
          "data": {
            "text/plain": [
              "0    178.0\n",
              "dtype: float64"
            ]
          },
          "metadata": {},
          "execution_count": 23
        }
      ]
    },
    {
      "cell_type": "markdown",
      "source": [
        "이론 ppt로!"
      ],
      "metadata": {
        "id": "IXVwizWmA8Un"
      }
    },
    {
      "cell_type": "markdown",
      "source": [
        "#pandsa를 활용한 전처리"
      ],
      "metadata": {
        "id": "G8FYK6FXLSf7"
      }
    },
    {
      "cell_type": "code",
      "source": [
        "##판다스! csv 파일을 읽어줘 pd.read_csv --> 필요하실 때 구글링으로 복붙하시면 됩니다\n",
        "df = pd.read_csv('https://bit.ly/ds-korean-idol') #국내아이돌평판지수 csv파일을 다운받을 수 잇는 링크"
      ],
      "metadata": {
        "id": "zfb-9LwcN8Zq"
      },
      "execution_count": null,
      "outputs": []
    },
    {
      "cell_type": "code",
      "source": [
        "df.head()"
      ],
      "metadata": {
        "id": "x5mAu_4rNhp-"
      },
      "execution_count": null,
      "outputs": []
    },
    {
      "cell_type": "code",
      "source": [
        "#loc(열, 행)\n",
        "df.loc[:, '이름'] "
      ],
      "metadata": {
        "id": "sfVru0DjRdEG"
      },
      "execution_count": null,
      "outputs": []
    },
    {
      "cell_type": "code",
      "source": [
        "df.loc[:, ['이름', '생년월일']]"
      ],
      "metadata": {
        "id": "yknsValsSVG_"
      },
      "execution_count": null,
      "outputs": []
    },
    {
      "cell_type": "code",
      "source": [
        "df.iloc[:, [0, 2]]"
      ],
      "metadata": {
        "id": "6_yHS54PSYnW"
      },
      "execution_count": null,
      "outputs": []
    },
    {
      "cell_type": "code",
      "source": [
        "df.iloc[1:5, [0, 2]]"
      ],
      "metadata": {
        "id": "Gqfn9X9xSisY"
      },
      "execution_count": null,
      "outputs": []
    },
    {
      "cell_type": "markdown",
      "source": [
        "이론 ppt로!"
      ],
      "metadata": {
        "id": "tSybsVkQRjt_"
      }
    },
    {
      "cell_type": "code",
      "source": [
        "df.groupby('소속사') #groupby: 그룹으로 묶어 보기"
      ],
      "metadata": {
        "id": "9omhb503BDRk"
      },
      "execution_count": null,
      "outputs": []
    },
    {
      "cell_type": "code",
      "source": [
        "df.groupby('소속사').count()"
      ],
      "metadata": {
        "id": "xLBUaYC7CB9y"
      },
      "execution_count": null,
      "outputs": []
    },
    {
      "cell_type": "code",
      "source": [
        "#자동으로 통계가 가능한 열만 출력됩니다.\n",
        "df.groupby('그룹').mean()"
      ],
      "metadata": {
        "id": "RLaUVKCEBpK5"
      },
      "execution_count": null,
      "outputs": []
    },
    {
      "cell_type": "code",
      "source": [
        "df.groupby('성별').sum()"
      ],
      "metadata": {
        "id": "uPzgbwQeCuLb"
      },
      "execution_count": null,
      "outputs": []
    },
    {
      "cell_type": "code",
      "source": [
        "df.groupby('혈액형')['키'].mean()"
      ],
      "metadata": {
        "id": "J3xBxv8wCu9I"
      },
      "execution_count": null,
      "outputs": []
    },
    {
      "cell_type": "code",
      "source": [
        "df_right = df.drop(labels='혈액형', axis=1)\n",
        "df_right.head()"
      ],
      "metadata": {
        "id": "j1DCpeoxLhAN"
      },
      "execution_count": null,
      "outputs": []
    },
    {
      "cell_type": "code",
      "source": [
        "df.head()"
      ],
      "metadata": {
        "id": "i1edn5pHMY6w"
      },
      "execution_count": null,
      "outputs": []
    },
    {
      "cell_type": "code",
      "source": [
        "#concat\n",
        "df2 = pd.read_csv('https://bit.ly/ds-korean-idol-2') #국내 아이돌 연봉, 가족수\n",
        "df2.head()"
      ],
      "metadata": {
        "id": "AVMWnFsUDuJl"
      },
      "execution_count": null,
      "outputs": []
    },
    {
      "cell_type": "code",
      "source": [
        "pd.concat([df, df2], sort=False)\n",
        "#열(row) 기준으로 합치기 concat은 list로 합쳐줍니다. \n",
        "##열기준으로 합칠때는 sort = False로 옵션을 줘서 순서가 섞이지 않도록 해요 -> 세로로 붙여준거"
      ],
      "metadata": {
        "id": "o_H1ROlDGwYZ"
      },
      "execution_count": null,
      "outputs": []
    },
    {
      "cell_type": "code",
      "source": [
        "pd.concat([df, df2], axis=1) #행(column)을 기준으로 합칠때는 axis=1로 옵션을 부여합니다 -> 가로로 붙여준거"
      ],
      "metadata": {
        "id": "eNu_dfsPHjnn"
      },
      "execution_count": null,
      "outputs": []
    },
    {
      "cell_type": "markdown",
      "source": [
        "이론 ppt로!"
      ],
      "metadata": {
        "id": "uYrxKoopRnLb"
      }
    },
    {
      "cell_type": "code",
      "source": [
        "#merge()\n",
        "## 교집합(inner)로 병합하기->모두 키값이 존재하는 경우만 병합합니다.\n",
        "###여기서 키값은 이름으로 정해줬어요-> on \n",
        "import pandas as pd\n",
        "pd.merge(df, df2, on='이름', how='inner')"
      ],
      "metadata": {
        "id": "CtIsUqgSH9co"
      },
      "execution_count": null,
      "outputs": []
    },
    {
      "cell_type": "code",
      "source": [
        "#합집합(outer)로 병합하기\n",
        "###outer 방식은 키값이 존재하면 모두 병합해요\n",
        "pd.merge(df, df2, on='이름', how='outer')"
      ],
      "metadata": {
        "id": "vXyscykEJI1b"
      },
      "execution_count": null,
      "outputs": []
    },
    {
      "cell_type": "code",
      "source": [
        "pd.merge(df, df2, on='이름', how='left')"
      ],
      "metadata": {
        "id": "8Rmw8q8RLE6c"
      },
      "execution_count": null,
      "outputs": []
    },
    {
      "cell_type": "code",
      "source": [
        "pd.merge(df, df2, on='이름', how='right')"
      ],
      "metadata": {
        "id": "I7sCd9PULTLV"
      },
      "execution_count": null,
      "outputs": []
    },
    {
      "cell_type": "markdown",
      "source": [
        "결측치 삭제 및 대체"
      ],
      "metadata": {
        "id": "DB8enla2jlEK"
      }
    },
    {
      "cell_type": "code",
      "source": [
        ""
      ],
      "metadata": {
        "id": "yvTuIJqaCq0X"
      },
      "execution_count": null,
      "outputs": []
    },
    {
      "cell_type": "code",
      "source": [
        "df.info() #결측치가 몇개인지 알려줘! 15개 열중에 키는 13개가 값이 있어요"
      ],
      "metadata": {
        "id": "Fp1WYFQXYpAI"
      },
      "execution_count": null,
      "outputs": []
    },
    {
      "cell_type": "code",
      "source": [
        "df['키']"
      ],
      "metadata": {
        "id": "XEiVRZ2GY9Fk"
      },
      "execution_count": null,
      "outputs": []
    },
    {
      "cell_type": "code",
      "source": [
        "#결측값을 채워주는 fillna()\n",
        "df['키'].fillna(-1)\n"
      ],
      "metadata": {
        "id": "3EZ3HAM7L8Cv"
      },
      "execution_count": null,
      "outputs": []
    },
    {
      "cell_type": "code",
      "source": [
        "df = pd.read_csv('https://bit.ly/ds-korean-idol') #국내아이돌평판지수 csv파일을 다운받을 수 잇는 링크\n"
      ],
      "metadata": {
        "id": "datjhvJST_yX"
      },
      "execution_count": null,
      "outputs": []
    },
    {
      "cell_type": "code",
      "source": [
        "df"
      ],
      "metadata": {
        "id": "uLPz8F8NDGU0"
      },
      "execution_count": null,
      "outputs": []
    },
    {
      "cell_type": "code",
      "source": [
        "df.info()"
      ],
      "metadata": {
        "id": "DAuQD5-5DKuV"
      },
      "execution_count": null,
      "outputs": []
    },
    {
      "cell_type": "code",
      "source": [
        "# Null 값을 mean으로 대체\n",
        "df.fillna(df.mean()) "
      ],
      "metadata": {
        "id": "DaNWmmGpcqcu"
      },
      "execution_count": null,
      "outputs": []
    },
    {
      "cell_type": "code",
      "source": [
        "df = pd.read_csv('https://bit.ly/ds-korean-idol') #국내아이돌평판지수 csv파일"
      ],
      "metadata": {
        "id": "_oCYkZDnc0n0"
      },
      "execution_count": null,
      "outputs": []
    },
    {
      "cell_type": "code",
      "source": [
        "# Null 값을 중앙값으로 대체\n",
        "df.fillna(df.median()) "
      ],
      "metadata": {
        "id": "9NJwf1zQcvlT"
      },
      "execution_count": null,
      "outputs": []
    },
    {
      "cell_type": "code",
      "source": [
        "df = pd.read_csv('https://bit.ly/ds-korean-idol') #국내아이돌평판지수 csv파일"
      ],
      "metadata": {
        "id": "9Nfm7BYyauFv"
      },
      "execution_count": null,
      "outputs": []
    },
    {
      "cell_type": "code",
      "source": [
        "df.info()"
      ],
      "metadata": {
        "id": "zIaKNYJgayd0"
      },
      "execution_count": null,
      "outputs": []
    },
    {
      "cell_type": "code",
      "source": [
        "df.dropna() #빈값이 있는 행을 제거"
      ],
      "metadata": {
        "id": "COPDq5NhamGf"
      },
      "execution_count": null,
      "outputs": []
    },
    {
      "cell_type": "markdown",
      "source": [
        "이론 ppt로!"
      ],
      "metadata": {
        "id": "2I3NSCc1BA0h"
      }
    },
    {
      "cell_type": "markdown",
      "source": [
        "그림을 그려보자"
      ],
      "metadata": {
        "id": "zss4jcU-dfcz"
      }
    },
    {
      "cell_type": "code",
      "source": [
        ""
      ],
      "metadata": {
        "id": "LImkllbM6158"
      },
      "execution_count": null,
      "outputs": []
    },
    {
      "cell_type": "markdown",
      "source": [
        "matplotlib"
      ],
      "metadata": {
        "id": "CYnXLAiLOyr4"
      }
    },
    {
      "cell_type": "code",
      "source": [
        ""
      ],
      "metadata": {
        "id": "BcTdzDc17J37"
      },
      "execution_count": null,
      "outputs": []
    },
    {
      "cell_type": "code",
      "source": [
        "#한글을 쓸경우 오류가 떠요 그러면 폰트 설정을 해주셔야합니다 한글로 폰트를 바꾸는 방법은 구글에서 필요할때 긁어오면 돼요\n",
        "\n",
        "import matplotlib as mpl\n",
        "import matplotlib.pyplot as plt\n",
        " \n",
        "%config InlineBackend.figure_format = 'retina'\n",
        " \n",
        "!apt -qq -y install fonts-nanum\n",
        " \n",
        "import matplotlib.font_manager as fm\n",
        "fontpath = '/usr/share/fonts/truetype/nanum/NanumBarunGothic.ttf'\n",
        "font = fm.FontProperties(fname=fontpath, size=9)\n",
        "plt.rc('font', family='NanumBarunGothic') \n",
        "mpl.font_manager._rebuild()"
      ],
      "metadata": {
        "id": "bf92oWKNwCgO"
      },
      "execution_count": null,
      "outputs": []
    },
    {
      "cell_type": "code",
      "source": [
        "plt.figure(figsize=(3,3))\n",
        "plt.plot([0,1], [0,0], label='한글 설정 중..')\n",
        "plt.legend()\n",
        "plt.show()"
      ],
      "metadata": {
        "id": "NtFDxn82wCgP"
      },
      "execution_count": null,
      "outputs": []
    },
    {
      "cell_type": "code",
      "execution_count": null,
      "metadata": {
        "id": "cf82cadf"
      },
      "outputs": [],
      "source": [
        "#축을 그려보자\n",
        "import matplotlib\n",
        "import matplotlib.pyplot as plt\n"
      ]
    },
    {
      "cell_type": "code",
      "source": [
        "x = [1, 2, 3]\n",
        "y = [2, 4, 8]"
      ],
      "metadata": {
        "id": "3Ib4QUH97NN7"
      },
      "execution_count": null,
      "outputs": []
    },
    {
      "cell_type": "code",
      "source": [
        "plt.plot(x, y)\n",
        "plt.title('꺾은선 그래프') # 개별 폰트 설정 ##옵션을 지정할수있다."
      ],
      "metadata": {
        "id": "j87dqkP_7N1U"
      },
      "execution_count": null,
      "outputs": []
    },
    {
      "cell_type": "code",
      "source": [
        "plt.plot(x, y)\n",
        "plt.xlabel('X축')\n",
        "plt.ylabel('Y축')"
      ],
      "metadata": {
        "id": "DjRQOdc0O9RJ"
      },
      "execution_count": null,
      "outputs": []
    },
    {
      "cell_type": "code",
      "source": [
        "plt.plot(x, y)\n",
        "plt.xlabel('X축', color='red')\n",
        "plt.ylabel('Y축', color='#00aa00')"
      ],
      "metadata": {
        "id": "rb6pmiVRPEHS"
      },
      "execution_count": null,
      "outputs": []
    },
    {
      "cell_type": "code",
      "source": [
        "plt.plot(x, y)\n",
        "plt.xticks([1, 2, 3])\n",
        "plt.yticks([3, 6, 9, 12])\n",
        "plt.show()"
      ],
      "metadata": {
        "id": "gFBXwwuSPEej"
      },
      "execution_count": null,
      "outputs": []
    },
    {
      "cell_type": "code",
      "source": [
        "#범례를 그려보자"
      ],
      "metadata": {
        "id": "08bn-z6HPLMQ"
      },
      "execution_count": null,
      "outputs": []
    },
    {
      "cell_type": "code",
      "execution_count": null,
      "metadata": {
        "id": "e64438a3"
      },
      "outputs": [],
      "source": [
        "import matplotlib.pyplot as plt\n",
        "import matplotlib\n"
      ]
    },
    {
      "cell_type": "code",
      "execution_count": null,
      "metadata": {
        "id": "f21422d4"
      },
      "outputs": [],
      "source": [
        "x = [1, 2, 3]\n",
        "y = [2, 4, 8]"
      ]
    },
    {
      "cell_type": "code",
      "execution_count": null,
      "metadata": {
        "id": "9fc2ba53"
      },
      "outputs": [],
      "source": [
        "plt.plot(x, y, label='실험데이터')\n",
        "plt.legend()"
      ]
    },
    {
      "cell_type": "code",
      "execution_count": null,
      "metadata": {
        "id": "cd5877ae"
      },
      "outputs": [],
      "source": [
        "plt.plot(x, y, label='무슨 데이터')\n",
        "plt.legend(loc='upper right')"
      ]
    },
    {
      "cell_type": "code",
      "execution_count": null,
      "metadata": {
        "id": "1c6dd104"
      },
      "outputs": [],
      "source": [
        "plt.plot(x, y, label='무슨 데이터')\n",
        "plt.legend(loc='lower right')"
      ]
    },
    {
      "cell_type": "code",
      "execution_count": null,
      "metadata": {
        "id": "4cf112b6"
      },
      "outputs": [],
      "source": [
        "plt.plot(x, y, label='범례')\n",
        "plt.legend(loc=(0.7, 0.8)) # x축, y축 (0~1 사이)"
      ]
    },
    {
      "cell_type": "code",
      "execution_count": null,
      "metadata": {
        "id": "297d805f"
      },
      "outputs": [],
      "source": [
        "#라인 굵기 조절도 가능해요\n",
        "import matplotlib.pyplot as plt\n",
        "import matplotlib\n"
      ]
    },
    {
      "cell_type": "code",
      "execution_count": null,
      "metadata": {
        "id": "f6d97229"
      },
      "outputs": [],
      "source": [
        "x = [1, 2, 3]\n",
        "y = [2, 4, 8]"
      ]
    },
    {
      "cell_type": "code",
      "execution_count": null,
      "metadata": {
        "id": "4e7cf78a"
      },
      "outputs": [],
      "source": [
        "plt.plot(x, y)"
      ]
    },
    {
      "cell_type": "code",
      "execution_count": null,
      "metadata": {
        "id": "0da6d37b"
      },
      "outputs": [],
      "source": [
        "plt.plot(x, y, linewidth=5)"
      ]
    },
    {
      "cell_type": "markdown",
      "metadata": {
        "id": "510d01aa"
      },
      "source": [
        "## 마커 (marker)"
      ]
    },
    {
      "cell_type": "code",
      "execution_count": null,
      "metadata": {
        "id": "6cbc08cb"
      },
      "outputs": [],
      "source": [
        "plt.plot(x, y, marker='o')"
      ]
    },
    {
      "cell_type": "code",
      "execution_count": null,
      "metadata": {
        "id": "cb0f9fda"
      },
      "outputs": [],
      "source": [
        "plt.plot(x, y, marker='o', linestyle='None')"
      ]
    },
    {
      "cell_type": "code",
      "execution_count": null,
      "metadata": {
        "id": "dd105ed4"
      },
      "outputs": [],
      "source": [
        "plt.plot(x, y, marker='v')"
      ]
    },
    {
      "cell_type": "code",
      "execution_count": null,
      "metadata": {
        "id": "171e6f44"
      },
      "outputs": [],
      "source": [
        "plt.plot(x, y, marker='v', markersize=10)"
      ]
    },
    {
      "cell_type": "code",
      "execution_count": null,
      "metadata": {
        "id": "fc47281e"
      },
      "outputs": [],
      "source": [
        "plt.plot(x, y, marker='X', markersize=10)"
      ]
    },
    {
      "cell_type": "code",
      "execution_count": null,
      "metadata": {
        "id": "35b3a362"
      },
      "outputs": [],
      "source": [
        "plt.plot(x, y, marker='o', markersize=20, markeredgecolor='red')"
      ]
    },
    {
      "cell_type": "code",
      "execution_count": null,
      "metadata": {
        "id": "dc6ca18f"
      },
      "outputs": [],
      "source": [
        "plt.plot(x, y, marker='o', markersize=20, markeredgecolor='red', markerfacecolor='yellow')"
      ]
    },
    {
      "cell_type": "markdown",
      "metadata": {
        "id": "7be415dd"
      },
      "source": [
        "## 선 스타일"
      ]
    },
    {
      "cell_type": "code",
      "execution_count": null,
      "metadata": {
        "id": "835f375e"
      },
      "outputs": [],
      "source": [
        "plt.plot(x, y, linestyle=':')"
      ]
    },
    {
      "cell_type": "code",
      "execution_count": null,
      "metadata": {
        "id": "25f262d8"
      },
      "outputs": [],
      "source": [
        "plt.plot(x, y, linestyle='--') "
      ]
    },
    {
      "cell_type": "code",
      "execution_count": null,
      "metadata": {
        "scrolled": true,
        "id": "f705835d"
      },
      "outputs": [],
      "source": [
        "plt.plot(x, y, linestyle='-.')"
      ]
    },
    {
      "cell_type": "code",
      "execution_count": null,
      "metadata": {
        "id": "2808d424"
      },
      "outputs": [],
      "source": [
        "plt.plot(x, y, linestyle='-')"
      ]
    },
    {
      "cell_type": "markdown",
      "metadata": {
        "id": "92ec67db"
      },
      "source": [
        "## 색깔"
      ]
    },
    {
      "cell_type": "code",
      "execution_count": null,
      "metadata": {
        "id": "3b285adb"
      },
      "outputs": [],
      "source": [
        "plt.plot(x, y, color='pink')"
      ]
    },
    {
      "cell_type": "code",
      "execution_count": null,
      "metadata": {
        "id": "fed6b3a7"
      },
      "outputs": [],
      "source": [
        "plt.plot(x, y, color='#ff0000')"
      ]
    },
    {
      "cell_type": "code",
      "execution_count": null,
      "metadata": {
        "id": "c3f8e960"
      },
      "outputs": [],
      "source": [
        "plt.plot(x, y, color='b')"
      ]
    },
    {
      "cell_type": "code",
      "execution_count": null,
      "metadata": {
        "id": "9f3f998a"
      },
      "outputs": [],
      "source": [
        "plt.plot(x, y, color='g')"
      ]
    },
    {
      "cell_type": "markdown",
      "metadata": {
        "id": "a382d255"
      },
      "source": [
        "## 포맷"
      ]
    },
    {
      "cell_type": "code",
      "execution_count": null,
      "metadata": {
        "scrolled": true,
        "id": "8d7d5ebc"
      },
      "outputs": [],
      "source": [
        "plt.plot(x, y, 'ro--') # color, marker, linestyle"
      ]
    },
    {
      "cell_type": "code",
      "execution_count": null,
      "metadata": {
        "id": "1fe0bc1f"
      },
      "outputs": [],
      "source": [
        "plt.plot(x, y, 'bv:')"
      ]
    },
    {
      "cell_type": "code",
      "execution_count": null,
      "metadata": {
        "id": "72e97fd7"
      },
      "outputs": [],
      "source": [
        "plt.plot(x, y, 'go')"
      ]
    },
    {
      "cell_type": "code",
      "execution_count": null,
      "metadata": {
        "id": "d938fc6c"
      },
      "outputs": [],
      "source": [
        "plt.plot(x, y, color='g', marker='o', linestyle='None')"
      ]
    },
    {
      "cell_type": "markdown",
      "metadata": {
        "id": "dc4ebd65"
      },
      "source": [
        "## 축약어"
      ]
    },
    {
      "cell_type": "code",
      "execution_count": null,
      "metadata": {
        "id": "8066ef91"
      },
      "outputs": [],
      "source": [
        "plt.plot(x, y, marker='o', mfc='red', ms=10, mec='blue', ls=':')"
      ]
    },
    {
      "cell_type": "markdown",
      "metadata": {
        "id": "92fe479b"
      },
      "source": [
        "## 투명도"
      ]
    },
    {
      "cell_type": "code",
      "execution_count": null,
      "metadata": {
        "id": "8d57aecd"
      },
      "outputs": [],
      "source": [
        "plt.plot(x, y, marker='o', mfc='red', ms=10, alpha=0.5) # alpha : 투명도 (0~1)"
      ]
    },
    {
      "cell_type": "markdown",
      "metadata": {
        "id": "796709c8"
      },
      "source": [
        "## 그래프 크기"
      ]
    },
    {
      "cell_type": "code",
      "execution_count": null,
      "metadata": {
        "id": "ee321a65"
      },
      "outputs": [],
      "source": [
        "plt.figure(figsize=(10, 5))\n",
        "plt.plot(x, y)"
      ]
    },
    {
      "cell_type": "code",
      "execution_count": null,
      "metadata": {
        "id": "0c5ffb27"
      },
      "outputs": [],
      "source": [
        "plt.figure(figsize=(5, 10))\n",
        "plt.plot(x, y)"
      ]
    },
    {
      "cell_type": "code",
      "execution_count": null,
      "metadata": {
        "id": "6656502a"
      },
      "outputs": [],
      "source": [
        "plt.figure(figsize=(10, 5), dpi=150) # dots per inch, 확대\n",
        "plt.plot(x, y)"
      ]
    },
    {
      "cell_type": "markdown",
      "metadata": {
        "id": "aa552937"
      },
      "source": [
        "## 배경색"
      ]
    },
    {
      "cell_type": "code",
      "execution_count": null,
      "metadata": {
        "id": "3d4e9e6a"
      },
      "outputs": [],
      "source": [
        "plt.figure(facecolor='yellow')\n",
        "plt.plot(x, y)"
      ]
    },
    {
      "cell_type": "code",
      "execution_count": null,
      "metadata": {
        "id": "4e1fff27"
      },
      "outputs": [],
      "source": [
        "plt.figure(facecolor='#a1c3ff')\n",
        "plt.plot(x, y)"
      ]
    },
    {
      "cell_type": "code",
      "source": [
        ""
      ],
      "metadata": {
        "id": "CRl2f_agO9ZX"
      },
      "execution_count": null,
      "outputs": []
    },
    {
      "cell_type": "code",
      "source": [
        "#matplotlib\n",
        "import matplotlib.pyplot as plt\n",
        "\n",
        "plt.plot([1, 2, 3, 4])\n",
        "plt.show()"
      ],
      "metadata": {
        "id": "JYMdQ7vudY4V"
      },
      "execution_count": null,
      "outputs": []
    },
    {
      "cell_type": "code",
      "source": [
        ""
      ],
      "metadata": {
        "id": "1ARGd-ORArau"
      },
      "execution_count": null,
      "outputs": []
    },
    {
      "cell_type": "code",
      "execution_count": null,
      "metadata": {
        "id": "8326dbd3"
      },
      "outputs": [],
      "source": [
        "#마크에 숫자를 넣어볼께요\n",
        "import matplotlib.pyplot as plt\n",
        "import matplotlib\n"
      ]
    },
    {
      "cell_type": "code",
      "execution_count": null,
      "metadata": {
        "id": "bd6427a7"
      },
      "outputs": [],
      "source": [
        "x = [1, 2, 3]\n",
        "y = [2, 4, 8]"
      ]
    },
    {
      "cell_type": "code",
      "execution_count": null,
      "metadata": {
        "id": "9db72cd4"
      },
      "outputs": [],
      "source": [
        "plt.plot(x, y)"
      ]
    },
    {
      "cell_type": "code",
      "execution_count": null,
      "metadata": {
        "id": "258fb516"
      },
      "outputs": [],
      "source": [
        "plt.plot(x, y, marker='o')\n",
        "\n",
        "for idx, txt in enumerate(y):\n",
        "    plt.text(x[idx], y[idx] + 0.3, txt, ha='center', color='blue')"
      ]
    },
    {
      "cell_type": "code",
      "source": [
        ""
      ],
      "metadata": {
        "id": "3bmfL1dEArf7"
      },
      "execution_count": null,
      "outputs": []
    },
    {
      "cell_type": "code",
      "source": [
        ""
      ],
      "metadata": {
        "id": "m7LWsk9uArkG"
      },
      "execution_count": null,
      "outputs": []
    },
    {
      "cell_type": "code",
      "source": [
        "##여러 옵션을 줘볼까요??\n",
        "import matplotlib.pyplot as plt\n",
        "import numpy as np\n",
        "\n",
        "# 200ms 간격으로 균일하게 샘플된 시간\n",
        "t = np.arange(0., 5., 0.2)\n",
        "\n",
        "# 빨간 대쉬, 파란 사각형, 녹색 삼각형\n",
        "plt.plot(t, t, 'r--', t, t**2, 'bs', t, t**3, 'g^') #다 기억하기 어렵기 때문에, 구글링으로 찾아야해요!\n",
        "plt.show()"
      ],
      "metadata": {
        "id": "7St1jeUNdmYO"
      },
      "execution_count": null,
      "outputs": []
    },
    {
      "cell_type": "code",
      "source": [
        "import matplotlib.pyplot as plt\n",
        " \n",
        "plt.plot([\"Seoul\",\"Incheon\",\"Pangyo\"], [50,30,40]) #x값, y값\n",
        "plt.xlabel('Region') #x축 이름 지정\n",
        "plt.ylabel('Traffic') #y축 이름 지정\n",
        "plt.title('Regional Traffic Extent')\n",
        "plt.show()"
      ],
      "metadata": {
        "id": "qCR9dKureoZI"
      },
      "execution_count": null,
      "outputs": []
    },
    {
      "cell_type": "code",
      "source": [
        "# 여러개의 범례\n",
        "import matplotlib.pyplot as plt\n",
        " \n",
        "plt.plot([2019,2020,2021], [400,450,460])\n",
        "plt.plot([2019,2020,2021], [340,460,500])\n",
        "plt.xlabel('Year')\n",
        "plt.ylabel('National College Entrance Exam')\n",
        "plt.title('Score Comparison')\n",
        "plt.legend(['a', 'b']) #범례를 만들어 주는 명령어\n",
        "plt.show()"
      ],
      "metadata": {
        "id": "OTdFmhS4eq4k"
      },
      "execution_count": null,
      "outputs": []
    },
    {
      "cell_type": "code",
      "source": [
        "# 바 \n",
        "import matplotlib.pyplot as plt\n",
        " \n",
        "y = [5, 3, 7, 10, 9, 5, 3.5, 8]\n",
        "x = range(len(y))\n",
        "plt.bar(x, y, width=0.7, color=\"blue\")\n",
        "plt.show()"
      ],
      "metadata": {
        "id": "ZN5jT9DEfl4p"
      },
      "execution_count": null,
      "outputs": []
    },
    {
      "cell_type": "code",
      "source": [
        ""
      ],
      "metadata": {
        "id": "vTtd3J8w_-Gd"
      },
      "execution_count": null,
      "outputs": []
    },
    {
      "cell_type": "code",
      "execution_count": null,
      "metadata": {
        "id": "af4efa37"
      },
      "outputs": [],
      "source": [
        "##이번에는 저장을 배워볼께요\n",
        "import matplotlib.pyplot as plt\n",
        "import matplotlib\n"
      ]
    },
    {
      "cell_type": "code",
      "execution_count": null,
      "metadata": {
        "id": "696cf430"
      },
      "outputs": [],
      "source": [
        "x = [1, 2, 3]\n",
        "y = [2, 4, 8]"
      ]
    },
    {
      "cell_type": "code",
      "execution_count": null,
      "metadata": {
        "id": "e5baa416"
      },
      "outputs": [],
      "source": [
        "plt.plot(x, y)\n",
        "\n",
        "plt.savefig('graph.png', dpi=100)"
      ]
    },
    {
      "cell_type": "code",
      "execution_count": null,
      "metadata": {
        "id": "43bc6e19"
      },
      "outputs": [],
      "source": [
        "plt.figure(dpi=200)\n",
        "plt.plot(x, y)\n",
        "plt.savefig('graph_200.png', dpi=100)"
      ]
    },
    {
      "cell_type": "code",
      "source": [
        ""
      ],
      "metadata": {
        "id": "eaZeOAhlBAtX"
      },
      "execution_count": null,
      "outputs": []
    },
    {
      "cell_type": "code",
      "execution_count": null,
      "metadata": {
        "id": "16a5e1b9"
      },
      "outputs": [],
      "source": [
        "#막대그래프 그리기\n",
        "\n",
        "import matplotlib.pyplot as plt\n",
        "import matplotlib\n"
      ]
    },
    {
      "cell_type": "code",
      "execution_count": null,
      "metadata": {
        "scrolled": true,
        "id": "10df05fa"
      },
      "outputs": [],
      "source": [
        "labels = ['강백호', '서태웅', '정대만'] # 이름\n",
        "values = [190, 187, 184] # 키\n",
        "\n",
        "plt.bar(labels, values)"
      ]
    },
    {
      "cell_type": "code",
      "execution_count": null,
      "metadata": {
        "scrolled": true,
        "id": "4f0aadc3"
      },
      "outputs": [],
      "source": [
        "labels = ['강백호', '서태웅', '정대만'] # 이름\n",
        "values = [190, 187, 184] # 키\n",
        "\n",
        "plt.bar(labels, values, color='r')"
      ]
    },
    {
      "cell_type": "code",
      "execution_count": null,
      "metadata": {
        "id": "70d6595e"
      },
      "outputs": [],
      "source": [
        "labels = ['강백호', '서태웅', '정대만'] # 이름\n",
        "values = [190, 187, 184] # 키\n",
        "colors = ['r', 'g', 'b']\n",
        "\n",
        "plt.bar(labels, values, color=colors, alpha=0.5)"
      ]
    },
    {
      "cell_type": "code",
      "execution_count": null,
      "metadata": {
        "id": "844190e0"
      },
      "outputs": [],
      "source": [
        "labels = ['강백호', '서태웅', '정대만'] # 이름\n",
        "values = [190, 187, 184] # 키\n",
        "\n",
        "plt.bar(labels, values)\n",
        "plt.ylim(175, 195)"
      ]
    },
    {
      "cell_type": "code",
      "execution_count": null,
      "metadata": {
        "id": "49fa6d39"
      },
      "outputs": [],
      "source": [
        "plt.bar(labels, values, width=0.5)"
      ]
    },
    {
      "cell_type": "code",
      "execution_count": null,
      "metadata": {
        "id": "cadc4605"
      },
      "outputs": [],
      "source": [
        "plt.bar(labels, values, width=0.3)\n",
        "plt.xticks(rotation=45) # x 축의 이름 데이터 각도를 45 도로 설정\n",
        "plt.yticks(rotation=45) # y 축의 키 데이터 각도를 45도로 설정"
      ]
    },
    {
      "cell_type": "code",
      "execution_count": null,
      "metadata": {
        "id": "156af96c"
      },
      "outputs": [],
      "source": [
        "labels = ['강백호', '서태웅', '정대만'] # 이름\n",
        "values = [190, 187, 184] # 키\n",
        "ticks = ['1번학생', '2번학생', '3번학생']\n",
        "\n",
        "plt.bar(labels, values)\n",
        "plt.xticks(labels, ticks, rotation=90)"
      ]
    },
    {
      "cell_type": "code",
      "source": [
        ""
      ],
      "metadata": {
        "id": "YWaXlwm6BiAj"
      },
      "execution_count": null,
      "outputs": []
    },
    {
      "cell_type": "code",
      "execution_count": null,
      "metadata": {
        "id": "b64cf39d"
      },
      "outputs": [],
      "source": [
        "#다양한 막대그래프 그려보기\n",
        "import matplotlib.pyplot as plt\n",
        "import matplotlib\n"
      ]
    },
    {
      "cell_type": "code",
      "execution_count": null,
      "metadata": {
        "id": "927745d9"
      },
      "outputs": [],
      "source": [
        "labels = ['강백호', '서태웅', '정대만'] # 이름\n",
        "values = [190, 187, 184] # 키\n",
        "\n",
        "plt.barh(labels, values)\n",
        "plt.xlim(175, 195)"
      ]
    },
    {
      "cell_type": "code",
      "execution_count": null,
      "metadata": {
        "id": "a5604dc5"
      },
      "outputs": [],
      "source": [
        "bar = plt.bar(labels, values)\n",
        "bar[0].set_hatch('/') # ////\n",
        "bar[1].set_hatch('x') # xxxx\n",
        "bar[2].set_hatch('..') # ..."
      ]
    },
    {
      "cell_type": "code",
      "execution_count": null,
      "metadata": {
        "id": "d114a26d"
      },
      "outputs": [],
      "source": [
        "bar = plt.bar(labels, values)\n",
        "plt.ylim(175, 195)\n",
        "\n",
        "for idx, rect in enumerate(bar):\n",
        "    plt.text(idx, rect.get_height() + 0.5, values[idx], ha='center', color='blue')"
      ]
    },
    {
      "cell_type": "code",
      "source": [
        ""
      ],
      "metadata": {
        "id": "nsgm4bg1BiC4"
      },
      "execution_count": null,
      "outputs": []
    },
    {
      "cell_type": "code",
      "source": [
        "##maotplot 라이브러리로 워드크라우드 그려보기\n",
        "\n",
        "dynamite_lyrics = \"\"\"\n",
        "'Cause I-I-I'm in the stars tonight\n",
        "So watch me bring the fire and set the night alight\n",
        "Shoes on, get up in the morn'\n",
        "Cup of milk, let's rock and roll\n",
        "King Kong, kick the drum, rolling on like a Rolling Stone\n",
        "Sing song when I'm walking home\n",
        "Jump up to the top, LeBron\n",
        "Ding dong, call me on my phone\n",
        "Ice tea and a game of ping pong, huh\n",
        "This is getting heavy\n",
        "Can you hear the bass boom? I'm ready (woo hoo)\n",
        "Life is sweet as honey\n",
        "Yeah, this beat cha-ching like money, huh\n",
        "Disco overload, I'm into that, I'm good to go\n",
        "I'm diamond, you know I glow up\n",
        "Hey, so let's go\n",
        "'Cause I-I-I'm in the stars tonight\n",
        "So watch me bring the fire and set the night alight (hey)\n",
        "Shining through the city with a little funk and soul\n",
        "So I'ma light it up like dynamite, whoa oh oh\n",
        "Bring a friend, join the crowd\n",
        "Whoever wanna come along\n",
        "Word up, talk the talk\n",
        "Just move like we off the wall\n",
        "Day or night, the sky's alight\n",
        "So we dance to the break of dawn\n",
        "Ladies and gentlemen, I got the medicine\n",
        "So you should keep ya eyes on the ball, huh\n",
        "This is getting heavy\n",
        "Can you hear the bass boom? I'm ready (woo hoo)\n",
        "Life is sweet as honey\n",
        "Yeah, this beat cha-ching like money\n",
        "Disco overload, I'm into that, I'm good to go\n",
        "I'm diamond, you know I glow up\n",
        "Let's go\n",
        "'Cause I-I-I'm in the stars tonight\n",
        "So watch me bring the fire and set the night alight (hey)\n",
        "Shining through the city with a little funk and soul\n",
        "So I'ma light it up like dynamite, whoa oh oh\n",
        "Dy-na-na-na, na-na, na-na-na, na-na-na, life is dynamite\n",
        "Dy-na-na-na, na-na, na-na-na, na-na-na, life is dynamite\n",
        "Shining through the city with a little funk and soul\n",
        "So I'ma light it up like dynamite, whoa oh oh\n",
        "Dy-na-na-na, na-na, na-na, ayy\n",
        "Dy-na-na-na, na-na, na-na, ayy\n",
        "Dy-na-na-na, na-na, na-na, ayy\n",
        "Light it up like dynamite\n",
        "Dy-na-na-na, na-na, na-na, ayy\n",
        "Dy-na-na-na, na-na, na-na, ayy\n",
        "Dy-na-na-na, na-na, na-na, ayy\n",
        "Light it up like dynamite\n",
        "'Cause I-I-I'm in the stars tonight\n",
        "So watch me bring the fire and set the night alight\n",
        "Shining through the city with a little funk and soul\n",
        "So I'ma light it up like dynamite (this is ah)\n",
        "'Cause I-I-I'm in the stars tonight\n",
        "So watch me bring the fire and set the night alight (alight, oh)\n",
        "Shining through the city with a little funk and soul\n",
        "So I'ma light it up like dynamite, whoa (light it up like dynamite)\n",
        "Dy-na-na-na, na-na, na-na-na, na-na-na, life is dynamite\n",
        "Dy-na-na-na, na-na, na-na-na, na-na-na, life is dynamite\n",
        "Shining through the city with a little funk and soul\n",
        "So I'ma light it up like dynamite, whoa oh oh\n",
        "\"\"\"\n"
      ],
      "metadata": {
        "id": "EyDZGpvllJ40"
      },
      "execution_count": null,
      "outputs": []
    },
    {
      "cell_type": "code",
      "source": [
        "#한글을 쓸경우 오류가 떠요 그러면 폰트 설정을 해주셔야합니다 한글로 폰트를 바꾸는 방법은 구글에서 필요할때 긁어오면 돼요\n",
        "\n",
        "import matplotlib as mpl\n",
        "import matplotlib.pyplot as plt\n",
        " \n",
        "%config InlineBackend.figure_format = 'retina'\n",
        " \n",
        "!apt -qq -y install fonts-nanum\n",
        " \n",
        "import matplotlib.font_manager as fm\n",
        "fontpath = '/usr/share/fonts/truetype/nanum/NanumBarunGothic.ttf'\n",
        "font = fm.FontProperties(fname=fontpath, size=9)\n",
        "plt.rc('font', family='NanumBarunGothic') \n",
        "mpl.font_manager._rebuild()"
      ],
      "metadata": {
        "id": "jS6TEObPCc_I"
      },
      "execution_count": null,
      "outputs": []
    },
    {
      "cell_type": "code",
      "source": [
        "plt.figure(figsize=(3,3))\n",
        "plt.plot([0,1], [0,0], label='한글 설정 중..')\n",
        "plt.legend()\n",
        "plt.show()"
      ],
      "metadata": {
        "id": "1dFcKad1CjOx"
      },
      "execution_count": null,
      "outputs": []
    },
    {
      "cell_type": "code",
      "source": [
        "from wordcloud import WordCloud, STOPWORDS\n",
        "\n",
        "stopwords = set(STOPWORDS)\n",
        "stopwords.add(\"na\")\n",
        "stopwords.add(\"oh\")\n",
        "\n",
        "wordcloud = WordCloud(background_color=\"white\", \n",
        "                      random_state = 8,\n",
        "                      normalize_plurals = False,\n",
        "                      width = 600, height= 300,\n",
        "                      max_words = 300,\n",
        "                      stopwords = stopwords)\n",
        "\n",
        "wordcloud.generate(dynamite_lyrics)"
      ],
      "metadata": {
        "id": "6fd0B6CwsD-Z"
      },
      "execution_count": null,
      "outputs": []
    },
    {
      "cell_type": "code",
      "source": [
        "import matplotlib.pyplot as plt\n",
        "# create a figure\n",
        "fig, ax = plt.subplots(1,1, figsize = (10,6))\n",
        "# add interpolation = bilinear to smooth things out\n",
        "plt.imshow(wordcloud, interpolation='bilinear')\n",
        "# and remove the axis\n",
        "plt.axis(\"off\")"
      ],
      "metadata": {
        "id": "6SgoZVq-sEru"
      },
      "execution_count": null,
      "outputs": []
    },
    {
      "cell_type": "markdown",
      "source": [
        "#프로젝트1. 부동산데이터 분석하기(pandas 시각화)"
      ],
      "metadata": {
        "id": "1fdD5qVsZMi7"
      }
    },
    {
      "cell_type": "code",
      "source": [
        "import pandas as pd"
      ],
      "metadata": {
        "id": "8WpKf-l9Zm-r"
      },
      "execution_count": null,
      "outputs": []
    },
    {
      "cell_type": "code",
      "source": [
        "df = pd.read_csv('https://bit.ly/ds-house-price-clean')"
      ],
      "metadata": {
        "id": "G2xZ0ZN-ZngT"
      },
      "execution_count": null,
      "outputs": []
    },
    {
      "cell_type": "code",
      "source": [
        "#선그래프\n",
        "df['분양가'].plot(kind='line')"
      ],
      "metadata": {
        "id": "QBBCmG0SZvKb"
      },
      "execution_count": null,
      "outputs": []
    },
    {
      "cell_type": "code",
      "source": [
        "df"
      ],
      "metadata": {
        "id": "9SqZP8uMInZD"
      },
      "execution_count": null,
      "outputs": []
    },
    {
      "cell_type": "code",
      "source": [
        "#서울만 선그래프 그려보기\n",
        "df_seoul = df.loc[df['지역'] == '서울']"
      ],
      "metadata": {
        "id": "6r9I0XUvapg6"
      },
      "execution_count": null,
      "outputs": []
    },
    {
      "cell_type": "code",
      "source": [
        "df_seoul"
      ],
      "metadata": {
        "id": "-BDTd3osbe57"
      },
      "execution_count": null,
      "outputs": []
    },
    {
      "cell_type": "code",
      "source": [
        "df_seoul_year = df_seoul.groupby('연도').mean()"
      ],
      "metadata": {
        "id": "zE04Ag-ubhvq"
      },
      "execution_count": null,
      "outputs": []
    },
    {
      "cell_type": "code",
      "source": [
        "df_seoul_year"
      ],
      "metadata": {
        "id": "OGjEVR51bi6I"
      },
      "execution_count": null,
      "outputs": []
    },
    {
      "cell_type": "markdown",
      "source": [
        "#프로젝트2. 부동산데이터로 matplot라이브러리 활용해보기"
      ],
      "metadata": {
        "id": "tdXjZVNjCEk4"
      }
    },
    {
      "cell_type": "code",
      "source": [
        "import pandas as pd\n",
        "\n",
        "\n",
        "df = pd.read_csv('https://bit.ly/ds-house-price-clean')"
      ],
      "metadata": {
        "id": "bi9zYXh_CQUT"
      },
      "execution_count": null,
      "outputs": []
    },
    {
      "cell_type": "code",
      "source": [
        "df"
      ],
      "metadata": {
        "id": "zbsytLLEzb6K"
      },
      "execution_count": null,
      "outputs": []
    },
    {
      "cell_type": "code",
      "source": [
        "df_seoul_year"
      ],
      "metadata": {
        "id": "e6llb-lESVbq"
      },
      "execution_count": null,
      "outputs": []
    },
    {
      "cell_type": "code",
      "source": [
        "df_seoul_year['분양가'].plot(kind='line')"
      ],
      "metadata": {
        "id": "zeahM6C0bl3m"
      },
      "execution_count": null,
      "outputs": []
    },
    {
      "cell_type": "code",
      "source": [
        "#바그래프\n",
        "df.groupby('지역')['분양가'].mean()"
      ],
      "metadata": {
        "id": "3Lr0-SYtb1wS"
      },
      "execution_count": null,
      "outputs": []
    },
    {
      "cell_type": "code",
      "source": [
        "df"
      ],
      "metadata": {
        "id": "zwCEgTSFS2be"
      },
      "execution_count": null,
      "outputs": []
    },
    {
      "cell_type": "code",
      "source": [
        "df.groupby('지역')['분양가'].mean().plot(kind='bar')"
      ],
      "metadata": {
        "id": "y2l0ChmJb538"
      },
      "execution_count": null,
      "outputs": []
    },
    {
      "cell_type": "code",
      "source": [
        "df.groupby('지역')['분양가'].mean().plot(kind='barh') #가로로 그려보기"
      ],
      "metadata": {
        "id": "zT-e7EU3b79q"
      },
      "execution_count": null,
      "outputs": []
    },
    {
      "cell_type": "code",
      "source": [
        "#히스토그램: 빈도를 보여줘요\n",
        "df['분양가'].plot(kind='hist')"
      ],
      "metadata": {
        "id": "IUsSIwlgcAk0"
      },
      "execution_count": null,
      "outputs": []
    },
    {
      "cell_type": "code",
      "source": [
        "#커널 밀도 그래프: 얼마나 빽빽한지 밀도를 알려줘요"
      ],
      "metadata": {
        "id": "eRH2MvqCcHEf"
      },
      "execution_count": null,
      "outputs": []
    },
    {
      "cell_type": "code",
      "source": [
        "df['분양가'].plot(kind='kde')"
      ],
      "metadata": {
        "id": "mzTQoNdKcLZm"
      },
      "execution_count": null,
      "outputs": []
    },
    {
      "cell_type": "code",
      "source": [
        "#hexbin 그래프: 고밀도 산점도 그래프\n",
        "df.plot(kind='hexbin', x='분양가', y='연도', gridsize=20)"
      ],
      "metadata": {
        "id": "Qe7yCUuacNre"
      },
      "execution_count": null,
      "outputs": []
    },
    {
      "cell_type": "code",
      "source": [
        "#박스플롯\n",
        "df_seoul = df.loc[df['지역'] == '서울']"
      ],
      "metadata": {
        "id": "dcoMDq03cYqE"
      },
      "execution_count": null,
      "outputs": []
    },
    {
      "cell_type": "code",
      "source": [
        "df_seoul['분양가'].plot(kind='box')"
      ],
      "metadata": {
        "id": "R-ZmmSpJcdkI"
      },
      "execution_count": null,
      "outputs": []
    },
    {
      "cell_type": "code",
      "source": [
        "#area plot: line 그래프 아래 칠해보기\n",
        "df.groupby('월')['분양가'].count().plot(kind='line')"
      ],
      "metadata": {
        "id": "111Nms_jcnSR"
      },
      "execution_count": null,
      "outputs": []
    },
    {
      "cell_type": "code",
      "source": [
        "df.groupby('월')['분양가'].count().plot(kind='area') #area plot"
      ],
      "metadata": {
        "id": "AzWPGTr6czLM"
      },
      "execution_count": null,
      "outputs": []
    },
    {
      "cell_type": "code",
      "source": [
        ""
      ],
      "metadata": {
        "id": "qWTlgjW5c-95"
      },
      "execution_count": null,
      "outputs": []
    },
    {
      "cell_type": "code",
      "source": [
        "#파이그래프: 점유율 = ms 시장점유율 \n",
        "df.groupby('연도')['분양가'].count().plot(kind='pie')"
      ],
      "metadata": {
        "id": "LjAsP_Vkc3h2"
      },
      "execution_count": null,
      "outputs": []
    },
    {
      "cell_type": "code",
      "source": [
        "#점으로 데이터를 그리는 산점도 그래프\n",
        "df.plot(x='월', y='분양가', kind='scatter')"
      ],
      "metadata": {
        "id": "gBWyD_WMc_jk"
      },
      "execution_count": null,
      "outputs": []
    },
    {
      "cell_type": "markdown",
      "source": [
        "#프로젝트2. 엑셀파일로 시각화를 활용한 고객분석하기"
      ],
      "metadata": {
        "id": "XntZ8nqS_aTw"
      }
    },
    {
      "cell_type": "markdown",
      "source": [
        "![image.png](data:image/png;base64,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)"
      ],
      "metadata": {
        "id": "BTMCt-qwYt5R"
      }
    },
    {
      "cell_type": "code",
      "source": [
        "from openpyxl import load_workbook\n",
        "from google.colab import files #csv불러오는 코드는 나중에 필요할 때 검색해서 사용하시면 됩니다.\n",
        "uploaded = files.upload() #캐글에서 다운 받은 데이터파일 이름을 바꿔줘요"
      ],
      "metadata": {
        "id": "HjoZvi-C-bO1"
      },
      "execution_count": null,
      "outputs": []
    },
    {
      "cell_type": "code",
      "source": [
        "#히트맵을 그려보자\n",
        "import matplotlib.pyplot as plt\n",
        "import pandas as pd\n",
        "import seaborn as sns\n",
        "\n",
        "df = pd.read_excel(\"marketing_campaign.xlsx\")\n",
        "\n",
        "single_df = df[df[\"Marital_Status\"] == \"Single\"]\n",
        "\n",
        "print(single_df.head())\n",
        "print(single_df[\"Income\"].mean())\n",
        "print(single_df[\"Income\"].median())\n",
        "print(single_df[\"Income\"].describe())\n",
        "\n",
        "corr = single_df.corr(method=\"pearson\")\n",
        "print(corr)\n",
        "\n",
        "heatmap = sns.heatmap(corr, annot=True, annot_kws={\"size\": 5}, fmt=\".2f\", square=True, cmap=\"Blues\")\n",
        "plt.title(\"Marketing Campaign\", fontsize=20)\n",
        "plt.show()\n"
      ],
      "metadata": {
        "id": "nu5EPlH3_PSp"
      },
      "execution_count": null,
      "outputs": []
    },
    {
      "cell_type": "code",
      "source": [
        "df"
      ],
      "metadata": {
        "id": "uqno9mCXVolt"
      },
      "execution_count": null,
      "outputs": []
    },
    {
      "cell_type": "code",
      "source": [
        ""
      ],
      "metadata": {
        "id": "bZ3gzE9DVosY"
      },
      "execution_count": null,
      "outputs": []
    },
    {
      "cell_type": "markdown",
      "source": [
        "\n",
        "\n",
        "[Seaborn dataset 미리보기](https://github.com/mwaskom/seaborn-data) #seaborn에서 제공하는 데이터를 사용할거예요\n",
        "\n"
      ],
      "metadata": {
        "id": "ev_NwwqHi9FZ"
      }
    },
    {
      "cell_type": "code",
      "source": [
        "#seaborn\n",
        "# Import seaborn\n",
        "import seaborn as sns\n",
        "\n",
        "# Apply the default theme : 종류를 정할께요\n",
        "sns.set_theme()\n",
        "\n",
        "# Load an example dataset\n",
        "tips = sns.load_dataset(\"tips\") # pandas dataframe: tips라는 데이터를 가져옵니다\n",
        "\n",
        "# Create a visualization\n",
        "sns.relplot(\n",
        "    data=tips,\n",
        "    x=\"total_bill\", y=\"tip\", col=\"time\",\n",
        "    hue=\"smoker\", style=\"smoker\", size=\"size\",\n",
        ")\n",
        "#  the relationship between five variables in the tips dataset"
      ],
      "metadata": {
        "id": "wxLg_b5KfqU0"
      },
      "execution_count": null,
      "outputs": []
    },
    {
      "cell_type": "code",
      "source": [
        ""
      ],
      "metadata": {
        "id": "m-U9II5gjw-L"
      },
      "execution_count": null,
      "outputs": []
    },
    {
      "cell_type": "code",
      "source": [
        "#데이터가 어떻게 분포되어 있는지 요약해볼께요\n",
        "sns.displot(data=tips, x=\"total_bill\", col=\"time\", kde=True)"
      ],
      "metadata": {
        "id": "Bd7tb7fTie82"
      },
      "execution_count": null,
      "outputs": []
    },
    {
      "cell_type": "code",
      "source": [
        "sns.catplot(data=tips, kind=\"swarm\", x=\"day\", \n",
        "            y=\"total_bill\", hue=\"smoker\")"
      ],
      "metadata": {
        "id": "NmFN0J1vkAR_"
      },
      "execution_count": null,
      "outputs": []
    },
    {
      "cell_type": "code",
      "source": [
        "#여러 그래프도 그릴 수 있어요\n",
        "\n",
        "penguins = sns.load_dataset(\"penguins\")\n",
        "sns.jointplot(data=penguins, x=\"flipper_length_mm\", \n",
        "              y=\"bill_length_mm\", hue=\"species\")"
      ],
      "metadata": {
        "id": "mkNv2Ds7kyzU"
      },
      "execution_count": null,
      "outputs": []
    },
    {
      "cell_type": "code",
      "source": [
        "# 모든 관계와 각 변수에 대한 결합 및 주변 분포\n",
        "sns.pairplot(data=penguins, hue=\"species\")"
      ],
      "metadata": {
        "id": "7YXQlZKglBLh"
      },
      "execution_count": null,
      "outputs": []
    },
    {
      "cell_type": "code",
      "source": [
        ""
      ],
      "metadata": {
        "id": "Mvz7TOj_eGxT"
      },
      "execution_count": null,
      "outputs": []
    },
    {
      "cell_type": "code",
      "source": [
        ""
      ],
      "metadata": {
        "id": "pxkBEDbBeHJE"
      },
      "execution_count": null,
      "outputs": []
    },
    {
      "cell_type": "code",
      "source": [
        "#캐글 데이터를 활용하여 EDA(탐색적 자료분석)를 해보자\n",
        "import numpy as np\n",
        "import pandas as pd\n",
        "import matplotlib.pyplot as plt\n",
        "import seaborn as sns"
      ],
      "metadata": {
        "id": "8b20gTSUsMEG"
      },
      "execution_count": null,
      "outputs": []
    },
    {
      "cell_type": "code",
      "source": [
        "from google.colab import files #csv불러오는 코드는 나중에 필요할 때 검색해서 사용하시면 됩니다.\n",
        "uploaded = files.upload() #캐글에서 다운 받은 데이터파일 이름을 바꿔줘요"
      ],
      "metadata": {
        "id": "Nv2fvsbmT1qS",
        "colab": {
          "resources": {
            "http://localhost:8080/nbextensions/google.colab/files.js": {
              "data": "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",
              "ok": true,
              "headers": [
                [
                  "content-type",
                  "application/javascript"
                ]
              ],
              "status": 200,
              "status_text": ""
            }
          },
          "base_uri": "https://localhost:8080/",
          "height": 76
        },
        "outputId": "ecffa2a0-33fd-4a6e-a79f-47d02c773e4c"
      },
      "execution_count": null,
      "outputs": [
        {
          "output_type": "display_data",
          "data": {
            "text/plain": [
              "<IPython.core.display.HTML object>"
            ],
            "text/html": [
              "\n",
              "     <input type=\"file\" id=\"files-e850f2ce-eb76-421e-bc96-b4276c68bf01\" name=\"files[]\" multiple disabled\n",
              "        style=\"border:none\" />\n",
              "     <output id=\"result-e850f2ce-eb76-421e-bc96-b4276c68bf01\">\n",
              "      Upload widget is only available when the cell has been executed in the\n",
              "      current browser session. Please rerun this cell to enable.\n",
              "      </output>\n",
              "      <script src=\"/nbextensions/google.colab/files.js\"></script> "
            ]
          },
          "metadata": {}
        },
        {
          "output_type": "stream",
          "name": "stdout",
          "text": [
            "Saving titanic.csv to titanic.csv\n"
          ]
        }
      ]
    },
    {
      "cell_type": "code",
      "source": [
        "import pandas as pd\n",
        "import io\n",
        "\n",
        "titanic = pd.read_csv(io.StringIO(uploaded['titanic.csv'].decode('utf-8'))) #컴퓨터가 이해할 수 있는 언어인 utf-8로 디코딩해줄꺼예요. 사실 이 의미는 문법처럼 그냥 쓰고 잇어요;;\n",
        "titanic"
      ],
      "metadata": {
        "id": "m_m4_FeJT60A",
        "colab": {
          "base_uri": "https://localhost:8080/",
          "height": 537
        },
        "outputId": "a296f56b-3951-422a-a403-9956c63942aa"
      },
      "execution_count": null,
      "outputs": [
        {
          "output_type": "execute_result",
          "data": {
            "text/plain": [
              "     PassengerId  Survived  Pclass  \\\n",
              "0              1         0       3   \n",
              "1              2         1       1   \n",
              "2              3         1       3   \n",
              "3              4         1       1   \n",
              "4              5         0       3   \n",
              "..           ...       ...     ...   \n",
              "886          887         0       2   \n",
              "887          888         1       1   \n",
              "888          889         0       3   \n",
              "889          890         1       1   \n",
              "890          891         0       3   \n",
              "\n",
              "                                                  Name     Sex   Age  SibSp  \\\n",
              "0                              Braund, Mr. Owen Harris    male  22.0      1   \n",
              "1    Cumings, Mrs. John Bradley (Florence Briggs Th...  female  38.0      1   \n",
              "2                               Heikkinen, Miss. Laina  female  26.0      0   \n",
              "3         Futrelle, Mrs. Jacques Heath (Lily May Peel)  female  35.0      1   \n",
              "4                             Allen, Mr. William Henry    male  35.0      0   \n",
              "..                                                 ...     ...   ...    ...   \n",
              "886                              Montvila, Rev. Juozas    male  27.0      0   \n",
              "887                       Graham, Miss. Margaret Edith  female  19.0      0   \n",
              "888           Johnston, Miss. Catherine Helen \"Carrie\"  female   NaN      1   \n",
              "889                              Behr, Mr. Karl Howell    male  26.0      0   \n",
              "890                                Dooley, Mr. Patrick    male  32.0      0   \n",
              "\n",
              "     Parch            Ticket     Fare Cabin Embarked  \n",
              "0        0         A/5 21171   7.2500   NaN        S  \n",
              "1        0          PC 17599  71.2833   C85        C  \n",
              "2        0  STON/O2. 3101282   7.9250   NaN        S  \n",
              "3        0            113803  53.1000  C123        S  \n",
              "4        0            373450   8.0500   NaN        S  \n",
              "..     ...               ...      ...   ...      ...  \n",
              "886      0            211536  13.0000   NaN        S  \n",
              "887      0            112053  30.0000   B42        S  \n",
              "888      2        W./C. 6607  23.4500   NaN        S  \n",
              "889      0            111369  30.0000  C148        C  \n",
              "890      0            370376   7.7500   NaN        Q  \n",
              "\n",
              "[891 rows x 12 columns]"
            ],
            "text/html": [
              "\n",
              "  <div id=\"df-1ca7ab3e-ecdf-4830-8a72-9e6b8151cdcf\">\n",
              "    <div class=\"colab-df-container\">\n",
              "      <div>\n",
              "<style scoped>\n",
              "    .dataframe tbody tr th:only-of-type {\n",
              "        vertical-align: middle;\n",
              "    }\n",
              "\n",
              "    .dataframe tbody tr th {\n",
              "        vertical-align: top;\n",
              "    }\n",
              "\n",
              "    .dataframe thead th {\n",
              "        text-align: right;\n",
              "    }\n",
              "</style>\n",
              "<table border=\"1\" class=\"dataframe\">\n",
              "  <thead>\n",
              "    <tr style=\"text-align: right;\">\n",
              "      <th></th>\n",
              "      <th>PassengerId</th>\n",
              "      <th>Survived</th>\n",
              "      <th>Pclass</th>\n",
              "      <th>Name</th>\n",
              "      <th>Sex</th>\n",
              "      <th>Age</th>\n",
              "      <th>SibSp</th>\n",
              "      <th>Parch</th>\n",
              "      <th>Ticket</th>\n",
              "      <th>Fare</th>\n",
              "      <th>Cabin</th>\n",
              "      <th>Embarked</th>\n",
              "    </tr>\n",
              "  </thead>\n",
              "  <tbody>\n",
              "    <tr>\n",
              "      <th>0</th>\n",
              "      <td>1</td>\n",
              "      <td>0</td>\n",
              "      <td>3</td>\n",
              "      <td>Braund, Mr. Owen Harris</td>\n",
              "      <td>male</td>\n",
              "      <td>22.0</td>\n",
              "      <td>1</td>\n",
              "      <td>0</td>\n",
              "      <td>A/5 21171</td>\n",
              "      <td>7.2500</td>\n",
              "      <td>NaN</td>\n",
              "      <td>S</td>\n",
              "    </tr>\n",
              "    <tr>\n",
              "      <th>1</th>\n",
              "      <td>2</td>\n",
              "      <td>1</td>\n",
              "      <td>1</td>\n",
              "      <td>Cumings, Mrs. John Bradley (Florence Briggs Th...</td>\n",
              "      <td>female</td>\n",
              "      <td>38.0</td>\n",
              "      <td>1</td>\n",
              "      <td>0</td>\n",
              "      <td>PC 17599</td>\n",
              "      <td>71.2833</td>\n",
              "      <td>C85</td>\n",
              "      <td>C</td>\n",
              "    </tr>\n",
              "    <tr>\n",
              "      <th>2</th>\n",
              "      <td>3</td>\n",
              "      <td>1</td>\n",
              "      <td>3</td>\n",
              "      <td>Heikkinen, Miss. Laina</td>\n",
              "      <td>female</td>\n",
              "      <td>26.0</td>\n",
              "      <td>0</td>\n",
              "      <td>0</td>\n",
              "      <td>STON/O2. 3101282</td>\n",
              "      <td>7.9250</td>\n",
              "      <td>NaN</td>\n",
              "      <td>S</td>\n",
              "    </tr>\n",
              "    <tr>\n",
              "      <th>3</th>\n",
              "      <td>4</td>\n",
              "      <td>1</td>\n",
              "      <td>1</td>\n",
              "      <td>Futrelle, Mrs. Jacques Heath (Lily May Peel)</td>\n",
              "      <td>female</td>\n",
              "      <td>35.0</td>\n",
              "      <td>1</td>\n",
              "      <td>0</td>\n",
              "      <td>113803</td>\n",
              "      <td>53.1000</td>\n",
              "      <td>C123</td>\n",
              "      <td>S</td>\n",
              "    </tr>\n",
              "    <tr>\n",
              "      <th>4</th>\n",
              "      <td>5</td>\n",
              "      <td>0</td>\n",
              "      <td>3</td>\n",
              "      <td>Allen, Mr. William Henry</td>\n",
              "      <td>male</td>\n",
              "      <td>35.0</td>\n",
              "      <td>0</td>\n",
              "      <td>0</td>\n",
              "      <td>373450</td>\n",
              "      <td>8.0500</td>\n",
              "      <td>NaN</td>\n",
              "      <td>S</td>\n",
              "    </tr>\n",
              "    <tr>\n",
              "      <th>...</th>\n",
              "      <td>...</td>\n",
              "      <td>...</td>\n",
              "      <td>...</td>\n",
              "      <td>...</td>\n",
              "      <td>...</td>\n",
              "      <td>...</td>\n",
              "      <td>...</td>\n",
              "      <td>...</td>\n",
              "      <td>...</td>\n",
              "      <td>...</td>\n",
              "      <td>...</td>\n",
              "      <td>...</td>\n",
              "    </tr>\n",
              "    <tr>\n",
              "      <th>886</th>\n",
              "      <td>887</td>\n",
              "      <td>0</td>\n",
              "      <td>2</td>\n",
              "      <td>Montvila, Rev. Juozas</td>\n",
              "      <td>male</td>\n",
              "      <td>27.0</td>\n",
              "      <td>0</td>\n",
              "      <td>0</td>\n",
              "      <td>211536</td>\n",
              "      <td>13.0000</td>\n",
              "      <td>NaN</td>\n",
              "      <td>S</td>\n",
              "    </tr>\n",
              "    <tr>\n",
              "      <th>887</th>\n",
              "      <td>888</td>\n",
              "      <td>1</td>\n",
              "      <td>1</td>\n",
              "      <td>Graham, Miss. Margaret Edith</td>\n",
              "      <td>female</td>\n",
              "      <td>19.0</td>\n",
              "      <td>0</td>\n",
              "      <td>0</td>\n",
              "      <td>112053</td>\n",
              "      <td>30.0000</td>\n",
              "      <td>B42</td>\n",
              "      <td>S</td>\n",
              "    </tr>\n",
              "    <tr>\n",
              "      <th>888</th>\n",
              "      <td>889</td>\n",
              "      <td>0</td>\n",
              "      <td>3</td>\n",
              "      <td>Johnston, Miss. Catherine Helen \"Carrie\"</td>\n",
              "      <td>female</td>\n",
              "      <td>NaN</td>\n",
              "      <td>1</td>\n",
              "      <td>2</td>\n",
              "      <td>W./C. 6607</td>\n",
              "      <td>23.4500</td>\n",
              "      <td>NaN</td>\n",
              "      <td>S</td>\n",
              "    </tr>\n",
              "    <tr>\n",
              "      <th>889</th>\n",
              "      <td>890</td>\n",
              "      <td>1</td>\n",
              "      <td>1</td>\n",
              "      <td>Behr, Mr. Karl Howell</td>\n",
              "      <td>male</td>\n",
              "      <td>26.0</td>\n",
              "      <td>0</td>\n",
              "      <td>0</td>\n",
              "      <td>111369</td>\n",
              "      <td>30.0000</td>\n",
              "      <td>C148</td>\n",
              "      <td>C</td>\n",
              "    </tr>\n",
              "    <tr>\n",
              "      <th>890</th>\n",
              "      <td>891</td>\n",
              "      <td>0</td>\n",
              "      <td>3</td>\n",
              "      <td>Dooley, Mr. Patrick</td>\n",
              "      <td>male</td>\n",
              "      <td>32.0</td>\n",
              "      <td>0</td>\n",
              "      <td>0</td>\n",
              "      <td>370376</td>\n",
              "      <td>7.7500</td>\n",
              "      <td>NaN</td>\n",
              "      <td>Q</td>\n",
              "    </tr>\n",
              "  </tbody>\n",
              "</table>\n",
              "<p>891 rows × 12 columns</p>\n",
              "</div>\n",
              "      <button class=\"colab-df-convert\" onclick=\"convertToInteractive('df-1ca7ab3e-ecdf-4830-8a72-9e6b8151cdcf')\"\n",
              "              title=\"Convert this dataframe to an interactive table.\"\n",
              "              style=\"display:none;\">\n",
              "        \n",
              "  <svg xmlns=\"http://www.w3.org/2000/svg\" height=\"24px\"viewBox=\"0 0 24 24\"\n",
              "       width=\"24px\">\n",
              "    <path d=\"M0 0h24v24H0V0z\" fill=\"none\"/>\n",
              "    <path d=\"M18.56 5.44l.94 2.06.94-2.06 2.06-.94-2.06-.94-.94-2.06-.94 2.06-2.06.94zm-11 1L8.5 8.5l.94-2.06 2.06-.94-2.06-.94L8.5 2.5l-.94 2.06-2.06.94zm10 10l.94 2.06.94-2.06 2.06-.94-2.06-.94-.94-2.06-.94 2.06-2.06.94z\"/><path d=\"M17.41 7.96l-1.37-1.37c-.4-.4-.92-.59-1.43-.59-.52 0-1.04.2-1.43.59L10.3 9.45l-7.72 7.72c-.78.78-.78 2.05 0 2.83L4 21.41c.39.39.9.59 1.41.59.51 0 1.02-.2 1.41-.59l7.78-7.78 2.81-2.81c.8-.78.8-2.07 0-2.86zM5.41 20L4 18.59l7.72-7.72 1.47 1.35L5.41 20z\"/>\n",
              "  </svg>\n",
              "      </button>\n",
              "      \n",
              "  <style>\n",
              "    .colab-df-container {\n",
              "      display:flex;\n",
              "      flex-wrap:wrap;\n",
              "      gap: 12px;\n",
              "    }\n",
              "\n",
              "    .colab-df-convert {\n",
              "      background-color: #E8F0FE;\n",
              "      border: none;\n",
              "      border-radius: 50%;\n",
              "      cursor: pointer;\n",
              "      display: none;\n",
              "      fill: #1967D2;\n",
              "      height: 32px;\n",
              "      padding: 0 0 0 0;\n",
              "      width: 32px;\n",
              "    }\n",
              "\n",
              "    .colab-df-convert:hover {\n",
              "      background-color: #E2EBFA;\n",
              "      box-shadow: 0px 1px 2px rgba(60, 64, 67, 0.3), 0px 1px 3px 1px rgba(60, 64, 67, 0.15);\n",
              "      fill: #174EA6;\n",
              "    }\n",
              "\n",
              "    [theme=dark] .colab-df-convert {\n",
              "      background-color: #3B4455;\n",
              "      fill: #D2E3FC;\n",
              "    }\n",
              "\n",
              "    [theme=dark] .colab-df-convert:hover {\n",
              "      background-color: #434B5C;\n",
              "      box-shadow: 0px 1px 3px 1px rgba(0, 0, 0, 0.15);\n",
              "      filter: drop-shadow(0px 1px 2px rgba(0, 0, 0, 0.3));\n",
              "      fill: #FFFFFF;\n",
              "    }\n",
              "  </style>\n",
              "\n",
              "      <script>\n",
              "        const buttonEl =\n",
              "          document.querySelector('#df-1ca7ab3e-ecdf-4830-8a72-9e6b8151cdcf button.colab-df-convert');\n",
              "        buttonEl.style.display =\n",
              "          google.colab.kernel.accessAllowed ? 'block' : 'none';\n",
              "\n",
              "        async function convertToInteractive(key) {\n",
              "          const element = document.querySelector('#df-1ca7ab3e-ecdf-4830-8a72-9e6b8151cdcf');\n",
              "          const dataTable =\n",
              "            await google.colab.kernel.invokeFunction('convertToInteractive',\n",
              "                                                     [key], {});\n",
              "          if (!dataTable) return;\n",
              "\n",
              "          const docLinkHtml = 'Like what you see? Visit the ' +\n",
              "            '<a target=\"_blank\" href=https://colab.research.google.com/notebooks/data_table.ipynb>data table notebook</a>'\n",
              "            + ' to learn more about interactive tables.';\n",
              "          element.innerHTML = '';\n",
              "          dataTable['output_type'] = 'display_data';\n",
              "          await google.colab.output.renderOutput(dataTable, element);\n",
              "          const docLink = document.createElement('div');\n",
              "          docLink.innerHTML = docLinkHtml;\n",
              "          element.appendChild(docLink);\n",
              "        }\n",
              "      </script>\n",
              "    </div>\n",
              "  </div>\n",
              "  "
            ]
          },
          "metadata": {},
          "execution_count": 3
        }
      ]
    },
    {
      "cell_type": "code",
      "source": [
        "titanic.head()"
      ],
      "metadata": {
        "id": "d0tG44N-UZvJ",
        "colab": {
          "base_uri": "https://localhost:8080/",
          "height": 302
        },
        "outputId": "b36c3e19-0ff3-4532-baea-cc132e252272"
      },
      "execution_count": null,
      "outputs": [
        {
          "output_type": "execute_result",
          "data": {
            "text/plain": [
              "   PassengerId  Survived  Pclass  \\\n",
              "0            1         0       3   \n",
              "1            2         1       1   \n",
              "2            3         1       3   \n",
              "3            4         1       1   \n",
              "4            5         0       3   \n",
              "\n",
              "                                                Name     Sex   Age  SibSp  \\\n",
              "0                            Braund, Mr. Owen Harris    male  22.0      1   \n",
              "1  Cumings, Mrs. John Bradley (Florence Briggs Th...  female  38.0      1   \n",
              "2                             Heikkinen, Miss. Laina  female  26.0      0   \n",
              "3       Futrelle, Mrs. Jacques Heath (Lily May Peel)  female  35.0      1   \n",
              "4                           Allen, Mr. William Henry    male  35.0      0   \n",
              "\n",
              "   Parch            Ticket     Fare Cabin Embarked  \n",
              "0      0         A/5 21171   7.2500   NaN        S  \n",
              "1      0          PC 17599  71.2833   C85        C  \n",
              "2      0  STON/O2. 3101282   7.9250   NaN        S  \n",
              "3      0            113803  53.1000  C123        S  \n",
              "4      0            373450   8.0500   NaN        S  "
            ],
            "text/html": [
              "\n",
              "  <div id=\"df-9f0778e0-f1e9-41be-900a-42624b1a8dd9\">\n",
              "    <div class=\"colab-df-container\">\n",
              "      <div>\n",
              "<style scoped>\n",
              "    .dataframe tbody tr th:only-of-type {\n",
              "        vertical-align: middle;\n",
              "    }\n",
              "\n",
              "    .dataframe tbody tr th {\n",
              "        vertical-align: top;\n",
              "    }\n",
              "\n",
              "    .dataframe thead th {\n",
              "        text-align: right;\n",
              "    }\n",
              "</style>\n",
              "<table border=\"1\" class=\"dataframe\">\n",
              "  <thead>\n",
              "    <tr style=\"text-align: right;\">\n",
              "      <th></th>\n",
              "      <th>PassengerId</th>\n",
              "      <th>Survived</th>\n",
              "      <th>Pclass</th>\n",
              "      <th>Name</th>\n",
              "      <th>Sex</th>\n",
              "      <th>Age</th>\n",
              "      <th>SibSp</th>\n",
              "      <th>Parch</th>\n",
              "      <th>Ticket</th>\n",
              "      <th>Fare</th>\n",
              "      <th>Cabin</th>\n",
              "      <th>Embarked</th>\n",
              "    </tr>\n",
              "  </thead>\n",
              "  <tbody>\n",
              "    <tr>\n",
              "      <th>0</th>\n",
              "      <td>1</td>\n",
              "      <td>0</td>\n",
              "      <td>3</td>\n",
              "      <td>Braund, Mr. Owen Harris</td>\n",
              "      <td>male</td>\n",
              "      <td>22.0</td>\n",
              "      <td>1</td>\n",
              "      <td>0</td>\n",
              "      <td>A/5 21171</td>\n",
              "      <td>7.2500</td>\n",
              "      <td>NaN</td>\n",
              "      <td>S</td>\n",
              "    </tr>\n",
              "    <tr>\n",
              "      <th>1</th>\n",
              "      <td>2</td>\n",
              "      <td>1</td>\n",
              "      <td>1</td>\n",
              "      <td>Cumings, Mrs. John Bradley (Florence Briggs Th...</td>\n",
              "      <td>female</td>\n",
              "      <td>38.0</td>\n",
              "      <td>1</td>\n",
              "      <td>0</td>\n",
              "      <td>PC 17599</td>\n",
              "      <td>71.2833</td>\n",
              "      <td>C85</td>\n",
              "      <td>C</td>\n",
              "    </tr>\n",
              "    <tr>\n",
              "      <th>2</th>\n",
              "      <td>3</td>\n",
              "      <td>1</td>\n",
              "      <td>3</td>\n",
              "      <td>Heikkinen, Miss. Laina</td>\n",
              "      <td>female</td>\n",
              "      <td>26.0</td>\n",
              "      <td>0</td>\n",
              "      <td>0</td>\n",
              "      <td>STON/O2. 3101282</td>\n",
              "      <td>7.9250</td>\n",
              "      <td>NaN</td>\n",
              "      <td>S</td>\n",
              "    </tr>\n",
              "    <tr>\n",
              "      <th>3</th>\n",
              "      <td>4</td>\n",
              "      <td>1</td>\n",
              "      <td>1</td>\n",
              "      <td>Futrelle, Mrs. Jacques Heath (Lily May Peel)</td>\n",
              "      <td>female</td>\n",
              "      <td>35.0</td>\n",
              "      <td>1</td>\n",
              "      <td>0</td>\n",
              "      <td>113803</td>\n",
              "      <td>53.1000</td>\n",
              "      <td>C123</td>\n",
              "      <td>S</td>\n",
              "    </tr>\n",
              "    <tr>\n",
              "      <th>4</th>\n",
              "      <td>5</td>\n",
              "      <td>0</td>\n",
              "      <td>3</td>\n",
              "      <td>Allen, Mr. William Henry</td>\n",
              "      <td>male</td>\n",
              "      <td>35.0</td>\n",
              "      <td>0</td>\n",
              "      <td>0</td>\n",
              "      <td>373450</td>\n",
              "      <td>8.0500</td>\n",
              "      <td>NaN</td>\n",
              "      <td>S</td>\n",
              "    </tr>\n",
              "  </tbody>\n",
              "</table>\n",
              "</div>\n",
              "      <button class=\"colab-df-convert\" onclick=\"convertToInteractive('df-9f0778e0-f1e9-41be-900a-42624b1a8dd9')\"\n",
              "              title=\"Convert this dataframe to an interactive table.\"\n",
              "              style=\"display:none;\">\n",
              "        \n",
              "  <svg xmlns=\"http://www.w3.org/2000/svg\" height=\"24px\"viewBox=\"0 0 24 24\"\n",
              "       width=\"24px\">\n",
              "    <path d=\"M0 0h24v24H0V0z\" fill=\"none\"/>\n",
              "    <path d=\"M18.56 5.44l.94 2.06.94-2.06 2.06-.94-2.06-.94-.94-2.06-.94 2.06-2.06.94zm-11 1L8.5 8.5l.94-2.06 2.06-.94-2.06-.94L8.5 2.5l-.94 2.06-2.06.94zm10 10l.94 2.06.94-2.06 2.06-.94-2.06-.94-.94-2.06-.94 2.06-2.06.94z\"/><path d=\"M17.41 7.96l-1.37-1.37c-.4-.4-.92-.59-1.43-.59-.52 0-1.04.2-1.43.59L10.3 9.45l-7.72 7.72c-.78.78-.78 2.05 0 2.83L4 21.41c.39.39.9.59 1.41.59.51 0 1.02-.2 1.41-.59l7.78-7.78 2.81-2.81c.8-.78.8-2.07 0-2.86zM5.41 20L4 18.59l7.72-7.72 1.47 1.35L5.41 20z\"/>\n",
              "  </svg>\n",
              "      </button>\n",
              "      \n",
              "  <style>\n",
              "    .colab-df-container {\n",
              "      display:flex;\n",
              "      flex-wrap:wrap;\n",
              "      gap: 12px;\n",
              "    }\n",
              "\n",
              "    .colab-df-convert {\n",
              "      background-color: #E8F0FE;\n",
              "      border: none;\n",
              "      border-radius: 50%;\n",
              "      cursor: pointer;\n",
              "      display: none;\n",
              "      fill: #1967D2;\n",
              "      height: 32px;\n",
              "      padding: 0 0 0 0;\n",
              "      width: 32px;\n",
              "    }\n",
              "\n",
              "    .colab-df-convert:hover {\n",
              "      background-color: #E2EBFA;\n",
              "      box-shadow: 0px 1px 2px rgba(60, 64, 67, 0.3), 0px 1px 3px 1px rgba(60, 64, 67, 0.15);\n",
              "      fill: #174EA6;\n",
              "    }\n",
              "\n",
              "    [theme=dark] .colab-df-convert {\n",
              "      background-color: #3B4455;\n",
              "      fill: #D2E3FC;\n",
              "    }\n",
              "\n",
              "    [theme=dark] .colab-df-convert:hover {\n",
              "      background-color: #434B5C;\n",
              "      box-shadow: 0px 1px 3px 1px rgba(0, 0, 0, 0.15);\n",
              "      filter: drop-shadow(0px 1px 2px rgba(0, 0, 0, 0.3));\n",
              "      fill: #FFFFFF;\n",
              "    }\n",
              "  </style>\n",
              "\n",
              "      <script>\n",
              "        const buttonEl =\n",
              "          document.querySelector('#df-9f0778e0-f1e9-41be-900a-42624b1a8dd9 button.colab-df-convert');\n",
              "        buttonEl.style.display =\n",
              "          google.colab.kernel.accessAllowed ? 'block' : 'none';\n",
              "\n",
              "        async function convertToInteractive(key) {\n",
              "          const element = document.querySelector('#df-9f0778e0-f1e9-41be-900a-42624b1a8dd9');\n",
              "          const dataTable =\n",
              "            await google.colab.kernel.invokeFunction('convertToInteractive',\n",
              "                                                     [key], {});\n",
              "          if (!dataTable) return;\n",
              "\n",
              "          const docLinkHtml = 'Like what you see? Visit the ' +\n",
              "            '<a target=\"_blank\" href=https://colab.research.google.com/notebooks/data_table.ipynb>data table notebook</a>'\n",
              "            + ' to learn more about interactive tables.';\n",
              "          element.innerHTML = '';\n",
              "          dataTable['output_type'] = 'display_data';\n",
              "          await google.colab.output.renderOutput(dataTable, element);\n",
              "          const docLink = document.createElement('div');\n",
              "          docLink.innerHTML = docLinkHtml;\n",
              "          element.appendChild(docLink);\n",
              "        }\n",
              "      </script>\n",
              "    </div>\n",
              "  </div>\n",
              "  "
            ]
          },
          "metadata": {},
          "execution_count": 4
        }
      ]
    },
    {
      "cell_type": "code",
      "source": [
        "titanic.info()"
      ],
      "metadata": {
        "id": "i-gSjsFLUlGW",
        "colab": {
          "base_uri": "https://localhost:8080/"
        },
        "outputId": "b9e16688-f8ed-49b9-a7d3-21491214e746"
      },
      "execution_count": null,
      "outputs": [
        {
          "output_type": "stream",
          "name": "stdout",
          "text": [
            "<class 'pandas.core.frame.DataFrame'>\n",
            "RangeIndex: 891 entries, 0 to 890\n",
            "Data columns (total 12 columns):\n",
            " #   Column       Non-Null Count  Dtype  \n",
            "---  ------       --------------  -----  \n",
            " 0   PassengerId  891 non-null    int64  \n",
            " 1   Survived     891 non-null    int64  \n",
            " 2   Pclass       891 non-null    int64  \n",
            " 3   Name         891 non-null    object \n",
            " 4   Sex          891 non-null    object \n",
            " 5   Age          714 non-null    float64\n",
            " 6   SibSp        891 non-null    int64  \n",
            " 7   Parch        891 non-null    int64  \n",
            " 8   Ticket       891 non-null    object \n",
            " 9   Fare         891 non-null    float64\n",
            " 10  Cabin        204 non-null    object \n",
            " 11  Embarked     889 non-null    object \n",
            "dtypes: float64(2), int64(5), object(5)\n",
            "memory usage: 83.7+ KB\n"
          ]
        }
      ]
    },
    {
      "cell_type": "code",
      "source": [
        "titanic['Survived'] = titanic['Survived'].astype(object) #생존했으면 1, 아니면 0 \n",
        "titanic['Pclass'] = titanic['Pclass'].astype(object) #승객의 자리 등급"
      ],
      "metadata": {
        "id": "MloBksnnUl5f"
      },
      "execution_count": null,
      "outputs": []
    },
    {
      "cell_type": "code",
      "source": [
        "titanic.isnull().sum() #결측치가 있는지 알아보는 다른 방법 isnull() 함수 사용하기"
      ],
      "metadata": {
        "id": "Wp4fX5PGWi2j",
        "colab": {
          "base_uri": "https://localhost:8080/"
        },
        "outputId": "aac6ee02-2489-4fce-9643-22152047b88f"
      },
      "execution_count": null,
      "outputs": [
        {
          "output_type": "execute_result",
          "data": {
            "text/plain": [
              "PassengerId      0\n",
              "Survived         0\n",
              "Pclass           0\n",
              "Name             0\n",
              "Sex              0\n",
              "Age            177\n",
              "SibSp            0\n",
              "Parch            0\n",
              "Ticket           0\n",
              "Fare             0\n",
              "Cabin          687\n",
              "Embarked         2\n",
              "dtype: int64"
            ]
          },
          "metadata": {},
          "execution_count": 7
        }
      ]
    },
    {
      "cell_type": "code",
      "source": [
        "missing_df = titanic.isnull().sum().reset_index()\n",
        "missing_df.columns = ['column', 'count']\n",
        "missing_df['ratio'] = missing_df['count'] / titanic.shape[0]\n",
        "missing_df.loc[missing_df['ratio'] != 0]"
      ],
      "metadata": {
        "id": "zuOqr4ZsWoir",
        "colab": {
          "base_uri": "https://localhost:8080/",
          "height": 143
        },
        "outputId": "d747eeb8-f828-4b4f-f54b-728546e03a57"
      },
      "execution_count": null,
      "outputs": [
        {
          "output_type": "execute_result",
          "data": {
            "text/plain": [
              "      column  count     ratio\n",
              "5        Age    177  0.198653\n",
              "10     Cabin    687  0.771044\n",
              "11  Embarked      2  0.002245"
            ],
            "text/html": [
              "\n",
              "  <div id=\"df-626f5c0c-2eea-4a3e-a944-287070543bfe\">\n",
              "    <div class=\"colab-df-container\">\n",
              "      <div>\n",
              "<style scoped>\n",
              "    .dataframe tbody tr th:only-of-type {\n",
              "        vertical-align: middle;\n",
              "    }\n",
              "\n",
              "    .dataframe tbody tr th {\n",
              "        vertical-align: top;\n",
              "    }\n",
              "\n",
              "    .dataframe thead th {\n",
              "        text-align: right;\n",
              "    }\n",
              "</style>\n",
              "<table border=\"1\" class=\"dataframe\">\n",
              "  <thead>\n",
              "    <tr style=\"text-align: right;\">\n",
              "      <th></th>\n",
              "      <th>column</th>\n",
              "      <th>count</th>\n",
              "      <th>ratio</th>\n",
              "    </tr>\n",
              "  </thead>\n",
              "  <tbody>\n",
              "    <tr>\n",
              "      <th>5</th>\n",
              "      <td>Age</td>\n",
              "      <td>177</td>\n",
              "      <td>0.198653</td>\n",
              "    </tr>\n",
              "    <tr>\n",
              "      <th>10</th>\n",
              "      <td>Cabin</td>\n",
              "      <td>687</td>\n",
              "      <td>0.771044</td>\n",
              "    </tr>\n",
              "    <tr>\n",
              "      <th>11</th>\n",
              "      <td>Embarked</td>\n",
              "      <td>2</td>\n",
              "      <td>0.002245</td>\n",
              "    </tr>\n",
              "  </tbody>\n",
              "</table>\n",
              "</div>\n",
              "      <button class=\"colab-df-convert\" onclick=\"convertToInteractive('df-626f5c0c-2eea-4a3e-a944-287070543bfe')\"\n",
              "              title=\"Convert this dataframe to an interactive table.\"\n",
              "              style=\"display:none;\">\n",
              "        \n",
              "  <svg xmlns=\"http://www.w3.org/2000/svg\" height=\"24px\"viewBox=\"0 0 24 24\"\n",
              "       width=\"24px\">\n",
              "    <path d=\"M0 0h24v24H0V0z\" fill=\"none\"/>\n",
              "    <path d=\"M18.56 5.44l.94 2.06.94-2.06 2.06-.94-2.06-.94-.94-2.06-.94 2.06-2.06.94zm-11 1L8.5 8.5l.94-2.06 2.06-.94-2.06-.94L8.5 2.5l-.94 2.06-2.06.94zm10 10l.94 2.06.94-2.06 2.06-.94-2.06-.94-.94-2.06-.94 2.06-2.06.94z\"/><path d=\"M17.41 7.96l-1.37-1.37c-.4-.4-.92-.59-1.43-.59-.52 0-1.04.2-1.43.59L10.3 9.45l-7.72 7.72c-.78.78-.78 2.05 0 2.83L4 21.41c.39.39.9.59 1.41.59.51 0 1.02-.2 1.41-.59l7.78-7.78 2.81-2.81c.8-.78.8-2.07 0-2.86zM5.41 20L4 18.59l7.72-7.72 1.47 1.35L5.41 20z\"/>\n",
              "  </svg>\n",
              "      </button>\n",
              "      \n",
              "  <style>\n",
              "    .colab-df-container {\n",
              "      display:flex;\n",
              "      flex-wrap:wrap;\n",
              "      gap: 12px;\n",
              "    }\n",
              "\n",
              "    .colab-df-convert {\n",
              "      background-color: #E8F0FE;\n",
              "      border: none;\n",
              "      border-radius: 50%;\n",
              "      cursor: pointer;\n",
              "      display: none;\n",
              "      fill: #1967D2;\n",
              "      height: 32px;\n",
              "      padding: 0 0 0 0;\n",
              "      width: 32px;\n",
              "    }\n",
              "\n",
              "    .colab-df-convert:hover {\n",
              "      background-color: #E2EBFA;\n",
              "      box-shadow: 0px 1px 2px rgba(60, 64, 67, 0.3), 0px 1px 3px 1px rgba(60, 64, 67, 0.15);\n",
              "      fill: #174EA6;\n",
              "    }\n",
              "\n",
              "    [theme=dark] .colab-df-convert {\n",
              "      background-color: #3B4455;\n",
              "      fill: #D2E3FC;\n",
              "    }\n",
              "\n",
              "    [theme=dark] .colab-df-convert:hover {\n",
              "      background-color: #434B5C;\n",
              "      box-shadow: 0px 1px 3px 1px rgba(0, 0, 0, 0.15);\n",
              "      filter: drop-shadow(0px 1px 2px rgba(0, 0, 0, 0.3));\n",
              "      fill: #FFFFFF;\n",
              "    }\n",
              "  </style>\n",
              "\n",
              "      <script>\n",
              "        const buttonEl =\n",
              "          document.querySelector('#df-626f5c0c-2eea-4a3e-a944-287070543bfe button.colab-df-convert');\n",
              "        buttonEl.style.display =\n",
              "          google.colab.kernel.accessAllowed ? 'block' : 'none';\n",
              "\n",
              "        async function convertToInteractive(key) {\n",
              "          const element = document.querySelector('#df-626f5c0c-2eea-4a3e-a944-287070543bfe');\n",
              "          const dataTable =\n",
              "            await google.colab.kernel.invokeFunction('convertToInteractive',\n",
              "                                                     [key], {});\n",
              "          if (!dataTable) return;\n",
              "\n",
              "          const docLinkHtml = 'Like what you see? Visit the ' +\n",
              "            '<a target=\"_blank\" href=https://colab.research.google.com/notebooks/data_table.ipynb>data table notebook</a>'\n",
              "            + ' to learn more about interactive tables.';\n",
              "          element.innerHTML = '';\n",
              "          dataTable['output_type'] = 'display_data';\n",
              "          await google.colab.output.renderOutput(dataTable, element);\n",
              "          const docLink = document.createElement('div');\n",
              "          docLink.innerHTML = docLinkHtml;\n",
              "          element.appendChild(docLink);\n",
              "        }\n",
              "      </script>\n",
              "    </div>\n",
              "  </div>\n",
              "  "
            ]
          },
          "metadata": {},
          "execution_count": 8
        }
      ]
    },
    {
      "cell_type": "code",
      "source": [
        "import matplotlib.pyplot as plt"
      ],
      "metadata": {
        "id": "TJookqmJWsDL"
      },
      "execution_count": null,
      "outputs": []
    },
    {
      "cell_type": "code",
      "source": [
        "# 변수 탐색-> 행에 무엇이 있니?\n",
        "category_feature = [ col for col in titanic.columns if titanic[col].dtypes == \"object\"]\n",
        "category_feature"
      ],
      "metadata": {
        "id": "3fjDEgS4Wub7",
        "colab": {
          "base_uri": "https://localhost:8080/"
        },
        "outputId": "1a009d11-91a4-4825-82f4-47a3d975bd77"
      },
      "execution_count": null,
      "outputs": [
        {
          "output_type": "execute_result",
          "data": {
            "text/plain": [
              "['Survived', 'Pclass', 'Name', 'Sex', 'Ticket', 'Cabin', 'Embarked']"
            ]
          },
          "metadata": {},
          "execution_count": 10
        }
      ]
    },
    {
      "cell_type": "code",
      "source": [
        "#바 그래프 형식으로 데이터가 가진 값을 알려줘\n",
        "for col in category_feature: \n",
        "  titanic[col].value_counts().plot(kind='bar') \n",
        "  plt.title(col) \n",
        "  plt.show()"
      ],
      "metadata": {
        "id": "XvmDItwFW0qP",
        "colab": {
          "base_uri": "https://localhost:8080/",
          "height": 1000
        },
        "outputId": "190d94a4-58e9-4a4e-b9bf-d015c7e05454"
      },
      "execution_count": null,
      "outputs": [
        {
          "output_type": "display_data",
          "data": {
            "text/plain": [
              "<Figure size 432x288 with 1 Axes>"
            ],
            "image/png": "[encoded data removed]"
          },
          "metadata": {
            "needs_background": "light"
          }
        },
        {
          "output_type": "display_data",
          "data": {
            "text/plain": [
              "<Figure size 432x288 with 1 Axes>"
            ],
            "image/png": "[encoded data removed]"
          },
          "metadata": {
            "needs_background": "light"
          }
        },
        {
          "output_type": "display_data",
          "data": {
            "text/plain": [
              "<Figure size 432x288 with 1 Axes>"
            ],
            "image/png": "[encoded data removed]"
          },
          "metadata": {
            "needs_background": "light"
          }
        },
        {
          "output_type": "display_data",
          "data": {
            "text/plain": [
              "<Figure size 432x288 with 1 Axes>"
            ],
            "image/png": "[encoded data removed]"
          },
          "metadata": {
            "needs_background": "light"
          }
        },
        {
          "output_type": "display_data",
          "data": {
            "text/plain": [
              "<Figure size 432x288 with 1 Axes>"
            ],
            "image/png": "[encoded data removed]"
          },
          "metadata": {
            "needs_background": "light"
          }
        },
        {
          "output_type": "display_data",
          "data": {
            "text/plain": [
              "<Figure size 432x288 with 1 Axes>"
            ],
            "image/png": "[encoded data removed]"
          },
          "metadata": {
            "needs_background": "light"
          }
        },
        {
          "output_type": "display_data",
          "data": {
            "text/plain": [
              "<Figure size 432x288 with 1 Axes>"
            ],
            "image/png": "[encoded data removed]"
          },
          "metadata": {
            "needs_background": "light"
          }
        }
      ]
    },
    {
      "cell_type": "code",
      "source": [
        "# 이변수 탐색 -> 성별과 생존의 데이터는 어때?\n",
        "sex_df = titanic.groupby(['Sex','Survived'])['Survived'].count().unstack('Survived')\n",
        "sex_df.plot(kind='bar', figsize=(20,10))\n",
        "plt.title('Sex')\n",
        "plt.show()"
      ],
      "metadata": {
        "id": "t4AMtIfEXBi5",
        "colab": {
          "base_uri": "https://localhost:8080/",
          "height": 570
        },
        "outputId": "a9cdf71f-f215-466a-daaa-f31a37794e07"
      },
      "execution_count": null,
      "outputs": [
        {
          "output_type": "display_data",
          "data": {
            "text/plain": [
              "<Figure size 1440x720 with 1 Axes>"
            ],
            "image/png": "[encoded data removed]"
          },
          "metadata": {
            "needs_background": "light"
          }
        }
      ]
    },
    {
      "cell_type": "code",
      "source": [
        "# 생존을 빼고 수치형 변수만 골라낸다 -> 원인이 되는 독립변수 탐색\n",
        "numerical_feature = list(set(titanic.columns) - set(category_feature) - set(['PassengerId','Survived']))\n",
        "numerical_feature = np.sort(numerical_feature)\n",
        "numerical_feature"
      ],
      "metadata": {
        "id": "-CCdcfgYaW1T",
        "colab": {
          "base_uri": "https://localhost:8080/"
        },
        "outputId": "bf5895a4-8611-48da-a2ab-bfe58862c0bd"
      },
      "execution_count": null,
      "outputs": [
        {
          "output_type": "execute_result",
          "data": {
            "text/plain": [
              "array(['Age', 'Fare', 'Parch', 'SibSp'], dtype='<U5')"
            ]
          },
          "metadata": {},
          "execution_count": 13
        }
      ]
    },
    {
      "cell_type": "code",
      "source": [
        "# seaborn 라이브러리의 pairplot은 어러 변수의 관계를 한 번에 파악할 수 있으며, \n",
        "##hue 파라미터를 통해 종속변수(생존, 결과)를 지정함으로써 세 변수의 관계를 파악할 수 있습니다.\n",
        "\n",
        "sns.pairplot(titanic[list(numerical_feature) + ['Survived']], hue='Survived', \n",
        "             x_vars=numerical_feature, y_vars=numerical_feature)\n",
        "plt.show()"
      ],
      "metadata": {
        "id": "JXl32Rsfc5ht",
        "colab": {
          "base_uri": "https://localhost:8080/",
          "height": 726
        },
        "outputId": "caea57ae-de2f-4b08-bdb5-4730971a1915"
      },
      "execution_count": null,
      "outputs": [
        {
          "output_type": "display_data",
          "data": {
            "text/plain": [
              "<Figure size 771.875x720 with 20 Axes>"
            ],
            "image/png": "[encoded data removed]"
          },
          "metadata": {
            "needs_background": "light"
          }
        }
      ]
    },
    {
      "cell_type": "code",
      "source": [
        "#성별과 숫자 데이터로 생존의 관계를 알아보자\n",
        "unique_list = titanic['Sex'].unique()\n",
        " \n",
        "for col in numerical_feature:\n",
        "    plt.figure(figsize=(12,6))\n",
        "    sns.boxplot(x='Sex', y=col, hue='Survived', data=titanic.dropna())\n",
        "    plt.title(\"Sex - {}\".format(col))\n",
        "    plt.show()"
      ],
      "metadata": {
        "id": "Lb48g6uedjIR",
        "colab": {
          "base_uri": "https://localhost:8080/",
          "height": 1000
        },
        "outputId": "3459c44e-a6b0-46c5-9a47-97bf9c548803"
      },
      "execution_count": null,
      "outputs": [
        {
          "output_type": "display_data",
          "data": {
            "text/plain": [
              "<Figure size 864x432 with 1 Axes>"
            ],
            "image/png": "[encoded data removed]"
          },
          "metadata": {
            "needs_background": "light"
          }
        },
        {
          "output_type": "display_data",
          "data": {
            "text/plain": [
              "<Figure size 864x432 with 1 Axes>"
            ],
            "image/png": "[encoded data removed]"
          },
          "metadata": {
            "needs_background": "light"
          }
        },
        {
          "output_type": "display_data",
          "data": {
            "text/plain": [
              "<Figure size 864x432 with 1 Axes>"
            ],
            "image/png": "[encoded data removed]"
          },
          "metadata": {
            "needs_background": "light"
          }
        },
        {
          "output_type": "display_data",
          "data": {
            "text/plain": [
              "<Figure size 864x432 with 1 Axes>"
            ],
            "image/png": "[encoded data removed]"
          },
          "metadata": {
            "needs_background": "light"
          }
        }
      ]
    },
    {
      "cell_type": "markdown",
      "source": [
        "이론수업으로!"
      ],
      "metadata": {
        "id": "ybON62jDEUJo"
      }
    },
    {
      "cell_type": "markdown",
      "source": [
        "선형회귀 분석"
      ],
      "metadata": {
        "id": "iCYDWp86eXGB"
      }
    },
    {
      "cell_type": "code",
      "source": [
        "# 당뇨병 진행도를 그려보자\n",
        "\n",
        "import pandas as pd\n",
        "import seaborn as sns\n",
        "import matplotlib.pyplot as plt\n",
        "from sklearn.datasets import load_diabetes\n",
        "\n",
        "diabetes = load_diabetes()\n",
        "df = pd.DataFrame(diabetes.data, columns=diabetes.feature_names)\n",
        "df[\"target\"] = diabetes.target\n",
        "df.tail()"
      ],
      "metadata": {
        "id": "qzdwWvQfeWXn",
        "colab": {
          "base_uri": "https://localhost:8080/",
          "height": 206
        },
        "outputId": "05e24424-9e67-4fe5-e68c-a4327d0ece2a"
      },
      "execution_count": null,
      "outputs": [
        {
          "output_type": "execute_result",
          "data": {
            "text/plain": [
              "          age       sex       bmi        bp        s1        s2        s3  \\\n",
              "437  0.041708  0.050680  0.019662  0.059744 -0.005697 -0.002566 -0.028674   \n",
              "438 -0.005515  0.050680 -0.015906 -0.067642  0.049341  0.079165 -0.028674   \n",
              "439  0.041708  0.050680 -0.015906  0.017282 -0.037344 -0.013840 -0.024993   \n",
              "440 -0.045472 -0.044642  0.039062  0.001215  0.016318  0.015283 -0.028674   \n",
              "441 -0.045472 -0.044642 -0.073030 -0.081414  0.083740  0.027809  0.173816   \n",
              "\n",
              "           s4        s5        s6  target  \n",
              "437 -0.002592  0.031193  0.007207   178.0  \n",
              "438  0.034309 -0.018118  0.044485   104.0  \n",
              "439 -0.011080 -0.046879  0.015491   132.0  \n",
              "440  0.026560  0.044528 -0.025930   220.0  \n",
              "441 -0.039493 -0.004220  0.003064    57.0  "
            ],
            "text/html": [
              "\n",
              "  <div id=\"df-4a87ec5c-e5dd-4a35-a54b-b31397ecf6e7\">\n",
              "    <div class=\"colab-df-container\">\n",
              "      <div>\n",
              "<style scoped>\n",
              "    .dataframe tbody tr th:only-of-type {\n",
              "        vertical-align: middle;\n",
              "    }\n",
              "\n",
              "    .dataframe tbody tr th {\n",
              "        vertical-align: top;\n",
              "    }\n",
              "\n",
              "    .dataframe thead th {\n",
              "        text-align: right;\n",
              "    }\n",
              "</style>\n",
              "<table border=\"1\" class=\"dataframe\">\n",
              "  <thead>\n",
              "    <tr style=\"text-align: right;\">\n",
              "      <th></th>\n",
              "      <th>age</th>\n",
              "      <th>sex</th>\n",
              "      <th>bmi</th>\n",
              "      <th>bp</th>\n",
              "      <th>s1</th>\n",
              "      <th>s2</th>\n",
              "      <th>s3</th>\n",
              "      <th>s4</th>\n",
              "      <th>s5</th>\n",
              "      <th>s6</th>\n",
              "      <th>target</th>\n",
              "    </tr>\n",
              "  </thead>\n",
              "  <tbody>\n",
              "    <tr>\n",
              "      <th>437</th>\n",
              "      <td>0.041708</td>\n",
              "      <td>0.050680</td>\n",
              "      <td>0.019662</td>\n",
              "      <td>0.059744</td>\n",
              "      <td>-0.005697</td>\n",
              "      <td>-0.002566</td>\n",
              "      <td>-0.028674</td>\n",
              "      <td>-0.002592</td>\n",
              "      <td>0.031193</td>\n",
              "      <td>0.007207</td>\n",
              "      <td>178.0</td>\n",
              "    </tr>\n",
              "    <tr>\n",
              "      <th>438</th>\n",
              "      <td>-0.005515</td>\n",
              "      <td>0.050680</td>\n",
              "      <td>-0.015906</td>\n",
              "      <td>-0.067642</td>\n",
              "      <td>0.049341</td>\n",
              "      <td>0.079165</td>\n",
              "      <td>-0.028674</td>\n",
              "      <td>0.034309</td>\n",
              "      <td>-0.018118</td>\n",
              "      <td>0.044485</td>\n",
              "      <td>104.0</td>\n",
              "    </tr>\n",
              "    <tr>\n",
              "      <th>439</th>\n",
              "      <td>0.041708</td>\n",
              "      <td>0.050680</td>\n",
              "      <td>-0.015906</td>\n",
              "      <td>0.017282</td>\n",
              "      <td>-0.037344</td>\n",
              "      <td>-0.013840</td>\n",
              "      <td>-0.024993</td>\n",
              "      <td>-0.011080</td>\n",
              "      <td>-0.046879</td>\n",
              "      <td>0.015491</td>\n",
              "      <td>132.0</td>\n",
              "    </tr>\n",
              "    <tr>\n",
              "      <th>440</th>\n",
              "      <td>-0.045472</td>\n",
              "      <td>-0.044642</td>\n",
              "      <td>0.039062</td>\n",
              "      <td>0.001215</td>\n",
              "      <td>0.016318</td>\n",
              "      <td>0.015283</td>\n",
              "      <td>-0.028674</td>\n",
              "      <td>0.026560</td>\n",
              "      <td>0.044528</td>\n",
              "      <td>-0.025930</td>\n",
              "      <td>220.0</td>\n",
              "    </tr>\n",
              "    <tr>\n",
              "      <th>441</th>\n",
              "      <td>-0.045472</td>\n",
              "      <td>-0.044642</td>\n",
              "      <td>-0.073030</td>\n",
              "      <td>-0.081414</td>\n",
              "      <td>0.083740</td>\n",
              "      <td>0.027809</td>\n",
              "      <td>0.173816</td>\n",
              "      <td>-0.039493</td>\n",
              "      <td>-0.004220</td>\n",
              "      <td>0.003064</td>\n",
              "      <td>57.0</td>\n",
              "    </tr>\n",
              "  </tbody>\n",
              "</table>\n",
              "</div>\n",
              "      <button class=\"colab-df-convert\" onclick=\"convertToInteractive('df-4a87ec5c-e5dd-4a35-a54b-b31397ecf6e7')\"\n",
              "              title=\"Convert this dataframe to an interactive table.\"\n",
              "              style=\"display:none;\">\n",
              "        \n",
              "  <svg xmlns=\"http://www.w3.org/2000/svg\" height=\"24px\"viewBox=\"0 0 24 24\"\n",
              "       width=\"24px\">\n",
              "    <path d=\"M0 0h24v24H0V0z\" fill=\"none\"/>\n",
              "    <path d=\"M18.56 5.44l.94 2.06.94-2.06 2.06-.94-2.06-.94-.94-2.06-.94 2.06-2.06.94zm-11 1L8.5 8.5l.94-2.06 2.06-.94-2.06-.94L8.5 2.5l-.94 2.06-2.06.94zm10 10l.94 2.06.94-2.06 2.06-.94-2.06-.94-.94-2.06-.94 2.06-2.06.94z\"/><path d=\"M17.41 7.96l-1.37-1.37c-.4-.4-.92-.59-1.43-.59-.52 0-1.04.2-1.43.59L10.3 9.45l-7.72 7.72c-.78.78-.78 2.05 0 2.83L4 21.41c.39.39.9.59 1.41.59.51 0 1.02-.2 1.41-.59l7.78-7.78 2.81-2.81c.8-.78.8-2.07 0-2.86zM5.41 20L4 18.59l7.72-7.72 1.47 1.35L5.41 20z\"/>\n",
              "  </svg>\n",
              "      </button>\n",
              "      \n",
              "  <style>\n",
              "    .colab-df-container {\n",
              "      display:flex;\n",
              "      flex-wrap:wrap;\n",
              "      gap: 12px;\n",
              "    }\n",
              "\n",
              "    .colab-df-convert {\n",
              "      background-color: #E8F0FE;\n",
              "      border: none;\n",
              "      border-radius: 50%;\n",
              "      cursor: pointer;\n",
              "      display: none;\n",
              "      fill: #1967D2;\n",
              "      height: 32px;\n",
              "      padding: 0 0 0 0;\n",
              "      width: 32px;\n",
              "    }\n",
              "\n",
              "    .colab-df-convert:hover {\n",
              "      background-color: #E2EBFA;\n",
              "      box-shadow: 0px 1px 2px rgba(60, 64, 67, 0.3), 0px 1px 3px 1px rgba(60, 64, 67, 0.15);\n",
              "      fill: #174EA6;\n",
              "    }\n",
              "\n",
              "    [theme=dark] .colab-df-convert {\n",
              "      background-color: #3B4455;\n",
              "      fill: #D2E3FC;\n",
              "    }\n",
              "\n",
              "    [theme=dark] .colab-df-convert:hover {\n",
              "      background-color: #434B5C;\n",
              "      box-shadow: 0px 1px 3px 1px rgba(0, 0, 0, 0.15);\n",
              "      filter: drop-shadow(0px 1px 2px rgba(0, 0, 0, 0.3));\n",
              "      fill: #FFFFFF;\n",
              "    }\n",
              "  </style>\n",
              "\n",
              "      <script>\n",
              "        const buttonEl =\n",
              "          document.querySelector('#df-4a87ec5c-e5dd-4a35-a54b-b31397ecf6e7 button.colab-df-convert');\n",
              "        buttonEl.style.display =\n",
              "          google.colab.kernel.accessAllowed ? 'block' : 'none';\n",
              "\n",
              "        async function convertToInteractive(key) {\n",
              "          const element = document.querySelector('#df-4a87ec5c-e5dd-4a35-a54b-b31397ecf6e7');\n",
              "          const dataTable =\n",
              "            await google.colab.kernel.invokeFunction('convertToInteractive',\n",
              "                                                     [key], {});\n",
              "          if (!dataTable) return;\n",
              "\n",
              "          const docLinkHtml = 'Like what you see? Visit the ' +\n",
              "            '<a target=\"_blank\" href=https://colab.research.google.com/notebooks/data_table.ipynb>data table notebook</a>'\n",
              "            + ' to learn more about interactive tables.';\n",
              "          element.innerHTML = '';\n",
              "          dataTable['output_type'] = 'display_data';\n",
              "          await google.colab.output.renderOutput(dataTable, element);\n",
              "          const docLink = document.createElement('div');\n",
              "          docLink.innerHTML = docLinkHtml;\n",
              "          element.appendChild(docLink);\n",
              "        }\n",
              "      </script>\n",
              "    </div>\n",
              "  </div>\n",
              "  "
            ]
          },
          "metadata": {},
          "execution_count": 16
        }
      ]
    },
    {
      "cell_type": "code",
      "source": [
        "sns.pairplot(df[[\"target\", \"bmi\", \"bp\", \"s1\"]]) ##여러변수간의 산점도\n",
        "plt.show()"
      ],
      "metadata": {
        "id": "sRBFNiudEMhq",
        "colab": {
          "base_uri": "https://localhost:8080/",
          "height": 726
        },
        "outputId": "a30c588e-a7e0-4bc6-eccd-40938d870a5a"
      },
      "execution_count": null,
      "outputs": [
        {
          "output_type": "display_data",
          "data": {
            "text/plain": [
              "<Figure size 720x720 with 20 Axes>"
            ],
            "image/png": "[encoded data removed]"
          },
          "metadata": {
            "needs_background": "light"
          }
        }
      ]
    },
    {
      "cell_type": "markdown",
      "source": [
        "이론수업으로!"
      ],
      "metadata": {
        "id": "QJEqqaFjESYu"
      }
    },
    {
      "cell_type": "markdown",
      "source": [
        "군집분석"
      ],
      "metadata": {
        "id": "vpoGCr95EQ2S"
      }
    },
    {
      "cell_type": "code",
      "source": [
        "from google.colab import files\n",
        "uploaded = files.upload()"
      ],
      "metadata": {
        "id": "0dyEd-tAEO2S",
        "colab": {
          "resources": {
            "http://localhost:8080/nbextensions/google.colab/files.js": {
              "data": "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",
              "ok": true,
              "headers": [
                [
                  "content-type",
                  "application/javascript"
                ]
              ],
              "status": 200,
              "status_text": ""
            }
          },
          "base_uri": "https://localhost:8080/",
          "height": 76
        },
        "outputId": "3242dcc8-292a-451e-afb2-0aca4ef289fc"
      },
      "execution_count": null,
      "outputs": [
        {
          "output_type": "display_data",
          "data": {
            "text/plain": [
              "<IPython.core.display.HTML object>"
            ],
            "text/html": [
              "\n",
              "     <input type=\"file\" id=\"files-5cd64b86-260b-4bca-b426-84f934cd003f\" name=\"files[]\" multiple disabled\n",
              "        style=\"border:none\" />\n",
              "     <output id=\"result-5cd64b86-260b-4bca-b426-84f934cd003f\">\n",
              "      Upload widget is only available when the cell has been executed in the\n",
              "      current browser session. Please rerun this cell to enable.\n",
              "      </output>\n",
              "      <script src=\"/nbextensions/google.colab/files.js\"></script> "
            ]
          },
          "metadata": {}
        },
        {
          "output_type": "stream",
          "name": "stdout",
          "text": [
            "Saving iris.csv to iris.csv\n"
          ]
        }
      ]
    },
    {
      "cell_type": "code",
      "source": [
        "import pandas as pd\n",
        "import io\n",
        "\n",
        "iris = pd.read_csv(io.StringIO(uploaded['iris.csv'].decode('utf-8')))\n",
        "iris.head()"
      ],
      "metadata": {
        "id": "zi0QTuSqEXJF",
        "colab": {
          "base_uri": "https://localhost:8080/",
          "height": 206
        },
        "outputId": "864dceda-2ccc-494f-81fe-3dd5fff16e17"
      },
      "execution_count": null,
      "outputs": [
        {
          "output_type": "execute_result",
          "data": {
            "text/plain": [
              "   Sepal.Length  Sepal.Width  Petal.Length  Petal.Width Species\n",
              "0           5.1          3.5           1.4          0.2  Setosa\n",
              "1           4.9          3.0           1.4          0.2  Setosa\n",
              "2           4.7          3.2           1.3          0.2  Setosa\n",
              "3           4.6          3.1           1.5          0.2  Setosa\n",
              "4           5.0          3.6           1.4          0.2  Setosa"
            ],
            "text/html": [
              "\n",
              "  <div id=\"df-c7df664e-a277-4c1f-8f06-1dc093158ec1\">\n",
              "    <div class=\"colab-df-container\">\n",
              "      <div>\n",
              "<style scoped>\n",
              "    .dataframe tbody tr th:only-of-type {\n",
              "        vertical-align: middle;\n",
              "    }\n",
              "\n",
              "    .dataframe tbody tr th {\n",
              "        vertical-align: top;\n",
              "    }\n",
              "\n",
              "    .dataframe thead th {\n",
              "        text-align: right;\n",
              "    }\n",
              "</style>\n",
              "<table border=\"1\" class=\"dataframe\">\n",
              "  <thead>\n",
              "    <tr style=\"text-align: right;\">\n",
              "      <th></th>\n",
              "      <th>Sepal.Length</th>\n",
              "      <th>Sepal.Width</th>\n",
              "      <th>Petal.Length</th>\n",
              "      <th>Petal.Width</th>\n",
              "      <th>Species</th>\n",
              "    </tr>\n",
              "  </thead>\n",
              "  <tbody>\n",
              "    <tr>\n",
              "      <th>0</th>\n",
              "      <td>5.1</td>\n",
              "      <td>3.5</td>\n",
              "      <td>1.4</td>\n",
              "      <td>0.2</td>\n",
              "      <td>Setosa</td>\n",
              "    </tr>\n",
              "    <tr>\n",
              "      <th>1</th>\n",
              "      <td>4.9</td>\n",
              "      <td>3.0</td>\n",
              "      <td>1.4</td>\n",
              "      <td>0.2</td>\n",
              "      <td>Setosa</td>\n",
              "    </tr>\n",
              "    <tr>\n",
              "      <th>2</th>\n",
              "      <td>4.7</td>\n",
              "      <td>3.2</td>\n",
              "      <td>1.3</td>\n",
              "      <td>0.2</td>\n",
              "      <td>Setosa</td>\n",
              "    </tr>\n",
              "    <tr>\n",
              "      <th>3</th>\n",
              "      <td>4.6</td>\n",
              "      <td>3.1</td>\n",
              "      <td>1.5</td>\n",
              "      <td>0.2</td>\n",
              "      <td>Setosa</td>\n",
              "    </tr>\n",
              "    <tr>\n",
              "      <th>4</th>\n",
              "      <td>5.0</td>\n",
              "      <td>3.6</td>\n",
              "      <td>1.4</td>\n",
              "      <td>0.2</td>\n",
              "      <td>Setosa</td>\n",
              "    </tr>\n",
              "  </tbody>\n",
              "</table>\n",
              "</div>\n",
              "      <button class=\"colab-df-convert\" onclick=\"convertToInteractive('df-c7df664e-a277-4c1f-8f06-1dc093158ec1')\"\n",
              "              title=\"Convert this dataframe to an interactive table.\"\n",
              "              style=\"display:none;\">\n",
              "        \n",
              "  <svg xmlns=\"http://www.w3.org/2000/svg\" height=\"24px\"viewBox=\"0 0 24 24\"\n",
              "       width=\"24px\">\n",
              "    <path d=\"M0 0h24v24H0V0z\" fill=\"none\"/>\n",
              "    <path d=\"M18.56 5.44l.94 2.06.94-2.06 2.06-.94-2.06-.94-.94-2.06-.94 2.06-2.06.94zm-11 1L8.5 8.5l.94-2.06 2.06-.94-2.06-.94L8.5 2.5l-.94 2.06-2.06.94zm10 10l.94 2.06.94-2.06 2.06-.94-2.06-.94-.94-2.06-.94 2.06-2.06.94z\"/><path d=\"M17.41 7.96l-1.37-1.37c-.4-.4-.92-.59-1.43-.59-.52 0-1.04.2-1.43.59L10.3 9.45l-7.72 7.72c-.78.78-.78 2.05 0 2.83L4 21.41c.39.39.9.59 1.41.59.51 0 1.02-.2 1.41-.59l7.78-7.78 2.81-2.81c.8-.78.8-2.07 0-2.86zM5.41 20L4 18.59l7.72-7.72 1.47 1.35L5.41 20z\"/>\n",
              "  </svg>\n",
              "      </button>\n",
              "      \n",
              "  <style>\n",
              "    .colab-df-container {\n",
              "      display:flex;\n",
              "      flex-wrap:wrap;\n",
              "      gap: 12px;\n",
              "    }\n",
              "\n",
              "    .colab-df-convert {\n",
              "      background-color: #E8F0FE;\n",
              "      border: none;\n",
              "      border-radius: 50%;\n",
              "      cursor: pointer;\n",
              "      display: none;\n",
              "      fill: #1967D2;\n",
              "      height: 32px;\n",
              "      padding: 0 0 0 0;\n",
              "      width: 32px;\n",
              "    }\n",
              "\n",
              "    .colab-df-convert:hover {\n",
              "      background-color: #E2EBFA;\n",
              "      box-shadow: 0px 1px 2px rgba(60, 64, 67, 0.3), 0px 1px 3px 1px rgba(60, 64, 67, 0.15);\n",
              "      fill: #174EA6;\n",
              "    }\n",
              "\n",
              "    [theme=dark] .colab-df-convert {\n",
              "      background-color: #3B4455;\n",
              "      fill: #D2E3FC;\n",
              "    }\n",
              "\n",
              "    [theme=dark] .colab-df-convert:hover {\n",
              "      background-color: #434B5C;\n",
              "      box-shadow: 0px 1px 3px 1px rgba(0, 0, 0, 0.15);\n",
              "      filter: drop-shadow(0px 1px 2px rgba(0, 0, 0, 0.3));\n",
              "      fill: #FFFFFF;\n",
              "    }\n",
              "  </style>\n",
              "\n",
              "      <script>\n",
              "        const buttonEl =\n",
              "          document.querySelector('#df-c7df664e-a277-4c1f-8f06-1dc093158ec1 button.colab-df-convert');\n",
              "        buttonEl.style.display =\n",
              "          google.colab.kernel.accessAllowed ? 'block' : 'none';\n",
              "\n",
              "        async function convertToInteractive(key) {\n",
              "          const element = document.querySelector('#df-c7df664e-a277-4c1f-8f06-1dc093158ec1');\n",
              "          const dataTable =\n",
              "            await google.colab.kernel.invokeFunction('convertToInteractive',\n",
              "                                                     [key], {});\n",
              "          if (!dataTable) return;\n",
              "\n",
              "          const docLinkHtml = 'Like what you see? Visit the ' +\n",
              "            '<a target=\"_blank\" href=https://colab.research.google.com/notebooks/data_table.ipynb>data table notebook</a>'\n",
              "            + ' to learn more about interactive tables.';\n",
              "          element.innerHTML = '';\n",
              "          dataTable['output_type'] = 'display_data';\n",
              "          await google.colab.output.renderOutput(dataTable, element);\n",
              "          const docLink = document.createElement('div');\n",
              "          docLink.innerHTML = docLinkHtml;\n",
              "          element.appendChild(docLink);\n",
              "        }\n",
              "      </script>\n",
              "    </div>\n",
              "  </div>\n",
              "  "
            ]
          },
          "metadata": {},
          "execution_count": 19
        }
      ]
    },
    {
      "cell_type": "code",
      "source": [
        "iris.info()\n",
        "\n",
        "cols = list(iris.columns)\n",
        "iris_x = iris[cols[:4]]\n",
        "iris_x.head()\n",
        "\n",
        "iris['Species'].value_counts() "
      ],
      "metadata": {
        "id": "nb87yUTcEYnn",
        "colab": {
          "base_uri": "https://localhost:8080/"
        },
        "outputId": "d0289831-1db0-44b8-9945-e3894dad9d76"
      },
      "execution_count": null,
      "outputs": [
        {
          "output_type": "stream",
          "name": "stdout",
          "text": [
            "<class 'pandas.core.frame.DataFrame'>\n",
            "RangeIndex: 150 entries, 0 to 149\n",
            "Data columns (total 5 columns):\n",
            " #   Column        Non-Null Count  Dtype  \n",
            "---  ------        --------------  -----  \n",
            " 0   Sepal.Length  150 non-null    float64\n",
            " 1   Sepal.Width   150 non-null    float64\n",
            " 2   Petal.Length  150 non-null    float64\n",
            " 3   Petal.Width   150 non-null    float64\n",
            " 4   Species       150 non-null    object \n",
            "dtypes: float64(4), object(1)\n",
            "memory usage: 6.0+ KB\n"
          ]
        },
        {
          "output_type": "execute_result",
          "data": {
            "text/plain": [
              "Setosa        50\n",
              "Versicolor    50\n",
              "Virginica     50\n",
              "Name: Species, dtype: int64"
            ]
          },
          "metadata": {},
          "execution_count": 20
        }
      ]
    },
    {
      "cell_type": "code",
      "source": [
        "from sklearn.datasets import load_iris"
      ],
      "metadata": {
        "id": "bYhmgChAEart"
      },
      "execution_count": null,
      "outputs": []
    },
    {
      "cell_type": "code",
      "source": [
        "X, y = load_iris(return_X_y=True)\n",
        "\n",
        "# 사이킷런 라이브러리에서 제공하는 데이터셋을 불러오면 범주값을 숫자로 받을 수 있음 => 종류인 species를 숫자로 나타내기위해\n",
        "y  # 0,1,2로 구성됨\n",
        "\n",
        "labels = pd.DataFrame(y, columns = ['labels'])\n",
        "\n",
        "irisDF = pd.concat([iris_x, labels], axis = 1)\n",
        "irisDF.head()\n",
        "irisDF.tail()  # x변수들과 수치화된 y변수(labels)로 데이터프레임 만들어진 것을 확인"
      ],
      "metadata": {
        "id": "s4lZwTMjEflR",
        "colab": {
          "base_uri": "https://localhost:8080/",
          "height": 206
        },
        "outputId": "9d8d1c49-9e47-4910-8f9d-6b9cf0854b68"
      },
      "execution_count": null,
      "outputs": [
        {
          "output_type": "execute_result",
          "data": {
            "text/plain": [
              "     Sepal.Length  Sepal.Width  Petal.Length  Petal.Width  labels\n",
              "145           6.7          3.0           5.2          2.3       2\n",
              "146           6.3          2.5           5.0          1.9       2\n",
              "147           6.5          3.0           5.2          2.0       2\n",
              "148           6.2          3.4           5.4          2.3       2\n",
              "149           5.9          3.0           5.1          1.8       2"
            ],
            "text/html": [
              "\n",
              "  <div id=\"df-b978ab6f-014d-4f8e-b58e-8c5d1b251421\">\n",
              "    <div class=\"colab-df-container\">\n",
              "      <div>\n",
              "<style scoped>\n",
              "    .dataframe tbody tr th:only-of-type {\n",
              "        vertical-align: middle;\n",
              "    }\n",
              "\n",
              "    .dataframe tbody tr th {\n",
              "        vertical-align: top;\n",
              "    }\n",
              "\n",
              "    .dataframe thead th {\n",
              "        text-align: right;\n",
              "    }\n",
              "</style>\n",
              "<table border=\"1\" class=\"dataframe\">\n",
              "  <thead>\n",
              "    <tr style=\"text-align: right;\">\n",
              "      <th></th>\n",
              "      <th>Sepal.Length</th>\n",
              "      <th>Sepal.Width</th>\n",
              "      <th>Petal.Length</th>\n",
              "      <th>Petal.Width</th>\n",
              "      <th>labels</th>\n",
              "    </tr>\n",
              "  </thead>\n",
              "  <tbody>\n",
              "    <tr>\n",
              "      <th>145</th>\n",
              "      <td>6.7</td>\n",
              "      <td>3.0</td>\n",
              "      <td>5.2</td>\n",
              "      <td>2.3</td>\n",
              "      <td>2</td>\n",
              "    </tr>\n",
              "    <tr>\n",
              "      <th>146</th>\n",
              "      <td>6.3</td>\n",
              "      <td>2.5</td>\n",
              "      <td>5.0</td>\n",
              "      <td>1.9</td>\n",
              "      <td>2</td>\n",
              "    </tr>\n",
              "    <tr>\n",
              "      <th>147</th>\n",
              "      <td>6.5</td>\n",
              "      <td>3.0</td>\n",
              "      <td>5.2</td>\n",
              "      <td>2.0</td>\n",
              "      <td>2</td>\n",
              "    </tr>\n",
              "    <tr>\n",
              "      <th>148</th>\n",
              "      <td>6.2</td>\n",
              "      <td>3.4</td>\n",
              "      <td>5.4</td>\n",
              "      <td>2.3</td>\n",
              "      <td>2</td>\n",
              "    </tr>\n",
              "    <tr>\n",
              "      <th>149</th>\n",
              "      <td>5.9</td>\n",
              "      <td>3.0</td>\n",
              "      <td>5.1</td>\n",
              "      <td>1.8</td>\n",
              "      <td>2</td>\n",
              "    </tr>\n",
              "  </tbody>\n",
              "</table>\n",
              "</div>\n",
              "      <button class=\"colab-df-convert\" onclick=\"convertToInteractive('df-b978ab6f-014d-4f8e-b58e-8c5d1b251421')\"\n",
              "              title=\"Convert this dataframe to an interactive table.\"\n",
              "              style=\"display:none;\">\n",
              "        \n",
              "  <svg xmlns=\"http://www.w3.org/2000/svg\" height=\"24px\"viewBox=\"0 0 24 24\"\n",
              "       width=\"24px\">\n",
              "    <path d=\"M0 0h24v24H0V0z\" fill=\"none\"/>\n",
              "    <path d=\"M18.56 5.44l.94 2.06.94-2.06 2.06-.94-2.06-.94-.94-2.06-.94 2.06-2.06.94zm-11 1L8.5 8.5l.94-2.06 2.06-.94-2.06-.94L8.5 2.5l-.94 2.06-2.06.94zm10 10l.94 2.06.94-2.06 2.06-.94-2.06-.94-.94-2.06-.94 2.06-2.06.94z\"/><path d=\"M17.41 7.96l-1.37-1.37c-.4-.4-.92-.59-1.43-.59-.52 0-1.04.2-1.43.59L10.3 9.45l-7.72 7.72c-.78.78-.78 2.05 0 2.83L4 21.41c.39.39.9.59 1.41.59.51 0 1.02-.2 1.41-.59l7.78-7.78 2.81-2.81c.8-.78.8-2.07 0-2.86zM5.41 20L4 18.59l7.72-7.72 1.47 1.35L5.41 20z\"/>\n",
              "  </svg>\n",
              "      </button>\n",
              "      \n",
              "  <style>\n",
              "    .colab-df-container {\n",
              "      display:flex;\n",
              "      flex-wrap:wrap;\n",
              "      gap: 12px;\n",
              "    }\n",
              "\n",
              "    .colab-df-convert {\n",
              "      background-color: #E8F0FE;\n",
              "      border: none;\n",
              "      border-radius: 50%;\n",
              "      cursor: pointer;\n",
              "      display: none;\n",
              "      fill: #1967D2;\n",
              "      height: 32px;\n",
              "      padding: 0 0 0 0;\n",
              "      width: 32px;\n",
              "    }\n",
              "\n",
              "    .colab-df-convert:hover {\n",
              "      background-color: #E2EBFA;\n",
              "      box-shadow: 0px 1px 2px rgba(60, 64, 67, 0.3), 0px 1px 3px 1px rgba(60, 64, 67, 0.15);\n",
              "      fill: #174EA6;\n",
              "    }\n",
              "\n",
              "    [theme=dark] .colab-df-convert {\n",
              "      background-color: #3B4455;\n",
              "      fill: #D2E3FC;\n",
              "    }\n",
              "\n",
              "    [theme=dark] .colab-df-convert:hover {\n",
              "      background-color: #434B5C;\n",
              "      box-shadow: 0px 1px 3px 1px rgba(0, 0, 0, 0.15);\n",
              "      filter: drop-shadow(0px 1px 2px rgba(0, 0, 0, 0.3));\n",
              "      fill: #FFFFFF;\n",
              "    }\n",
              "  </style>\n",
              "\n",
              "      <script>\n",
              "        const buttonEl =\n",
              "          document.querySelector('#df-b978ab6f-014d-4f8e-b58e-8c5d1b251421 button.colab-df-convert');\n",
              "        buttonEl.style.display =\n",
              "          google.colab.kernel.accessAllowed ? 'block' : 'none';\n",
              "\n",
              "        async function convertToInteractive(key) {\n",
              "          const element = document.querySelector('#df-b978ab6f-014d-4f8e-b58e-8c5d1b251421');\n",
              "          const dataTable =\n",
              "            await google.colab.kernel.invokeFunction('convertToInteractive',\n",
              "                                                     [key], {});\n",
              "          if (!dataTable) return;\n",
              "\n",
              "          const docLinkHtml = 'Like what you see? Visit the ' +\n",
              "            '<a target=\"_blank\" href=https://colab.research.google.com/notebooks/data_table.ipynb>data table notebook</a>'\n",
              "            + ' to learn more about interactive tables.';\n",
              "          element.innerHTML = '';\n",
              "          dataTable['output_type'] = 'display_data';\n",
              "          await google.colab.output.renderOutput(dataTable, element);\n",
              "          const docLink = document.createElement('div');\n",
              "          docLink.innerHTML = docLinkHtml;\n",
              "          element.appendChild(docLink);\n",
              "        }\n",
              "      </script>\n",
              "    </div>\n",
              "  </div>\n",
              "  "
            ]
          },
          "metadata": {},
          "execution_count": 22
        }
      ]
    },
    {
      "cell_type": "code",
      "source": [
        "from scipy.cluster.hierarchy import linkage, dendrogram\n",
        "from scipy.cluster.hierarchy import fcluster"
      ],
      "metadata": {
        "id": "J_f0AbpZFOSP"
      },
      "execution_count": null,
      "outputs": []
    },
    {
      "cell_type": "code",
      "source": [
        "clusters = linkage(y=irisDF, method='complete', metric='euclidean') #완전연결방식 #유클리드 거리\n",
        "clusters\n",
        "clusters.shape "
      ],
      "metadata": {
        "id": "NJLjMKUoF1Ur",
        "colab": {
          "base_uri": "https://localhost:8080/"
        },
        "outputId": "2dc28c55-9cc0-4dd5-de9c-249aeda96205"
      },
      "execution_count": null,
      "outputs": [
        {
          "output_type": "execute_result",
          "data": {
            "text/plain": [
              "(149, 4)"
            ]
          },
          "metadata": {},
          "execution_count": 24
        }
      ]
    },
    {
      "cell_type": "code",
      "source": [
        "# 덴드로그램 시각화 - 군집수 결정을 위해 \n",
        "import matplotlib.pyplot as plt\n",
        "plt.figure( figsize = (25, 10) )\n",
        "dendrogram(clusters, leaf_rotation=90, leaf_font_size=12,)\n",
        "plt.show() "
      ],
      "metadata": {
        "id": "935k-E8xF5b1",
        "colab": {
          "base_uri": "https://localhost:8080/",
          "height": 437
        },
        "outputId": "1b8ec3a8-7a1c-4556-d220-9ba29fa40736"
      },
      "execution_count": null,
      "outputs": [
        {
          "output_type": "display_data",
          "data": {
            "text/plain": [
              "<Figure size 1800x720 with 1 Axes>"
            ],
            "image/png": "[encoded data removed]"
          },
          "metadata": {
            "needs_background": "light"
          }
        }
      ]
    },
    {
      "cell_type": "code",
      "source": [
        "# 클러스터링(군집) 결과\n",
        "from scipy.cluster.hierarchy import fcluster # 지정한 클러스터 자르기\n",
        "\n",
        "cut_tree = fcluster(clusters, t=3, criterion='distance') # prediction 3개정도로 지정\n",
        "cut_tree \n",
        "\n",
        "labels = irisDF['labels'] \n",
        "\n",
        "df = pd.DataFrame({'pred':cut_tree, 'labels':labels})\n",
        "\n",
        "con_mat = pd.crosstab(df['pred'], df['labels'])\n",
        "con_mat"
      ],
      "metadata": {
        "id": "3HUGadagGAEK",
        "colab": {
          "base_uri": "https://localhost:8080/",
          "height": 175
        },
        "outputId": "225aac25-43ac-4e21-9f8f-8b82b519dfb5"
      },
      "execution_count": null,
      "outputs": [
        {
          "output_type": "execute_result",
          "data": {
            "text/plain": [
              "labels   0   1   2\n",
              "pred              \n",
              "1       50   0   0\n",
              "2        0   0  34\n",
              "3        0  50  16"
            ],
            "text/html": [
              "\n",
              "  <div id=\"df-5129d921-ba38-4007-9247-c537c67db7e1\">\n",
              "    <div class=\"colab-df-container\">\n",
              "      <div>\n",
              "<style scoped>\n",
              "    .dataframe tbody tr th:only-of-type {\n",
              "        vertical-align: middle;\n",
              "    }\n",
              "\n",
              "    .dataframe tbody tr th {\n",
              "        vertical-align: top;\n",
              "    }\n",
              "\n",
              "    .dataframe thead th {\n",
              "        text-align: right;\n",
              "    }\n",
              "</style>\n",
              "<table border=\"1\" class=\"dataframe\">\n",
              "  <thead>\n",
              "    <tr style=\"text-align: right;\">\n",
              "      <th>labels</th>\n",
              "      <th>0</th>\n",
              "      <th>1</th>\n",
              "      <th>2</th>\n",
              "    </tr>\n",
              "    <tr>\n",
              "      <th>pred</th>\n",
              "      <th></th>\n",
              "      <th></th>\n",
              "      <th></th>\n",
              "    </tr>\n",
              "  </thead>\n",
              "  <tbody>\n",
              "    <tr>\n",
              "      <th>1</th>\n",
              "      <td>50</td>\n",
              "      <td>0</td>\n",
              "      <td>0</td>\n",
              "    </tr>\n",
              "    <tr>\n",
              "      <th>2</th>\n",
              "      <td>0</td>\n",
              "      <td>0</td>\n",
              "      <td>34</td>\n",
              "    </tr>\n",
              "    <tr>\n",
              "      <th>3</th>\n",
              "      <td>0</td>\n",
              "      <td>50</td>\n",
              "      <td>16</td>\n",
              "    </tr>\n",
              "  </tbody>\n",
              "</table>\n",
              "</div>\n",
              "      <button class=\"colab-df-convert\" onclick=\"convertToInteractive('df-5129d921-ba38-4007-9247-c537c67db7e1')\"\n",
              "              title=\"Convert this dataframe to an interactive table.\"\n",
              "              style=\"display:none;\">\n",
              "        \n",
              "  <svg xmlns=\"http://www.w3.org/2000/svg\" height=\"24px\"viewBox=\"0 0 24 24\"\n",
              "       width=\"24px\">\n",
              "    <path d=\"M0 0h24v24H0V0z\" fill=\"none\"/>\n",
              "    <path d=\"M18.56 5.44l.94 2.06.94-2.06 2.06-.94-2.06-.94-.94-2.06-.94 2.06-2.06.94zm-11 1L8.5 8.5l.94-2.06 2.06-.94-2.06-.94L8.5 2.5l-.94 2.06-2.06.94zm10 10l.94 2.06.94-2.06 2.06-.94-2.06-.94-.94-2.06-.94 2.06-2.06.94z\"/><path d=\"M17.41 7.96l-1.37-1.37c-.4-.4-.92-.59-1.43-.59-.52 0-1.04.2-1.43.59L10.3 9.45l-7.72 7.72c-.78.78-.78 2.05 0 2.83L4 21.41c.39.39.9.59 1.41.59.51 0 1.02-.2 1.41-.59l7.78-7.78 2.81-2.81c.8-.78.8-2.07 0-2.86zM5.41 20L4 18.59l7.72-7.72 1.47 1.35L5.41 20z\"/>\n",
              "  </svg>\n",
              "      </button>\n",
              "      \n",
              "  <style>\n",
              "    .colab-df-container {\n",
              "      display:flex;\n",
              "      flex-wrap:wrap;\n",
              "      gap: 12px;\n",
              "    }\n",
              "\n",
              "    .colab-df-convert {\n",
              "      background-color: #E8F0FE;\n",
              "      border: none;\n",
              "      border-radius: 50%;\n",
              "      cursor: pointer;\n",
              "      display: none;\n",
              "      fill: #1967D2;\n",
              "      height: 32px;\n",
              "      padding: 0 0 0 0;\n",
              "      width: 32px;\n",
              "    }\n",
              "\n",
              "    .colab-df-convert:hover {\n",
              "      background-color: #E2EBFA;\n",
              "      box-shadow: 0px 1px 2px rgba(60, 64, 67, 0.3), 0px 1px 3px 1px rgba(60, 64, 67, 0.15);\n",
              "      fill: #174EA6;\n",
              "    }\n",
              "\n",
              "    [theme=dark] .colab-df-convert {\n",
              "      background-color: #3B4455;\n",
              "      fill: #D2E3FC;\n",
              "    }\n",
              "\n",
              "    [theme=dark] .colab-df-convert:hover {\n",
              "      background-color: #434B5C;\n",
              "      box-shadow: 0px 1px 3px 1px rgba(0, 0, 0, 0.15);\n",
              "      filter: drop-shadow(0px 1px 2px rgba(0, 0, 0, 0.3));\n",
              "      fill: #FFFFFF;\n",
              "    }\n",
              "  </style>\n",
              "\n",
              "      <script>\n",
              "        const buttonEl =\n",
              "          document.querySelector('#df-5129d921-ba38-4007-9247-c537c67db7e1 button.colab-df-convert');\n",
              "        buttonEl.style.display =\n",
              "          google.colab.kernel.accessAllowed ? 'block' : 'none';\n",
              "\n",
              "        async function convertToInteractive(key) {\n",
              "          const element = document.querySelector('#df-5129d921-ba38-4007-9247-c537c67db7e1');\n",
              "          const dataTable =\n",
              "            await google.colab.kernel.invokeFunction('convertToInteractive',\n",
              "                                                     [key], {});\n",
              "          if (!dataTable) return;\n",
              "\n",
              "          const docLinkHtml = 'Like what you see? Visit the ' +\n",
              "            '<a target=\"_blank\" href=https://colab.research.google.com/notebooks/data_table.ipynb>data table notebook</a>'\n",
              "            + ' to learn more about interactive tables.';\n",
              "          element.innerHTML = '';\n",
              "          dataTable['output_type'] = 'display_data';\n",
              "          await google.colab.output.renderOutput(dataTable, element);\n",
              "          const docLink = document.createElement('div');\n",
              "          docLink.innerHTML = docLinkHtml;\n",
              "          element.appendChild(docLink);\n",
              "        }\n",
              "      </script>\n",
              "    </div>\n",
              "  </div>\n",
              "  "
            ]
          },
          "metadata": {},
          "execution_count": 26
        }
      ]
    },
    {
      "cell_type": "code",
      "source": [
        "# irisDF에 군집 예측치 추가\n",
        "irisDF.head()\n",
        "irisDF['cluster'] = cut_tree\n",
        "irisDF.head()"
      ],
      "metadata": {
        "id": "3TD_MFvwGF-v",
        "colab": {
          "base_uri": "https://localhost:8080/",
          "height": 206
        },
        "outputId": "cf280820-7002-424f-abc9-d2ef71c14005"
      },
      "execution_count": null,
      "outputs": [
        {
          "output_type": "execute_result",
          "data": {
            "text/plain": [
              "   Sepal.Length  Sepal.Width  Petal.Length  Petal.Width  labels  cluster\n",
              "0           5.1          3.5           1.4          0.2       0        1\n",
              "1           4.9          3.0           1.4          0.2       0        1\n",
              "2           4.7          3.2           1.3          0.2       0        1\n",
              "3           4.6          3.1           1.5          0.2       0        1\n",
              "4           5.0          3.6           1.4          0.2       0        1"
            ],
            "text/html": [
              "\n",
              "  <div id=\"df-1263a909-110d-4d0d-bc0f-3a3a791a8cfa\">\n",
              "    <div class=\"colab-df-container\">\n",
              "      <div>\n",
              "<style scoped>\n",
              "    .dataframe tbody tr th:only-of-type {\n",
              "        vertical-align: middle;\n",
              "    }\n",
              "\n",
              "    .dataframe tbody tr th {\n",
              "        vertical-align: top;\n",
              "    }\n",
              "\n",
              "    .dataframe thead th {\n",
              "        text-align: right;\n",
              "    }\n",
              "</style>\n",
              "<table border=\"1\" class=\"dataframe\">\n",
              "  <thead>\n",
              "    <tr style=\"text-align: right;\">\n",
              "      <th></th>\n",
              "      <th>Sepal.Length</th>\n",
              "      <th>Sepal.Width</th>\n",
              "      <th>Petal.Length</th>\n",
              "      <th>Petal.Width</th>\n",
              "      <th>labels</th>\n",
              "      <th>cluster</th>\n",
              "    </tr>\n",
              "  </thead>\n",
              "  <tbody>\n",
              "    <tr>\n",
              "      <th>0</th>\n",
              "      <td>5.1</td>\n",
              "      <td>3.5</td>\n",
              "      <td>1.4</td>\n",
              "      <td>0.2</td>\n",
              "      <td>0</td>\n",
              "      <td>1</td>\n",
              "    </tr>\n",
              "    <tr>\n",
              "      <th>1</th>\n",
              "      <td>4.9</td>\n",
              "      <td>3.0</td>\n",
              "      <td>1.4</td>\n",
              "      <td>0.2</td>\n",
              "      <td>0</td>\n",
              "      <td>1</td>\n",
              "    </tr>\n",
              "    <tr>\n",
              "      <th>2</th>\n",
              "      <td>4.7</td>\n",
              "      <td>3.2</td>\n",
              "      <td>1.3</td>\n",
              "      <td>0.2</td>\n",
              "      <td>0</td>\n",
              "      <td>1</td>\n",
              "    </tr>\n",
              "    <tr>\n",
              "      <th>3</th>\n",
              "      <td>4.6</td>\n",
              "      <td>3.1</td>\n",
              "      <td>1.5</td>\n",
              "      <td>0.2</td>\n",
              "      <td>0</td>\n",
              "      <td>1</td>\n",
              "    </tr>\n",
              "    <tr>\n",
              "      <th>4</th>\n",
              "      <td>5.0</td>\n",
              "      <td>3.6</td>\n",
              "      <td>1.4</td>\n",
              "      <td>0.2</td>\n",
              "      <td>0</td>\n",
              "      <td>1</td>\n",
              "    </tr>\n",
              "  </tbody>\n",
              "</table>\n",
              "</div>\n",
              "      <button class=\"colab-df-convert\" onclick=\"convertToInteractive('df-1263a909-110d-4d0d-bc0f-3a3a791a8cfa')\"\n",
              "              title=\"Convert this dataframe to an interactive table.\"\n",
              "              style=\"display:none;\">\n",
              "        \n",
              "  <svg xmlns=\"http://www.w3.org/2000/svg\" height=\"24px\"viewBox=\"0 0 24 24\"\n",
              "       width=\"24px\">\n",
              "    <path d=\"M0 0h24v24H0V0z\" fill=\"none\"/>\n",
              "    <path d=\"M18.56 5.44l.94 2.06.94-2.06 2.06-.94-2.06-.94-.94-2.06-.94 2.06-2.06.94zm-11 1L8.5 8.5l.94-2.06 2.06-.94-2.06-.94L8.5 2.5l-.94 2.06-2.06.94zm10 10l.94 2.06.94-2.06 2.06-.94-2.06-.94-.94-2.06-.94 2.06-2.06.94z\"/><path d=\"M17.41 7.96l-1.37-1.37c-.4-.4-.92-.59-1.43-.59-.52 0-1.04.2-1.43.59L10.3 9.45l-7.72 7.72c-.78.78-.78 2.05 0 2.83L4 21.41c.39.39.9.59 1.41.59.51 0 1.02-.2 1.41-.59l7.78-7.78 2.81-2.81c.8-.78.8-2.07 0-2.86zM5.41 20L4 18.59l7.72-7.72 1.47 1.35L5.41 20z\"/>\n",
              "  </svg>\n",
              "      </button>\n",
              "      \n",
              "  <style>\n",
              "    .colab-df-container {\n",
              "      display:flex;\n",
              "      flex-wrap:wrap;\n",
              "      gap: 12px;\n",
              "    }\n",
              "\n",
              "    .colab-df-convert {\n",
              "      background-color: #E8F0FE;\n",
              "      border: none;\n",
              "      border-radius: 50%;\n",
              "      cursor: pointer;\n",
              "      display: none;\n",
              "      fill: #1967D2;\n",
              "      height: 32px;\n",
              "      padding: 0 0 0 0;\n",
              "      width: 32px;\n",
              "    }\n",
              "\n",
              "    .colab-df-convert:hover {\n",
              "      background-color: #E2EBFA;\n",
              "      box-shadow: 0px 1px 2px rgba(60, 64, 67, 0.3), 0px 1px 3px 1px rgba(60, 64, 67, 0.15);\n",
              "      fill: #174EA6;\n",
              "    }\n",
              "\n",
              "    [theme=dark] .colab-df-convert {\n",
              "      background-color: #3B4455;\n",
              "      fill: #D2E3FC;\n",
              "    }\n",
              "\n",
              "    [theme=dark] .colab-df-convert:hover {\n",
              "      background-color: #434B5C;\n",
              "      box-shadow: 0px 1px 3px 1px rgba(0, 0, 0, 0.15);\n",
              "      filter: drop-shadow(0px 1px 2px rgba(0, 0, 0, 0.3));\n",
              "      fill: #FFFFFF;\n",
              "    }\n",
              "  </style>\n",
              "\n",
              "      <script>\n",
              "        const buttonEl =\n",
              "          document.querySelector('#df-1263a909-110d-4d0d-bc0f-3a3a791a8cfa button.colab-df-convert');\n",
              "        buttonEl.style.display =\n",
              "          google.colab.kernel.accessAllowed ? 'block' : 'none';\n",
              "\n",
              "        async function convertToInteractive(key) {\n",
              "          const element = document.querySelector('#df-1263a909-110d-4d0d-bc0f-3a3a791a8cfa');\n",
              "          const dataTable =\n",
              "            await google.colab.kernel.invokeFunction('convertToInteractive',\n",
              "                                                     [key], {});\n",
              "          if (!dataTable) return;\n",
              "\n",
              "          const docLinkHtml = 'Like what you see? Visit the ' +\n",
              "            '<a target=\"_blank\" href=https://colab.research.google.com/notebooks/data_table.ipynb>data table notebook</a>'\n",
              "            + ' to learn more about interactive tables.';\n",
              "          element.innerHTML = '';\n",
              "          dataTable['output_type'] = 'display_data';\n",
              "          await google.colab.output.renderOutput(dataTable, element);\n",
              "          const docLink = document.createElement('div');\n",
              "          docLink.innerHTML = docLinkHtml;\n",
              "          element.appendChild(docLink);\n",
              "        }\n",
              "      </script>\n",
              "    </div>\n",
              "  </div>\n",
              "  "
            ]
          },
          "metadata": {},
          "execution_count": 27
        }
      ]
    },
    {
      "cell_type": "code",
      "source": [
        "# 클러스터 단위 산점도 시각화\n",
        "plt.scatter(x=irisDF['Sepal.Length'], y=irisDF['Petal.Length'], c=irisDF['cluster'])"
      ],
      "metadata": {
        "id": "QgCuU6-AGKTy",
        "colab": {
          "base_uri": "https://localhost:8080/",
          "height": 283
        },
        "outputId": "ffe7e1d5-b558-4c0b-b93b-06a8c51b5f00"
      },
      "execution_count": null,
      "outputs": [
        {
          "output_type": "execute_result",
          "data": {
            "text/plain": [
              "<matplotlib.collections.PathCollection at 0x7fd0540f6a50>"
            ]
          },
          "metadata": {},
          "execution_count": 28
        },
        {
          "output_type": "display_data",
          "data": {
            "text/plain": [
              "<Figure size 432x288 with 1 Axes>"
            ],
            "image/png": "[encoded data removed]"
          },
          "metadata": {
            "needs_background": "light"
          }
        }
      ]
    },
    {
      "cell_type": "code",
      "source": [
        ""
      ],
      "metadata": {
        "id": "sDyTgShyGT2Y"
      },
      "execution_count": null,
      "outputs": []
    }
  ]
}