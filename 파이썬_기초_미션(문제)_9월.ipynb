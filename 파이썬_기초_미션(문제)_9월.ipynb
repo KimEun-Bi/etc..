{
  "nbformat": 4,
  "nbformat_minor": 0,
  "metadata": {
    "colab": {
      "provenance": [],
      "collapsed_sections": [],
      "authorship_tag": "ABX9TyPmI2l3jttY6Oh3H0ngAVVE",
      "include_colab_link": true
    },
    "kernelspec": {
      "name": "python3",
      "display_name": "Python 3"
    },
    "language_info": {
      "name": "python"
    }
  },
  "cells": [
    {
      "cell_type": "markdown",
      "metadata": {
        "id": "view-in-github",
        "colab_type": "text"
      },
      "source": [
        "<a href=\"https://colab.research.google.com/github/KimEun-Bi/etc../blob/master/%ED%8C%8C%EC%9D%B4%EC%8D%AC_%EA%B8%B0%EC%B4%88_%EB%AF%B8%EC%85%98(%EB%AC%B8%EC%A0%9C)_9%EC%9B%94.ipynb\" target=\"_parent\"><img src=\"https://colab.research.google.com/assets/colab-badge.svg\" alt=\"Open In Colab\"/></a>"
      ]
    },
    {
      "cell_type": "markdown",
      "source": [
        "\n",
        "#파이썬 기초"
      ],
      "metadata": {
        "id": "tFUABOzJWIJ2"
      }
    },
    {
      "cell_type": "markdown",
      "source": [],
      "metadata": {
        "id": "Y310DqrlBgrI"
      }
    },
    {
      "cell_type": "code",
      "source": [],
      "metadata": {
        "id": "okYYjPUUBcw9"
      },
      "execution_count": null,
      "outputs": []
    },
    {
      "cell_type": "code",
      "source": [
        "#코드를 작성할 거예요 ###주석이예요\n"
      ],
      "metadata": {
        "id": "kUz1EA4Q5GWn"
      },
      "execution_count": null,
      "outputs": []
    },
    {
      "cell_type": "code",
      "source": [
        "#print는 출력을 하게 해줍니다.\n",
        "print(\"Hello world\")"
      ],
      "metadata": {
        "colab": {
          "base_uri": "https://localhost:8080/"
        },
        "id": "sWfF-F8F8ViH",
        "outputId": "be8f6d31-7582-4a47-a6a2-e3d6ba3a30ba"
      },
      "execution_count": null,
      "outputs": [
        {
          "output_type": "stream",
          "name": "stdout",
          "text": [
            "Hello world\n"
          ]
        }
      ]
    },
    {
      "cell_type": "markdown",
      "source": [
        "print 배웁니다"
      ],
      "metadata": {
        "id": "fYttovhF8mQd"
      }
    },
    {
      "cell_type": "markdown",
      "source": [
        "**메모**"
      ],
      "metadata": {
        "id": "SODwyLMODTBC"
      }
    },
    {
      "cell_type": "code",
      "execution_count": null,
      "metadata": {
        "id": "hsVU3Oax1sTF",
        "colab": {
          "base_uri": "https://localhost:8080/"
        },
        "outputId": "e73e23a6-85e8-4461-d358-4b9cab152f94"
      },
      "outputs": [
        {
          "output_type": "stream",
          "name": "stdout",
          "text": [
            "김 치전이 먹고 싶어요\n",
            "은 비랑\n",
            "비 내리는 날에\n"
          ]
        }
      ],
      "source": [
        "#미션1. 이름으로 삼행시 짓기\n",
        "print(\"김 치전이 먹고 싶어요\")\n",
        "print(\"은 비랑\")\n",
        "print(\"비 내리는 날에\")"
      ]
    },
    {
      "cell_type": "code",
      "source": [
        "print(\"'김' 치전이 먹고 싶어요\")\n",
        "print(\"'은' 비랑\")\n",
        "print(\"'비' 내리는 날에\")"
      ],
      "metadata": {
        "id": "P_77plKY8WPI",
        "colab": {
          "base_uri": "https://localhost:8080/"
        },
        "outputId": "25d22f83-b628-417b-c6ae-139185b0e8d0"
      },
      "execution_count": null,
      "outputs": [
        {
          "output_type": "stream",
          "name": "stdout",
          "text": [
            "'김' 치전이 먹고 싶어요\n",
            "'은' 비랑\n",
            "'비' 내리는 날에\n"
          ]
        }
      ]
    },
    {
      "cell_type": "code",
      "source": [
        "print('\"김\" 치전이 먹고 싶어요')\n",
        "print('\"은\" 비랑')\n",
        "print('\"비\" 내리는 날에')"
      ],
      "metadata": {
        "colab": {
          "base_uri": "https://localhost:8080/"
        },
        "id": "d12jbWLx_O08",
        "outputId": "41a659aa-7a43-42fa-83c6-b641a66ec54c"
      },
      "execution_count": null,
      "outputs": [
        {
          "output_type": "stream",
          "name": "stdout",
          "text": [
            "\"김\" 치전이 먹고 싶어요\n",
            "\"은\" 비랑\n",
            "\"비\" 내리는 날에\n"
          ]
        }
      ]
    },
    {
      "cell_type": "code",
      "source": [],
      "metadata": {
        "id": "_3dYaHx1_Ovg"
      },
      "execution_count": null,
      "outputs": []
    },
    {
      "cell_type": "code",
      "source": [
        "######주석\n"
      ],
      "metadata": {
        "id": "A7PCp-XAV-vx"
      },
      "execution_count": null,
      "outputs": []
    },
    {
      "cell_type": "code",
      "source": [],
      "metadata": {
        "id": "BgC_btFuGWDu"
      },
      "execution_count": null,
      "outputs": []
    },
    {
      "cell_type": "code",
      "source": [
        "my_var1 = \"한글\"\n",
        "print(my_var1)"
      ],
      "metadata": {
        "colab": {
          "base_uri": "https://localhost:8080/"
        },
        "id": "Hhm8lON0GYs_",
        "outputId": "72c2eb6e-5717-486c-879f-40d5d6fa373b"
      },
      "execution_count": null,
      "outputs": [
        {
          "output_type": "stream",
          "name": "stdout",
          "text": [
            "한글\n"
          ]
        }
      ]
    },
    {
      "cell_type": "code",
      "source": [
        "#미션2. 여러분의 변수를 만들어봅시다. my_var라는 이름의 변수를 만들고, print로 출력해서 확인해봅시다 #123\n",
        "my_var = 10\n",
        "print(my_var)"
      ],
      "metadata": {
        "id": "2gLwF9QH1uz1",
        "colab": {
          "base_uri": "https://localhost:8080/"
        },
        "outputId": "82ea75d5-a81a-4647-e0a2-cb94cd847b57"
      },
      "execution_count": null,
      "outputs": [
        {
          "output_type": "stream",
          "name": "stdout",
          "text": [
            "10\n"
          ]
        }
      ]
    },
    {
      "cell_type": "code",
      "source": [
        "#숫자형\n",
        "type(10) #int = 정수"
      ],
      "metadata": {
        "id": "az3TI7ivWJke"
      },
      "execution_count": null,
      "outputs": []
    },
    {
      "cell_type": "code",
      "source": [
        "type(10.4) #float = 실수"
      ],
      "metadata": {
        "id": "Rx6FKKyRIZwI"
      },
      "execution_count": null,
      "outputs": []
    },
    {
      "cell_type": "code",
      "source": [
        "#연산\n",
        "#더하기\n",
        "a = 10\n",
        "b = 2\n",
        "a+b"
      ],
      "metadata": {
        "id": "2u0nNkYpWJtg"
      },
      "execution_count": null,
      "outputs": []
    },
    {
      "cell_type": "code",
      "source": [
        "#빼기\n",
        "a-b"
      ],
      "metadata": {
        "id": "RhBxOYxoWJ4b"
      },
      "execution_count": null,
      "outputs": []
    },
    {
      "cell_type": "code",
      "source": [
        "#곱셈\n",
        "a*b"
      ],
      "metadata": {
        "id": "dEkArHklWnuU"
      },
      "execution_count": null,
      "outputs": []
    },
    {
      "cell_type": "code",
      "source": [
        " #제곱\n",
        "a**b"
      ],
      "metadata": {
        "id": "vL1vwqOEWnws"
      },
      "execution_count": null,
      "outputs": []
    },
    {
      "cell_type": "code",
      "source": [
        "#나누기\n",
        "a/b"
      ],
      "metadata": {
        "id": "ER261ulrWn0i"
      },
      "execution_count": null,
      "outputs": []
    },
    {
      "cell_type": "code",
      "source": [
        " #나머지\n",
        "a%b"
      ],
      "metadata": {
        "id": "QTApI2_GXHP2"
      },
      "execution_count": null,
      "outputs": []
    },
    {
      "cell_type": "code",
      "source": [
        "#몫\n",
        "a//b"
      ],
      "metadata": {
        "id": "dgaJPx_LXPCA"
      },
      "execution_count": null,
      "outputs": []
    },
    {
      "cell_type": "code",
      "source": [
        "#미션3.0\n",
        "## 숫자 50과 숫자 50 더해서 출력하기\n",
        "a = 50\n",
        "b = 50\n",
        "\n",
        "print(a+b)"
      ],
      "metadata": {
        "id": "bPhPyWSI1wv1",
        "colab": {
          "base_uri": "https://localhost:8080/"
        },
        "outputId": "df9dd727-5ea5-4063-9c94-13f75edfd786"
      },
      "execution_count": null,
      "outputs": [
        {
          "output_type": "stream",
          "name": "stdout",
          "text": [
            "100\n"
          ]
        }
      ]
    },
    {
      "cell_type": "code",
      "source": [
        "print(50+50)"
      ],
      "metadata": {
        "id": "LNuXLQVzZ2wU",
        "colab": {
          "base_uri": "https://localhost:8080/"
        },
        "outputId": "4b774336-7d5e-40fa-eca8-857f8f1233d8"
      },
      "execution_count": null,
      "outputs": [
        {
          "output_type": "stream",
          "name": "stdout",
          "text": [
            "100\n"
          ]
        }
      ]
    },
    {
      "cell_type": "code",
      "source": [
        "type(\"hello world\") #str = 문자형을 뜻합니다"
      ],
      "metadata": {
        "id": "2GFToznSLlp_"
      },
      "execution_count": null,
      "outputs": []
    },
    {
      "cell_type": "code",
      "source": [
        "print(\"안녕\"+\"하세요\")"
      ],
      "metadata": {
        "id": "TPkXRaFQFnif"
      },
      "execution_count": null,
      "outputs": []
    },
    {
      "cell_type": "code",
      "source": [
        "print(\"안녕\"*3)"
      ],
      "metadata": {
        "id": "GRyAZPwoFnrG"
      },
      "execution_count": null,
      "outputs": []
    },
    {
      "cell_type": "code",
      "source": [
        "#미션3.1\n",
        "## 문자열 50과 문자열 50 더해서 출력하기\n",
        "a ='50'\n",
        "b = '50'\n",
        "print(a+b)"
      ],
      "metadata": {
        "id": "Bo8UAYyj1y21"
      },
      "execution_count": null,
      "outputs": []
    },
    {
      "cell_type": "code",
      "source": [
        "print('50'+'50')"
      ],
      "metadata": {
        "id": "Az8mLqgIOufZ"
      },
      "execution_count": null,
      "outputs": []
    },
    {
      "cell_type": "code",
      "source": [
        "#미션3.3 거꾸로 계산기\n",
        "# //을 이용해서 변수 intdiv에 4를 넢은 수식을 작성해봅니다. \n",
        "intdiv = 16//4\n",
        "#%을 이용하여 변수 modular에 1을 넣는 수식을 작성해봅니다\n",
        "modular = 7%6\n",
        "#**을 이용해서 변수 expo에 16을 넣는 수식을 작성해봅시다.\n",
        "expo = 4**2\n",
        "#위의 세변수를 출력해서 확인해봅시다\n",
        "print(intdiv)\n",
        "print(modular)\n",
        "print(expo)"
      ],
      "metadata": {
        "id": "AdXqgo-j1184",
        "colab": {
          "base_uri": "https://localhost:8080/"
        },
        "outputId": "aa150620-8a59-4b11-b801-9f3264ee62f1"
      },
      "execution_count": null,
      "outputs": [
        {
          "output_type": "stream",
          "name": "stdout",
          "text": [
            "4\n",
            "1\n",
            "16\n"
          ]
        }
      ]
    },
    {
      "cell_type": "code",
      "source": [
        "#미션3.3 거꾸로 계산기\n",
        "# //을 이용해서 변수 intdiv에 4를 넢은 수식을 작성해봅니다. \n",
        "intdiv = 16//4\n",
        "#%을 이용하여 변수 modular에 1을 넣는 수식을 작성해봅니다\n",
        "modular = 7%6\n",
        "#**을 이용해서 변수 expo에 16을 넣는 수식을 작성해봅시다.\n",
        "expo = 4**2\n",
        "#위의 세변수를 출력해서 확인해봅시다\n",
        "print(intdiv, modular, expo)"
      ],
      "metadata": {
        "colab": {
          "base_uri": "https://localhost:8080/"
        },
        "id": "I86OJvCGJdh4",
        "outputId": "d06cfb0f-3d00-4462-a0fd-53bd569c1b5d"
      },
      "execution_count": null,
      "outputs": [
        {
          "output_type": "stream",
          "name": "stdout",
          "text": [
            "4 1 16\n"
          ]
        }
      ]
    },
    {
      "cell_type": "code",
      "source": [
        "#불린\n",
        "##자료 묶음으로 리스트 튜플 "
      ],
      "metadata": {
        "id": "_ad7h5EQdkyk"
      },
      "execution_count": null,
      "outputs": []
    },
    {
      "cell_type": "code",
      "source": [
        "#불린\n",
        "#faㅣse 또는 true 출력\n",
        "\n",
        "a = 1\n",
        "b = 2\n",
        "print(a<b)"
      ],
      "metadata": {
        "id": "-EuVac9dgxnv"
      },
      "execution_count": null,
      "outputs": []
    },
    {
      "cell_type": "code",
      "source": [
        "print(a>b)"
      ],
      "metadata": {
        "id": "9xb4tSLhg_Vo"
      },
      "execution_count": null,
      "outputs": []
    },
    {
      "cell_type": "code",
      "source": [
        "t,f = True, False\n",
        "type(t)"
      ],
      "metadata": {
        "id": "bhxvMQ6ChEdB"
      },
      "execution_count": null,
      "outputs": []
    },
    {
      "cell_type": "code",
      "source": [
        "#and or not\n",
        "ab = 3==3 and 2<5\n",
        "bc = 3==4 or 2<5\n",
        "print(ab, bc)"
      ],
      "metadata": {
        "id": "3WkzYNXwheGd"
      },
      "execution_count": null,
      "outputs": []
    },
    {
      "cell_type": "code",
      "source": [
        "cd = not 4>5\n",
        "print(cd)"
      ],
      "metadata": {
        "id": "qxG0F-fkOElp"
      },
      "execution_count": null,
      "outputs": []
    },
    {
      "cell_type": "code",
      "source": [
        "#미션4. 비교연산자로 명제 만들기\n",
        "## == 혹은 != 연산자를 이용해서 True인 명제를 ans1에 넣어봅시다.\n",
        "ans1 = 3==3\n",
        "## > 혹은 < 연산자를 이용해서 False인 명제를 ans2에 넣어봅시다\n",
        "ans2 = 4<3\n",
        "##위의 변수를 출력해서 정답을 확인해봅시다. \n",
        "print(ans1, ans2)"
      ],
      "metadata": {
        "id": "8FaGiYer132V",
        "colab": {
          "base_uri": "https://localhost:8080/"
        },
        "outputId": "46544516-df45-4e7c-f3dd-8d0f9f212ae9"
      },
      "execution_count": null,
      "outputs": [
        {
          "output_type": "stream",
          "name": "stdout",
          "text": [
            "True False\n"
          ]
        }
      ]
    },
    {
      "cell_type": "code",
      "source": [
        "##데이터 묶음으로 표현이 가능한 자료형 : 리스트\n",
        "a = [1,2,3,4,5]"
      ],
      "metadata": {
        "id": "oxs1FjCgkC0C"
      },
      "execution_count": null,
      "outputs": []
    },
    {
      "cell_type": "code",
      "source": [
        "type(a)"
      ],
      "metadata": {
        "id": "zzls1-WHkC_M"
      },
      "execution_count": null,
      "outputs": []
    },
    {
      "cell_type": "code",
      "source": [
        "v = [\"화이자\", \"모더나\", \"AZ\", \"얀센\"]\n",
        "type(v)"
      ],
      "metadata": {
        "id": "xaNCSWOmlQl7"
      },
      "execution_count": null,
      "outputs": []
    },
    {
      "cell_type": "code",
      "source": [
        "#데이터를 뽑아오는것을 인덱싱이라하고, 파이썬의 순서는 0부터 시작을 한다!!!\n",
        "v[0]"
      ],
      "metadata": {
        "id": "QBB9-iTGk8jW"
      },
      "execution_count": null,
      "outputs": []
    },
    {
      "cell_type": "code",
      "source": [
        "#인덱싱\n",
        "v[1]"
      ],
      "metadata": {
        "id": "BUjhaWEUlkYL"
      },
      "execution_count": null,
      "outputs": []
    },
    {
      "cell_type": "code",
      "source": [
        "#인덱싱\n",
        "v[-1]"
      ],
      "metadata": {
        "id": "cv9SPatMlbYa"
      },
      "execution_count": null,
      "outputs": []
    },
    {
      "cell_type": "code",
      "source": [
        "v = [\"화이자\", \"모더나\", \"AZ\", \"얀센\"]"
      ],
      "metadata": {
        "id": "RdbgAgm-UN-V"
      },
      "execution_count": null,
      "outputs": []
    },
    {
      "cell_type": "code",
      "source": [
        "#슬라이싱: 데이터를 쪼개기\n",
        "v[1:]"
      ],
      "metadata": {
        "id": "PaXUYREPlwbP"
      },
      "execution_count": null,
      "outputs": []
    },
    {
      "cell_type": "code",
      "source": [
        "v[:2]"
      ],
      "metadata": {
        "id": "JUvBTnlyl8v_"
      },
      "execution_count": null,
      "outputs": []
    },
    {
      "cell_type": "code",
      "source": [
        "v[:]"
      ],
      "metadata": {
        "id": "s9UB-zWLcR-p"
      },
      "execution_count": null,
      "outputs": []
    },
    {
      "cell_type": "code",
      "source": [
        " #n-1\n",
        "v[:-1]"
      ],
      "metadata": {
        "id": "AG9f4l7NmB1p"
      },
      "execution_count": null,
      "outputs": []
    },
    {
      "cell_type": "code",
      "source": [
        "#인덱싱을 사용해서 수정도 가능해요\n",
        "v[2] = 'AA'\n",
        "v"
      ],
      "metadata": {
        "id": "p2aRnKFSmeAi"
      },
      "execution_count": null,
      "outputs": []
    },
    {
      "cell_type": "code",
      "source": [
        "#추가도 가능해요\n",
        "v.append('BB')\n",
        "v"
      ],
      "metadata": {
        "id": "N5KSGdP-msUh",
        "colab": {
          "base_uri": "https://localhost:8080/"
        },
        "outputId": "7422a14a-5fe3-45ca-f7a8-22a692a3bfaf"
      },
      "execution_count": null,
      "outputs": [
        {
          "output_type": "execute_result",
          "data": {
            "text/plain": [
              "['화이자', '모더나', 'AA', '얀센', 'BB', 'BB', 'BB', 'BB']"
            ]
          },
          "metadata": {},
          "execution_count": 47
        }
      ]
    },
    {
      "cell_type": "code",
      "source": [
        "v.remove('BB')"
      ],
      "metadata": {
        "id": "7rOXHERtc8PU"
      },
      "execution_count": null,
      "outputs": []
    },
    {
      "cell_type": "code",
      "source": [
        "v"
      ],
      "metadata": {
        "id": "bFUoZUh-YR-R"
      },
      "execution_count": null,
      "outputs": []
    },
    {
      "cell_type": "code",
      "source": [
        "v.remove('화이자')\n",
        "v"
      ],
      "metadata": {
        "id": "4LQ9iiqjYXGh"
      },
      "execution_count": null,
      "outputs": []
    },
    {
      "cell_type": "code",
      "source": [
        "#추가하는 방법은 insert\n",
        "v.insert(0,'CC')"
      ],
      "metadata": {
        "id": "sG_GEdwZm7BC"
      },
      "execution_count": null,
      "outputs": []
    },
    {
      "cell_type": "code",
      "source": [
        "v"
      ],
      "metadata": {
        "id": "8Y0e548CYq4F"
      },
      "execution_count": null,
      "outputs": []
    },
    {
      "cell_type": "code",
      "source": [],
      "metadata": {
        "id": "_iaOVFMp6zWE"
      },
      "execution_count": null,
      "outputs": []
    },
    {
      "cell_type": "code",
      "source": [
        "v"
      ],
      "metadata": {
        "colab": {
          "base_uri": "https://localhost:8080/"
        },
        "id": "hU4SwpSEY7SO",
        "outputId": "fd891a5c-7444-4b17-ad12-33cd8cdae316"
      },
      "execution_count": null,
      "outputs": [
        {
          "output_type": "execute_result",
          "data": {
            "text/plain": [
              "['AA', 'BB', 'BB', 'BB', 'CC', '모더나', '얀센']"
            ]
          },
          "metadata": {},
          "execution_count": 54
        }
      ]
    },
    {
      "cell_type": "code",
      "source": [
        "v = [\"화이자\", \"모더나\", \"AZ\", \"얀센\"]"
      ],
      "metadata": {
        "id": "hlUn-E9c6pif"
      },
      "execution_count": null,
      "outputs": []
    },
    {
      "cell_type": "code",
      "source": [
        "#정렬 sort()\n",
        "v.sort()"
      ],
      "metadata": {
        "id": "Vugbub0G9bSs"
      },
      "execution_count": null,
      "outputs": []
    },
    {
      "cell_type": "code",
      "source": [
        "v"
      ],
      "metadata": {
        "id": "OMyaCIu4614l"
      },
      "execution_count": null,
      "outputs": []
    },
    {
      "cell_type": "code",
      "source": [
        "#거꾸로 정렬 reverse()\n",
        "v.reverse()\n",
        "v"
      ],
      "metadata": {
        "id": "VNZbz5bG9bjr"
      },
      "execution_count": null,
      "outputs": []
    },
    {
      "cell_type": "code",
      "source": [
        "#index -> 위치를 알려줍니다\n",
        "v.index('화이자')"
      ],
      "metadata": {
        "id": "9MSvjM9b-A7x"
      },
      "execution_count": null,
      "outputs": []
    },
    {
      "cell_type": "code",
      "source": [
        "#미션3.1\n",
        "## 리스트 50과 리스트 50 더해서 출력하기\n",
        "a = [50]\n",
        "b = [50]\n",
        "print(a+b)"
      ],
      "metadata": {
        "id": "49Xyy91U10eV",
        "colab": {
          "base_uri": "https://localhost:8080/"
        },
        "outputId": "07cddf83-1ef6-4200-88d4-d7c59122d1bc"
      },
      "execution_count": null,
      "outputs": [
        {
          "output_type": "stream",
          "name": "stdout",
          "text": [
            "[50, 50]\n"
          ]
        }
      ]
    },
    {
      "cell_type": "code",
      "source": [
        "print([50]+[50])"
      ],
      "metadata": {
        "colab": {
          "base_uri": "https://localhost:8080/"
        },
        "id": "YFZps9kW-Il3",
        "outputId": "8c455714-b725-431b-8cc9-c8f860f8c26c"
      },
      "execution_count": null,
      "outputs": [
        {
          "output_type": "stream",
          "name": "stdout",
          "text": [
            "[50, 50]\n"
          ]
        }
      ]
    },
    {
      "cell_type": "code",
      "source": [
        "z = [\"화이자\", \"화이자\", \"모더나\", \"AZ\", \"얀센\"]\n",
        "z"
      ],
      "metadata": {
        "colab": {
          "base_uri": "https://localhost:8080/"
        },
        "id": "t6s2mqsp7PGX",
        "outputId": "f63810ac-19e3-4856-f125-0dc7bee0c793"
      },
      "execution_count": null,
      "outputs": [
        {
          "output_type": "execute_result",
          "data": {
            "text/plain": [
              "['화이자', '화이자', '모더나', 'AZ', '얀센']"
            ]
          },
          "metadata": {},
          "execution_count": 7
        }
      ]
    },
    {
      "cell_type": "code",
      "source": [
        "z.index('화이자')"
      ],
      "metadata": {
        "colab": {
          "base_uri": "https://localhost:8080/"
        },
        "id": "lKCI6Jkb7V9K",
        "outputId": "408d3466-4087-4935-ac69-977398dc15d9"
      },
      "execution_count": null,
      "outputs": [
        {
          "output_type": "execute_result",
          "data": {
            "text/plain": [
              "0"
            ]
          },
          "metadata": {},
          "execution_count": 8
        }
      ]
    },
    {
      "cell_type": "code",
      "source": [
        "#튜플: 수정이 불가능\n",
        "a = ('화이자', '모더나')\n",
        "a"
      ],
      "metadata": {
        "id": "JnhrW4UymA9e"
      },
      "execution_count": null,
      "outputs": []
    },
    {
      "cell_type": "code",
      "source": [
        "type(a)"
      ],
      "metadata": {
        "id": "YR3wAA_f-kvM"
      },
      "execution_count": null,
      "outputs": []
    },
    {
      "cell_type": "code",
      "source": [
        "#set 중복이 허용되지 않습니다.\n",
        "user_a = {\"user_1\", \"user_2\", \"user_3\", \"user_1\"}\n",
        "user_b = {\"user_1\",\"user_2\"}\n",
        "print(user_a)"
      ],
      "metadata": {
        "id": "m71_6YSZBTiu"
      },
      "execution_count": null,
      "outputs": []
    },
    {
      "cell_type": "code",
      "source": [
        "type(user_a)"
      ],
      "metadata": {
        "id": "q9hgzJbWBTz7"
      },
      "execution_count": null,
      "outputs": []
    },
    {
      "cell_type": "code",
      "source": [
        "#교집합\n",
        "user_a & user_b"
      ],
      "metadata": {
        "id": "pXEwxy5RCfYp"
      },
      "execution_count": null,
      "outputs": []
    },
    {
      "cell_type": "code",
      "source": [
        "#합집합\n",
        "user_a | user_b"
      ],
      "metadata": {
        "id": "gNhVPKrZCfnF"
      },
      "execution_count": null,
      "outputs": []
    },
    {
      "cell_type": "code",
      "source": [
        "#차집합\n",
        "user_a - user_b"
      ],
      "metadata": {
        "id": "JF6z6PmMCTbK"
      },
      "execution_count": null,
      "outputs": []
    },
    {
      "cell_type": "code",
      "source": [
        "#딕셔너리 dictionary : key 와 value(값)\n",
        "dic_1 = {'제조사': '화이자', '플랫폼':'핵산', '연령':'만 16세이상'}\n",
        "dic_1"
      ],
      "metadata": {
        "id": "__cvMcZNFUmX"
      },
      "execution_count": null,
      "outputs": []
    },
    {
      "cell_type": "code",
      "source": [
        "type(dic_1)"
      ],
      "metadata": {
        "id": "fjFQ7GzEDWJm"
      },
      "execution_count": null,
      "outputs": []
    },
    {
      "cell_type": "code",
      "source": [
        "dic_1['제조사']"
      ],
      "metadata": {
        "colab": {
          "base_uri": "https://localhost:8080/",
          "height": 35
        },
        "id": "m4niXTQbEdC6",
        "outputId": "447d474f-5eb1-46c4-df05-4558c82a8553"
      },
      "execution_count": null,
      "outputs": [
        {
          "output_type": "execute_result",
          "data": {
            "text/plain": [
              "'화이자'"
            ],
            "application/vnd.google.colaboratory.intrinsic+json": {
              "type": "string"
            }
          },
          "metadata": {},
          "execution_count": 26
        }
      ]
    },
    {
      "cell_type": "markdown",
      "source": [],
      "metadata": {
        "id": "uXhczgtHqs76"
      }
    },
    {
      "cell_type": "code",
      "source": [
        "#input -> 자료 입력 => 숫자 입력 후 엔터를 치셔야 됩니다.\n",
        "a = input()\n",
        "a"
      ],
      "metadata": {
        "id": "cjnNFRwOFU1L",
        "colab": {
          "base_uri": "https://localhost:8080/",
          "height": 53
        },
        "outputId": "8a5ef923-6a95-40a1-9a11-427ed6fb7968"
      },
      "execution_count": null,
      "outputs": [
        {
          "name": "stdout",
          "output_type": "stream",
          "text": [
            "100\n"
          ]
        },
        {
          "output_type": "execute_result",
          "data": {
            "text/plain": [
              "'100'"
            ],
            "application/vnd.google.colaboratory.intrinsic+json": {
              "type": "string"
            }
          },
          "metadata": {},
          "execution_count": 32
        }
      ]
    },
    {
      "cell_type": "code",
      "source": [
        "type(a)"
      ],
      "metadata": {
        "id": "f6D1GMTmFZo7"
      },
      "execution_count": null,
      "outputs": []
    },
    {
      "cell_type": "code",
      "source": [
        "#형변환: 자료형(변수이름)\n",
        "b = int(a)\n",
        "b"
      ],
      "metadata": {
        "id": "SE5BKB7wFfM0"
      },
      "execution_count": null,
      "outputs": []
    },
    {
      "cell_type": "code",
      "source": [
        "type(b)"
      ],
      "metadata": {
        "id": "EfucmGNGEcYQ"
      },
      "execution_count": null,
      "outputs": []
    },
    {
      "cell_type": "code",
      "source": [
        "#미션5. 2배로 적금만들기\n",
        "##변수 money에 input을 이용해서 입력을 받아봅시다.\n",
        "money = input()\n",
        "##money를 int형으로 변환해서, 다시 money에 넣어줍니다.\n",
        "money = int(money)\n",
        "##money를 2배로 불려서 print로 출력을 해봅시다\n",
        "print(money*2)"
      ],
      "metadata": {
        "id": "DjwZZgNz17S7"
      },
      "execution_count": null,
      "outputs": []
    },
    {
      "cell_type": "code",
      "source": [
        "#미션6. 기차놀이\n",
        "#현재 기차에는 3명의 승객이 탑승하고 있습니다. ('금비','은비','동비')\n",
        "train = ['금비','은비','동비']\n",
        "#서울역에 정차했습니다.##승객 '까비'를 맨 뒷칸에 태우세요\n",
        "train.append('까비')\n",
        "print('서울역 도착,//', train)\n",
        "#대전역에 정차했습니다.##1등석 승객 '선녀'가 탑습했습니다. 맨앞에 태우세요\n",
        "train.insert(0, '선녀')\n",
        "print('대전역 도착.//', train)\n",
        "#동대구역에 정차했습니다.##승객 '은비'를 하차시켜주세요\n",
        "train.remove('은비')\n",
        "print('동대구역 도착.//', train)\n",
        "#마지막 역인 부산에 정차했습니다.##원할한 하차를 위해 손님들의 자리를 사전순으로 다시 지정해주세요\n",
        "train.sort()\n",
        "print('부산역 도착.//', train)"
      ],
      "metadata": {
        "id": "jPFwY2PD1_6S",
        "colab": {
          "base_uri": "https://localhost:8080/"
        },
        "outputId": "fc59bed0-68af-4631-9cf6-48f555a8933d"
      },
      "execution_count": null,
      "outputs": [
        {
          "output_type": "stream",
          "name": "stdout",
          "text": [
            "서울역 도착,// ['금비', '은비', '동비', '까비']\n",
            "대전역 도착.// ['선녀', '금비', '은비', '동비', '까비']\n",
            "동대구역 도착.// ['선녀', '금비', '동비', '까비']\n",
            "부산역 도착.// ['금비', '까비', '동비', '선녀']\n"
          ]
        }
      ]
    },
    {
      "cell_type": "code",
      "source": [],
      "metadata": {
        "id": "qDXT7imZFS7J"
      },
      "execution_count": null,
      "outputs": []
    },
    {
      "cell_type": "code",
      "source": [
        "#교통카드충전하기"
      ],
      "metadata": {
        "id": "p7evtjeMI35Z"
      },
      "execution_count": null,
      "outputs": []
    },
    {
      "cell_type": "code",
      "source": [
        "###if 문 조건을 배울거다\n",
        "a = 42\n",
        "b = 100\n",
        "\n",
        "if b>a:\n",
        "  print(\"b가 a 보다 크다\")"
      ],
      "metadata": {
        "id": "BqhCOIcUI37v"
      },
      "execution_count": null,
      "outputs": []
    },
    {
      "cell_type": "code",
      "source": [
        "a = 100\n",
        "b = 42\n",
        "\n",
        "if b>a:\n",
        "  print(\"b가 a 보다 크다\")\n",
        "else:\n",
        "  print(\"b가 a보다 작거나 같다\")"
      ],
      "metadata": {
        "id": "XZ4kRov6QHsE"
      },
      "execution_count": null,
      "outputs": []
    },
    {
      "cell_type": "code",
      "source": [
        "#elif:  그렇지않으면\n",
        "a = 41\n",
        "b = 41\n",
        "\n",
        "if b>a:\n",
        "  print('b가 a보다 큼')\n",
        "elif a ==b:\n",
        "  print('a와b는 같음')"
      ],
      "metadata": {
        "id": "KR19zBS3I4D8"
      },
      "execution_count": null,
      "outputs": []
    },
    {
      "cell_type": "code",
      "source": [
        "#else -> if - elif - else\n"
      ],
      "metadata": {
        "id": "MHdmJKvSTO5K"
      },
      "execution_count": null,
      "outputs": []
    },
    {
      "cell_type": "code",
      "source": [
        "##응용 . 점심메뉴 정하기\n",
        "메뉴 = \"김밥\"\n",
        "중국집 = {\"짜장면\",\"짬뽕\",\"볶음밥\"}\n",
        "일식집 = {\"초밥\", \"돈까스\", \"우동\"}\n",
        "\n",
        "if 메뉴 in 중국집:\n",
        "  print(\"중국집으로 가자\")\n",
        "elif 메뉴 in 일식집:\n",
        "  print(\"일식집으로 가자\")\n",
        "else:\n",
        "  print(\"맥도날드나 먹자\")"
      ],
      "metadata": {
        "id": "DrJCeIRcI4Hy"
      },
      "execution_count": null,
      "outputs": []
    },
    {
      "cell_type": "code",
      "source": [
        "#or and\n",
        "a = 42\n",
        "b = 100\n",
        "\n",
        "if b>a and b<200:\n",
        "  print(\"b가 a보다크고 200보다는 작음\")"
      ],
      "metadata": {
        "id": "k3eaZUpvVMzf",
        "colab": {
          "base_uri": "https://localhost:8080/"
        },
        "outputId": "f54f570a-4fa3-450e-a27b-a18ed1373fd4"
      },
      "execution_count": null,
      "outputs": [
        {
          "output_type": "stream",
          "name": "stdout",
          "text": [
            "b가 a보다크고 200보다는 작음\n"
          ]
        }
      ]
    },
    {
      "cell_type": "code",
      "source": [
        "a = 42\n",
        "b = 8\n",
        "if b>a or b>5:\n",
        "  print(\"b가 a보다 크거나 5보다 크다\")"
      ],
      "metadata": {
        "id": "RmQPHSJbGmc0"
      },
      "execution_count": null,
      "outputs": []
    },
    {
      "cell_type": "code",
      "source": [
        "#if는 중첩이가능하다= if 속에 if를 사용할수 잇다\n",
        "a = 10\n",
        "b = 100\n",
        "if b>10:\n",
        "  print(\"b가 10보다 큼\")\n",
        "  if b>a:\n",
        "    print(\"b가 a보다 크다\")"
      ],
      "metadata": {
        "id": "YA5Y3A9aWN5K"
      },
      "execution_count": null,
      "outputs": []
    },
    {
      "cell_type": "code",
      "source": [
        "#미션6. 홀짝판별기\n",
        "##input()을 이용해서 숫자(정수) 입력을 받고, 변수 num에 이를 넣어봅시다.\n",
        "num = int(input())\n",
        "#if-else 문을 이용해서 만약 입력받은 수가 홀수면 \"(입력받은수) 홀수입니다.\"\n",
        "##짝수면 \"(입력받은수) 짝수입니다\"를 출력해봅시다\n",
        "if num%2 == 1:\n",
        "  print(num, \"홀수입니다\")\n",
        "else:\n",
        "  print(num, \"짝수입니다\")"
      ],
      "metadata": {
        "id": "OUtwebFO2E9v"
      },
      "execution_count": null,
      "outputs": []
    },
    {
      "cell_type": "code",
      "source": [
        "#미션7. 업-다운\n",
        "##변수 answer에 수 1~50 중 하나를 넣어봅시다.\n",
        "answer = 2\n",
        "##input을 통해 숫자형으로 입력을 받아서 변수 submit에 저장해봅시다.\n",
        "submit = int(input())\n",
        "##if-elif-else 문으로 \n",
        "###만약 answer 보다 submit이 더 크면 \"정답보다 더 큰 수를 입력했습니다\"\n",
        "###만약 answer 보다 submit이 더 작으면 \"정답보다 더 작은 수를 입력했습니다\"\n",
        "###만약 answer 보다 submit이 같으면 \"정답!\"을 출력합니다. \n",
        "if answer < submit:\n",
        "  print(\"정답보다 더 큰 수를 입력했습니다\")\n",
        "elif answer > submit:\n",
        "  print(\"정답보다 더 작은 수를 입력했습니다\")\n",
        "else:\n",
        "  print(\"정답!\")"
      ],
      "metadata": {
        "id": "NRu8aOpu2Jp4",
        "colab": {
          "base_uri": "https://localhost:8080/"
        },
        "outputId": "4b64f38b-21b6-4ebf-c3cd-c0e5312aefcb"
      },
      "execution_count": null,
      "outputs": [
        {
          "output_type": "stream",
          "name": "stdout",
          "text": [
            "5\n",
            "정답보다 더 큰 수를 입력했습니다\n"
          ]
        }
      ]
    },
    {
      "cell_type": "code",
      "source": [
        "#input()\n"
      ],
      "metadata": {
        "id": "C3Mtk0IbKChX"
      },
      "execution_count": null,
      "outputs": []
    },
    {
      "cell_type": "code",
      "source": [],
      "metadata": {
        "id": "7aG4PwIkIPrl"
      },
      "execution_count": null,
      "outputs": []
    },
    {
      "cell_type": "code",
      "source": [],
      "metadata": {
        "id": "S2Q7W8VRKCs2"
      },
      "execution_count": null,
      "outputs": []
    },
    {
      "cell_type": "code",
      "source": [],
      "metadata": {
        "id": "xRhvG0NYKVFl"
      },
      "execution_count": null,
      "outputs": []
    },
    {
      "cell_type": "code",
      "source": [],
      "metadata": {
        "id": "zeqRczBwPcrY"
      },
      "execution_count": null,
      "outputs": []
    },
    {
      "cell_type": "code",
      "source": [],
      "metadata": {
        "id": "DtrrF_eFXJ9C"
      },
      "execution_count": null,
      "outputs": []
    },
    {
      "cell_type": "code",
      "source": [
        "#반복문 while\n",
        "\n",
        "i = 1\n",
        "while i<11:\n",
        "  print(i)\n",
        "  i= i+1\n"
      ],
      "metadata": {
        "id": "XhqyH8ezftjH"
      },
      "execution_count": null,
      "outputs": []
    },
    {
      "cell_type": "code",
      "source": [
        "#미션8\n",
        "#미션\n",
        "#while을 이용해서 \"i 년째 수감중입니다.\"를 출력해봅시다.\n",
        "#while문이 종료된 후에는, \"감옥에서 석방되었습니다!\"를 출력해봅시다.\n",
        "\n",
        "i = 1\n",
        "while i <=10:\n",
        "  print(i, \"년째 수감중입니다\")\n",
        "  i=i+1\n",
        "print(\"감옥에서 석방되었습니다!\")\n"
      ],
      "metadata": {
        "id": "UxgjCBvr2Lrg"
      },
      "execution_count": null,
      "outputs": []
    },
    {
      "cell_type": "code",
      "source": [
        "i = 1\n",
        "while i <11:\n",
        "  print(i-1, \"년째 수감중입니다\")\n",
        "  i=i+1\n",
        "print(\"감옥에서 석방되었습니다!\")"
      ],
      "metadata": {
        "colab": {
          "base_uri": "https://localhost:8080/"
        },
        "id": "CU8vevbQCR4w",
        "outputId": "c2b6b534-bcb4-43a5-db22-bc83f5f278d1"
      },
      "execution_count": null,
      "outputs": [
        {
          "output_type": "stream",
          "name": "stdout",
          "text": [
            "0 년째 수감중입니다\n",
            "1 년째 수감중입니다\n",
            "2 년째 수감중입니다\n",
            "3 년째 수감중입니다\n",
            "4 년째 수감중입니다\n",
            "5 년째 수감중입니다\n",
            "6 년째 수감중입니다\n",
            "7 년째 수감중입니다\n",
            "8 년째 수감중입니다\n",
            "9 년째 수감중입니다\n",
            "감옥에서 석방되었습니다!\n"
          ]
        }
      ]
    },
    {
      "cell_type": "code",
      "source": [
        "#반복문 for를 실습해보자\n",
        "# for 원소 in 변수:\n",
        "\n",
        "fruits = [\"apple\", \"banana\", \"peach\", \"fig\"]\n",
        "\n",
        "for x in fruits:\n",
        "  print(x)"
      ],
      "metadata": {
        "id": "pWtEToduXKBu"
      },
      "execution_count": null,
      "outputs": []
    },
    {
      "cell_type": "code",
      "source": [
        "for i in [1,2,3,4,5,6,7,8,9,10]:\n",
        "  print(i)"
      ],
      "metadata": {
        "id": "gEKIXhl1XKE-"
      },
      "execution_count": null,
      "outputs": []
    },
    {
      "cell_type": "code",
      "source": [
        "#range() 연속된 숫자를 만드는 함수\n",
        "for i in range(1,11):\n",
        "  print(i)"
      ],
      "metadata": {
        "id": "Ygy83cJBXKH0"
      },
      "execution_count": null,
      "outputs": []
    },
    {
      "cell_type": "code",
      "source": [
        "for i in range(11):\n",
        "  print(i)"
      ],
      "metadata": {
        "id": "m4zSVdHBXKLQ"
      },
      "execution_count": null,
      "outputs": []
    },
    {
      "cell_type": "code",
      "source": [
        "for i in range(1,11,3):\n",
        "  print(i)"
      ],
      "metadata": {
        "id": "sX5n5rwEXKON"
      },
      "execution_count": null,
      "outputs": []
    },
    {
      "cell_type": "code",
      "source": [
        "for i in range(100,10,-10):\n",
        "  print(i)"
      ],
      "metadata": {
        "id": "2u0s0B3AFy9I"
      },
      "execution_count": null,
      "outputs": []
    },
    {
      "cell_type": "code",
      "source": [
        "##for break-> 루프 무한 반복 구문 빠져나올수잇겠금 <-> pass: 결과 가 없이 지나감\n",
        "##if: pass break\n",
        "fruits = [\"apple\", \"banana\", \"peach\", \"fig\"]\n",
        "for x in fruits:\n",
        "  print(x)\n",
        "  if x ==\"peach\":\n",
        "    break #구문을 빠져나와라"
      ],
      "metadata": {
        "id": "l-kfrv84AKJi"
      },
      "execution_count": null,
      "outputs": []
    },
    {
      "cell_type": "code",
      "source": [
        "fruits = [\"apple\", \"banana\", \"peach\", \"fig\"]\n",
        "for x in fruits:\n",
        "  print(x)\n",
        "  if x ==\"peach\":\n",
        "    pass"
      ],
      "metadata": {
        "id": "er8O_FdLpAa_"
      },
      "execution_count": null,
      "outputs": []
    },
    {
      "cell_type": "code",
      "source": [
        "#미션 19단 외우기 #변수i사용해보기\n",
        "for i in range(1,20):\n",
        "  print(\"19 *\", i, \"=\", 19*i)"
      ],
      "metadata": {
        "id": "DupcUBWp6aC4"
      },
      "execution_count": null,
      "outputs": []
    },
    {
      "cell_type": "code",
      "source": [
        "for i in [1,2,3,4,5,6,8,9,10,11,12,13,14,15,16,17,18,19]:\n",
        "  print(\"19 *\", i, \"=\", 19*i)"
      ],
      "metadata": {
        "id": "WAcEEG95EkPk"
      },
      "execution_count": null,
      "outputs": []
    },
    {
      "cell_type": "code",
      "source": [
        "##import를 통해서 불러오기\n",
        "import pandas as pd"
      ],
      "metadata": {
        "id": "ydkBilEJEkU8"
      },
      "execution_count": null,
      "outputs": []
    },
    {
      "cell_type": "code",
      "source": [
        "#1차원 시리즈 만들기\n",
        "city= pd.Series(['서울','부산','대전'])\n",
        "city"
      ],
      "metadata": {
        "id": "0aKATvYQWhEi"
      },
      "execution_count": null,
      "outputs": []
    },
    {
      "cell_type": "code",
      "source": [
        "population= pd.Series([100,200,300])\n",
        "population"
      ],
      "metadata": {
        "id": "4-DCR1fxWyaA"
      },
      "execution_count": null,
      "outputs": []
    },
    {
      "cell_type": "code",
      "source": [
        "#2차원의 데이터프레임\n",
        "pd.DataFrame({'도시':city , '인구': population})"
      ],
      "metadata": {
        "id": "bunDGuZPW7zv"
      },
      "execution_count": null,
      "outputs": []
    },
    {
      "cell_type": "code",
      "source": [
        "city= pd.Series(['서울','부산','대전','대구'])\n",
        "population= pd.Series([100,200,300])\n",
        "pd.DataFrame({'도시':city , '인구': population})"
      ],
      "metadata": {
        "id": "7rdrrZuuXCSR"
      },
      "execution_count": null,
      "outputs": []
    },
    {
      "cell_type": "code",
      "source": [
        "df = pd.read_csv('https://bit.ly/ds-korean-idol') #아이돌 평판지수 데이터"
      ],
      "metadata": {
        "id": "W87NHlPIXZ3K"
      },
      "execution_count": null,
      "outputs": []
    },
    {
      "cell_type": "code",
      "source": [
        "df.head(10)"
      ],
      "metadata": {
        "id": "O_Gn-6TSYSsr"
      },
      "execution_count": null,
      "outputs": []
    },
    {
      "cell_type": "code",
      "source": [
        "df.info()"
      ],
      "metadata": {
        "id": "rQRaGa9WasUg"
      },
      "execution_count": null,
      "outputs": []
    },
    {
      "cell_type": "code",
      "source": [
        "df.loc[:]"
      ],
      "metadata": {
        "id": "6VfFGs-qazHM"
      },
      "execution_count": null,
      "outputs": []
    },
    {
      "cell_type": "code",
      "source": [
        "df.loc[:,'이름']"
      ],
      "metadata": {
        "id": "YaSk8dGva8YM"
      },
      "execution_count": null,
      "outputs": []
    },
    {
      "cell_type": "code",
      "source": [
        "df.loc[:,['이름','생년월일']]"
      ],
      "metadata": {
        "id": "qW2kjFuxbAD2"
      },
      "execution_count": null,
      "outputs": []
    },
    {
      "cell_type": "code",
      "source": [
        "df.iloc[:]"
      ],
      "metadata": {
        "id": "444QmMIsbuEs"
      },
      "execution_count": null,
      "outputs": []
    },
    {
      "cell_type": "code",
      "source": [
        "df.iloc[:,0]"
      ],
      "metadata": {
        "id": "jV0IxpENcHB0"
      },
      "execution_count": null,
      "outputs": []
    },
    {
      "cell_type": "code",
      "source": [
        "df.iloc[:,[0,2]]"
      ],
      "metadata": {
        "id": "PQQgfqF1cP86"
      },
      "execution_count": null,
      "outputs": []
    },
    {
      "cell_type": "code",
      "source": [
        "df.iloc[:,0:2]"
      ],
      "metadata": {
        "id": "SAReffR7esdX"
      },
      "execution_count": null,
      "outputs": []
    },
    {
      "cell_type": "code",
      "source": [
        "df.iloc[1:5,0:2]"
      ],
      "metadata": {
        "id": "jq0myZKNcZj7"
      },
      "execution_count": null,
      "outputs": []
    },
    {
      "cell_type": "code",
      "source": [
        "#groupby -> 피벗테이블\n",
        "df.groupby('소속사').count()"
      ],
      "metadata": {
        "id": "OJP_cWXTcd__"
      },
      "execution_count": null,
      "outputs": []
    },
    {
      "cell_type": "code",
      "source": [
        "df.groupby('소속사').mean()"
      ],
      "metadata": {
        "id": "fltbxlGQdwrw"
      },
      "execution_count": null,
      "outputs": []
    },
    {
      "cell_type": "code",
      "source": [
        "df.groupby('소속사').sum()"
      ],
      "metadata": {
        "id": "oD3BBq4Ee7H5"
      },
      "execution_count": null,
      "outputs": []
    },
    {
      "cell_type": "code",
      "source": [
        "df.groupby('소속사').median()"
      ],
      "metadata": {
        "id": "O6yJE0KzhFhG"
      },
      "execution_count": null,
      "outputs": []
    },
    {
      "cell_type": "code",
      "source": [
        "df_right = df.drop(labels = '혈액형', axis =1)"
      ],
      "metadata": {
        "id": "FRlFlRiBhUS1"
      },
      "execution_count": null,
      "outputs": []
    },
    {
      "cell_type": "code",
      "source": [
        "df_right.head()"
      ],
      "metadata": {
        "id": "EjrEwo9Eh0ij"
      },
      "execution_count": null,
      "outputs": []
    },
    {
      "cell_type": "code",
      "source": [
        "df2 = pd.read_csv(\"https://bit.ly/ds-korean-idol-2\")\n",
        "df2.head()"
      ],
      "metadata": {
        "id": "HsBsiB_ml9rc"
      },
      "execution_count": null,
      "outputs": []
    },
    {
      "cell_type": "code",
      "source": [
        "pd.concat([df_right, df2], sort=False)"
      ],
      "metadata": {
        "id": "EflkXIoRmIxG"
      },
      "execution_count": null,
      "outputs": []
    },
    {
      "cell_type": "code",
      "source": [
        "pd.concat([df_right, df2], axis=1)"
      ],
      "metadata": {
        "id": "6tjnYD22a2DO"
      },
      "execution_count": null,
      "outputs": []
    },
    {
      "cell_type": "code",
      "source": [
        "pd.merge(df_right,df2, on='이름', how ='inner')"
      ],
      "metadata": {
        "id": "tXt75643bDxa"
      },
      "execution_count": null,
      "outputs": []
    },
    {
      "cell_type": "code",
      "source": [
        "pd.merge(df_right,df2, on='이름', how ='outer')"
      ],
      "metadata": {
        "id": "es04IRAqbYZr"
      },
      "execution_count": null,
      "outputs": []
    },
    {
      "cell_type": "code",
      "source": [
        "pd.merge(df_right,df2, on='이름', how ='right')"
      ],
      "metadata": {
        "id": "m8-nZ5aceAtm"
      },
      "execution_count": null,
      "outputs": []
    },
    {
      "cell_type": "code",
      "source": [
        "pd.merge(df_right,df2, on='이름', how ='left')"
      ],
      "metadata": {
        "id": "NWFf9ZooeLMv"
      },
      "execution_count": null,
      "outputs": []
    },
    {
      "cell_type": "code",
      "source": [
        "df.info()"
      ],
      "metadata": {
        "id": "uzc_sfvHeWZF"
      },
      "execution_count": null,
      "outputs": []
    },
    {
      "cell_type": "code",
      "source": [
        "df['키']"
      ],
      "metadata": {
        "id": "XG2Fodlmf7SG"
      },
      "execution_count": null,
      "outputs": []
    },
    {
      "cell_type": "code",
      "source": [
        "df['키'].fillna(-1)"
      ],
      "metadata": {
        "id": "JCDIhjaZgD-s"
      },
      "execution_count": null,
      "outputs": []
    },
    {
      "cell_type": "code",
      "source": [
        "df.fillna(df.mean())"
      ],
      "metadata": {
        "id": "u2QQ38lagMzp"
      },
      "execution_count": null,
      "outputs": []
    },
    {
      "cell_type": "code",
      "source": [
        "df.dropna()"
      ],
      "metadata": {
        "id": "AxOAd5qqgYVD"
      },
      "execution_count": null,
      "outputs": []
    },
    {
      "cell_type": "code",
      "source": [
        "##판다스로 데이터 로드 \n",
        "#csv 업로드, URL로드\n",
        "california = pd.read_csv(\"https://dl.google.com/mlcc/mledu-datasets/california_housing_train.csv\")\n"
      ],
      "metadata": {
        "id": "EbG8rzTsmbFd"
      },
      "execution_count": null,
      "outputs": []
    },
    {
      "cell_type": "code",
      "source": [],
      "metadata": {
        "id": "4OmWN3pmnYyS"
      },
      "execution_count": null,
      "outputs": []
    },
    {
      "cell_type": "code",
      "source": [],
      "metadata": {
        "id": "JgyJkP4-nY23"
      },
      "execution_count": null,
      "outputs": []
    },
    {
      "cell_type": "code",
      "source": [],
      "metadata": {
        "id": "dXlpmdc8oKfH"
      },
      "execution_count": null,
      "outputs": []
    },
    {
      "cell_type": "code",
      "source": [],
      "metadata": {
        "id": "jLDImYryoOqc"
      },
      "execution_count": null,
      "outputs": []
    },
    {
      "cell_type": "code",
      "source": [],
      "metadata": {
        "id": "G4nDHC0Zoj9E"
      },
      "execution_count": null,
      "outputs": []
    },
    {
      "cell_type": "code",
      "source": [],
      "metadata": {
        "id": "4wmyeJyMooHM"
      },
      "execution_count": null,
      "outputs": []
    },
    {
      "cell_type": "code",
      "source": [],
      "metadata": {
        "id": "oT0P1kTko9EB"
      },
      "execution_count": null,
      "outputs": []
    },
    {
      "cell_type": "code",
      "source": [
        "##loc(열,행)\n"
      ],
      "metadata": {
        "id": "hA1y1gKQqkfw"
      },
      "execution_count": null,
      "outputs": []
    },
    {
      "cell_type": "code",
      "source": [
        "#iloc(순서)\n"
      ],
      "metadata": {
        "id": "kUGuuTpyqkk3"
      },
      "execution_count": null,
      "outputs": []
    },
    {
      "cell_type": "code",
      "source": [],
      "metadata": {
        "id": "WviyGpqWrTPW"
      },
      "execution_count": null,
      "outputs": []
    },
    {
      "cell_type": "code",
      "source": [],
      "metadata": {
        "id": "xqt0bOhgrTYV"
      },
      "execution_count": null,
      "outputs": []
    },
    {
      "cell_type": "code",
      "source": [],
      "metadata": {
        "id": "YiWExKEZr6u5"
      },
      "execution_count": null,
      "outputs": []
    },
    {
      "cell_type": "code",
      "source": [],
      "metadata": {
        "id": "1R-rswMdsC0G"
      },
      "execution_count": null,
      "outputs": []
    },
    {
      "cell_type": "code",
      "source": [],
      "metadata": {
        "id": "QxonrYg9sMWa"
      },
      "execution_count": null,
      "outputs": []
    },
    {
      "cell_type": "code",
      "source": [],
      "metadata": {
        "id": "VSJxbpphsXbZ"
      },
      "execution_count": null,
      "outputs": []
    },
    {
      "cell_type": "code",
      "source": [],
      "metadata": {
        "id": "PvLuiy7-sXeL"
      },
      "execution_count": null,
      "outputs": []
    },
    {
      "cell_type": "code",
      "source": [],
      "metadata": {
        "id": "PTPO-VOhsrzi"
      },
      "execution_count": null,
      "outputs": []
    }
  ]
}