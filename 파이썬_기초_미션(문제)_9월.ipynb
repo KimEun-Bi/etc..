{
  "nbformat": 4,
  "nbformat_minor": 0,
  "metadata": {
    "colab": {
      "provenance": [],
      "collapsed_sections": [],
      "authorship_tag": "ABX9TyMF3PFngCc0M+XGSfg1qVwj",
      "include_colab_link": true
    },
    "kernelspec": {
      "name": "python3",
      "display_name": "Python 3"
    },
    "language_info": {
      "name": "python"
    }
  },
  "cells": [
    {
      "cell_type": "markdown",
      "metadata": {
        "id": "view-in-github",
        "colab_type": "text"
      },
      "source": [
        "<a href=\"https://colab.research.google.com/github/KimEun-Bi/etc../blob/master/%ED%8C%8C%EC%9D%B4%EC%8D%AC_%EA%B8%B0%EC%B4%88_%EB%AF%B8%EC%85%98(%EB%AC%B8%EC%A0%9C)_9%EC%9B%94.ipynb\" target=\"_parent\"><img src=\"https://colab.research.google.com/assets/colab-badge.svg\" alt=\"Open In Colab\"/></a>"
      ]
    },
    {
      "cell_type": "markdown",
      "source": [
        "\n",
        "#파이썬 기초"
      ],
      "metadata": {
        "id": "tFUABOzJWIJ2"
      }
    },
    {
      "cell_type": "markdown",
      "source": [],
      "metadata": {
        "id": "Y310DqrlBgrI"
      }
    },
    {
      "cell_type": "code",
      "source": [],
      "metadata": {
        "id": "okYYjPUUBcw9"
      },
      "execution_count": null,
      "outputs": []
    },
    {
      "cell_type": "code",
      "source": [
        "#코드를 작성할 거예요 ###주석이예요\n"
      ],
      "metadata": {
        "id": "kUz1EA4Q5GWn"
      },
      "execution_count": null,
      "outputs": []
    },
    {
      "cell_type": "code",
      "source": [
        "#print는 출력을 하게 해줍니다.\n",
        "print(\"Hello world\")"
      ],
      "metadata": {
        "colab": {
          "base_uri": "https://localhost:8080/"
        },
        "id": "sWfF-F8F8ViH",
        "outputId": "30b1cac8-88e7-42b5-c2ab-1b49f7661d29"
      },
      "execution_count": 1,
      "outputs": [
        {
          "output_type": "stream",
          "name": "stdout",
          "text": [
            "Hello world\n"
          ]
        }
      ]
    },
    {
      "cell_type": "code",
      "source": [],
      "metadata": {
        "id": "eA8Bnk3IfQrw"
      },
      "execution_count": null,
      "outputs": []
    },
    {
      "cell_type": "markdown",
      "source": [
        "메모\n",
        "#메모"
      ],
      "metadata": {
        "id": "6yGaf05jfSTl"
      }
    },
    {
      "cell_type": "markdown",
      "source": [
        "print 배웁니다"
      ],
      "metadata": {
        "id": "fYttovhF8mQd"
      }
    },
    {
      "cell_type": "markdown",
      "source": [
        "**메모**"
      ],
      "metadata": {
        "id": "SODwyLMODTBC"
      }
    },
    {
      "cell_type": "code",
      "execution_count": null,
      "metadata": {
        "id": "hsVU3Oax1sTF"
      },
      "outputs": [],
      "source": [
        "#미션1. 이름으로 삼행시 짓기\n",
        "print(\"김 치전이 먹고 싶어요\")\n",
        "print(\"은 비랑\")\n",
        "print(\"비 내리는 날에\")"
      ]
    },
    {
      "cell_type": "code",
      "source": [
        "print(\"'김' 치전이 먹고 싶어요\")\n",
        "print(\"'은' 비랑\")\n",
        "print(\"'비' 내리는 날에\")"
      ],
      "metadata": {
        "id": "P_77plKY8WPI"
      },
      "execution_count": null,
      "outputs": []
    },
    {
      "cell_type": "code",
      "source": [
        "print('\"김\" 치전이 먹고 싶어요')\n",
        "print('\"은\" 비랑')\n",
        "print('\"비\" 내리는 날에')"
      ],
      "metadata": {
        "id": "d12jbWLx_O08"
      },
      "execution_count": null,
      "outputs": []
    },
    {
      "cell_type": "code",
      "source": [],
      "metadata": {
        "id": "_3dYaHx1_Ovg"
      },
      "execution_count": null,
      "outputs": []
    },
    {
      "cell_type": "code",
      "source": [
        "######주석\n"
      ],
      "metadata": {
        "id": "A7PCp-XAV-vx"
      },
      "execution_count": null,
      "outputs": []
    },
    {
      "cell_type": "code",
      "source": [],
      "metadata": {
        "id": "BgC_btFuGWDu"
      },
      "execution_count": null,
      "outputs": []
    },
    {
      "cell_type": "code",
      "source": [
        "my_var1 = \"한글\"\n",
        "print(my_var1)"
      ],
      "metadata": {
        "id": "Hhm8lON0GYs_"
      },
      "execution_count": null,
      "outputs": []
    },
    {
      "cell_type": "code",
      "source": [
        "#미션2. 여러분의 변수를 만들어봅시다. my_var라는 이름의 변수를 만들고, print로 출력해서 확인해봅시다 #123\n",
        "my_var = 10\n",
        "print(my_var)"
      ],
      "metadata": {
        "id": "2gLwF9QH1uz1"
      },
      "execution_count": null,
      "outputs": []
    },
    {
      "cell_type": "code",
      "source": [
        "#숫자형\n",
        "a = 10\n",
        "type(a) #int = 정수"
      ],
      "metadata": {
        "id": "az3TI7ivWJke",
        "colab": {
          "base_uri": "https://localhost:8080/"
        },
        "outputId": "6cf83441-f3b8-4368-9d8e-093885b4d7b7"
      },
      "execution_count": 3,
      "outputs": [
        {
          "output_type": "execute_result",
          "data": {
            "text/plain": [
              "int"
            ]
          },
          "metadata": {},
          "execution_count": 3
        }
      ]
    },
    {
      "cell_type": "code",
      "source": [
        "type(10.4) #float = 실수"
      ],
      "metadata": {
        "id": "Rx6FKKyRIZwI",
        "colab": {
          "base_uri": "https://localhost:8080/"
        },
        "outputId": "9479fe9a-5b64-43a7-bc70-8119c512e7bc"
      },
      "execution_count": 4,
      "outputs": [
        {
          "output_type": "execute_result",
          "data": {
            "text/plain": [
              "float"
            ]
          },
          "metadata": {},
          "execution_count": 4
        }
      ]
    },
    {
      "cell_type": "code",
      "source": [
        "#연산\n",
        "#더하기\n",
        "a = 10\n",
        "b = 2\n",
        "a+b"
      ],
      "metadata": {
        "id": "2u0nNkYpWJtg",
        "colab": {
          "base_uri": "https://localhost:8080/"
        },
        "outputId": "6309624a-2162-4aca-a7e5-38e2df43362c"
      },
      "execution_count": 5,
      "outputs": [
        {
          "output_type": "execute_result",
          "data": {
            "text/plain": [
              "12"
            ]
          },
          "metadata": {},
          "execution_count": 5
        }
      ]
    },
    {
      "cell_type": "code",
      "source": [
        "#빼기\n",
        "a-b"
      ],
      "metadata": {
        "id": "RhBxOYxoWJ4b"
      },
      "execution_count": null,
      "outputs": []
    },
    {
      "cell_type": "code",
      "source": [
        "#곱셈\n",
        "a*b"
      ],
      "metadata": {
        "id": "dEkArHklWnuU"
      },
      "execution_count": null,
      "outputs": []
    },
    {
      "cell_type": "code",
      "source": [
        " #제곱\n",
        "a**b"
      ],
      "metadata": {
        "id": "vL1vwqOEWnws"
      },
      "execution_count": null,
      "outputs": []
    },
    {
      "cell_type": "code",
      "source": [
        "#나누기\n",
        "a/b"
      ],
      "metadata": {
        "id": "ER261ulrWn0i",
        "colab": {
          "base_uri": "https://localhost:8080/"
        },
        "outputId": "a4d7b8da-ed0a-43ae-c3a9-9027dfddbcf9"
      },
      "execution_count": 6,
      "outputs": [
        {
          "output_type": "execute_result",
          "data": {
            "text/plain": [
              "5.0"
            ]
          },
          "metadata": {},
          "execution_count": 6
        }
      ]
    },
    {
      "cell_type": "code",
      "source": [
        " #나머지\n",
        "a%b"
      ],
      "metadata": {
        "id": "QTApI2_GXHP2"
      },
      "execution_count": null,
      "outputs": []
    },
    {
      "cell_type": "code",
      "source": [
        "#몫\n",
        "a//b"
      ],
      "metadata": {
        "id": "dgaJPx_LXPCA",
        "colab": {
          "base_uri": "https://localhost:8080/"
        },
        "outputId": "9c4269f6-4bd0-4612-f18e-fcb6acd045b1"
      },
      "execution_count": 7,
      "outputs": [
        {
          "output_type": "execute_result",
          "data": {
            "text/plain": [
              "5"
            ]
          },
          "metadata": {},
          "execution_count": 7
        }
      ]
    },
    {
      "cell_type": "code",
      "source": [
        "#미션3.0\n",
        "## 숫자 50과 숫자 50 더해서 출력하기\n",
        "a = 50\n",
        "b = 50\n",
        "\n",
        "print(a+b)"
      ],
      "metadata": {
        "id": "bPhPyWSI1wv1"
      },
      "execution_count": null,
      "outputs": []
    },
    {
      "cell_type": "code",
      "source": [
        "print(50+50)"
      ],
      "metadata": {
        "id": "LNuXLQVzZ2wU"
      },
      "execution_count": null,
      "outputs": []
    },
    {
      "cell_type": "code",
      "source": [
        "type(\"hello world\") #str = 문자형을 뜻합니다"
      ],
      "metadata": {
        "id": "2GFToznSLlp_",
        "colab": {
          "base_uri": "https://localhost:8080/"
        },
        "outputId": "ca8bdbdb-ec01-402f-894f-4a5bb5908ac0"
      },
      "execution_count": 8,
      "outputs": [
        {
          "output_type": "execute_result",
          "data": {
            "text/plain": [
              "str"
            ]
          },
          "metadata": {},
          "execution_count": 8
        }
      ]
    },
    {
      "cell_type": "code",
      "source": [
        "print(\"안녕\"+\"하세요\")"
      ],
      "metadata": {
        "id": "TPkXRaFQFnif",
        "colab": {
          "base_uri": "https://localhost:8080/"
        },
        "outputId": "43f8d554-1a67-4612-e0ee-27421b8d9d93"
      },
      "execution_count": 9,
      "outputs": [
        {
          "output_type": "stream",
          "name": "stdout",
          "text": [
            "안녕하세요\n"
          ]
        }
      ]
    },
    {
      "cell_type": "code",
      "source": [
        "print(\"안녕\"*3)"
      ],
      "metadata": {
        "id": "GRyAZPwoFnrG",
        "colab": {
          "base_uri": "https://localhost:8080/"
        },
        "outputId": "18898994-fde2-44f7-ca4d-7d58ccdef5bc"
      },
      "execution_count": 10,
      "outputs": [
        {
          "output_type": "stream",
          "name": "stdout",
          "text": [
            "안녕안녕안녕\n"
          ]
        }
      ]
    },
    {
      "cell_type": "code",
      "source": [
        "#미션3.1\n",
        "## 문자열 50과 문자열 50 더해서 출력하기\n",
        "a ='50'\n",
        "b = '50'\n",
        "print(a+b)"
      ],
      "metadata": {
        "id": "Bo8UAYyj1y21"
      },
      "execution_count": null,
      "outputs": []
    },
    {
      "cell_type": "code",
      "source": [
        "print('50'+'50')"
      ],
      "metadata": {
        "id": "Az8mLqgIOufZ"
      },
      "execution_count": null,
      "outputs": []
    },
    {
      "cell_type": "code",
      "source": [
        "#미션3.3 거꾸로 계산기\n",
        "# //을 이용해서 변수 intdiv에 4를 넢은 수식을 작성해봅니다. \n",
        "intdiv = 16//4\n",
        "#%을 이용하여 변수 modular에 1을 넣는 수식을 작성해봅니다\n",
        "modular = 7%6\n",
        "#**을 이용해서 변수 expo에 16을 넣는 수식을 작성해봅시다.\n",
        "expo = 4**2\n",
        "#위의 세변수를 출력해서 확인해봅시다\n",
        "print(intdiv)\n",
        "print(modular)\n",
        "print(expo)"
      ],
      "metadata": {
        "id": "AdXqgo-j1184"
      },
      "execution_count": null,
      "outputs": []
    },
    {
      "cell_type": "code",
      "source": [
        "#미션3.3 거꾸로 계산기\n",
        "# //을 이용해서 변수 intdiv에 4를 넢은 수식을 작성해봅니다. \n",
        "intdiv = 16//4\n",
        "#%을 이용하여 변수 modular에 1을 넣는 수식을 작성해봅니다\n",
        "modular = 7%6\n",
        "#**을 이용해서 변수 expo에 16을 넣는 수식을 작성해봅시다.\n",
        "expo = 4**2\n",
        "#위의 세변수를 출력해서 확인해봅시다\n",
        "print(intdiv, modular, expo)"
      ],
      "metadata": {
        "id": "I86OJvCGJdh4"
      },
      "execution_count": null,
      "outputs": []
    },
    {
      "cell_type": "code",
      "source": [
        "#불린\n",
        "##자료 묶음으로 리스트 튜플 "
      ],
      "metadata": {
        "id": "_ad7h5EQdkyk"
      },
      "execution_count": null,
      "outputs": []
    },
    {
      "cell_type": "code",
      "source": [
        "#불린\n",
        "#faㅣse 또는 true 출력\n",
        "\n",
        "a = 1\n",
        "b = 2\n",
        "print(a<b)"
      ],
      "metadata": {
        "id": "-EuVac9dgxnv",
        "colab": {
          "base_uri": "https://localhost:8080/"
        },
        "outputId": "59107497-8d01-4d64-ca9a-a8913b321a41"
      },
      "execution_count": 11,
      "outputs": [
        {
          "output_type": "stream",
          "name": "stdout",
          "text": [
            "True\n"
          ]
        }
      ]
    },
    {
      "cell_type": "code",
      "source": [
        "print(a>b)"
      ],
      "metadata": {
        "id": "9xb4tSLhg_Vo",
        "colab": {
          "base_uri": "https://localhost:8080/"
        },
        "outputId": "1492d501-44a0-422c-c8a3-be4c51bd5157"
      },
      "execution_count": 12,
      "outputs": [
        {
          "output_type": "stream",
          "name": "stdout",
          "text": [
            "False\n"
          ]
        }
      ]
    },
    {
      "cell_type": "code",
      "source": [
        "t,f = True, False\n",
        "type(t)"
      ],
      "metadata": {
        "id": "bhxvMQ6ChEdB",
        "colab": {
          "base_uri": "https://localhost:8080/"
        },
        "outputId": "267689ce-8c66-45ca-dd4b-0711adfdd692"
      },
      "execution_count": 13,
      "outputs": [
        {
          "output_type": "execute_result",
          "data": {
            "text/plain": [
              "bool"
            ]
          },
          "metadata": {},
          "execution_count": 13
        }
      ]
    },
    {
      "cell_type": "code",
      "source": [
        "#and or not\n",
        "ab = 3==3 and 2>5\n",
        "bc = 3==3 or 2>5\n",
        "\n",
        "print(ab, bc)"
      ],
      "metadata": {
        "id": "3WkzYNXwheGd",
        "colab": {
          "base_uri": "https://localhost:8080/"
        },
        "outputId": "64fed0b9-d8b8-4214-c974-fb6952f1e739"
      },
      "execution_count": 15,
      "outputs": [
        {
          "output_type": "stream",
          "name": "stdout",
          "text": [
            "False True\n"
          ]
        }
      ]
    },
    {
      "cell_type": "code",
      "source": [
        "cd = not 4>5\n",
        "print(cd)"
      ],
      "metadata": {
        "id": "qxG0F-fkOElp",
        "colab": {
          "base_uri": "https://localhost:8080/"
        },
        "outputId": "7061b5fa-9069-4b48-aa42-a4457c772d91"
      },
      "execution_count": 16,
      "outputs": [
        {
          "output_type": "stream",
          "name": "stdout",
          "text": [
            "True\n"
          ]
        }
      ]
    },
    {
      "cell_type": "code",
      "source": [
        "#미션4. 비교연산자로 명제 만들기\n",
        "## == 혹은 != 연산자를 이용해서 True인 명제를 ans1에 넣어봅시다.\n",
        "ans1 = 3==3\n",
        "## > 혹은 < 연산자를 이용해서 False인 명제를 ans2에 넣어봅시다\n",
        "ans2 = 4<3\n",
        "##위의 변수를 출력해서 정답을 확인해봅시다. \n",
        "print(ans1, ans2)"
      ],
      "metadata": {
        "id": "8FaGiYer132V"
      },
      "execution_count": null,
      "outputs": []
    },
    {
      "cell_type": "code",
      "source": [
        "##데이터 묶음으로 표현이 가능한 자료형 : 리스트\n",
        "a = [1,2,3,4,5,\"문자형\"]\n",
        "a"
      ],
      "metadata": {
        "id": "oxs1FjCgkC0C",
        "colab": {
          "base_uri": "https://localhost:8080/"
        },
        "outputId": "c5f18f0a-2570-4e9d-b89e-f8762be3e32c"
      },
      "execution_count": 18,
      "outputs": [
        {
          "output_type": "execute_result",
          "data": {
            "text/plain": [
              "[1, 2, 3, 4, 5, '문자형']"
            ]
          },
          "metadata": {},
          "execution_count": 18
        }
      ]
    },
    {
      "cell_type": "code",
      "source": [
        "type(a)"
      ],
      "metadata": {
        "id": "zzls1-WHkC_M",
        "colab": {
          "base_uri": "https://localhost:8080/"
        },
        "outputId": "33654efa-c8fd-4146-ee1e-2b984d7c4a08"
      },
      "execution_count": 19,
      "outputs": [
        {
          "output_type": "execute_result",
          "data": {
            "text/plain": [
              "list"
            ]
          },
          "metadata": {},
          "execution_count": 19
        }
      ]
    },
    {
      "cell_type": "code",
      "source": [
        "v = [\"화이자\", \"모더나\", \"AZ\", \"얀센\"]\n",
        "type(v)"
      ],
      "metadata": {
        "id": "xaNCSWOmlQl7",
        "colab": {
          "base_uri": "https://localhost:8080/"
        },
        "outputId": "db594843-371e-4f3e-9109-0d9347f19cd5"
      },
      "execution_count": 20,
      "outputs": [
        {
          "output_type": "execute_result",
          "data": {
            "text/plain": [
              "list"
            ]
          },
          "metadata": {},
          "execution_count": 20
        }
      ]
    },
    {
      "cell_type": "code",
      "source": [
        "#데이터를 뽑아오는것을 인덱싱이라하고, 파이썬의 순서는 0부터 시작을 한다!!!\n",
        "v[0]"
      ],
      "metadata": {
        "id": "QBB9-iTGk8jW",
        "colab": {
          "base_uri": "https://localhost:8080/",
          "height": 35
        },
        "outputId": "e64ec5d0-c8a6-4893-9623-a797eebda40b"
      },
      "execution_count": 21,
      "outputs": [
        {
          "output_type": "execute_result",
          "data": {
            "text/plain": [
              "'화이자'"
            ],
            "application/vnd.google.colaboratory.intrinsic+json": {
              "type": "string"
            }
          },
          "metadata": {},
          "execution_count": 21
        }
      ]
    },
    {
      "cell_type": "code",
      "source": [
        "#인덱싱\n",
        "v[1]"
      ],
      "metadata": {
        "id": "BUjhaWEUlkYL",
        "colab": {
          "base_uri": "https://localhost:8080/",
          "height": 35
        },
        "outputId": "5b58f7f9-9d3f-4c98-c743-3442b481f232"
      },
      "execution_count": 22,
      "outputs": [
        {
          "output_type": "execute_result",
          "data": {
            "text/plain": [
              "'모더나'"
            ],
            "application/vnd.google.colaboratory.intrinsic+json": {
              "type": "string"
            }
          },
          "metadata": {},
          "execution_count": 22
        }
      ]
    },
    {
      "cell_type": "code",
      "source": [
        "#인덱싱\n",
        "v[-1]"
      ],
      "metadata": {
        "id": "cv9SPatMlbYa",
        "colab": {
          "base_uri": "https://localhost:8080/",
          "height": 35
        },
        "outputId": "4374dfc2-c6a9-445b-f948-40f66f8f0546"
      },
      "execution_count": 23,
      "outputs": [
        {
          "output_type": "execute_result",
          "data": {
            "text/plain": [
              "'얀센'"
            ],
            "application/vnd.google.colaboratory.intrinsic+json": {
              "type": "string"
            }
          },
          "metadata": {},
          "execution_count": 23
        }
      ]
    },
    {
      "cell_type": "code",
      "source": [
        "v = [\"화이자\", \"모더나\", \"AZ\", \"얀센\"]"
      ],
      "metadata": {
        "id": "RdbgAgm-UN-V"
      },
      "execution_count": null,
      "outputs": []
    },
    {
      "cell_type": "code",
      "source": [
        "#슬라이싱: 데이터를 쪼개기\n",
        "v[1:]"
      ],
      "metadata": {
        "id": "PaXUYREPlwbP"
      },
      "execution_count": null,
      "outputs": []
    },
    {
      "cell_type": "code",
      "source": [
        "v[:2]"
      ],
      "metadata": {
        "id": "JUvBTnlyl8v_"
      },
      "execution_count": null,
      "outputs": []
    },
    {
      "cell_type": "code",
      "source": [
        "v[:]"
      ],
      "metadata": {
        "id": "s9UB-zWLcR-p"
      },
      "execution_count": null,
      "outputs": []
    },
    {
      "cell_type": "code",
      "source": [
        " #n-1\n",
        "v[:-1]"
      ],
      "metadata": {
        "id": "AG9f4l7NmB1p",
        "colab": {
          "base_uri": "https://localhost:8080/"
        },
        "outputId": "1dd94ad9-68bf-4307-f7b6-c993e2b16227"
      },
      "execution_count": 27,
      "outputs": [
        {
          "output_type": "execute_result",
          "data": {
            "text/plain": [
              "['화이자', '모더나', 'AZ']"
            ]
          },
          "metadata": {},
          "execution_count": 27
        }
      ]
    },
    {
      "cell_type": "code",
      "source": [
        "#인덱싱을 사용해서 수정도 가능해요\n",
        "v[2] = 'AA'\n",
        "v"
      ],
      "metadata": {
        "id": "p2aRnKFSmeAi",
        "colab": {
          "base_uri": "https://localhost:8080/"
        },
        "outputId": "2f0efc59-89d2-41ac-d395-6107232cd24c"
      },
      "execution_count": 28,
      "outputs": [
        {
          "output_type": "execute_result",
          "data": {
            "text/plain": [
              "['화이자', '모더나', 'AA', '얀센']"
            ]
          },
          "metadata": {},
          "execution_count": 28
        }
      ]
    },
    {
      "cell_type": "code",
      "source": [
        "#추가도 가능해요\n",
        "v.append('BB')\n",
        "v"
      ],
      "metadata": {
        "id": "N5KSGdP-msUh",
        "colab": {
          "base_uri": "https://localhost:8080/"
        },
        "outputId": "337018e0-8d51-4350-b2e1-502ef75233fa"
      },
      "execution_count": 30,
      "outputs": [
        {
          "output_type": "execute_result",
          "data": {
            "text/plain": [
              "['화이자', '모더나', 'AA', '얀센', 'BB', 'BB']"
            ]
          },
          "metadata": {},
          "execution_count": 30
        }
      ]
    },
    {
      "cell_type": "code",
      "source": [
        "v.remove('BB')"
      ],
      "metadata": {
        "id": "7rOXHERtc8PU"
      },
      "execution_count": 31,
      "outputs": []
    },
    {
      "cell_type": "code",
      "source": [
        "v"
      ],
      "metadata": {
        "id": "bFUoZUh-YR-R",
        "colab": {
          "base_uri": "https://localhost:8080/"
        },
        "outputId": "4fc05604-8422-4668-acc3-2b03b1aa6935"
      },
      "execution_count": 32,
      "outputs": [
        {
          "output_type": "execute_result",
          "data": {
            "text/plain": [
              "['화이자', '모더나', 'AA', '얀센', 'BB']"
            ]
          },
          "metadata": {},
          "execution_count": 32
        }
      ]
    },
    {
      "cell_type": "code",
      "source": [
        "v.remove('화이자')\n",
        "v"
      ],
      "metadata": {
        "id": "4LQ9iiqjYXGh"
      },
      "execution_count": null,
      "outputs": []
    },
    {
      "cell_type": "code",
      "source": [
        "#추가하는 방법은 insert\n",
        "v.insert(0,'CC')"
      ],
      "metadata": {
        "id": "sG_GEdwZm7BC"
      },
      "execution_count": 33,
      "outputs": []
    },
    {
      "cell_type": "code",
      "source": [
        "v"
      ],
      "metadata": {
        "id": "8Y0e548CYq4F",
        "colab": {
          "base_uri": "https://localhost:8080/"
        },
        "outputId": "586b5e3e-cbc0-4da2-bbc3-a9a72a149295"
      },
      "execution_count": 34,
      "outputs": [
        {
          "output_type": "execute_result",
          "data": {
            "text/plain": [
              "['CC', '화이자', '모더나', 'AA', '얀센', 'BB']"
            ]
          },
          "metadata": {},
          "execution_count": 34
        }
      ]
    },
    {
      "cell_type": "code",
      "source": [],
      "metadata": {
        "id": "_iaOVFMp6zWE"
      },
      "execution_count": null,
      "outputs": []
    },
    {
      "cell_type": "code",
      "source": [
        "v"
      ],
      "metadata": {
        "id": "hU4SwpSEY7SO"
      },
      "execution_count": null,
      "outputs": []
    },
    {
      "cell_type": "code",
      "source": [
        "v = [\"화이자\", \"모더나\", \"AZ\", \"얀센\"]"
      ],
      "metadata": {
        "id": "hlUn-E9c6pif"
      },
      "execution_count": null,
      "outputs": []
    },
    {
      "cell_type": "code",
      "source": [
        "#정렬 sort()\n",
        "v.sort()"
      ],
      "metadata": {
        "id": "Vugbub0G9bSs"
      },
      "execution_count": 35,
      "outputs": []
    },
    {
      "cell_type": "code",
      "source": [
        "v"
      ],
      "metadata": {
        "id": "OMyaCIu4614l",
        "colab": {
          "base_uri": "https://localhost:8080/"
        },
        "outputId": "2d892455-36df-4a4b-a1c4-93c4c3e7b08a"
      },
      "execution_count": 36,
      "outputs": [
        {
          "output_type": "execute_result",
          "data": {
            "text/plain": [
              "['AA', 'BB', 'CC', '모더나', '얀센', '화이자']"
            ]
          },
          "metadata": {},
          "execution_count": 36
        }
      ]
    },
    {
      "cell_type": "code",
      "source": [
        "#거꾸로 정렬 reverse()\n",
        "v.reverse()\n",
        "v"
      ],
      "metadata": {
        "id": "VNZbz5bG9bjr",
        "colab": {
          "base_uri": "https://localhost:8080/"
        },
        "outputId": "9980c43f-5f5d-4660-ebaa-360d6bd293fe"
      },
      "execution_count": 37,
      "outputs": [
        {
          "output_type": "execute_result",
          "data": {
            "text/plain": [
              "['화이자', '얀센', '모더나', 'CC', 'BB', 'AA']"
            ]
          },
          "metadata": {},
          "execution_count": 37
        }
      ]
    },
    {
      "cell_type": "code",
      "source": [
        "#index -> 위치를 알려줍니다\n",
        "v.index('화이자')"
      ],
      "metadata": {
        "id": "9MSvjM9b-A7x",
        "colab": {
          "base_uri": "https://localhost:8080/"
        },
        "outputId": "0407446e-8fca-4a43-ad77-3d0d87a7ca97"
      },
      "execution_count": 38,
      "outputs": [
        {
          "output_type": "execute_result",
          "data": {
            "text/plain": [
              "0"
            ]
          },
          "metadata": {},
          "execution_count": 38
        }
      ]
    },
    {
      "cell_type": "code",
      "source": [
        "#미션3.1\n",
        "## 리스트 50과 리스트 50 더해서 출력하기\n",
        "a = [50]\n",
        "b = [50]\n",
        "print(a+b)"
      ],
      "metadata": {
        "id": "49Xyy91U10eV"
      },
      "execution_count": null,
      "outputs": []
    },
    {
      "cell_type": "code",
      "source": [
        "print([50]+[50])"
      ],
      "metadata": {
        "id": "YFZps9kW-Il3"
      },
      "execution_count": null,
      "outputs": []
    },
    {
      "cell_type": "code",
      "source": [
        "z = [\"화이자\", \"화이자\", \"모더나\", \"AZ\", \"얀센\"]\n",
        "z"
      ],
      "metadata": {
        "id": "t6s2mqsp7PGX"
      },
      "execution_count": null,
      "outputs": []
    },
    {
      "cell_type": "code",
      "source": [
        "z.index('화이자')"
      ],
      "metadata": {
        "id": "lKCI6Jkb7V9K"
      },
      "execution_count": null,
      "outputs": []
    },
    {
      "cell_type": "code",
      "source": [
        "#튜플: 수정이 불가능\n",
        "a = ('화이자', '모더나')\n",
        "a"
      ],
      "metadata": {
        "id": "JnhrW4UymA9e",
        "colab": {
          "base_uri": "https://localhost:8080/"
        },
        "outputId": "e5ac657a-8138-4205-c93d-f152f6ded15d"
      },
      "execution_count": 39,
      "outputs": [
        {
          "output_type": "execute_result",
          "data": {
            "text/plain": [
              "('화이자', '모더나')"
            ]
          },
          "metadata": {},
          "execution_count": 39
        }
      ]
    },
    {
      "cell_type": "code",
      "source": [
        "type(a)"
      ],
      "metadata": {
        "id": "YR3wAA_f-kvM",
        "colab": {
          "base_uri": "https://localhost:8080/"
        },
        "outputId": "9d8f8ed1-1112-4280-916d-e31d27a32f3e"
      },
      "execution_count": 40,
      "outputs": [
        {
          "output_type": "execute_result",
          "data": {
            "text/plain": [
              "tuple"
            ]
          },
          "metadata": {},
          "execution_count": 40
        }
      ]
    },
    {
      "cell_type": "code",
      "source": [
        "#set 중복이 허용되지 않습니다.\n",
        "user_a = {\"user_1\", \"user_2\", \"user_3\", \"user_1\"}\n",
        "user_b = {\"user_1\",\"user_2\"}\n",
        "print(user_a)"
      ],
      "metadata": {
        "id": "m71_6YSZBTiu",
        "colab": {
          "base_uri": "https://localhost:8080/"
        },
        "outputId": "bdb00824-6b4f-47a8-a8a1-be13e2bf2581"
      },
      "execution_count": 41,
      "outputs": [
        {
          "output_type": "stream",
          "name": "stdout",
          "text": [
            "{'user_1', 'user_2', 'user_3'}\n"
          ]
        }
      ]
    },
    {
      "cell_type": "code",
      "source": [
        "type(user_a)"
      ],
      "metadata": {
        "id": "q9hgzJbWBTz7",
        "colab": {
          "base_uri": "https://localhost:8080/"
        },
        "outputId": "94fa29a3-e819-469e-de9f-67c5b94e89d4"
      },
      "execution_count": 42,
      "outputs": [
        {
          "output_type": "execute_result",
          "data": {
            "text/plain": [
              "set"
            ]
          },
          "metadata": {},
          "execution_count": 42
        }
      ]
    },
    {
      "cell_type": "code",
      "source": [
        "#교집합\n",
        "user_a & user_b"
      ],
      "metadata": {
        "id": "pXEwxy5RCfYp"
      },
      "execution_count": null,
      "outputs": []
    },
    {
      "cell_type": "code",
      "source": [
        "#합집합\n",
        "user_a | user_b"
      ],
      "metadata": {
        "id": "gNhVPKrZCfnF"
      },
      "execution_count": null,
      "outputs": []
    },
    {
      "cell_type": "code",
      "source": [
        "#차집합\n",
        "user_a - user_b"
      ],
      "metadata": {
        "id": "JF6z6PmMCTbK"
      },
      "execution_count": null,
      "outputs": []
    },
    {
      "cell_type": "code",
      "source": [
        "#딕셔너리 dictionary : key 와 value(값)\n",
        "dic_1 = {'제조사': '화이자', '플랫폼':'핵산', '연령':'만 16세이상'}\n",
        "dic_1"
      ],
      "metadata": {
        "id": "__cvMcZNFUmX",
        "colab": {
          "base_uri": "https://localhost:8080/"
        },
        "outputId": "a80a97e6-4fa9-44de-e730-feaf48be770b"
      },
      "execution_count": 43,
      "outputs": [
        {
          "output_type": "execute_result",
          "data": {
            "text/plain": [
              "{'제조사': '화이자', '플랫폼': '핵산', '연령': '만 16세이상'}"
            ]
          },
          "metadata": {},
          "execution_count": 43
        }
      ]
    },
    {
      "cell_type": "code",
      "source": [
        "type(dic_1)"
      ],
      "metadata": {
        "id": "fjFQ7GzEDWJm",
        "colab": {
          "base_uri": "https://localhost:8080/"
        },
        "outputId": "f2deda12-d851-48ab-a124-682cc9d6827e"
      },
      "execution_count": 44,
      "outputs": [
        {
          "output_type": "execute_result",
          "data": {
            "text/plain": [
              "dict"
            ]
          },
          "metadata": {},
          "execution_count": 44
        }
      ]
    },
    {
      "cell_type": "code",
      "source": [
        "dic_1['제조사']"
      ],
      "metadata": {
        "colab": {
          "base_uri": "https://localhost:8080/",
          "height": 35
        },
        "id": "m4niXTQbEdC6",
        "outputId": "8efb59e2-0344-4902-d48d-04ece90b0058"
      },
      "execution_count": 45,
      "outputs": [
        {
          "output_type": "execute_result",
          "data": {
            "text/plain": [
              "'화이자'"
            ],
            "application/vnd.google.colaboratory.intrinsic+json": {
              "type": "string"
            }
          },
          "metadata": {},
          "execution_count": 45
        }
      ]
    },
    {
      "cell_type": "markdown",
      "source": [],
      "metadata": {
        "id": "uXhczgtHqs76"
      }
    },
    {
      "cell_type": "code",
      "source": [
        "#input -> 자료 입력 => 숫자 입력 후 엔터를 치셔야 됩니다.\n",
        "a = input()\n",
        "a"
      ],
      "metadata": {
        "id": "cjnNFRwOFU1L"
      },
      "execution_count": null,
      "outputs": []
    },
    {
      "cell_type": "code",
      "source": [
        "type(a)"
      ],
      "metadata": {
        "id": "f6D1GMTmFZo7"
      },
      "execution_count": null,
      "outputs": []
    },
    {
      "cell_type": "code",
      "source": [
        "#형변환: 자료형(변수이름)\n",
        "b = int(a)\n",
        "b"
      ],
      "metadata": {
        "id": "SE5BKB7wFfM0"
      },
      "execution_count": null,
      "outputs": []
    },
    {
      "cell_type": "code",
      "source": [
        "type(b)"
      ],
      "metadata": {
        "id": "EfucmGNGEcYQ"
      },
      "execution_count": null,
      "outputs": []
    },
    {
      "cell_type": "code",
      "source": [
        "#미션5. 2배로 적금만들기\n",
        "##변수 money에 input을 이용해서 입력을 받아봅시다.\n",
        "\n",
        "##money를 int형으로 변환해서, 다시 money에 넣어줍니다.\n",
        "\n",
        "##money를 2배로 불려서 print로 출력을 해봅시다\n"
      ],
      "metadata": {
        "id": "DjwZZgNz17S7"
      },
      "execution_count": null,
      "outputs": []
    },
    {
      "cell_type": "code",
      "source": [
        "money = input()\n",
        "money"
      ],
      "metadata": {
        "colab": {
          "base_uri": "https://localhost:8080/",
          "height": 53
        },
        "id": "F48ytTv6qHmG",
        "outputId": "f02e2400-c629-4581-e0d7-437d89c7f581"
      },
      "execution_count": 48,
      "outputs": [
        {
          "name": "stdout",
          "output_type": "stream",
          "text": [
            "10\n"
          ]
        },
        {
          "output_type": "execute_result",
          "data": {
            "text/plain": [
              "'10'"
            ],
            "application/vnd.google.colaboratory.intrinsic+json": {
              "type": "string"
            }
          },
          "metadata": {},
          "execution_count": 48
        }
      ]
    },
    {
      "cell_type": "code",
      "source": [
        "#미션6. 기차놀이\n",
        "#현재 기차에는 3명의 승객이 탑승하고 있습니다. ('금비','은비','동비')\n",
        "\n",
        "#서울역에 정차했습니다.##승객 '까비'를 맨 뒷칸에 태우세요\n",
        "\n",
        "print('서울역 도착,//', train)\n",
        "#대전역에 정차했습니다.##1등석 승객 '선녀'가 탑습했습니다. 맨앞에 태우세요\n",
        "\n",
        "print('대전역 도착.//', train)\n",
        "#동대구역에 정차했습니다.##승객 '은비'를 하차시켜주세요\n",
        "\n",
        "print('동대구역 도착.//', train)\n",
        "#마지막 역인 부산에 정차했습니다.##원할한 하차를 위해 손님들의 자리를 사전순으로 다시 지정해주세요\n",
        "\n",
        "print('부산역 도착.//', train)"
      ],
      "metadata": {
        "id": "jPFwY2PD1_6S",
        "colab": {
          "base_uri": "https://localhost:8080/"
        },
        "outputId": "8ae69e0a-839e-4bb6-d36a-5fdb5647b5c5"
      },
      "execution_count": 47,
      "outputs": [
        {
          "output_type": "stream",
          "name": "stdout",
          "text": [
            "서울역 도착,// ['금비', '은비', '동비', '까비']\n",
            "대전역 도착.// ['선녀', '금비', '은비', '동비', '까비']\n",
            "동대구역 도착.// ['선녀', '금비', '동비', '까비']\n",
            "부산역 도착.// ['금비', '까비', '동비', '선녀']\n"
          ]
        }
      ]
    },
    {
      "cell_type": "code",
      "source": [],
      "metadata": {
        "id": "qDXT7imZFS7J"
      },
      "execution_count": null,
      "outputs": []
    },
    {
      "cell_type": "code",
      "source": [
        "#교통카드충전하기"
      ],
      "metadata": {
        "id": "p7evtjeMI35Z"
      },
      "execution_count": null,
      "outputs": []
    },
    {
      "cell_type": "code",
      "source": [
        "###if 문 조건을 배울거다\n",
        "a = 42\n",
        "b = 100\n",
        "\n",
        "if b>a:\n",
        "  print(\"b가 a 보다 크다\")"
      ],
      "metadata": {
        "id": "BqhCOIcUI37v",
        "colab": {
          "base_uri": "https://localhost:8080/"
        },
        "outputId": "76aae345-b8a6-40a0-e128-88c8a5d25998"
      },
      "execution_count": 49,
      "outputs": [
        {
          "output_type": "stream",
          "name": "stdout",
          "text": [
            "b가 a 보다 크다\n"
          ]
        }
      ]
    },
    {
      "cell_type": "code",
      "source": [
        "a = 42\n",
        "b = 100\n",
        "\n",
        "if b<a:\n",
        "  print(\"b가 a 보다 크다\")"
      ],
      "metadata": {
        "id": "o5nC0rvQrz-Y"
      },
      "execution_count": 50,
      "outputs": []
    },
    {
      "cell_type": "code",
      "source": [
        "a = 100\n",
        "b = 42\n",
        "\n",
        "if b>a:\n",
        "  print(\"b가 a 보다 크다\")\n",
        "else:\n",
        "  print(\"b가 a보다 작거나 같다\")"
      ],
      "metadata": {
        "id": "XZ4kRov6QHsE",
        "colab": {
          "base_uri": "https://localhost:8080/"
        },
        "outputId": "3a566faf-a0e3-43db-cd7d-c8bcc5ef227f"
      },
      "execution_count": 51,
      "outputs": [
        {
          "output_type": "stream",
          "name": "stdout",
          "text": [
            "b가 a보다 작거나 같다\n"
          ]
        }
      ]
    },
    {
      "cell_type": "code",
      "source": [
        "#elif:  그렇지않으면\n",
        "a = 41\n",
        "b = 41\n",
        "\n",
        "if b>a:\n",
        "  print('b가 a보다 큼')\n",
        "elif a ==b:\n",
        "  print('a와b는 같음')"
      ],
      "metadata": {
        "id": "KR19zBS3I4D8",
        "colab": {
          "base_uri": "https://localhost:8080/"
        },
        "outputId": "fff21b97-a2ec-4ab9-ee87-3c803117bd02"
      },
      "execution_count": 52,
      "outputs": [
        {
          "output_type": "stream",
          "name": "stdout",
          "text": [
            "a와b는 같음\n"
          ]
        }
      ]
    },
    {
      "cell_type": "code",
      "source": [
        "#else -> if - elif - else\n"
      ],
      "metadata": {
        "id": "MHdmJKvSTO5K"
      },
      "execution_count": null,
      "outputs": []
    },
    {
      "cell_type": "code",
      "source": [
        "##응용 . 점심메뉴 정하기\n",
        "메뉴 = \"김밥\"\n",
        "중국집 = {\"짜장면\",\"짬뽕\",\"볶음밥\"}\n",
        "일식집 = {\"초밥\", \"돈까스\", \"우동\"}\n",
        "\n",
        "if 메뉴 in 중국집:\n",
        "  print(\"중국집으로 가자\")\n",
        "elif 메뉴 in 일식집:\n",
        "  print(\"일식집으로 가자\")\n",
        "else:\n",
        "  print(\"맥도날드나 먹자\")"
      ],
      "metadata": {
        "id": "DrJCeIRcI4Hy",
        "colab": {
          "base_uri": "https://localhost:8080/"
        },
        "outputId": "58efa559-9a0f-4e31-b5fd-3454b614bd61"
      },
      "execution_count": 55,
      "outputs": [
        {
          "output_type": "stream",
          "name": "stdout",
          "text": [
            "맥도날드나 먹자\n"
          ]
        }
      ]
    },
    {
      "cell_type": "code",
      "source": [
        "#or and\n",
        "a = 42\n",
        "b = 100\n",
        "\n",
        "if b>a and b<200:\n",
        "  print(\"b가 a보다크고 200보다는 작음\")"
      ],
      "metadata": {
        "id": "k3eaZUpvVMzf"
      },
      "execution_count": null,
      "outputs": []
    },
    {
      "cell_type": "code",
      "source": [
        "a = 42\n",
        "b = 8\n",
        "if b>a or b>5:\n",
        "  print(\"b가 a보다 크거나 5보다 크다\")"
      ],
      "metadata": {
        "id": "RmQPHSJbGmc0"
      },
      "execution_count": null,
      "outputs": []
    },
    {
      "cell_type": "code",
      "source": [
        "#if는 중첩이가능하다= if 속에 if를 사용할수 잇다\n",
        "a = 10\n",
        "b = 100\n",
        "if b>10:\n",
        "  print(\"b가 10보다 큼\")\n",
        "  if b>a:\n",
        "    print(\"b가 a보다 크다\")"
      ],
      "metadata": {
        "id": "YA5Y3A9aWN5K",
        "colab": {
          "base_uri": "https://localhost:8080/"
        },
        "outputId": "ed5975c1-2331-4ab1-a7a1-593f6766bd42"
      },
      "execution_count": 56,
      "outputs": [
        {
          "output_type": "stream",
          "name": "stdout",
          "text": [
            "b가 10보다 큼\n",
            "b가 a보다 크다\n"
          ]
        }
      ]
    },
    {
      "cell_type": "code",
      "source": [
        "#미션6. 홀짝판별기\n",
        "##input()을 이용해서 숫자(정수) 입력을 받고, 변수 num에 이를 넣어봅시다.\n",
        "\n",
        "#if-else 문을 이용해서 만약 입력받은 수가 홀수면 \"(입력받은수) 홀수입니다.\"\n",
        "##짝수면 \"(입력받은수) 짝수입니다\"를 출력해봅시다\n"
      ],
      "metadata": {
        "id": "OUtwebFO2E9v"
      },
      "execution_count": null,
      "outputs": []
    },
    {
      "cell_type": "code",
      "source": [
        "#미션7. 업-다운\n",
        "##변수 answer에 수 1~50 중 하나를 넣어봅시다.\n",
        "answer = 2\n",
        "##input을 통해 숫자형으로 입력을 받아서 변수 submit에 저장해봅시다.\n",
        "\n",
        "##if-elif-else 문으로 \n",
        "###만약 answer 보다 submit이 더 크면 \"정답보다 더 큰 수를 입력했습니다\"\n",
        "###만약 answer 보다 submit이 더 작으면 \"정답보다 더 작은 수를 입력했습니다\"\n",
        "###만약 answer 보다 submit이 같으면 \"정답!\"을 출력합니다. \n"
      ],
      "metadata": {
        "id": "NRu8aOpu2Jp4"
      },
      "execution_count": null,
      "outputs": []
    },
    {
      "cell_type": "code",
      "source": [
        "#input()\n"
      ],
      "metadata": {
        "id": "C3Mtk0IbKChX"
      },
      "execution_count": null,
      "outputs": []
    },
    {
      "cell_type": "code",
      "source": [],
      "metadata": {
        "id": "7aG4PwIkIPrl"
      },
      "execution_count": null,
      "outputs": []
    },
    {
      "cell_type": "code",
      "source": [],
      "metadata": {
        "id": "S2Q7W8VRKCs2"
      },
      "execution_count": null,
      "outputs": []
    },
    {
      "cell_type": "code",
      "source": [],
      "metadata": {
        "id": "xRhvG0NYKVFl"
      },
      "execution_count": null,
      "outputs": []
    },
    {
      "cell_type": "code",
      "source": [],
      "metadata": {
        "id": "zeqRczBwPcrY"
      },
      "execution_count": null,
      "outputs": []
    },
    {
      "cell_type": "code",
      "source": [],
      "metadata": {
        "id": "DtrrF_eFXJ9C"
      },
      "execution_count": null,
      "outputs": []
    },
    {
      "cell_type": "code",
      "source": [
        "#반복문 while\n",
        "\n",
        "i = 1\n",
        "while i<11:\n",
        "  print(i)\n",
        "  i= i+1\n"
      ],
      "metadata": {
        "id": "XhqyH8ezftjH",
        "colab": {
          "base_uri": "https://localhost:8080/"
        },
        "outputId": "356d0855-839c-4faf-9c11-5e34a3e84492"
      },
      "execution_count": 57,
      "outputs": [
        {
          "output_type": "stream",
          "name": "stdout",
          "text": [
            "1\n",
            "2\n",
            "3\n",
            "4\n",
            "5\n",
            "6\n",
            "7\n",
            "8\n",
            "9\n",
            "10\n"
          ]
        }
      ]
    },
    {
      "cell_type": "code",
      "source": [
        "#미션8\n",
        "#미션\n",
        "#while을 이용해서 \"i 년째 수감중입니다.\"를 출력해봅시다.\n",
        "#while문이 종료된 후에는, \"감옥에서 석방되었습니다!\"를 출력해봅시다.\n",
        "\n",
        "\n"
      ],
      "metadata": {
        "id": "UxgjCBvr2Lrg",
        "colab": {
          "base_uri": "https://localhost:8080/"
        },
        "outputId": "e3625b8b-22df-4a17-86a8-d4bab7633036"
      },
      "execution_count": 58,
      "outputs": [
        {
          "output_type": "stream",
          "name": "stdout",
          "text": [
            "1 년째 수감중입니다\n",
            "2 년째 수감중입니다\n",
            "3 년째 수감중입니다\n",
            "4 년째 수감중입니다\n",
            "5 년째 수감중입니다\n",
            "6 년째 수감중입니다\n",
            "7 년째 수감중입니다\n",
            "8 년째 수감중입니다\n",
            "9 년째 수감중입니다\n",
            "10 년째 수감중입니다\n",
            "감옥에서 석방되었습니다!\n"
          ]
        }
      ]
    },
    {
      "cell_type": "code",
      "source": [],
      "metadata": {
        "id": "CU8vevbQCR4w"
      },
      "execution_count": null,
      "outputs": []
    },
    {
      "cell_type": "code",
      "source": [
        "#반복문 for를 실습해보자\n",
        "# for 원소 in 변수:\n",
        "\n",
        "fruits = [\"apple\", \"banana\", \"peach\", \"fig\"]\n",
        "\n",
        "for x in fruits:\n",
        "  print(x)"
      ],
      "metadata": {
        "id": "pWtEToduXKBu",
        "colab": {
          "base_uri": "https://localhost:8080/"
        },
        "outputId": "228de5ed-65e7-4e04-fb36-f26cae5ab687"
      },
      "execution_count": 59,
      "outputs": [
        {
          "output_type": "stream",
          "name": "stdout",
          "text": [
            "apple\n",
            "banana\n",
            "peach\n",
            "fig\n"
          ]
        }
      ]
    },
    {
      "cell_type": "code",
      "source": [
        "for i in [1,2,3,4,5,6,7,8,9,10]:\n",
        "  print(i)"
      ],
      "metadata": {
        "id": "gEKIXhl1XKE-",
        "colab": {
          "base_uri": "https://localhost:8080/"
        },
        "outputId": "23770a32-3952-4b96-f889-c81ff0f11ed5"
      },
      "execution_count": 60,
      "outputs": [
        {
          "output_type": "stream",
          "name": "stdout",
          "text": [
            "1\n",
            "2\n",
            "3\n",
            "4\n",
            "5\n",
            "6\n",
            "7\n",
            "8\n",
            "9\n",
            "10\n"
          ]
        }
      ]
    },
    {
      "cell_type": "code",
      "source": [
        "#range() 연속된 숫자를 만드는 함수\n",
        "for i in range(1,11):\n",
        "  print(i)"
      ],
      "metadata": {
        "id": "Ygy83cJBXKH0",
        "colab": {
          "base_uri": "https://localhost:8080/"
        },
        "outputId": "32227130-76da-430c-ff92-70c34b31ca3e"
      },
      "execution_count": 61,
      "outputs": [
        {
          "output_type": "stream",
          "name": "stdout",
          "text": [
            "1\n",
            "2\n",
            "3\n",
            "4\n",
            "5\n",
            "6\n",
            "7\n",
            "8\n",
            "9\n",
            "10\n"
          ]
        }
      ]
    },
    {
      "cell_type": "code",
      "source": [
        "for i in range(11):\n",
        "  print(i)"
      ],
      "metadata": {
        "id": "m4zSVdHBXKLQ",
        "colab": {
          "base_uri": "https://localhost:8080/"
        },
        "outputId": "8b51864b-29bb-4480-aff7-bc0a688c13a9"
      },
      "execution_count": 62,
      "outputs": [
        {
          "output_type": "stream",
          "name": "stdout",
          "text": [
            "0\n",
            "1\n",
            "2\n",
            "3\n",
            "4\n",
            "5\n",
            "6\n",
            "7\n",
            "8\n",
            "9\n",
            "10\n"
          ]
        }
      ]
    },
    {
      "cell_type": "code",
      "source": [
        "for i in range(1,11,3):\n",
        "  print(i)"
      ],
      "metadata": {
        "id": "sX5n5rwEXKON",
        "colab": {
          "base_uri": "https://localhost:8080/"
        },
        "outputId": "be447d20-0fe5-44d1-92ba-50dcec6bdf51"
      },
      "execution_count": 63,
      "outputs": [
        {
          "output_type": "stream",
          "name": "stdout",
          "text": [
            "1\n",
            "4\n",
            "7\n",
            "10\n"
          ]
        }
      ]
    },
    {
      "cell_type": "code",
      "source": [
        "for i in range(100,10,-10):\n",
        "  print(i)"
      ],
      "metadata": {
        "id": "2u0s0B3AFy9I",
        "colab": {
          "base_uri": "https://localhost:8080/"
        },
        "outputId": "b46d2b4c-5b92-4cb2-9a7e-1c62305f2b6e"
      },
      "execution_count": 64,
      "outputs": [
        {
          "output_type": "stream",
          "name": "stdout",
          "text": [
            "100\n",
            "90\n",
            "80\n",
            "70\n",
            "60\n",
            "50\n",
            "40\n",
            "30\n",
            "20\n"
          ]
        }
      ]
    },
    {
      "cell_type": "code",
      "source": [
        "##for break-> 루프 무한 반복 구문 빠져나올수잇겠금 <-> pass: 결과 가 없이 지나감\n",
        "##if: pass break\n",
        "fruits = [\"apple\", \"banana\", \"peach\", \"fig\"]\n",
        "\n",
        "for x in fruits:\n",
        "  print(x)\n",
        "  if x ==\"peach\":\n",
        "    break #구문을 빠져나와라"
      ],
      "metadata": {
        "id": "l-kfrv84AKJi",
        "colab": {
          "base_uri": "https://localhost:8080/"
        },
        "outputId": "46ec58b4-c840-46ae-c0e1-4d910763ff13"
      },
      "execution_count": 65,
      "outputs": [
        {
          "output_type": "stream",
          "name": "stdout",
          "text": [
            "apple\n",
            "banana\n",
            "peach\n"
          ]
        }
      ]
    },
    {
      "cell_type": "code",
      "source": [
        "fruits = [\"apple\", \"banana\", \"peach\", \"fig\"]\n",
        "for x in fruits:\n",
        "  print(x)\n",
        "  if x ==\"peach\":\n",
        "    pass"
      ],
      "metadata": {
        "id": "er8O_FdLpAa_",
        "colab": {
          "base_uri": "https://localhost:8080/"
        },
        "outputId": "cbf4809d-32e8-446d-f18c-4fe088fedbba"
      },
      "execution_count": 66,
      "outputs": [
        {
          "output_type": "stream",
          "name": "stdout",
          "text": [
            "apple\n",
            "banana\n",
            "peach\n",
            "fig\n"
          ]
        }
      ]
    },
    {
      "cell_type": "code",
      "source": [
        "#미션 19단 외우기 #변수i사용해보기\n",
        "for i in range(1,20):\n",
        "  print(\"19 *\", i, \"=\", 19*i)"
      ],
      "metadata": {
        "id": "DupcUBWp6aC4",
        "colab": {
          "base_uri": "https://localhost:8080/"
        },
        "outputId": "843de127-4871-4e3e-b4e3-13451ecab824"
      },
      "execution_count": 67,
      "outputs": [
        {
          "output_type": "stream",
          "name": "stdout",
          "text": [
            "19 * 1 = 19\n",
            "19 * 2 = 38\n",
            "19 * 3 = 57\n",
            "19 * 4 = 76\n",
            "19 * 5 = 95\n",
            "19 * 6 = 114\n",
            "19 * 7 = 133\n",
            "19 * 8 = 152\n",
            "19 * 9 = 171\n",
            "19 * 10 = 190\n",
            "19 * 11 = 209\n",
            "19 * 12 = 228\n",
            "19 * 13 = 247\n",
            "19 * 14 = 266\n",
            "19 * 15 = 285\n",
            "19 * 16 = 304\n",
            "19 * 17 = 323\n",
            "19 * 18 = 342\n",
            "19 * 19 = 361\n"
          ]
        }
      ]
    },
    {
      "cell_type": "code",
      "source": [
        "for i in [1,2,3,4,5,6,8,9,10,11,12,13,14,15,16,17,18,19]:\n",
        "  print(\"19 *\", i, \"=\", 19*i)"
      ],
      "metadata": {
        "id": "WAcEEG95EkPk"
      },
      "execution_count": null,
      "outputs": []
    },
    {
      "cell_type": "code",
      "source": [],
      "metadata": {
        "id": "4wmyeJyMooHM"
      },
      "execution_count": null,
      "outputs": []
    },
    {
      "cell_type": "code",
      "source": [],
      "metadata": {
        "id": "oT0P1kTko9EB"
      },
      "execution_count": null,
      "outputs": []
    },
    {
      "cell_type": "code",
      "source": [
        "##loc(열,행)\n"
      ],
      "metadata": {
        "id": "hA1y1gKQqkfw"
      },
      "execution_count": null,
      "outputs": []
    },
    {
      "cell_type": "code",
      "source": [
        "#iloc(순서)\n"
      ],
      "metadata": {
        "id": "kUGuuTpyqkk3"
      },
      "execution_count": null,
      "outputs": []
    },
    {
      "cell_type": "code",
      "source": [],
      "metadata": {
        "id": "WviyGpqWrTPW"
      },
      "execution_count": null,
      "outputs": []
    },
    {
      "cell_type": "code",
      "source": [],
      "metadata": {
        "id": "xqt0bOhgrTYV"
      },
      "execution_count": null,
      "outputs": []
    },
    {
      "cell_type": "code",
      "source": [],
      "metadata": {
        "id": "YiWExKEZr6u5"
      },
      "execution_count": null,
      "outputs": []
    },
    {
      "cell_type": "code",
      "source": [],
      "metadata": {
        "id": "1R-rswMdsC0G"
      },
      "execution_count": null,
      "outputs": []
    },
    {
      "cell_type": "code",
      "source": [],
      "metadata": {
        "id": "QxonrYg9sMWa"
      },
      "execution_count": null,
      "outputs": []
    },
    {
      "cell_type": "code",
      "source": [],
      "metadata": {
        "id": "VSJxbpphsXbZ"
      },
      "execution_count": null,
      "outputs": []
    },
    {
      "cell_type": "code",
      "source": [],
      "metadata": {
        "id": "PvLuiy7-sXeL"
      },
      "execution_count": null,
      "outputs": []
    },
    {
      "cell_type": "code",
      "source": [],
      "metadata": {
        "id": "PTPO-VOhsrzi"
      },
      "execution_count": null,
      "outputs": []
    }
  ]
}