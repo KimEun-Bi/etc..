{
  "nbformat": 4,
  "nbformat_minor": 0,
  "metadata": {
    "colab": {
      "provenance": [],
      "authorship_tag": "ABX9TyNF6xqJbHYrOiLWi9zYQZJ8",
      "include_colab_link": true
    },
    "kernelspec": {
      "name": "python3",
      "display_name": "Python 3"
    },
    "language_info": {
      "name": "python"
    }
  },
  "cells": [
    {
      "cell_type": "markdown",
      "metadata": {
        "id": "view-in-github",
        "colab_type": "text"
      },
      "source": [
        "<a href=\"https://colab.research.google.com/github/KimEun-Bi/etc../blob/master/%ED%8C%8C%EC%9D%B4%EC%8D%AC_%EA%B8%B0%EC%B4%88_%EB%AF%B8%EC%85%98(8_6).ipynb\" target=\"_parent\"><img src=\"https://colab.research.google.com/assets/colab-badge.svg\" alt=\"Open In Colab\"/></a>"
      ]
    },
    {
      "cell_type": "markdown",
      "source": [
        "7월 3일\n",
        "#파이썬 기초"
      ],
      "metadata": {
        "id": "tFUABOzJWIJ2"
      }
    },
    {
      "cell_type": "code",
      "execution_count": null,
      "metadata": {
        "id": "hsVU3Oax1sTF"
      },
      "outputs": [],
      "source": [
        "#미션1. 이름으로 삼행시 짓기\n"
      ]
    },
    {
      "cell_type": "code",
      "source": [
        "######주석\n",
        "a =10"
      ],
      "metadata": {
        "id": "A7PCp-XAV-vx"
      },
      "execution_count": null,
      "outputs": []
    },
    {
      "cell_type": "code",
      "source": [
        "#미션2. 여러분의 변수를 만들어봅시다. my_var라는 이름의 변수를 만들고, print로 출력해서 확인해봅시다 #123\n"
      ],
      "metadata": {
        "id": "2gLwF9QH1uz1"
      },
      "execution_count": null,
      "outputs": []
    },
    {
      "cell_type": "code",
      "source": [
        "#숫자형"
      ],
      "metadata": {
        "id": "az3TI7ivWJke"
      },
      "execution_count": null,
      "outputs": []
    },
    {
      "cell_type": "code",
      "source": [
        "#연산\n",
        "#더하기\n"
      ],
      "metadata": {
        "id": "2u0nNkYpWJtg"
      },
      "execution_count": null,
      "outputs": []
    },
    {
      "cell_type": "code",
      "source": [
        "#빼기"
      ],
      "metadata": {
        "id": "RhBxOYxoWJ4b"
      },
      "execution_count": null,
      "outputs": []
    },
    {
      "cell_type": "code",
      "source": [
        "#곱셈"
      ],
      "metadata": {
        "id": "dEkArHklWnuU"
      },
      "execution_count": null,
      "outputs": []
    },
    {
      "cell_type": "code",
      "source": [
        " #제곱"
      ],
      "metadata": {
        "id": "vL1vwqOEWnws"
      },
      "execution_count": null,
      "outputs": []
    },
    {
      "cell_type": "code",
      "source": [
        "#나누기"
      ],
      "metadata": {
        "id": "ER261ulrWn0i"
      },
      "execution_count": null,
      "outputs": []
    },
    {
      "cell_type": "code",
      "source": [
        " #나머지"
      ],
      "metadata": {
        "id": "QTApI2_GXHP2"
      },
      "execution_count": null,
      "outputs": []
    },
    {
      "cell_type": "code",
      "source": [
        "#몫"
      ],
      "metadata": {
        "id": "dgaJPx_LXPCA"
      },
      "execution_count": null,
      "outputs": []
    },
    {
      "cell_type": "code",
      "source": [
        "#미션3.0\n",
        "## 숫자 50과 숫자 50 더해서 출력하기\n"
      ],
      "metadata": {
        "id": "bPhPyWSI1wv1"
      },
      "execution_count": null,
      "outputs": []
    },
    {
      "cell_type": "code",
      "source": [],
      "metadata": {
        "id": "LNuXLQVzZ2wU"
      },
      "execution_count": null,
      "outputs": []
    },
    {
      "cell_type": "code",
      "source": [
        "#숫자, 문자, 불린\n",
        "##문자열\n"
      ],
      "metadata": {
        "id": "txJRjYt4Z8Hd"
      },
      "execution_count": null,
      "outputs": []
    },
    {
      "cell_type": "code",
      "source": [],
      "metadata": {
        "id": "nPv2UNqAaIwT"
      },
      "execution_count": null,
      "outputs": []
    },
    {
      "cell_type": "code",
      "source": [],
      "metadata": {
        "id": "6SNfmh6BaUdl"
      },
      "execution_count": null,
      "outputs": []
    },
    {
      "cell_type": "code",
      "source": [
        "#미션3.1\n",
        "## 문자열 50과 문자열 50 더해서 출력하기\n"
      ],
      "metadata": {
        "id": "Bo8UAYyj1y21"
      },
      "execution_count": null,
      "outputs": []
    },
    {
      "cell_type": "code",
      "source": [
        "#미션3.1\n",
        "## 문자열 50과 문자열 50 더해서 출력하기\n"
      ],
      "metadata": {
        "id": "E_Z-xYM6bv8N"
      },
      "execution_count": null,
      "outputs": []
    },
    {
      "cell_type": "code",
      "source": [
        "#미션3.3 거꾸로 계산기\n",
        "# //을 이용해서 변수 intdiv에 4를 넢은 수식을 작성해봅니다.\n",
        "\n",
        "#%을 이용하여 변수 modular에 1을 넣는 수식을 작성해봅니다\n",
        "\n",
        "#**을 이용해서 변수 expo에 16을 넣는 수식을 작성해봅시다.\n",
        "\n",
        "#위의 세변수를 출력해서 확인해봅시다\n",
        "\n"
      ],
      "metadata": {
        "id": "AdXqgo-j1184"
      },
      "execution_count": null,
      "outputs": []
    },
    {
      "cell_type": "code",
      "source": [
        "#불린\n",
        "##자료 묶음으로 리스트 튜플"
      ],
      "metadata": {
        "id": "_ad7h5EQdkyk"
      },
      "execution_count": null,
      "outputs": []
    },
    {
      "cell_type": "code",
      "source": [
        "#불린\n"
      ],
      "metadata": {
        "id": "-EuVac9dgxnv"
      },
      "execution_count": null,
      "outputs": []
    },
    {
      "cell_type": "code",
      "source": [],
      "metadata": {
        "id": "9xb4tSLhg_Vo"
      },
      "execution_count": null,
      "outputs": []
    },
    {
      "cell_type": "code",
      "source": [],
      "metadata": {
        "id": "bhxvMQ6ChEdB"
      },
      "execution_count": null,
      "outputs": []
    },
    {
      "cell_type": "code",
      "source": [
        "#and or not\n"
      ],
      "metadata": {
        "id": "3WkzYNXwheGd"
      },
      "execution_count": null,
      "outputs": []
    },
    {
      "cell_type": "code",
      "source": [
        "#미션4. 비교연산자로 명제 만들기\n",
        "\n",
        "## == 혹은 != 연산자를 이용해서 True인 명제를 ans1에 넣어봅시다.\n",
        "\n",
        "\n",
        "## > 혹은 < 연산자를 이용해서 False인 명제를 ans2에 넣어봅시다\n",
        "\n",
        "\n",
        "##위의 변수를 출력해서 정답을 확인해봅시다.\n"
      ],
      "metadata": {
        "id": "8FaGiYer132V"
      },
      "execution_count": null,
      "outputs": []
    },
    {
      "cell_type": "code",
      "source": [
        "##데이터 묶음으로 표현이 가능한 자료형 : 리스트\n"
      ],
      "metadata": {
        "id": "oxs1FjCgkC0C"
      },
      "execution_count": null,
      "outputs": []
    },
    {
      "cell_type": "code",
      "source": [],
      "metadata": {
        "id": "zzls1-WHkC_M"
      },
      "execution_count": null,
      "outputs": []
    },
    {
      "cell_type": "code",
      "source": [],
      "metadata": {
        "id": "xaNCSWOmlQl7"
      },
      "execution_count": null,
      "outputs": []
    },
    {
      "cell_type": "code",
      "source": [
        "#뽑아오기 찾기 : 인덱싱 \"문자열'작은따오옴표'\"\n"
      ],
      "metadata": {
        "id": "QBB9-iTGk8jW"
      },
      "execution_count": null,
      "outputs": []
    },
    {
      "cell_type": "code",
      "source": [
        "#인덱싱\n"
      ],
      "metadata": {
        "id": "BUjhaWEUlkYL"
      },
      "execution_count": null,
      "outputs": []
    },
    {
      "cell_type": "code",
      "source": [
        "#인덱싱\n"
      ],
      "metadata": {
        "id": "cv9SPatMlbYa"
      },
      "execution_count": null,
      "outputs": []
    },
    {
      "cell_type": "code",
      "source": [
        "#인덱싱\n"
      ],
      "metadata": {
        "id": "JOj-9Bs3lojq"
      },
      "execution_count": null,
      "outputs": []
    },
    {
      "cell_type": "code",
      "source": [
        "#슬라이싱: 쪼개기\n"
      ],
      "metadata": {
        "id": "PaXUYREPlwbP"
      },
      "execution_count": null,
      "outputs": []
    },
    {
      "cell_type": "code",
      "source": [],
      "metadata": {
        "id": "JUvBTnlyl8v_"
      },
      "execution_count": null,
      "outputs": []
    },
    {
      "cell_type": "code",
      "source": [
        " #n-1"
      ],
      "metadata": {
        "id": "AG9f4l7NmB1p"
      },
      "execution_count": null,
      "outputs": []
    },
    {
      "cell_type": "code",
      "source": [
        "#n-1"
      ],
      "metadata": {
        "id": "68GGkJhNmR_M"
      },
      "execution_count": null,
      "outputs": []
    },
    {
      "cell_type": "code",
      "source": [
        "#인덱싱을 사용해서 수정도 가능해요\n"
      ],
      "metadata": {
        "id": "p2aRnKFSmeAi"
      },
      "execution_count": null,
      "outputs": []
    },
    {
      "cell_type": "code",
      "source": [
        "#추가도 가능해요\n"
      ],
      "metadata": {
        "id": "N5KSGdP-msUh"
      },
      "execution_count": null,
      "outputs": []
    },
    {
      "cell_type": "code",
      "source": [
        "#추가하는 방법은 append, insert\n"
      ],
      "metadata": {
        "id": "sG_GEdwZm7BC"
      },
      "execution_count": null,
      "outputs": []
    },
    {
      "cell_type": "code",
      "source": [
        "#미션3.1\n",
        "## 리스트 50과 리스트 50 더해서 출력하기\n"
      ],
      "metadata": {
        "id": "49Xyy91U10eV"
      },
      "execution_count": null,
      "outputs": []
    },
    {
      "cell_type": "code",
      "source": [],
      "metadata": {
        "id": "JnhrW4UymA9e"
      },
      "execution_count": null,
      "outputs": []
    },
    {
      "cell_type": "code",
      "source": [
        "#교통카드충전하기"
      ],
      "metadata": {
        "id": "p7evtjeMI35Z"
      },
      "execution_count": null,
      "outputs": []
    },
    {
      "cell_type": "code",
      "source": [
        "###if 문 조건을 배울거다\n",
        "\n"
      ],
      "metadata": {
        "id": "BqhCOIcUI37v"
      },
      "execution_count": null,
      "outputs": []
    },
    {
      "cell_type": "code",
      "source": [
        "#elif:  그렇지않으면\n",
        "\n",
        "\n"
      ],
      "metadata": {
        "id": "KR19zBS3I4D8"
      },
      "execution_count": null,
      "outputs": []
    },
    {
      "cell_type": "code",
      "source": [
        "##응용 . 점심메뉴 정하기\n",
        "\n",
        "\n"
      ],
      "metadata": {
        "id": "DrJCeIRcI4Hy"
      },
      "execution_count": null,
      "outputs": []
    },
    {
      "cell_type": "code",
      "source": [
        "#or and\n"
      ],
      "metadata": {
        "id": "k3eaZUpvVMzf"
      },
      "execution_count": null,
      "outputs": []
    },
    {
      "cell_type": "code",
      "source": [],
      "metadata": {
        "id": "A0j6nwUoVofQ"
      },
      "execution_count": null,
      "outputs": []
    },
    {
      "cell_type": "code",
      "source": [
        "#if는 중첩이가능하다= if 속에 if를 사용할수 잇다\n"
      ],
      "metadata": {
        "id": "YA5Y3A9aWN5K"
      },
      "execution_count": null,
      "outputs": []
    },
    {
      "cell_type": "code",
      "source": [
        "#미션5. 2배로 적금만들기\n",
        "\n",
        "##변수 money에 input을 이용해서 입력을 받아봅시다.\n",
        "\n",
        "\n",
        "##money를 int형으로 변환해서, 다시 money에 넣어줍니다.\n",
        "\n",
        "##money를 2배로 불려서 print로 출력을 해봅시다\n"
      ],
      "metadata": {
        "id": "DjwZZgNz17S7"
      },
      "execution_count": null,
      "outputs": []
    },
    {
      "cell_type": "code",
      "source": [
        "#미션6. 기차놀이\n",
        "#현재 기차에는 3명의 승객이 탑승하고 있습니다. ('금비','은비','동비')\n",
        "\n",
        "\n",
        "#서울역에 정차했습니다.\n",
        "##승객 '까비'를 맨 뒷칸에 태우세요\n",
        "\n",
        "print('서울역 도착,//', train)\n",
        "\n",
        "#대전역에 정차했습니다.\n",
        "##1등석 승객 '선녀'가 탑습했습니다. 맨앞에 태우세요\n",
        "\n",
        "print('대전역 도착.//', train)\n",
        "\n",
        "\n",
        "#동대구역에 정차했습니다.\n",
        "##승객 '은비'를 하차시켜주세요\n",
        "\n",
        "print('동대구역 도착.//', train)\n",
        "\n",
        "#마지막 역인 부산에 정차했습니다.\n",
        "##원할한 하차를 위해 손님들의 자리를 사전순으로 다시 지정해주세요\n",
        "\n",
        "print('부산역 도착.//', train)\n"
      ],
      "metadata": {
        "id": "jPFwY2PD1_6S"
      },
      "execution_count": null,
      "outputs": []
    },
    {
      "cell_type": "code",
      "source": [],
      "metadata": {
        "id": "zeqRczBwPcrY"
      },
      "execution_count": null,
      "outputs": []
    },
    {
      "cell_type": "code",
      "source": [
        "#미션6. 홀짝판별기\n",
        "\n",
        "##input()을 이용해서 숫자(정수) 입력을 받고, 변수 num에 이를 넣어봅시다.\n",
        "\n",
        "\n",
        "##if-else 문을 이용해서 만약 입력받은 수가 홀수면 \"(입력받은수) 홀수입니다.\"\n",
        "##짝수면 \"(입력받은수) 짝수입니다\"를 출력해봅시다\n"
      ],
      "metadata": {
        "id": "OUtwebFO2E9v"
      },
      "execution_count": null,
      "outputs": []
    },
    {
      "cell_type": "code",
      "source": [
        "#미션7. 업-다운\n",
        "\n",
        "##변수 answer에 수 1~50 중 하나를 넣어봅시다.\n",
        "\n",
        "\n",
        "##input을 통해 숫자형으로 입력을 받아서 변수 submit에 저장해봅시다.\n",
        "\n",
        "\n",
        "##if-elif-else 문으로\n",
        "###만약 answer 보다 submit이 더 크면 \"정답보다 더 큰 수를 입력했습니다\"\n",
        "###만약 answer 보다 submit이 더 작으면 \"정답보다 더 작은 수를 입력했습니다\"\n",
        "###만약 answer 보다 submit이 같으면 \"정답!\"을 출력합니다.\n",
        "\n"
      ],
      "metadata": {
        "id": "NRu8aOpu2Jp4"
      },
      "execution_count": null,
      "outputs": []
    },
    {
      "cell_type": "code",
      "source": [],
      "metadata": {
        "id": "DtrrF_eFXJ9C"
      },
      "execution_count": null,
      "outputs": []
    },
    {
      "cell_type": "code",
      "source": [
        "#반복문 while\n"
      ],
      "metadata": {
        "id": "XhqyH8ezftjH"
      },
      "execution_count": null,
      "outputs": []
    },
    {
      "cell_type": "code",
      "source": [
        "#미션8\n",
        "#미션\n",
        "#while을 이용해서 \"i 년째 수감중입니다.\"를 출력해봅시다.\n",
        "#while문이 종료된 후에는, \"감옥에서 석방되었습니다!\"를 출력해봅시다.\n"
      ],
      "metadata": {
        "id": "UxgjCBvr2Lrg"
      },
      "execution_count": null,
      "outputs": []
    },
    {
      "cell_type": "code",
      "source": [
        "#반복문 for를 실습해보자\n",
        "# for 원소 in 변수:\n"
      ],
      "metadata": {
        "id": "pWtEToduXKBu"
      },
      "execution_count": null,
      "outputs": []
    },
    {
      "cell_type": "code",
      "source": [],
      "metadata": {
        "id": "gEKIXhl1XKE-"
      },
      "execution_count": null,
      "outputs": []
    },
    {
      "cell_type": "code",
      "source": [
        "#range() 연속된 숫자를 만드는 함수\n"
      ],
      "metadata": {
        "id": "Ygy83cJBXKH0"
      },
      "execution_count": null,
      "outputs": []
    },
    {
      "cell_type": "code",
      "source": [],
      "metadata": {
        "id": "m4zSVdHBXKLQ"
      },
      "execution_count": null,
      "outputs": []
    },
    {
      "cell_type": "code",
      "source": [],
      "metadata": {
        "id": "sX5n5rwEXKON"
      },
      "execution_count": null,
      "outputs": []
    },
    {
      "cell_type": "code",
      "source": [
        "##for break-> 루프 무한 반복 구문 빠져나올수잇겠금 <-> pass: 결과 가 없이 지나감\n",
        "##if: pass break\n"
      ],
      "metadata": {
        "id": "l-kfrv84AKJi"
      },
      "execution_count": null,
      "outputs": []
    },
    {
      "cell_type": "code",
      "source": [],
      "metadata": {
        "id": "er8O_FdLpAa_"
      },
      "execution_count": null,
      "outputs": []
    },
    {
      "cell_type": "code",
      "source": [
        "#미션 19단 외우기 #변수i사용해보기\n",
        "\n"
      ],
      "metadata": {
        "id": "DupcUBWp6aC4"
      },
      "execution_count": null,
      "outputs": []
    },
    {
      "cell_type": "code",
      "source": [
        "#회원가입"
      ],
      "metadata": {
        "id": "WAcEEG95EkPk"
      },
      "execution_count": null,
      "outputs": []
    },
    {
      "cell_type": "code",
      "source": [
        "##import를 통해서 불러오기\n"
      ],
      "metadata": {
        "id": "ydkBilEJEkU8"
      },
      "execution_count": null,
      "outputs": []
    },
    {
      "cell_type": "code",
      "source": [
        "#1차원 배열 array 만들어보기\n",
        "\n"
      ],
      "metadata": {
        "id": "0aKATvYQWhEi"
      },
      "execution_count": null,
      "outputs": []
    },
    {
      "cell_type": "code",
      "source": [],
      "metadata": {
        "id": "4-DCR1fxWyaA"
      },
      "execution_count": null,
      "outputs": []
    },
    {
      "cell_type": "code",
      "source": [],
      "metadata": {
        "id": "bunDGuZPW7zv"
      },
      "execution_count": null,
      "outputs": []
    },
    {
      "cell_type": "code",
      "source": [
        "##2차원 배열을 만들어볼께요\n"
      ],
      "metadata": {
        "id": "7rdrrZuuXCSR"
      },
      "execution_count": null,
      "outputs": []
    },
    {
      "cell_type": "code",
      "source": [],
      "metadata": {
        "id": "W87NHlPIXZ3K"
      },
      "execution_count": null,
      "outputs": []
    },
    {
      "cell_type": "code",
      "source": [
        "##3차원 배열\n",
        "\n"
      ],
      "metadata": {
        "id": "O_Gn-6TSYSsr"
      },
      "execution_count": null,
      "outputs": []
    },
    {
      "cell_type": "code",
      "source": [],
      "metadata": {
        "id": "rQRaGa9WasUg"
      },
      "execution_count": null,
      "outputs": []
    },
    {
      "cell_type": "code",
      "source": [],
      "metadata": {
        "id": "6VfFGs-qazHM"
      },
      "execution_count": null,
      "outputs": []
    },
    {
      "cell_type": "code",
      "source": [],
      "metadata": {
        "id": "YaSk8dGva8YM"
      },
      "execution_count": null,
      "outputs": []
    },
    {
      "cell_type": "code",
      "source": [],
      "metadata": {
        "id": "qW2kjFuxbAD2"
      },
      "execution_count": null,
      "outputs": []
    },
    {
      "cell_type": "code",
      "source": [],
      "metadata": {
        "id": "444QmMIsbuEs"
      },
      "execution_count": null,
      "outputs": []
    },
    {
      "cell_type": "code",
      "source": [],
      "metadata": {
        "id": "jV0IxpENcHB0"
      },
      "execution_count": null,
      "outputs": []
    },
    {
      "cell_type": "code",
      "source": [],
      "metadata": {
        "id": "PQQgfqF1cP86"
      },
      "execution_count": null,
      "outputs": []
    },
    {
      "cell_type": "code",
      "source": [],
      "metadata": {
        "id": "SAReffR7esdX"
      },
      "execution_count": null,
      "outputs": []
    },
    {
      "cell_type": "code",
      "source": [],
      "metadata": {
        "id": "jq0myZKNcZj7"
      },
      "execution_count": null,
      "outputs": []
    },
    {
      "cell_type": "code",
      "source": [],
      "metadata": {
        "id": "OJP_cWXTcd__"
      },
      "execution_count": null,
      "outputs": []
    },
    {
      "cell_type": "code",
      "source": [
        "# 2차원 배열 인덱싱\n"
      ],
      "metadata": {
        "id": "cvWTZtKDctX8"
      },
      "execution_count": null,
      "outputs": []
    },
    {
      "cell_type": "code",
      "source": [],
      "metadata": {
        "id": "fltbxlGQdwrw"
      },
      "execution_count": null,
      "outputs": []
    },
    {
      "cell_type": "code",
      "source": [],
      "metadata": {
        "id": "oD3BBq4Ee7H5"
      },
      "execution_count": null,
      "outputs": []
    },
    {
      "cell_type": "code",
      "source": [
        " ##1차원"
      ],
      "metadata": {
        "id": "O6yJE0KzhFhG"
      },
      "execution_count": null,
      "outputs": []
    },
    {
      "cell_type": "code",
      "source": [
        "##데이터프레임 -> 다차원 배열\n"
      ],
      "metadata": {
        "id": "FRlFlRiBhUS1"
      },
      "execution_count": null,
      "outputs": []
    },
    {
      "cell_type": "code",
      "source": [],
      "metadata": {
        "id": "EjrEwo9Eh0ij"
      },
      "execution_count": null,
      "outputs": []
    },
    {
      "cell_type": "code",
      "source": [],
      "metadata": {
        "id": "HsBsiB_ml9rc"
      },
      "execution_count": null,
      "outputs": []
    },
    {
      "cell_type": "code",
      "source": [],
      "metadata": {
        "id": "EflkXIoRmIxG"
      },
      "execution_count": null,
      "outputs": []
    },
    {
      "cell_type": "code",
      "source": [
        "##판다스로 데이터 로드\n",
        "#csv 업로드, URL로드\n",
        "california = pd.read_csv(\"https://dl.google.com/mlcc/mledu-datasets/california_housing_train.csv\")\n"
      ],
      "metadata": {
        "id": "EbG8rzTsmbFd"
      },
      "execution_count": null,
      "outputs": []
    },
    {
      "cell_type": "code",
      "source": [],
      "metadata": {
        "id": "4OmWN3pmnYyS"
      },
      "execution_count": null,
      "outputs": []
    },
    {
      "cell_type": "code",
      "source": [],
      "metadata": {
        "id": "JgyJkP4-nY23"
      },
      "execution_count": null,
      "outputs": []
    },
    {
      "cell_type": "code",
      "source": [],
      "metadata": {
        "id": "dXlpmdc8oKfH"
      },
      "execution_count": null,
      "outputs": []
    },
    {
      "cell_type": "code",
      "source": [],
      "metadata": {
        "id": "jLDImYryoOqc"
      },
      "execution_count": null,
      "outputs": []
    },
    {
      "cell_type": "code",
      "source": [],
      "metadata": {
        "id": "G4nDHC0Zoj9E"
      },
      "execution_count": null,
      "outputs": []
    },
    {
      "cell_type": "code",
      "source": [],
      "metadata": {
        "id": "4wmyeJyMooHM"
      },
      "execution_count": null,
      "outputs": []
    },
    {
      "cell_type": "code",
      "source": [],
      "metadata": {
        "id": "oT0P1kTko9EB"
      },
      "execution_count": null,
      "outputs": []
    },
    {
      "cell_type": "code",
      "source": [
        "##loc(열,행)\n"
      ],
      "metadata": {
        "id": "hA1y1gKQqkfw"
      },
      "execution_count": null,
      "outputs": []
    },
    {
      "cell_type": "code",
      "source": [
        "#iloc(순서)\n"
      ],
      "metadata": {
        "id": "kUGuuTpyqkk3"
      },
      "execution_count": null,
      "outputs": []
    },
    {
      "cell_type": "code",
      "source": [],
      "metadata": {
        "id": "WviyGpqWrTPW"
      },
      "execution_count": null,
      "outputs": []
    },
    {
      "cell_type": "code",
      "source": [],
      "metadata": {
        "id": "xqt0bOhgrTYV"
      },
      "execution_count": null,
      "outputs": []
    },
    {
      "cell_type": "code",
      "source": [],
      "metadata": {
        "id": "YiWExKEZr6u5"
      },
      "execution_count": null,
      "outputs": []
    },
    {
      "cell_type": "code",
      "source": [],
      "metadata": {
        "id": "1R-rswMdsC0G"
      },
      "execution_count": null,
      "outputs": []
    },
    {
      "cell_type": "code",
      "source": [],
      "metadata": {
        "id": "QxonrYg9sMWa"
      },
      "execution_count": null,
      "outputs": []
    },
    {
      "cell_type": "code",
      "source": [],
      "metadata": {
        "id": "VSJxbpphsXbZ"
      },
      "execution_count": null,
      "outputs": []
    },
    {
      "cell_type": "code",
      "source": [],
      "metadata": {
        "id": "PvLuiy7-sXeL"
      },
      "execution_count": null,
      "outputs": []
    },
    {
      "cell_type": "code",
      "source": [],
      "metadata": {
        "id": "PTPO-VOhsrzi"
      },
      "execution_count": null,
      "outputs": []
    }
  ]
}